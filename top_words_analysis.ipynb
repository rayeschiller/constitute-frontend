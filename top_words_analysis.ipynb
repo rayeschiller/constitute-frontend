{
 "cells": [
  {
   "cell_type": "code",
   "execution_count": 23,
   "metadata": {},
   "outputs": [
    {
     "name": "stderr",
     "output_type": "stream",
     "text": [
      "[nltk_data] Downloading package stopwords to\n",
      "[nltk_data]     /Users/rinaschiller/nltk_data...\n",
      "[nltk_data]   Package stopwords is already up-to-date!\n",
      "[nltk_data] Downloading package punkt to\n",
      "[nltk_data]     /Users/rinaschiller/nltk_data...\n",
      "[nltk_data]   Package punkt is already up-to-date!\n"
     ]
    }
   ],
   "source": [
    "import requests\n",
    "import pandas as pd\n",
    "import nltk\n",
    "nltk.download('stopwords')\n",
    "from nltk.corpus import stopwords\n",
    "nltk.download('punkt')\n",
    "from collections import Counter\n"
   ]
  },
  {
   "cell_type": "code",
   "execution_count": 39,
   "metadata": {},
   "outputs": [],
   "source": [
    "def twitterDataToDataFrame(path):\n",
    "    baseURL = \"http://constitute.tech/\"\n",
    "    response = requests.get( baseURL + path)\n",
    "    results = response.json()['results']\n",
    "    return pd.DataFrame(results)"
   ]
  },
  {
   "cell_type": "code",
   "execution_count": 38,
   "metadata": {},
   "outputs": [],
   "source": [
    "def politician_df(last_name, gte, page_limit, attribute):\n",
    "    path = \"tweets/?offset={}&politician__last_name={}&{}__gte={}&format=json\".format(0, last_name, attribute, gte)\n",
    "    new_df = twitterDataToDataFrame(path)\n",
    "    for i in range (100, page_limit, 100):\n",
    "        path = \"tweets/?offset={}&politician__last_name={}&{}__gte={}&format=json\".format(i, last_name, attribute, gte)\n",
    "        new_df = new_df.append(twitterDataToDataFrame(path))\n",
    "    new_df['strip_text'] = new_df['clean_text'].apply(lambda x: ' '.join([word.lower() for word in x.split() if word.lower() not in (stop)]))\n",
    "    common_words = Counter(\" \".join(new_df[\"strip_text\"]).split()).most_common(10)\n",
    "    return new_df, common_words"
   ]
  },
  {
   "cell_type": "code",
   "execution_count": 37,
   "metadata": {},
   "outputs": [],
   "source": [
    "stop= stopwords.words('english')\n",
    "stop.extend(['@speakerpelosi', 'klobuchar', 'a','nancy', 'pelosi', '@realdonaldtrump', '@aoc', \n",
    "             '@klobuchar', 'amy', '@amyklobuchar', '@joebiden', 'i', 'what', 'you', 'even', '@kamalaharris',\n",
    "             '@staceyabrams',  '@aoc',  '@michelleobama', '@dnc',  '@barackobama', '&amp;', 'sanders', 'bernie',\n",
    "            ])"
   ]
  },
  {
   "cell_type": "code",
   "execution_count": 27,
   "metadata": {},
   "outputs": [],
   "source": [
    "amy_df, amy_words = politician_df('Klobuchar', .7, 4500, 'sexually_explicit')"
   ]
  },
  {
   "cell_type": "code",
   "execution_count": 40,
   "metadata": {},
   "outputs": [],
   "source": [
    "nancy_df, nancy_words = politician_df('Pelosi', .9, 8700, 'toxicity')"
   ]
  },
  {
   "cell_type": "code",
   "execution_count": 29,
   "metadata": {},
   "outputs": [],
   "source": [
    "sanders_df, sanders_words = politician_df('Sanders', .7, 8400, 'sexually_explicit')"
   ]
  },
  {
   "cell_type": "code",
   "execution_count": 35,
   "metadata": {},
   "outputs": [],
   "source": [
    "biden_df, biden_words = politician_df('Biden', .7, 12800, 'sexually_explicit')"
   ]
  },
  {
   "cell_type": "code",
   "execution_count": 41,
   "metadata": {},
   "outputs": [],
   "source": [
    "trump_df, trump_words = politician_df('Trump', .9, 8700, 'toxicity')\n",
    "aoc_df, aoc_words = politician_df('Ocasio-Cortez', .9, 8700, 'toxicity')"
   ]
  },
  {
   "cell_type": "code",
   "execution_count": 47,
   "metadata": {},
   "outputs": [],
   "source": [
    "aoc_df, aoc_words = politician_df('Ocasio-Cortez', .9, 8400, 'identity_attack')\n",
    "sanders_df, sanders_words = politician_df('Sanders', .9, 6400, 'identity_attack')\n",
    "harris_df, harris_words = politician_df('Harris', .9, 8200, 'identity_attack')"
   ]
  },
  {
   "cell_type": "code",
   "execution_count": 48,
   "metadata": {},
   "outputs": [
    {
     "data": {
      "text/plain": [
       "[('black', 59),\n",
       " ('white', 47),\n",
       " ('people', 42),\n",
       " ('americans', 31),\n",
       " ('fuck', 27),\n",
       " ('blacks', 23),\n",
       " ('racist', 23),\n",
       " ('aoc', 22),\n",
       " ('go', 22),\n",
       " ('hate', 18)]"
      ]
     },
     "execution_count": 48,
     "metadata": {},
     "output_type": "execute_result"
    }
   ],
   "source": [
    "aoc_words"
   ]
  },
  {
   "cell_type": "code",
   "execution_count": 49,
   "metadata": {},
   "outputs": [
    {
     "data": {
      "text/plain": [
       "[('black', 112),\n",
       " ('people', 69),\n",
       " ('fucking', 58),\n",
       " ('ass', 52),\n",
       " ('sanders,', 46),\n",
       " ('name', 44),\n",
       " ('racist', 41),\n",
       " ('white', 40),\n",
       " ('see', 40),\n",
       " ('young', 40)]"
      ]
     },
     "execution_count": 49,
     "metadata": {},
     "output_type": "execute_result"
    }
   ],
   "source": [
    "sanders_words"
   ]
  },
  {
   "cell_type": "code",
   "execution_count": 50,
   "metadata": {},
   "outputs": [
    {
     "data": {
      "text/plain": [
       "[('black', 246),\n",
       " ('like', 183),\n",
       " ('vote', 163),\n",
       " ('see', 160),\n",
       " ('you!', 155),\n",
       " ('i’m', 155),\n",
       " ('see,', 154),\n",
       " ('home', 154),\n",
       " ('nigger', 154),\n",
       " ('“hey', 153)]"
      ]
     },
     "execution_count": 50,
     "metadata": {},
     "output_type": "execute_result"
    }
   ],
   "source": [
    "harris_words"
   ]
  },
  {
   "cell_type": "code",
   "execution_count": null,
   "metadata": {},
   "outputs": [],
   "source": []
  }
 ],
 "metadata": {
  "kernelspec": {
   "display_name": "Python 3",
   "language": "python",
   "name": "python3"
  },
  "language_info": {
   "codemirror_mode": {
    "name": "ipython",
    "version": 3
   },
   "file_extension": ".py",
   "mimetype": "text/x-python",
   "name": "python",
   "nbconvert_exporter": "python",
   "pygments_lexer": "ipython3",
   "version": "3.6.4"
  }
 },
 "nbformat": 4,
 "nbformat_minor": 2
}
