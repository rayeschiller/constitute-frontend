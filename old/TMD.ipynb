{
 "cells": [
  {
   "cell_type": "code",
   "execution_count": 122,
   "metadata": {},
   "outputs": [],
   "source": [
    "import json\n",
    "import pandas as pd\n",
    "from matplotlib import pyplot as plt\n",
    "import numpy as np"
   ]
  },
  {
   "cell_type": "code",
   "execution_count": 123,
   "metadata": {},
   "outputs": [],
   "source": [
    "warren = open('tweets_w.json')\n",
    "biden = open('tweets_b.json')\n",
    "sanders = open('tweets_s.json')\n",
    "five_March = open('tweets_all.json')"
   ]
  },
  {
   "cell_type": "code",
   "execution_count": 124,
   "metadata": {},
   "outputs": [],
   "source": [
    "df_warren = pd.read_json(warren)\n",
    "df_biden = pd.read_json(biden)\n",
    "df_sanders = pd.read_json(sanders)\n",
    "df = pd.read_json(five_March)"
   ]
  },
  {
   "cell_type": "code",
   "execution_count": 125,
   "metadata": {},
   "outputs": [],
   "source": [
    "df['politician'] = df['politician'].astype('str')\n",
    "df['politician'] = df['politician'].str.slice(35,37,1)\n",
    "#df['politician'] = df['politician'].astype('|S')\n",
    "#df['politician'] = df['politician'].str.strip('/')"
   ]
  },
  {
   "cell_type": "code",
   "execution_count": 126,
   "metadata": {},
   "outputs": [],
   "source": [
    "pol_num_name = {58:'Joe Biden', 59: 'Pete Buttigieg', 60: 'Amy Klobucher', \n",
    "               1: 'Alexandr Ocasio-Cortez', 28: 'Bernie Sanders', \n",
    "                2: 'Ayanna Pressley', 3: 'Nancy Pelosi', 4: 'Elizabeth Warren',\n",
    "                5: 'Kirsten Gillibrand', 6: 'Krysten Sinema', 7: 'Maxine Waters',\n",
    "                8: 'Kamala Harris', 9: 'Deb Haaland', 10: 'Abigail Spanberger',\n",
    "                11: 'Marilyn Mosby', 12: 'Susan Collins', 13: 'Lisa Murkowski',\n",
    "                27: 'Chuck Schumer'}"
   ]
  },
  {
   "cell_type": "code",
   "execution_count": 127,
   "metadata": {},
   "outputs": [],
   "source": [
    "df['politician_num'] = df['politician'].str.strip('/')\n",
    "df['politician_num'] = df['politician_num'].astype('int')\n",
    "df['name'] = df['politician_num'].map(pol_num_name).astype('str')\n",
    "df['text'] = df['text'].astype('str')\n",
    "df['tweet_prev1'] = df['text'].str.slice(0,140,1)"
   ]
  },
  {
   "cell_type": "code",
   "execution_count": 128,
   "metadata": {},
   "outputs": [],
   "source": [
    "# count = 0\n",
    "# for i in range(len(df)):\n",
    "#     if df['toxicity'][i]>=0.5:\n",
    "#         count+=1\n",
    "# print(count)\n",
    "# print(len(df))"
   ]
  },
  {
   "cell_type": "code",
   "execution_count": 129,
   "metadata": {},
   "outputs": [],
   "source": [
    "# toxicity_df = pd.DataFrame()\n",
    "# toxicity_df['Politician'] =  df_warren['politician']\n",
    "# toxicity_df['Date'] = df_warren['date']\n",
    "# toxicity_df['Tweet'] = df_warren['text']\n",
    "# toxicity_df['Toxicity'] = df_warren['toxicity']\n",
    "# toxicity_df"
   ]
  },
  {
   "cell_type": "code",
   "execution_count": 130,
   "metadata": {},
   "outputs": [],
   "source": [
    "# warren_t = pd.DataFrame()\n",
    "# sanders_t = pd.DataFrame()\n",
    "\n",
    "# def filters(new_df, df_politician):\n",
    "#     new_df = new_df.append(df_politician[df_politician['toxicity'] >= 0.5], ignore_index = True)\n",
    "#     new_df.text = new_df.text.astype(str) \n",
    "#     return new_df"
   ]
  },
  {
   "cell_type": "code",
   "execution_count": 131,
   "metadata": {},
   "outputs": [],
   "source": [
    "# warren_t = filters(warren_t, df_warren)\n",
    "# sanders_t = filters(sanders_t, df_sanders)"
   ]
  },
  {
   "cell_type": "code",
   "execution_count": 136,
   "metadata": {},
   "outputs": [],
   "source": []
  },
  {
   "cell_type": "code",
   "execution_count": 133,
   "metadata": {
    "scrolled": false
   },
   "outputs": [],
   "source": [
    "# size_w = (df['toxicity'])*50\n",
    "# color = (df['politician_num'])\n",
    "# #color_w = 'red'\n",
    "# #(warren_t['identity_attack'])\n",
    "# #for i in range(len(warren_t)):\n",
    "# #    size.append((warren_t['toxicity'][i])*50)\n",
    "\n",
    "# fig = go.Figure(data = go.Scatter(\n",
    "#     x = df['date'], y = df['toxicity'], \n",
    "#     text = df.text.astype(str),\n",
    "#     names = df.politician_num.astype(str),\n",
    "#     hovertemplate = \"%{names} <br> Tweet: %{text}\",\n",
    "#     mode='markers',\n",
    "#     marker=dict(\n",
    "#         size = size_w,\n",
    "#         color = color,\n",
    "# )))\n",
    "\n",
    "# fig.show()"
   ]
  },
  {
   "cell_type": "code",
   "execution_count": 138,
   "metadata": {},
   "outputs": [
    {
     "data": {
      "application/vnd.plotly.v1+json": {
       "config": {
        "plotlyServerURL": "https://plot.ly"
       },
       "data": [
        {
         "customdata": [
          [
           "Some will say my plan to combat gun violence is “too bold.” As president, if Congress continues to bury its head in the sand, I will act. To"
          ],
          [
           "“This is another way to hinder women’s access to care, particularly for black women in the state of Louisiana,\" Harris said. “It is going to"
          ],
          [
           "@KamalaHarris Why don’t you tell China, India and Indonesia 😂"
          ],
          [
           "Meet the power women behind  ⁦@KamalaHarris as she⁩ runs for President, leaning in to women of color in a diverse Dem 2020 base: ⁦@DeidreDeJ"
          ],
          [
           "Loopholes in our system mean millions of guns are sold each year with no questions asked. This is a danger to our families, this is a danger"
          ],
          [
           "@smalltownandrew @kamalaharris Kamala gets free pot from the Mexican drug cartels to be their spokeswoman"
          ],
          [
           "@Lrihendry Sounds exactly like, Kamala Harris?  Note: to Willie!"
          ],
          [
           "@KamalaHarris No one to sleep with this time to help you win."
          ],
          [
           "Retweet if you believe death-row felons lose LIFE, LIBERTY &amp; the RIGHT TO VOTE!\n\nLike if you see the campaigns of Socialists @BernieSand"
          ],
          [
           "Jurors Hear Evidence On Teen ‘Crime Spree’ Ending In Officer Caprio’s Death https://t.co/nVqM2duaj9"
          ],
          [
           "Retweet if you believe death-row felons lose LIFE, LIBERTY &amp; the RIGHT TO VOTE!\n\nLike if you see the campaigns of Socialists @BernieSand"
          ],
          [
           "@charliekirk11 @BetoORourke @BernieSanders @KamalaHarris because they have us to filch it out of! We're stupid enough to keep voting these a"
          ],
          [
           "I saw someone say they didn't like Kamala Harris, because of 'how she dealt with Brett Kavanaugh'!\n\nReally??  That's one of the reasons I re"
          ],
          [
           ".@KamalaHarris’ go-to response when she gets pressed on the issues and she doesn’t want to explain her position: Let’s have that conversatio"
          ],
          [
           "If I was going to rate the candidates’ performances, not based on level of applause but on my view of their responses, it would be:\n\n1. Warr"
          ],
          [
           "Retweet if you believe death-row felons lose LIFE, LIBERTY &amp; the RIGHT TO VOTE!\n\nLike if you see the campaigns of Socialists @BernieSand"
          ],
          [
           "April 27, elected officials like @KamalaHarris are coming together to answer questions from working people just like you at the National For"
          ],
          [
           "@unknowns1776 @AndPhaedrus @KamalaHarris Because no one believes what he or you posted. It’s complete bull💩."
          ],
          [
           "#BOND25 \n\nDirected by Cary Fukunaga\n\nReturning cast:\nDaniel Craig\nRalph Fiennes \nNaomie Harris \nBen Wishaw\nRory Kinnear \nJeffrey Wright\nLéa "
          ],
          [
           "Democrats demand you give up your hard-earned money to help the less fortunate\n\nThen why did @BetoORourke only give 1/3 of 1% of his income "
          ],
          [
           "Melissa Harris Perry is on fire at the Men of Color Summit!! https://t.co/h4wIqGbGGA"
          ],
          [
           "Democrats demand you give up your hard-earned money to help the less fortunate\n\nThen why did @BetoORourke only give 1/3 of 1% of his income "
          ],
          [
           ".@KamalaHarris’ go-to response when she gets pressed on the issues and she doesn’t want to explain her position: Let’s have that conversatio"
          ],
          [
           "Question @BernieSanders and @KamalaHarris you claim that prisoners should not lose their constitutional rights, so do we assume you would gi"
          ],
          [
           "Harris, and thank you for asking. https://t.co/ZK9id4xRRK"
          ],
          [
           "At the risk of unleashing the hounds of hell on Twitter, I have no idea why people would vote for Biden or Sanders in a primary when there a"
          ],
          [
           "@KamalaHarris Keep in mind the 2nd was made to restrict government not the people! https://t.co/53nUqW0nvY"
          ],
          [
           "@JoeBiden @PeteButtigieg @KamalaHarris @SenWarren @amyklobuchar and ESPECIALLY @SenSanders:\n\nTHIS is his game plan. He is going to try and t"
          ],
          [
           "Lashana Lynch and Rami Malek are joining Daniel Craig and Naomie Harris in the 25th James Bond film. Principle photography has started in Ja"
          ],
          [
           "As the marijuana industry continues to grow, there are people of color sitting behind bars for doing the exact same thing. It's time we chan"
          ],
          [
           "Where would 007 be without Moneypenny? Naomie Harris (@NaomieHarris) is back for #BOND25 https://t.co/aJWhRkRh6v"
          ],
          [
           "Where would 007 be without Moneypenny? Naomie Harris (@NaomieHarris) is back for #BOND25 https://t.co/aJWhRkRh6v"
          ],
          [
           "Retweet if you believe death-row felons lose LIFE, LIBERTY &amp; the RIGHT TO VOTE!\n\nLike if you see the campaigns of Socialists @BernieSand"
          ],
          [
           "I saw someone say they didn't like Kamala Harris, because of 'how she dealt with Brett Kavanaugh'!\n\nReally??  That's one of the reasons I re"
          ],
          [
           "Anyway the field looks pretty clear now. It’s Biden, Harris, Sanders, Warren. Two corporate, two not; two patriarchal, two not. I’ll be shoc"
          ],
          [
           "@ruthmkb North Bay doesn't care....after all they elected Mike Harris."
          ],
          [
           "Why Mekanism CEO Jason Harris likes getting punched, the Kool-Aid man and  David Bowie https://t.co/9fYsivwnVS https://t.co/0w1PIL75eG"
          ],
          [
           "@GOPChairwoman @KamalaHarris Good work, but you’re kinda beating a dead horse here."
          ],
          [
           "Whatever you think of @HillaryClinton, this is a must-read, spot-on analysis of where things stand on #impeachment and how to move forward @"
          ],
          [
           "Three days in a row Cy-Fair! Let’s see if we can keep the streak alive with having the top three polling locations in Harris County! Find th"
          ],
          [
           "Bernie Sanders is the new #1 in our 2020 Democrat rankings - CNNPolitics https://t.co/dMnOlq7JIz"
          ],
          [
           ".@KamalaHarris’ go-to response when she gets pressed on the issues and she doesn’t want to explain her position: Let’s have that conversatio"
          ],
          [
           "@IKE_Packers Pick 12. Brian Burns                   Pick 30. K’Neal Harris"
          ],
          [
           "\"If Congress doesn't pass these gun control laws, then @KamalaHarris—if she's elected president—she says she's going to put pen to paper and"
          ],
          [
           "@charliekirk11 @BetoORourke @BernieSanders @KamalaHarris Come on now you know they don’t mean THEIR money!!"
          ],
          [
           "Talked with 20 or so attendees of #SheThePeople2020 afterwards. Consensus was that @ewarren gave strongest performance. @KamalaHarris &amp; "
          ],
          [
           "@pianogreen @maydaymindy9 @ThinkOneWorld Joe Biden Former Vice President. 30%\nBernie Sanders U.S. Senator. 24%\nPete Buttigieg Mayor. 9%\nKama"
          ],
          [
           "#BOND25 \n\nDirected by Cary Fukunaga\n\nReturning cast:\nDaniel Craig\nRalph Fiennes \nNaomie Harris \nBen Wishaw\nRory Kinnear \nJeffrey Wright\nLéa "
          ],
          [
           "Loopholes in our system mean millions of guns are sold each year with no questions asked. This is a danger to our families, this is a danger"
          ],
          [
           ".@KamalaHarris’ go-to response when she gets pressed on the issues and she doesn’t want to explain her position: Let’s have that conversatio"
          ],
          [
           "@SuperEliteTexan Unqualified Harris is already dictating. She shows be upended by the other leftists and clearly eliminated early in the gam"
          ],
          [
           "Kamala Harris calls for third gender option on federal IDs, Sorry Kamala, there are only 2 genders!  https://t.co/r9bUXi0dfK #FoxNews"
          ],
          [
           "The only viable candidates at this stage are Warren, Castro, and Harris. Everyone else can go home."
          ],
          [
           "@JKHokie @Mr_whistlepig @HokiESQ I like Yang. Yang and Harris?"
          ],
          [
           "@21stCenturyFDR @JoeBiden Nope.  Don't need an ineffective, Russian backed, all talk/no action, anti-sanctions, honeymooned in Russia. popul"
          ],
          [
           "@DLoesch Nope....my guess is Mayor Pete or Kamala Harris.\n\nCreepy Joe has too much baggage, and knows where the bodies are buried. He can't "
          ],
          [
           "@Guffdaddy1 @abeligbod @KamalaHarris You are so witty and creative"
          ],
          [
           "@charliekirk11 @BetoORourke @BernieSanders @KamalaHarris Maybe his name should be “Cheapo” instead of Beto."
          ],
          [
           "Kamala Harris supports putting a 3rd gender option on federal ID cards.\n\nBernie Sanders supports allowing terrorists like the Boston Bomber "
          ],
          [
           "@ChangePolls Beto is way more dominant in TX than Harris in CA ( Harris polls #3 in CA). Therefore, Beto has more safe delegates than Harris"
          ],
          [
           "Where would 007 be without Moneypenny? Naomie Harris (@NaomieHarris) is back for #BOND25 https://t.co/aJWhRkRh6v"
          ],
          [
           "@charliekirk11 @BetoORourke @BernieSanders @KamalaHarris Under Trump's #TaxCutsForTheRich these multinationals &amp; billionaires not only D"
          ],
          [
           "@maydaymindy9 Only if it’s Biden/Warren or Biden/Harris, and Biden would make a deal for only one term then back his VP for president in 202"
          ],
          [
           "@VividConfusion @KamalaHarris We are in the Puget Sound area... not only Seattle but everywhere around here. Yes many are moving but some do"
          ],
          [
           "Kamala Harris supports putting a 3rd gender option on federal ID cards.\n\nBernie Sanders supports allowing terrorists like the Boston Bomber "
          ],
          [
           ".@KamalaHarris’ go-to response when she gets pressed on the issues and she doesn’t want to explain her position: Let’s have that conversatio"
          ],
          [
           "@tribelaw @HillaryClinton @RonaldKlain @RepJerryNadler @RepAdamSchiff @jamie_raskin @PeteButtigieg @BetoORourke @JoeBiden @KamalaHarris Show"
          ],
          [
           "@ChristopherCag5 @TimSheryl @KamalaHarris Old Testament slaughter happened due to evil sins of men, not God’s grace or the mercy that Jesus "
          ],
          [
           "@marklevinshow Kamala Harris should have not been elected to the Senate, let alone running for the Presidency. What is happening here? D Onk"
          ],
          [
           "What's so funny about all the centrist candidates is that like, I keep reading an article that's like Harris says X or Orourke does Y or klo"
          ],
          [
           "@jerryllucas @KurtNiceHHL @armsivilli @KamalaHarris Popcorn ready for that!"
          ],
          [
           "My favorite candidates right now are Pete Buttigieg, Bernie Sanders, and Kamala Harris. I like a lot of the policies Elizabeth Warren is pro"
          ],
          [
           "@JamalSimmons @JoeBiden I think he, O’Rourke and Harris are the top tier with Warren and Castro in the second tier of contenders."
          ],
          [
           "@MonmouthPoll @JoeBiden @BernieSanders @PeteButtigieg @KamalaHarris @ewarren @BetoORourke @CoryBooker @Hickenlooper Maybe voters are beginni"
          ],
          [
           "Lamar Jackson's personal QB coach Joshua Harris on what sets #Ravens QB apart: \"People saying he can't do something, he locks in like I have"
          ],
          [
           "I'm honored to have been asked to moderate a candidates' panel on Wages and Working People featuring @JulianCastro @KamalaHarris,  @amyklobu"
          ],
          [
           "#BOND25 \n\nDirected by Cary Fukunaga\n\nReturning cast:\nDaniel Craig\nRalph Fiennes \nNaomie Harris \nBen Wishaw\nRory Kinnear \nJeffrey Wright\nLéa "
          ],
          [
           "#AvangersEndgame i dont know but i love it already, the series https://t.co/3X9Q4aqROH"
          ],
          [
           "@ChrisHarrisJr For those saying “pay him” he’s under contract for $8 million this year so he isn’t exactly starving. Does he deserve more ba"
          ],
          [
           "@DLoesch I don't think so. Kamala Harris might get his endorsement. I've got my popcorn though. 🤓"
          ],
          [
           "Kamala Harris can’t even be clear about whether convicted terrorists should vote? https://t.co/bEt8tYfNvn"
          ],
          [
           "That was a GREAT answer by @KamalaHarris about how young men of color were criminalized for selling weed but now white men are making all of"
          ],
          [
           "Sen. Kamala Harris says people who have been arrested for selling marijuana should be \"first in line to get the jobs that are available\" in "
          ],
          [
           "Kamala Harris’s’ go to line when she is not prepared for a question and put on the spot is “I think it’s time to have that conversation.”\n\nT"
          ],
          [
           "Good morning Richard Harris."
          ],
          [
           "Again I am agnostic in Biden but it did piss me off with some of the more obvious “creepy Joe” hit jobs from Bernie faction. Even with Harri"
          ],
          [
           "Now Playing: One Kiss by Calvin Harris &amp; Dua Lipa https://t.co/nXDpysl5Ar"
          ],
          [
           "Whatever you think of @HillaryClinton, this is a must-read, spot-on analysis of where things stand on #impeachment and how to move forward @"
          ],
          [
           "@hlthiskrieger @CyrusMMcQueen ♥️♥️♥️♥️♥️♥️♥️♥️♥️♥️♥️ to Patsy Cline.  Roy Orbison, Johnny Cash, EmmyLou Harris, Hank Williams, Ray Charles d"
          ],
          [
           "@ajclassic Policy on what?! Harris &amp; Booker have been on non-stop media tours addressing their Policy Positions and proposals."
          ],
          [
           "Why Mekanism CEO Jason Harris likes getting punched, the Kool-Aid man and David Bowie https://t.co/rkepZkYaM2 https://t.co/qPSkcuRUit"
          ],
          [
           "@tribelaw @HillaryClinton @RonaldKlain @RepJerryNadler @RepAdamSchiff @jamie_raskin @PeteButtigieg @BetoORourke @JoeBiden @KamalaHarris The "
          ],
          [
           "Kamala Harris was fire at #SheThePeople today. This answer on immigration had me on my feet. She let Trump have it. 🔥 https://t.co/WUOur8mmW"
          ],
          [
           "Bernie Sanders, Kamala Harris and now AOC and her chief of staff, ALL OF THEM back the idea that they want criminals to be able to vote in p"
          ],
          [
           "GRAND SKY AND HARRIS CREATE BVLOS 'SUPER CORRIDOR'\n\nhttps://t.co/OnqdZvcNQ4"
          ],
          [
           "#SheThePeople2020\nIf only Kamala Harris was around back then to stop Kamala Harris from jailing so many people of color for marijuana.\n#Kama"
          ],
          [
           "Live feed of Kamala Harris’ campaign HQ after hearing Bernie and Tulsi were booed by a room full of black women  https://t.co/GpGEuuRQJu"
          ],
          [
           "The media is labeling Joe Biden as the “grown-up” in the race.\n\nI’m pretty sure...Elizabeth Warren, Kamala Harris, and everyone else running"
          ],
          [
           "humilation of naked girls peruvian anal harris sex toon game porn girl anal licking squirting teens videos Spain  https://t.co/VJ6gLBL0bZ"
          ],
          [
           ".@KamalaHarris: “There is not a teacher I know that went into that noble profession thinking that they’d have to strap on a gun in order to "
          ],
          [
           "Rachael Harris @MagicConDE #LuciferOnNetflix  https://t.co/fAS65rhgGZ"
          ],
          [
           "even though i know this, it doesn't make it less infuriating.\n\"Voters require female candidates to be more prepared than men—and then punish"
          ],
          [
           "@michaelmalice I also have a prediction. Kamala Harris will win 2020 and all we'll hear for the next 50 years is that if we haven't had a mi"
          ],
          [
           "The For The Throne album is here. \n\n@XAmbassadors lead singer Sam Harris breaks down the inspiration behind the single “Power is Power” and "
          ],
          [
           "@KamalaHarris The NRA doesn't have a thing to do with gun violence. Good grief y'all's narrative is obtuse."
          ],
          [
           "Me stepping into summer not pregnant but with a car seat cause I’m a fine mom now😂 https://t.co/03fLTXJRkx"
          ],
          [
           "Kamala Harris: If elected I will institute gun control by executive action. \n\nMe: Well, I was going to say that you just  blew your chances."
          ],
          [
           "\"@ThisIsMeIreland will continue to work towards a safe, accessible, best practice model of care for #transgenderpeople in Ireland until that"
          ],
          [
           "HAPPY BIRTHDAY TO THE ONE AND ONLY ELORA HARRIS!!!!! I love you Elora and thank you for everything you done for me and others. You’re such a"
          ],
          [
           "Twitter Summary Today:\n\n-Taylor Swift\n-Avengers\n-NFL Draft\n\nThat’s literally it"
          ],
          [
           "Now Playing on FunX Dance : I Found You\n - Benny Blanco &amp; Calvin Harris\n https://t.co/ZkCwZM1OrA"
          ],
          [
           "@maydaymindy9 oh PLEASE!!!"
          ],
          [
           "@KamalaHarris Millions of ILLEGAL guns are sold without a background check because they are sold on the street ILLEGALLY. It’s already ILLEG"
          ],
          [
           "The worst would be Harris or Buttigeig. Harris is a stone cold authoritarian who will bypass Congress &amp; neutralizes Haley as a woman. Bu"
          ],
          [
           "@SimonHarrisTD                     What recourse would there be for parents where the child/individual has suffered long term damage as a re"
          ],
          [
           "The For The Throne album is here. \n\n@XAmbassadors lead singer Sam Harris breaks down the inspiration behind the single “Power is Power” and "
          ],
          [
           "@prole_no @PoliticForecast @JoeBiden @PeteButtigieg @BernieSanders @BetoORourke @KamalaHarris @ewarren @CoryBooker @AndrewYang @TulsiGabbard"
          ],
          [
           "Rachael Harris @MagicConDE #LuciferOnNetflix  https://t.co/fAS65rhgGZ"
          ],
          [
           "@laurielew1966 @KamalaHarris What exactly does \"treating a gun owner as if they we're armed\" mean? Approaching them with their weapon drawn?"
          ],
          [
           "@BuckeyOn @ralphgriffinjr @KamalaHarris I worry about laws that would force women to carry rape/incest babies against their will.      If yo"
          ],
          [
           "The For The Throne album is here. \n\n@XAmbassadors lead singer Sam Harris breaks down the inspiration behind the single “Power is Power” and "
          ],
          [
           ".@WorldOfStu tells @WatchChad which Democrat to watch out for in 2020 on the latest episode of the Chad Prather podcast.\n\n\"The one I would p"
          ],
          [
           "@SXMUrbanView @thelauracoates @KamalaHarris Trivial argument @thelauracoates. Back to the drawing board for you."
          ],
          [
           "@KamalaHarris Stand up? That’s not your usual position to get what you want done in government, amirite?\n\nI mean, at least not according to "
          ],
          [
           "Today the #BrainBus served its first constituents in Central and North Florida! Driver and @AlzFLGulf Program Manager Rob Harris discussed t"
          ],
          [
           "Can someone ask @KamalaHarris about this in her next bullshit town hall? \n\nhttps://t.co/C87x3DNjq6 https://t.co/eCHQWmIneG"
          ],
          [
           "If she has ‘I Kissed Dating Goodbye’ or any book by Joshua Harris on her bookshelf,\n\nFlee, my brothers. She will attempt to kill you. https:"
          ],
          [
           "How do we get voters out to the polls? Invest in community leadership. #SheThePeople2020 https://t.co/JoTSXr7Qtd"
          ],
          [
           "Dear @PolitiFact, \n\n@KamalaHarris said, \"The majority of women are minimum wage workers.\" You called this false even though she meant most m"
          ],
          [
           "I’m loving this picture.\n\nI’m glad @KamalaHarris &amp; @JoeBiden’s voices, perspectives, life experiences, policy ideas will be part of the "
          ],
          [
           "@KamalaHarris Do you have the facts to back up your bull 💩statement???"
          ],
          [
           "@pwningkittanz @ZacharySolis6 @PoliticForecast @JoeBiden @PeteButtigieg @BernieSanders @BetoORourke @KamalaHarris @ewarren @CoryBooker @Andr"
          ],
          [
           "@NateSilver538 Biden Harris ticket will win election."
          ],
          [
           "The For The Throne album is here. \n\n@XAmbassadors lead singer Sam Harris breaks down the inspiration behind the single “Power is Power” and "
          ],
          [
           "How do we reconcile local problem solving with impact at scale in decentralised contexts? @ODIdev RA Dan Harris explores in a recent blog fo"
          ],
          [
           "@MAGAHusker @KamalaHarris No I was the right the first time. I am a responsible gun owner. I believe that responsible gun owners should get "
          ],
          [
           "Trump Job Approval:\nApprove 44%\nDisapprove 56%\n\n@Harris_X_/@ScottWRasmussen 4/22-25\nhttps://t.co/apJn6k83WV"
          ],
          [
           "Makes too much sense. PP or Harris, I gotta think the Colts trade for one of them https://t.co/QoM6uCN303"
          ],
          [
           "@KamalaHarris We have a president who would be taking far more bold decisive action on a number of things including saving lives and keeping"
          ],
          [
           "Where would 007 be without Moneypenny? Naomie Harris (@NaomieHarris) is back for #BOND25 https://t.co/aJWhRkRh6v"
          ],
          [
           "@YWCArva #owaluncheon for Outstanding women! Recognizing many honorees, including @BHC_RVA Greta Harris in the human relations award! #commd"
          ],
          [
           "Nasty twit says @KamalaHarris has “a nasty wit”. https://t.co/4keQmVkIHo"
          ],
          [
           "Rachael Harris is on stage. 🙂 #Lucifer #MagicCon @ Maritim Hotel Bonn https://t.co/TQi2PzUP6u"
          ],
          [
           "European election candidate, convicted criminal Paul Harris AKA Stephen Yaxley-Lennon. Passport fraud attempting to enter the USA illegally."
          ],
          [
           "@DemocracyStorm @JoeCunninghamSC Wonderful! @SenFeinstein &amp; @KamalaHarris have also fought hard to ban offshoot drilling &amp; drift net"
          ],
          [
           "NEW: #2020 hopeful @KamalaHarris is coming back to SC to meet with educators -- the day before teachers with @SCforED march on Columbia. @th"
          ],
          [
           "#NowPlaying Love Won't Let Me Wait by Major Harris on #UrbanRadio Soul Hits Station https://t.co/JGX7wN7sFh"
          ],
          [
           "I wonder which name Stephen Christopher Yaxley-Lennon will stand under - this one or Tommy Robinson or Andrew McMaster or Paul Harris or Way"
          ],
          [
           "Kamala Harris chooses women of color to drive her campaign  https://t.co/NCSkHWjzzX"
          ],
          [
           "@huggybuddy1 @PoliticForecast @JoeBiden @PeteButtigieg @BernieSanders @BetoORourke @KamalaHarris @ewarren @CoryBooker @AndrewYang @TulsiGabb"
          ],
          [
           "The For The Throne album is here. \n\n@XAmbassadors lead singer Sam Harris breaks down the inspiration behind the single “Power is Power” and "
          ],
          [
           ".@KamalaHarris: “You must start the marriages immediately.” 🏳️‍🌈 https://t.co/lym9FQzJB4"
          ],
          [
           "Of the remaining Alabama players, who do you think the Redskins will draft? \n\nIsaiah Buggs\nLester Cotton\nDamien Harris\nHale Hentges\nChristia"
          ],
          [
           "The For The Throne album is here. \n\n@XAmbassadors lead singer Sam Harris breaks down the inspiration behind the single “Power is Power” and "
          ],
          [
           "Kamala Harris owns a handgun. That's disqualifying for a 2020 Democrat in my book - https://t.co/8S8qNwWRVo"
          ],
          [
           "Kamala Harris on the hubbub over famous rainbow jacket. https://t.co/0N4FzFyiYc"
          ],
          [
           "I'm really vexed by the most prominent living black sci fi writer suggesting that Kamala Harris' years as a prosecutor means that she should"
          ],
          [
           "@omgsugardoll He kind of just projectile shit the second I opened his diaper 🤷🏻‍♀️ id truly rather catch it than have to clean it off carpet"
          ],
          [
           "@ananavarro @KamalaHarris @JoeBiden Yes, they make the debate better, safer for the insurance companies to keep your health as their hostage"
          ],
          [
           "Many of us own guns. That's okay. However, do you want a mentally ill or violent person to own weapons that were made for military use? I do"
          ],
          [
           "Unbelievable! https://t.co/6Qk9W9IbzA"
          ],
          [
           "@LeftwardSwing @ProFromWithin @BarbaraLNewsome @RBReich @ewarren @KamalaHarris That’s why Bernie won’t win.  We have FAR better candidates. "
          ],
          [
           "@Ange_Amene Meanwhile Harrises CARE act goes to funding training on implicit bias in hospitals and med schools. https://t.co/XQFUgS73XM http"
          ],
          [
           "@E73002002 @KamalaHarris Just for clarity, are you saying the U. S. military is filled with GED and ASVAB waiver individuals?"
          ],
          [
           "@DemocracyStorm @JoeCunninghamSC Wonderful! @SenFeinstein &amp; @KamalaHarris have also fought hard to ban offshoot drilling &amp; drift net"
          ],
          [
           "@Alex___Harris Tier 4?! I just opened them tier 2 is available"
          ],
          [
           "#Wrong \nAs long as she passes a #CommonSense gun control screening, she can own a handgun.\n\nKamala Harris owns a handgun. That's disqualifyi"
          ],
          [
           "@SimonHarrisTD                     What recourse would there be for parents where the child/individual has suffered long term damage as a re"
          ],
          [
           "The latest from @ShamsCharania: Around the league, executives believe several other teams, such as Memphis, Utah, Dallas and Brooklyn, will "
          ],
          [
           "@KamalaHarris You're not afraid to silence the voice of the people, is what you're saying. This may come as a shock but the NRA isn't a gove"
          ],
          [
           "Probably because the NRA are law-abiding folks who’ve done nothing to earn your ire. https://t.co/VfBjhC6zc5"
          ],
          [
           "The For The Throne album is here. \n\n@XAmbassadors lead singer Sam Harris breaks down the inspiration behind the single “Power is Power” and "
          ],
          [
           "The For The Throne album is here. \n\n@XAmbassadors lead singer Sam Harris breaks down the inspiration behind the single “Power is Power” and "
          ],
          [
           "@LeaundraRoss @notcapnamerica @KamalaHarris It's coming! I've been involved in POTUS campaign politics for over three decades, and I've neve"
          ],
          [
           "For your #Fridayreads we recommend this illuminating interview with MA student Alison Frater about her experience in university in the 70s. "
          ],
          [
           "@mmpadellan Gillibrand or Harris. Beat me up but G. railroaded Franken over nothing &amp; left the slush fund to cover harassment complaints"
          ],
          [
           "@BradyCrosby5 @LeftwardSwing @PoliticForecast @JoeBiden @PeteButtigieg @BernieSanders @BetoORourke @KamalaHarris @ewarren @CoryBooker @Andre"
          ],
          [
           "@KamalaHarris Sanity in the Heartland. Thank goodness"
          ],
          [
           "I'm warming to the thought of a Biden/Harris ticket (or similar).\n\nWhat thinks you America?"
          ],
          [
           "\"Harris' vision could build a uniquely comprehensive plan\"\n\nhttps://t.co/SVTO8skLLH"
          ],
          [
           "@notcapnamerica @KamalaHarris They wind up in the databases I search. Thousands of kids missing. Thousands of them found dead and never repo"
          ],
          [
           "More Bond 25 timeline (Part I) updates: References to a NY Post Page Six gossip story; Bamigoye interview with Broccoli; embedded video of G"
          ],
          [
           "@Onesalontexas @KamalaHarris Democrats have been calling republicans racist since we kicked their ass in the civil war. 100 yrs of repeating"
          ],
          [
           "Ever notice when Kamala Harris gets questioned, her response is always “I think we need to have that conversation” or “I’m ready to have tha"
          ],
          [
           "Gearing up for our @CAPAction &amp; @SEIU forum on income inequality tomorrow. Excited to hear from @ewarren, @JulianCastro, @KamalaHarris, "
          ],
          [
           "Kamala Harris and Elizabeth Warren Lead an Incredible Field of 2020 Women. How Are They Trailing Pete Buttigieg? https://t.co/834tiBYxV3"
          ],
          [
           "I'm warming to the thought of a Biden/Harris ticket (or similar).\n\nWhat thinks you America?"
          ],
          [
           "People who say Brie Larson is a bad Cap Marvel don’t know how terrible a character Cap Marvel is. Imagine Kamala Harris got superpowers. Tha"
          ],
          [
           "Every Republican supports a lying, criminal, white nationalist sexual predator who locks kids in cages. That’s disqualifying in my book. htt"
          ],
          [
           "Kamala Harris: If elected I will institute gun control by executive action. \n\nMe: Well, I was going to say that you just  blew your chances."
          ],
          [
           "I don’t know what this person is smoking  https://t.co/H1SWVkFetM"
          ],
          [
           "#RockwellAutomation training by experts in the automation field, right here in metro Atlanta. \n\nIrvin Clark Tavarez Holston Ken Lapolla Ben "
          ],
          [
           "God Bless https://t.co/TLQpGSO8TV"
          ],
          [
           "As a white supremacist, Bernie is obviously my top pick, but I do think that Kamala Harris has the best policies for dealing with breeders a"
          ],
          [
           "@KamalaHarris Huh. So Harris' poll numbers make more people think of the Titanic than just me..."
          ],
          [
           "Well yeah https://t.co/9hP8nINcqb"
          ],
          [
           "Neither Beto nor Pete hav the qualifications and gravitas of Warren and Harris.  Both Warren and Harris hav at least the ability to lead tha"
          ],
          [
           "@KamalaHarris @NRA He thinks the solution to gun violence is more guns.  That’s like saying “the solution to having a President who lies, is"
          ],
          [
           "@BullPup2A @NOMERCY604 In my minds ear, I heard @KamalaHarris say she is in favor of illegal immigration. \n\nShe’d prefer to NOT fix Immigrat"
          ],
          [
           "@KamalaHarris @NRA I agree with the President"
          ]
         ],
         "hoverlabel": {
          "namelength": 0
         },
         "hovertemplate": "<b>%{hovertext}</b><br><br>name=Kamala Harris<br>identity_attack=%{x}<br>toxicity=%{y}<br>size=%{marker.size}<br>tweet_prev1=%{customdata[0]}",
         "hovertext": [
          "Kamala Harris",
          "Kamala Harris",
          "Kamala Harris",
          "Kamala Harris",
          "Kamala Harris",
          "Kamala Harris",
          "Kamala Harris",
          "Kamala Harris",
          "Kamala Harris",
          "Kamala Harris",
          "Kamala Harris",
          "Kamala Harris",
          "Kamala Harris",
          "Kamala Harris",
          "Kamala Harris",
          "Kamala Harris",
          "Kamala Harris",
          "Kamala Harris",
          "Kamala Harris",
          "Kamala Harris",
          "Kamala Harris",
          "Kamala Harris",
          "Kamala Harris",
          "Kamala Harris",
          "Kamala Harris",
          "Kamala Harris",
          "Kamala Harris",
          "Kamala Harris",
          "Kamala Harris",
          "Kamala Harris",
          "Kamala Harris",
          "Kamala Harris",
          "Kamala Harris",
          "Kamala Harris",
          "Kamala Harris",
          "Kamala Harris",
          "Kamala Harris",
          "Kamala Harris",
          "Kamala Harris",
          "Kamala Harris",
          "Kamala Harris",
          "Kamala Harris",
          "Kamala Harris",
          "Kamala Harris",
          "Kamala Harris",
          "Kamala Harris",
          "Kamala Harris",
          "Kamala Harris",
          "Kamala Harris",
          "Kamala Harris",
          "Kamala Harris",
          "Kamala Harris",
          "Kamala Harris",
          "Kamala Harris",
          "Kamala Harris",
          "Kamala Harris",
          "Kamala Harris",
          "Kamala Harris",
          "Kamala Harris",
          "Kamala Harris",
          "Kamala Harris",
          "Kamala Harris",
          "Kamala Harris",
          "Kamala Harris",
          "Kamala Harris",
          "Kamala Harris",
          "Kamala Harris",
          "Kamala Harris",
          "Kamala Harris",
          "Kamala Harris",
          "Kamala Harris",
          "Kamala Harris",
          "Kamala Harris",
          "Kamala Harris",
          "Kamala Harris",
          "Kamala Harris",
          "Kamala Harris",
          "Kamala Harris",
          "Kamala Harris",
          "Kamala Harris",
          "Kamala Harris",
          "Kamala Harris",
          "Kamala Harris",
          "Kamala Harris",
          "Kamala Harris",
          "Kamala Harris",
          "Kamala Harris",
          "Kamala Harris",
          "Kamala Harris",
          "Kamala Harris",
          "Kamala Harris",
          "Kamala Harris",
          "Kamala Harris",
          "Kamala Harris",
          "Kamala Harris",
          "Kamala Harris",
          "Kamala Harris",
          "Kamala Harris",
          "Kamala Harris",
          "Kamala Harris",
          "Kamala Harris",
          "Kamala Harris",
          "Kamala Harris",
          "Kamala Harris",
          "Kamala Harris",
          "Kamala Harris",
          "Kamala Harris",
          "Kamala Harris",
          "Kamala Harris",
          "Kamala Harris",
          "Kamala Harris",
          "Kamala Harris",
          "Kamala Harris",
          "Kamala Harris",
          "Kamala Harris",
          "Kamala Harris",
          "Kamala Harris",
          "Kamala Harris",
          "Kamala Harris",
          "Kamala Harris",
          "Kamala Harris",
          "Kamala Harris",
          "Kamala Harris",
          "Kamala Harris",
          "Kamala Harris",
          "Kamala Harris",
          "Kamala Harris",
          "Kamala Harris",
          "Kamala Harris",
          "Kamala Harris",
          "Kamala Harris",
          "Kamala Harris",
          "Kamala Harris",
          "Kamala Harris",
          "Kamala Harris",
          "Kamala Harris",
          "Kamala Harris",
          "Kamala Harris",
          "Kamala Harris",
          "Kamala Harris",
          "Kamala Harris",
          "Kamala Harris",
          "Kamala Harris",
          "Kamala Harris",
          "Kamala Harris",
          "Kamala Harris",
          "Kamala Harris",
          "Kamala Harris",
          "Kamala Harris",
          "Kamala Harris",
          "Kamala Harris",
          "Kamala Harris",
          "Kamala Harris",
          "Kamala Harris",
          "Kamala Harris",
          "Kamala Harris",
          "Kamala Harris",
          "Kamala Harris",
          "Kamala Harris",
          "Kamala Harris",
          "Kamala Harris",
          "Kamala Harris",
          "Kamala Harris",
          "Kamala Harris",
          "Kamala Harris",
          "Kamala Harris",
          "Kamala Harris",
          "Kamala Harris",
          "Kamala Harris",
          "Kamala Harris",
          "Kamala Harris",
          "Kamala Harris",
          "Kamala Harris",
          "Kamala Harris",
          "Kamala Harris",
          "Kamala Harris",
          "Kamala Harris",
          "Kamala Harris",
          "Kamala Harris",
          "Kamala Harris",
          "Kamala Harris",
          "Kamala Harris",
          "Kamala Harris",
          "Kamala Harris",
          "Kamala Harris",
          "Kamala Harris",
          "Kamala Harris",
          "Kamala Harris",
          "Kamala Harris",
          "Kamala Harris",
          "Kamala Harris",
          "Kamala Harris",
          "Kamala Harris",
          "Kamala Harris",
          "Kamala Harris",
          "Kamala Harris",
          "Kamala Harris",
          "Kamala Harris",
          "Kamala Harris",
          "Kamala Harris"
         ],
         "legendgroup": "Kamala Harris",
         "marker": {
          "color": "#636efa",
          "size": [
           49.112,
           68.83200000000001,
           35.037,
           38.056,
           22.994999999999997,
           42.746,
           7.5600000000000005,
           20.380000000000003,
           60.797999999999995,
           18.681,
           60.797999999999995,
           76.079,
           22.505,
           20.599999999999998,
           8.841000000000001,
           60.797999999999995,
           9.17,
           61.868,
           17.102999999999998,
           20.276,
           27.889999999999997,
           20.276,
           20.599999999999998,
           22.8,
           1.233,
           38.712999999999994,
           20.216,
           11.63,
           11.529,
           48.512,
           7.215000000000001,
           7.215000000000001,
           60.797999999999995,
           22.505,
           12.275,
           16.903000000000002,
           51.910000000000004,
           36.315,
           17.301,
           7.968999999999999,
           7.3469999999999995,
           20.599999999999998,
           22.243,
           9.803,
           36.727,
           7.5009999999999994,
           5.339,
           17.102999999999998,
           22.994999999999997,
           20.599999999999998,
           21.990000000000002,
           18.223,
           19.8,
           10.832,
           50.977,
           42.096000000000004,
           22.498,
           43.541000000000004,
           53.269,
           8.393,
           7.215000000000001,
           27.67,
           6.676,
           10.112,
           53.269,
           20.599999999999998,
           46.559,
           27.49,
           10.796999999999999,
           6.654999999999999,
           16.42,
           4.723999999999999,
           8.966000000000001,
           71.434,
           8.568000000000001,
           3.3970000000000002,
           17.102999999999998,
           12.025,
           6.438000000000001,
           8.405,
           14.172,
           31.615,
           26.758,
           38.322,
           4.977,
           43.352000000000004,
           11.667,
           17.301,
           27.771,
           11.116,
           51.910000000000004,
           12.009,
           31.003999999999998,
           43.887,
           4.277,
           56.099,
           71.258,
           12.620000000000001,
           93.314,
           23.468,
           46.589999999999996,
           18.962,
           38.844,
           6.551,
           34.959,
           37.174,
           10.26,
           7.785,
           8.485,
           6.551,
           11.244,
           30.024,
           32.118,
           40.339999999999996,
           12.187000000000001,
           6.551,
           43.705,
           46.589999999999996,
           30.861,
           73.887,
           6.551,
           10.168000000000001,
           15.017,
           35.232,
           11.134,
           91.025,
           40.765,
           17.742,
           28.042,
           14.762,
           49.552,
           37.368,
           7.4590000000000005,
           6.551,
           3.0349999999999997,
           42.66,
           37.354,
           6.239999999999999,
           18.742,
           7.215000000000001,
           9.790000000000001,
           73.887,
           20.973,
           43.791000000000004,
           22.864,
           8.844000000000001,
           16.831,
           49.666,
           31.784000000000002,
           46.686,
           6.551,
           24.006,
           11.261000000000001,
           6.551,
           12.025,
           6.413,
           31.642,
           83.246,
           27.134000000000004,
           45.184999999999995,
           8.802,
           14.790000000000001,
           13.486,
           22.649,
           22.864,
           2.407,
           12.267,
           12.187000000000001,
           3.939,
           22.431,
           17.589,
           6.551,
           6.551,
           24.913,
           10.019,
           86.209,
           16.591,
           21.633,
           9.035,
           0.8670000000000001,
           31.198999999999998,
           17.099,
           76.69,
           3.945,
           20.509,
           6.812,
           9.035,
           22.544,
           71.434,
           10.26,
           38.59,
           14.261,
           3.707,
           60.797999999999995,
           15.524,
           3.694,
           8.888,
           51.786,
           38.099,
           32.139
          ],
          "sizemode": "area",
          "sizeref": 0.24465,
          "symbol": "circle"
         },
         "mode": "markers",
         "name": "Kamala Harris",
         "showlegend": true,
         "type": "scatter",
         "x": [
          0.38785,
          0.86372,
          0.42576,
          0.45401,
          0.17253,
          0.5367,
          0.05552,
          0.09583,
          0.60342,
          0.08269,
          0.60342,
          0.41672,
          0.17751,
          0.10114,
          0.17594,
          0.60342,
          0.10548,
          0.21546,
          0.29926,
          0.16075,
          0.41492,
          0.16075,
          0.10114,
          0.11021,
          0.01939,
          0.25538,
          0.20476,
          0.09025,
          0.18969,
          0.52297,
          0.07949,
          0.07949,
          0.60342,
          0.17751,
          0.12366,
          0.21584,
          0.28741,
          0.09749,
          0.15406,
          0.08289,
          0.1025,
          0.10114,
          0.14125,
          0.08322,
          0.21501,
          0.09141,
          0.05479,
          0.29926,
          0.17253,
          0.10114,
          0.2947,
          0.30426,
          0.28876,
          0.1543,
          0.56529,
          0.27702,
          0.10791,
          0.32805,
          0.60693,
          0.12748,
          0.07949,
          0.16515,
          0.09954,
          0.15895,
          0.60693,
          0.10114,
          0.28137,
          0.33237,
          0.08594,
          0.1035,
          0.0975,
          0.05056,
          0.09898,
          0.44157,
          0.06332,
          0.0308,
          0.29926,
          0.10234,
          0.04191,
          0.03312,
          0.17702,
          0.53656,
          0.1674,
          0.31732,
          0.04314,
          0.32542,
          0.05392,
          0.15406,
          0.17398,
          0.11466,
          0.28741,
          0.12019,
          0.27303,
          0.34937,
          0.05774,
          0.52216,
          0.85947,
          0.2006,
          0.56299,
          0.17361,
          0.316,
          0.26687,
          0.54275,
          0.065,
          0.13138,
          0.167,
          0.09524,
          0.12922,
          0.04871,
          0.07791,
          0.09541,
          0.16054,
          0.26036,
          0.42697,
          0.12743,
          0.065,
          0.29501,
          0.316,
          0.23191,
          0.60066,
          0.065,
          0.12543,
          0.08394,
          0.15371,
          0.10569,
          0.17674,
          0.11211,
          0.18316,
          0.33202,
          0.1487,
          0.27116,
          0.31468,
          0.08568,
          0.065,
          0.03328,
          0.35563,
          0.27581,
          0.06024,
          0.14928,
          0.07949,
          0.11343,
          0.28055,
          0.12436,
          0.40445,
          0.13631,
          0.09685,
          0.11096,
          0.21209,
          0.45258,
          0.60693,
          0.065,
          0.15733,
          0.20499,
          0.065,
          0.13276,
          0.0243,
          0.48716,
          0.15306,
          0.20431,
          0.4833,
          0.0854,
          0.14097,
          0.12252,
          0.2142,
          0.13631,
          0.01826,
          0.14525,
          0.12743,
          0.08324,
          0.27431,
          0.1191,
          0.065,
          0.065,
          0.29094,
          0.08643,
          0.59243,
          0.21105,
          0.14463,
          0.12729,
          0.00834,
          0.29212,
          0.23467,
          0.7208,
          0.02401,
          0.27377,
          0.0928,
          0.12729,
          0.11358,
          0.80312,
          0.09524,
          0.17893,
          0.08722,
          0.0773,
          0.71701,
          0.11877,
          0.03309,
          0.11625,
          0.32835,
          0.4115,
          0.24629
         ],
         "xaxis": "x",
         "y": [
          0.49112,
          0.68832,
          0.35037,
          0.38056,
          0.22995,
          0.42746,
          0.0756,
          0.2038,
          0.60798,
          0.18681,
          0.60798,
          0.76079,
          0.22505,
          0.206,
          0.08841,
          0.60798,
          0.0917,
          0.61868,
          0.17103,
          0.20276,
          0.2789,
          0.20276,
          0.206,
          0.228,
          0.01233,
          0.38713,
          0.20216,
          0.1163,
          0.11529,
          0.48512,
          0.07215,
          0.07215,
          0.60798,
          0.22505,
          0.12275,
          0.16903,
          0.5191,
          0.36315,
          0.17301,
          0.07969,
          0.07347,
          0.206,
          0.22243,
          0.09803,
          0.36727,
          0.07501,
          0.05339,
          0.17103,
          0.22995,
          0.206,
          0.2199,
          0.18223,
          0.198,
          0.10832,
          0.50977,
          0.42096,
          0.22498,
          0.43541,
          0.53269,
          0.08393,
          0.07215,
          0.2767,
          0.06676,
          0.10112,
          0.53269,
          0.206,
          0.46559,
          0.2749,
          0.10797,
          0.06655,
          0.1642,
          0.04724,
          0.08966,
          0.71434,
          0.08568,
          0.03397,
          0.17103,
          0.12025,
          0.06438,
          0.08405,
          0.14172,
          0.31615,
          0.26758,
          0.38322,
          0.04977,
          0.43352,
          0.11667,
          0.17301,
          0.27771,
          0.11116,
          0.5191,
          0.12009,
          0.31004,
          0.43887,
          0.04277,
          0.56099,
          0.71258,
          0.1262,
          0.93314,
          0.23468,
          0.4659,
          0.18962,
          0.38844,
          0.06551,
          0.34959,
          0.37174,
          0.1026,
          0.07785,
          0.08485,
          0.06551,
          0.11244,
          0.30024,
          0.32118,
          0.4034,
          0.12187,
          0.06551,
          0.43705,
          0.4659,
          0.30861,
          0.73887,
          0.06551,
          0.10168,
          0.15017,
          0.35232,
          0.11134,
          0.91025,
          0.40765,
          0.17742,
          0.28042,
          0.14762,
          0.49552,
          0.37368,
          0.07459,
          0.06551,
          0.03035,
          0.4266,
          0.37354,
          0.0624,
          0.18742,
          0.07215,
          0.0979,
          0.73887,
          0.20973,
          0.43791,
          0.22864,
          0.08844,
          0.16831,
          0.49666,
          0.31784,
          0.46686,
          0.06551,
          0.24006,
          0.11261,
          0.06551,
          0.12025,
          0.06413,
          0.31642,
          0.83246,
          0.27134,
          0.45185,
          0.08802,
          0.1479,
          0.13486,
          0.22649,
          0.22864,
          0.02407,
          0.12267,
          0.12187,
          0.03939,
          0.22431,
          0.17589,
          0.06551,
          0.06551,
          0.24913,
          0.10019,
          0.86209,
          0.16591,
          0.21633,
          0.09035,
          0.00867,
          0.31199,
          0.17099,
          0.7669,
          0.03945,
          0.20509,
          0.06812,
          0.09035,
          0.22544,
          0.71434,
          0.1026,
          0.3859,
          0.14261,
          0.03707,
          0.60798,
          0.15524,
          0.03694,
          0.08888,
          0.51786,
          0.38099,
          0.32139
         ],
         "yaxis": "y"
        },
        {
         "customdata": [
          [
           "I don’t know about the other 63+ million American citizens that voted for a @realDonaldTrump agenda, but I have had enough of this bitch @Sp"
          ],
          [
           "I don’t know about the other 63+ million American citizens that voted for a @realDonaldTrump agenda, but I have had enough of this bitch @Sp"
          ],
          [
           "I don’t know about the other 63+ million American citizens that voted for a @realDonaldTrump agenda, but I have had enough of this bitch @Sp"
          ],
          [
           "I don’t know about the other 63+ million American citizens that voted for a @realDonaldTrump agenda, but I have had enough of this bitch @Sp"
          ],
          [
           "I don’t know about the other 63+ million American citizens that voted for a @realDonaldTrump agenda, but I have had enough of this bitch @Sp"
          ],
          [
           "I don’t know about the other 63+ million American citizens that voted for a @realDonaldTrump agenda, but I have had enough of this bitch @Sp"
          ],
          [
           "I don’t know about the other 63+ million American citizens that voted for a @realDonaldTrump agenda, but I have had enough of this bitch @Sp"
          ],
          [
           "I don’t know about the other 63+ million American citizens that voted for a @realDonaldTrump agenda, but I have had enough of this bitch @Sp"
          ],
          [
           "I don’t know about the other 63+ million American citizens that voted for a @realDonaldTrump agenda, but I have had enough of this bitch @Sp"
          ],
          [
           "I don’t know about the other 63+ million American citizens that voted for a @realDonaldTrump agenda, but I have had enough of this bitch @Sp"
          ],
          [
           "I don’t know about the other 63+ million American citizens that voted for a @realDonaldTrump agenda, but I have had enough of this bitch @Sp"
          ],
          [
           "I don’t know about the other 63+ million American citizens that voted for a @realDonaldTrump agenda, but I have had enough of this bitch @Sp"
          ],
          [
           "I don’t know about the other 63+ million American citizens that voted for a @realDonaldTrump agenda, but I have had enough of this bitch @Sp"
          ],
          [
           "I don’t know about the other 63+ million American citizens that voted for a @realDonaldTrump agenda, but I have had enough of this bitch @Sp"
          ],
          [
           "I don’t know about the other 63+ million American citizens that voted for a @realDonaldTrump agenda, but I have had enough of this bitch @Sp"
          ],
          [
           "I don’t know about the other 63+ million American citizens that voted for a @realDonaldTrump agenda, but I have had enough of this bitch @Sp"
          ],
          [
           "I don’t know about the other 63+ million American citizens that voted for a @realDonaldTrump agenda, but I have had enough of this bitch @Sp"
          ],
          [
           "I don’t know about the other 63+ million American citizens that voted for a @realDonaldTrump agenda, but I have had enough of this bitch @Sp"
          ],
          [
           "I don’t know about the other 63+ million American citizens that voted for a @realDonaldTrump agenda, but I have had enough of this bitch @Sp"
          ],
          [
           "I don’t know about the other 63+ million American citizens that voted for a @realDonaldTrump agenda, but I have had enough of this bitch @Sp"
          ],
          [
           "I don’t know about the other 63+ million American citizens that voted for a @realDonaldTrump agenda, but I have had enough of this bitch @Sp"
          ],
          [
           "I don’t know about the other 63+ million American citizens that voted for a @realDonaldTrump agenda, but I have had enough of this bitch @Sp"
          ],
          [
           "I don’t know about the other 63+ million American citizens that voted for a @realDonaldTrump agenda, but I have had enough of this bitch @Sp"
          ],
          [
           "I don’t know about the other 63+ million American citizens that voted for a @realDonaldTrump agenda, but I have had enough of this bitch @Sp"
          ],
          [
           "I don’t know about the other 63+ million American citizens that voted for a @realDonaldTrump agenda, but I have had enough of this bitch @Sp"
          ],
          [
           "I don’t know about the other 63+ million American citizens that voted for a @realDonaldTrump agenda, but I have had enough of this bitch @Sp"
          ],
          [
           "I don’t know about the other 63+ million American citizens that voted for a @realDonaldTrump agenda, but I have had enough of this bitch @Sp"
          ],
          [
           "I don’t know about the other 63+ million American citizens that voted for a @realDonaldTrump agenda, but I have had enough of this bitch @Sp"
          ],
          [
           "I don’t know about the other 63+ million American citizens that voted for a @realDonaldTrump agenda, but I have had enough of this bitch @Sp"
          ],
          [
           "I don’t know about the other 63+ million American citizens that voted for a @realDonaldTrump agenda, but I have had enough of this bitch @Sp"
          ],
          [
           "I don’t know about the other 63+ million American citizens that voted for a @realDonaldTrump agenda, but I have had enough of this bitch @Sp"
          ],
          [
           "I don’t know about the other 63+ million American citizens that voted for a @realDonaldTrump agenda, but I have had enough of this bitch @Sp"
          ],
          [
           "I don’t know about the other 63+ million American citizens that voted for a @realDonaldTrump agenda, but I have had enough of this bitch @Sp"
          ],
          [
           "I don’t know about the other 63+ million American citizens that voted for a @realDonaldTrump agenda, but I have had enough of this bitch @Sp"
          ],
          [
           "I don’t know about the other 63+ million American citizens that voted for a @realDonaldTrump agenda, but I have had enough of this bitch @Sp"
          ],
          [
           "I don’t know about the other 63+ million American citizens that voted for a @realDonaldTrump agenda, but I have had enough of this bitch @Sp"
          ],
          [
           "I don’t know about the other 63+ million American citizens that voted for a @realDonaldTrump agenda, but I have had enough of this bitch @Sp"
          ],
          [
           "I don’t know about the other 63+ million American citizens that voted for a @realDonaldTrump agenda, but I have had enough of this bitch @Sp"
          ],
          [
           "I don’t know about the other 63+ million American citizens that voted for a @realDonaldTrump agenda, but I have had enough of this bitch @Sp"
          ],
          [
           "I don’t know about the other 63+ million American citizens that voted for a @realDonaldTrump agenda, but I have had enough of this bitch @Sp"
          ],
          [
           "I don’t know about the other 63+ million American citizens that voted for a @realDonaldTrump agenda, but I have had enough of this bitch @Sp"
          ],
          [
           "I don’t know about the other 63+ million American citizens that voted for a @realDonaldTrump agenda, but I have had enough of this bitch @Sp"
          ],
          [
           "I don’t know about the other 63+ million American citizens that voted for a @realDonaldTrump agenda, but I have had enough of this bitch @Sp"
          ],
          [
           "I don’t know about the other 63+ million American citizens that voted for a @realDonaldTrump agenda, but I have had enough of this bitch @Sp"
          ],
          [
           "I don’t know about the other 63+ million American citizens that voted for a @realDonaldTrump agenda, but I have had enough of this bitch @Sp"
          ],
          [
           "I don’t know about the other 63+ million American citizens that voted for a @realDonaldTrump agenda, but I have had enough of this bitch @Sp"
          ],
          [
           "I don’t know about the other 63+ million American citizens that voted for a @realDonaldTrump agenda, but I have had enough of this bitch @Sp"
          ],
          [
           "I don’t know about the other 63+ million American citizens that voted for a @realDonaldTrump agenda, but I have had enough of this bitch @Sp"
          ],
          [
           "I don’t know about the other 63+ million American citizens that voted for a @realDonaldTrump agenda, but I have had enough of this bitch @Sp"
          ],
          [
           "I don’t know about the other 63+ million American citizens that voted for a @realDonaldTrump agenda, but I have had enough of this bitch @Sp"
          ],
          [
           "I don’t know about the other 63+ million American citizens that voted for a @realDonaldTrump agenda, but I have had enough of this bitch @Sp"
          ],
          [
           "I don’t know about the other 63+ million American citizens that voted for a @realDonaldTrump agenda, but I have had enough of this bitch @Sp"
          ],
          [
           "I don’t know about the other 63+ million American citizens that voted for a @realDonaldTrump agenda, but I have had enough of this bitch @Sp"
          ],
          [
           "I don’t know about the other 63+ million American citizens that voted for a @realDonaldTrump agenda, but I have had enough of this bitch @Sp"
          ],
          [
           "I don’t know about the other 63+ million American citizens that voted for a @realDonaldTrump agenda, but I have had enough of this bitch @Sp"
          ],
          [
           "I don’t know about the other 63+ million American citizens that voted for a @realDonaldTrump agenda, but I have had enough of this bitch @Sp"
          ],
          [
           "I don’t know about the other 63+ million American citizens that voted for a @realDonaldTrump agenda, but I have had enough of this bitch @Sp"
          ],
          [
           "I don’t know about the other 63+ million American citizens that voted for a @realDonaldTrump agenda, but I have had enough of this bitch @Sp"
          ],
          [
           "I don’t know about the other 63+ million American citizens that voted for a @realDonaldTrump agenda, but I have had enough of this bitch @Sp"
          ],
          [
           "I don’t know about the other 63+ million American citizens that voted for a @realDonaldTrump agenda, but I have had enough of this bitch @Sp"
          ],
          [
           "I don’t know about the other 63+ million American citizens that voted for a @realDonaldTrump agenda, but I have had enough of this bitch @Sp"
          ],
          [
           "I don’t know about the other 63+ million American citizens that voted for a @realDonaldTrump agenda, but I have had enough of this bitch @Sp"
          ],
          [
           "I don’t know about the other 63+ million American citizens that voted for a @realDonaldTrump agenda, but I have had enough of this bitch @Sp"
          ],
          [
           "I don’t know about the other 63+ million American citizens that voted for a @realDonaldTrump agenda, but I have had enough of this bitch @Sp"
          ],
          [
           "I don’t know about the other 63+ million American citizens that voted for a @realDonaldTrump agenda, but I have had enough of this bitch @Sp"
          ],
          [
           "I don’t know about the other 63+ million American citizens that voted for a @realDonaldTrump agenda, but I have had enough of this bitch @Sp"
          ],
          [
           "I don’t know about the other 63+ million American citizens that voted for a @realDonaldTrump agenda, but I have had enough of this bitch @Sp"
          ],
          [
           "I don’t know about the other 63+ million American citizens that voted for a @realDonaldTrump agenda, but I have had enough of this bitch @Sp"
          ],
          [
           "I don’t know about the other 63+ million American citizens that voted for a @realDonaldTrump agenda, but I have had enough of this bitch @Sp"
          ],
          [
           "I don’t know about the other 63+ million American citizens that voted for a @realDonaldTrump agenda, but I have had enough of this bitch @Sp"
          ],
          [
           "I don’t know about the other 63+ million American citizens that voted for a @realDonaldTrump agenda, but I have had enough of this bitch @Sp"
          ],
          [
           "I don’t know about the other 63+ million American citizens that voted for a @realDonaldTrump agenda, but I have had enough of this bitch @Sp"
          ],
          [
           "I don’t know about the other 63+ million American citizens that voted for a @realDonaldTrump agenda, but I have had enough of this bitch @Sp"
          ],
          [
           "I don’t know about the other 63+ million American citizens that voted for a @realDonaldTrump agenda, but I have had enough of this bitch @Sp"
          ],
          [
           "I don’t know about the other 63+ million American citizens that voted for a @realDonaldTrump agenda, but I have had enough of this bitch @Sp"
          ],
          [
           "I don’t know about the other 63+ million American citizens that voted for a @realDonaldTrump agenda, but I have had enough of this bitch @Sp"
          ],
          [
           "I don’t know about the other 63+ million American citizens that voted for a @realDonaldTrump agenda, but I have had enough of this bitch @Sp"
          ],
          [
           "I don’t know about the other 63+ million American citizens that voted for a @realDonaldTrump agenda, but I have had enough of this bitch @Sp"
          ],
          [
           "I don’t know about the other 63+ million American citizens that voted for a @realDonaldTrump agenda, but I have had enough of this bitch @Sp"
          ],
          [
           "I don’t know about the other 63+ million American citizens that voted for a @realDonaldTrump agenda, but I have had enough of this bitch @Sp"
          ],
          [
           "I don’t know about the other 63+ million American citizens that voted for a @realDonaldTrump agenda, but I have had enough of this bitch @Sp"
          ],
          [
           "I don’t know about the other 63+ million American citizens that voted for a @realDonaldTrump agenda, but I have had enough of this bitch @Sp"
          ],
          [
           "I don’t know about the other 63+ million American citizens that voted for a @realDonaldTrump agenda, but I have had enough of this bitch @Sp"
          ],
          [
           "I don’t know about the other 63+ million American citizens that voted for a @realDonaldTrump agenda, but I have had enough of this bitch @Sp"
          ],
          [
           "I don’t know about the other 63+ million American citizens that voted for a @realDonaldTrump agenda, but I have had enough of this bitch @Sp"
          ],
          [
           "I don’t know about the other 63+ million American citizens that voted for a @realDonaldTrump agenda, but I have had enough of this bitch @Sp"
          ],
          [
           "I don’t know about the other 63+ million American citizens that voted for a @realDonaldTrump agenda, but I have had enough of this bitch @Sp"
          ],
          [
           "I don’t know about the other 63+ million American citizens that voted for a @realDonaldTrump agenda, but I have had enough of this bitch @Sp"
          ],
          [
           "I don’t know about the other 63+ million American citizens that voted for a @realDonaldTrump agenda, but I have had enough of this bitch @Sp"
          ],
          [
           "I don’t know about the other 63+ million American citizens that voted for a @realDonaldTrump agenda, but I have had enough of this bitch @Sp"
          ],
          [
           "I don’t know about the other 63+ million American citizens that voted for a @realDonaldTrump agenda, but I have had enough of this bitch @Sp"
          ],
          [
           "I don’t know about the other 63+ million American citizens that voted for a @realDonaldTrump agenda, but I have had enough of this bitch @Sp"
          ],
          [
           "I don’t know about the other 63+ million American citizens that voted for a @realDonaldTrump agenda, but I have had enough of this bitch @Sp"
          ],
          [
           "I don’t know about the other 63+ million American citizens that voted for a @realDonaldTrump agenda, but I have had enough of this bitch @Sp"
          ],
          [
           "I don’t know about the other 63+ million American citizens that voted for a @realDonaldTrump agenda, but I have had enough of this bitch @Sp"
          ],
          [
           "I don’t know about the other 63+ million American citizens that voted for a @realDonaldTrump agenda, but I have had enough of this bitch @Sp"
          ],
          [
           "I don’t know about the other 63+ million American citizens that voted for a @realDonaldTrump agenda, but I have had enough of this bitch @Sp"
          ],
          [
           "I don’t know about the other 63+ million American citizens that voted for a @realDonaldTrump agenda, but I have had enough of this bitch @Sp"
          ],
          [
           "I don’t know about the other 63+ million American citizens that voted for a @realDonaldTrump agenda, but I have had enough of this bitch @Sp"
          ],
          [
           "I don’t know about the other 63+ million American citizens that voted for a @realDonaldTrump agenda, but I have had enough of this bitch @Sp"
          ],
          [
           "I don’t know about the other 63+ million American citizens that voted for a @realDonaldTrump agenda, but I have had enough of this bitch @Sp"
          ],
          [
           "I don’t know about the other 63+ million American citizens that voted for a @realDonaldTrump agenda, but I have had enough of this bitch @Sp"
          ],
          [
           "I don’t know about the other 63+ million American citizens that voted for a @realDonaldTrump agenda, but I have had enough of this bitch @Sp"
          ],
          [
           "I don’t know about the other 63+ million American citizens that voted for a @realDonaldTrump agenda, but I have had enough of this bitch @Sp"
          ],
          [
           "I don’t know about the other 63+ million American citizens that voted for a @realDonaldTrump agenda, but I have had enough of this bitch @Sp"
          ],
          [
           "I don’t know about the other 63+ million American citizens that voted for a @realDonaldTrump agenda, but I have had enough of this bitch @Sp"
          ],
          [
           "I don’t know about the other 63+ million American citizens that voted for a @realDonaldTrump agenda, but I have had enough of this bitch @Sp"
          ],
          [
           "I don’t know about the other 63+ million American citizens that voted for a @realDonaldTrump agenda, but I have had enough of this bitch @Sp"
          ],
          [
           "I don’t know about the other 63+ million American citizens that voted for a @realDonaldTrump agenda, but I have had enough of this bitch @Sp"
          ],
          [
           "I don’t know about the other 63+ million American citizens that voted for a @realDonaldTrump agenda, but I have had enough of this bitch @Sp"
          ],
          [
           "I don’t know about the other 63+ million American citizens that voted for a @realDonaldTrump agenda, but I have had enough of this bitch @Sp"
          ],
          [
           "I don’t know about the other 63+ million American citizens that voted for a @realDonaldTrump agenda, but I have had enough of this bitch @Sp"
          ],
          [
           "I don’t know about the other 63+ million American citizens that voted for a @realDonaldTrump agenda, but I have had enough of this bitch @Sp"
          ],
          [
           "I don’t know about the other 63+ million American citizens that voted for a @realDonaldTrump agenda, but I have had enough of this bitch @Sp"
          ],
          [
           "I don’t know about the other 63+ million American citizens that voted for a @realDonaldTrump agenda, but I have had enough of this bitch @Sp"
          ],
          [
           "I don’t know about the other 63+ million American citizens that voted for a @realDonaldTrump agenda, but I have had enough of this bitch @Sp"
          ],
          [
           "I don’t know about the other 63+ million American citizens that voted for a @realDonaldTrump agenda, but I have had enough of this bitch @Sp"
          ],
          [
           "I don’t know about the other 63+ million American citizens that voted for a @realDonaldTrump agenda, but I have had enough of this bitch @Sp"
          ],
          [
           "I don’t know about the other 63+ million American citizens that voted for a @realDonaldTrump agenda, but I have had enough of this bitch @Sp"
          ],
          [
           "I don’t know about the other 63+ million American citizens that voted for a @realDonaldTrump agenda, but I have had enough of this bitch @Sp"
          ],
          [
           "I don’t know about the other 63+ million American citizens that voted for a @realDonaldTrump agenda, but I have had enough of this bitch @Sp"
          ],
          [
           "I don’t know about the other 63+ million American citizens that voted for a @realDonaldTrump agenda, but I have had enough of this bitch @Sp"
          ],
          [
           "I don’t know about the other 63+ million American citizens that voted for a @realDonaldTrump agenda, but I have had enough of this bitch @Sp"
          ],
          [
           "I don’t know about the other 63+ million American citizens that voted for a @realDonaldTrump agenda, but I have had enough of this bitch @Sp"
          ],
          [
           "I don’t know about the other 63+ million American citizens that voted for a @realDonaldTrump agenda, but I have had enough of this bitch @Sp"
          ],
          [
           "I don’t know about the other 63+ million American citizens that voted for a @realDonaldTrump agenda, but I have had enough of this bitch @Sp"
          ],
          [
           "I don’t know about the other 63+ million American citizens that voted for a @realDonaldTrump agenda, but I have had enough of this bitch @Sp"
          ],
          [
           "I don’t know about the other 63+ million American citizens that voted for a @realDonaldTrump agenda, but I have had enough of this bitch @Sp"
          ],
          [
           "I don’t know about the other 63+ million American citizens that voted for a @realDonaldTrump agenda, but I have had enough of this bitch @Sp"
          ],
          [
           "I don’t know about the other 63+ million American citizens that voted for a @realDonaldTrump agenda, but I have had enough of this bitch @Sp"
          ],
          [
           "I don’t know about the other 63+ million American citizens that voted for a @realDonaldTrump agenda, but I have had enough of this bitch @Sp"
          ],
          [
           "I don’t know about the other 63+ million American citizens that voted for a @realDonaldTrump agenda, but I have had enough of this bitch @Sp"
          ],
          [
           "I don’t know about the other 63+ million American citizens that voted for a @realDonaldTrump agenda, but I have had enough of this bitch @Sp"
          ],
          [
           "I don’t know about the other 63+ million American citizens that voted for a @realDonaldTrump agenda, but I have had enough of this bitch @Sp"
          ],
          [
           "I don’t know about the other 63+ million American citizens that voted for a @realDonaldTrump agenda, but I have had enough of this bitch @Sp"
          ],
          [
           "I don’t know about the other 63+ million American citizens that voted for a @realDonaldTrump agenda, but I have had enough of this bitch @Sp"
          ],
          [
           "I don’t know about the other 63+ million American citizens that voted for a @realDonaldTrump agenda, but I have had enough of this bitch @Sp"
          ],
          [
           "I don’t know about the other 63+ million American citizens that voted for a @realDonaldTrump agenda, but I have had enough of this bitch @Sp"
          ],
          [
           "I don’t know about the other 63+ million American citizens that voted for a @realDonaldTrump agenda, but I have had enough of this bitch @Sp"
          ],
          [
           "I don’t know about the other 63+ million American citizens that voted for a @realDonaldTrump agenda, but I have had enough of this bitch @Sp"
          ],
          [
           "I don’t know about the other 63+ million American citizens that voted for a @realDonaldTrump agenda, but I have had enough of this bitch @Sp"
          ],
          [
           "I don’t know about the other 63+ million American citizens that voted for a @realDonaldTrump agenda, but I have had enough of this bitch @Sp"
          ],
          [
           "I don’t know about the other 63+ million American citizens that voted for a @realDonaldTrump agenda, but I have had enough of this bitch @Sp"
          ],
          [
           "I don’t know about the other 63+ million American citizens that voted for a @realDonaldTrump agenda, but I have had enough of this bitch @Sp"
          ],
          [
           "I don’t know about the other 63+ million American citizens that voted for a @realDonaldTrump agenda, but I have had enough of this bitch @Sp"
          ],
          [
           "I don’t know about the other 63+ million American citizens that voted for a @realDonaldTrump agenda, but I have had enough of this bitch @Sp"
          ],
          [
           "I don’t know about the other 63+ million American citizens that voted for a @realDonaldTrump agenda, but I have had enough of this bitch @Sp"
          ],
          [
           "I don’t know about the other 63+ million American citizens that voted for a @realDonaldTrump agenda, but I have had enough of this bitch @Sp"
          ],
          [
           "I don’t know about the other 63+ million American citizens that voted for a @realDonaldTrump agenda, but I have had enough of this bitch @Sp"
          ],
          [
           "I don’t know about the other 63+ million American citizens that voted for a @realDonaldTrump agenda, but I have had enough of this bitch @Sp"
          ],
          [
           "I don’t know about the other 63+ million American citizens that voted for a @realDonaldTrump agenda, but I have had enough of this bitch @Sp"
          ],
          [
           "I don’t know about the other 63+ million American citizens that voted for a @realDonaldTrump agenda, but I have had enough of this bitch @Sp"
          ],
          [
           "I don’t know about the other 63+ million American citizens that voted for a @realDonaldTrump agenda, but I have had enough of this bitch @Sp"
          ],
          [
           "I don’t know about the other 63+ million American citizens that voted for a @realDonaldTrump agenda, but I have had enough of this bitch @Sp"
          ],
          [
           "I don’t know about the other 63+ million American citizens that voted for a @realDonaldTrump agenda, but I have had enough of this bitch @Sp"
          ],
          [
           "I don’t know about the other 63+ million American citizens that voted for a @realDonaldTrump agenda, but I have had enough of this bitch @Sp"
          ],
          [
           "Epic bad bitch Nancy Pelosi...impeaching Trump on behalf of her ruling class buddy the braindead racist Joe Biden rather than immigrant chil"
          ],
          [
           "I don’t know about the other 63+ million American citizens that voted for a @realDonaldTrump agenda, but I have had enough of this bitch @Sp"
          ],
          [
           "I don’t know about the other 63+ million American citizens that voted for a @realDonaldTrump agenda, but I have had enough of this bitch @Sp"
          ],
          [
           "I don’t know about the other 63+ million American citizens that voted for a @realDonaldTrump agenda, but I have had enough of this bitch @Sp"
          ],
          [
           "I don’t know about the other 63+ million American citizens that voted for a @realDonaldTrump agenda, but I have had enough of this bitch @Sp"
          ],
          [
           "I don’t know about the other 63+ million American citizens that voted for a @realDonaldTrump agenda, but I have had enough of this bitch @Sp"
          ],
          [
           "I don’t know about the other 63+ million American citizens that voted for a @realDonaldTrump agenda, but I have had enough of this bitch @Sp"
          ],
          [
           "I don’t know about the other 63+ million American citizens that voted for a @realDonaldTrump agenda, but I have had enough of this bitch @Sp"
          ],
          [
           "I don’t know about the other 63+ million American citizens that voted for a @realDonaldTrump agenda, but I have had enough of this bitch @Sp"
          ],
          [
           "I don’t know about the other 63+ million American citizens that voted for a @realDonaldTrump agenda, but I have had enough of this bitch @Sp"
          ],
          [
           "I don’t know about the other 63+ million American citizens that voted for a @realDonaldTrump agenda, but I have had enough of this bitch @Sp"
          ],
          [
           "I don’t know about the other 63+ million American citizens that voted for a @realDonaldTrump agenda, but I have had enough of this bitch @Sp"
          ],
          [
           "I don’t know about the other 63+ million American citizens that voted for a @realDonaldTrump agenda, but I have had enough of this bitch @Sp"
          ],
          [
           "I don’t know about the other 63+ million American citizens that voted for a @realDonaldTrump agenda, but I have had enough of this bitch @Sp"
          ],
          [
           "I don’t know about the other 63+ million American citizens that voted for a @realDonaldTrump agenda, but I have had enough of this bitch @Sp"
          ],
          [
           "I don’t know about the other 63+ million American citizens that voted for a @realDonaldTrump agenda, but I have had enough of this bitch @Sp"
          ],
          [
           "I don’t know about the other 63+ million American citizens that voted for a @realDonaldTrump agenda, but I have had enough of this bitch @Sp"
          ],
          [
           "I don’t know about the other 63+ million American citizens that voted for a @realDonaldTrump agenda, but I have had enough of this bitch @Sp"
          ],
          [
           "I don’t know about the other 63+ million American citizens that voted for a @realDonaldTrump agenda, but I have had enough of this bitch @Sp"
          ],
          [
           "I don’t know about the other 63+ million American citizens that voted for a @realDonaldTrump agenda, but I have had enough of this bitch @Sp"
          ],
          [
           "I don’t know about the other 63+ million American citizens that voted for a @realDonaldTrump agenda, but I have had enough of this bitch @Sp"
          ],
          [
           "I don’t know about the other 63+ million American citizens that voted for a @realDonaldTrump agenda, but I have had enough of this bitch @Sp"
          ],
          [
           "I don’t know about the other 63+ million American citizens that voted for a @realDonaldTrump agenda, but I have had enough of this bitch @Sp"
          ],
          [
           "I don’t know about the other 63+ million American citizens that voted for a @realDonaldTrump agenda, but I have had enough of this bitch @Sp"
          ],
          [
           "I don’t know about the other 63+ million American citizens that voted for a @realDonaldTrump agenda, but I have had enough of this bitch @Sp"
          ],
          [
           "I don’t know about the other 63+ million American citizens that voted for a @realDonaldTrump agenda, but I have had enough of this bitch @Sp"
          ],
          [
           "I don’t know about the other 63+ million American citizens that voted for a @realDonaldTrump agenda, but I have had enough of this bitch @Sp"
          ],
          [
           "I don’t know about the other 63+ million American citizens that voted for a @realDonaldTrump agenda, but I have had enough of this bitch @Sp"
          ],
          [
           "I don’t know about the other 63+ million American citizens that voted for a @realDonaldTrump agenda, but I have had enough of this bitch @Sp"
          ],
          [
           "I don’t know about the other 63+ million American citizens that voted for a @realDonaldTrump agenda, but I have had enough of this bitch @Sp"
          ],
          [
           "I don’t know about the other 63+ million American citizens that voted for a @realDonaldTrump agenda, but I have had enough of this bitch @Sp"
          ],
          [
           "I don’t know about the other 63+ million American citizens that voted for a @realDonaldTrump agenda, but I have had enough of this bitch @Sp"
          ],
          [
           "I don’t know about the other 63+ million American citizens that voted for a @realDonaldTrump agenda, but I have had enough of this bitch @Sp"
          ],
          [
           "I don’t know about the other 63+ million American citizens that voted for a @realDonaldTrump agenda, but I have had enough of this bitch @Sp"
          ],
          [
           "@GregShugar It's crazy that you people still think they found anything to impeach him on.... the bitch @SpeakerPelosi is giving democrats th"
          ],
          [
           "I don’t know about the other 63+ million American citizens that voted for a @realDonaldTrump agenda, but I have had enough of this bitch @Sp"
          ],
          [
           "I don’t know about the other 63+ million American citizens that voted for a @realDonaldTrump agenda, but I have had enough of this bitch @Sp"
          ],
          [
           "I don’t know about the other 63+ million American citizens that voted for a @realDonaldTrump agenda, but I have had enough of this bitch @Sp"
          ],
          [
           "I don’t know about the other 63+ million American citizens that voted for a @realDonaldTrump agenda, but I have had enough of this bitch @Sp"
          ],
          [
           "I don’t know about the other 63+ million American citizens that voted for a @realDonaldTrump agenda, but I have had enough of this bitch @Sp"
          ],
          [
           "I don’t know about the other 63+ million American citizens that voted for a @realDonaldTrump agenda, but I have had enough of this bitch @Sp"
          ],
          [
           "I don’t know about the other 63+ million American citizens that voted for a @realDonaldTrump agenda, but I have had enough of this bitch @Sp"
          ],
          [
           "I don’t know about the other 63+ million American citizens that voted for a @realDonaldTrump agenda, but I have had enough of this bitch @Sp"
          ],
          [
           "I don’t know about the other 63+ million American citizens that voted for a @realDonaldTrump agenda, but I have had enough of this bitch @Sp"
          ]
         ],
         "hoverlabel": {
          "namelength": 0
         },
         "hovertemplate": "<b>%{hovertext}</b><br><br>name=Nancy Pelosi<br>identity_attack=%{x}<br>toxicity=%{y}<br>size=%{marker.size}<br>tweet_prev1=%{customdata[0]}",
         "hovertext": [
          "Nancy Pelosi",
          "Nancy Pelosi",
          "Nancy Pelosi",
          "Nancy Pelosi",
          "Nancy Pelosi",
          "Nancy Pelosi",
          "Nancy Pelosi",
          "Nancy Pelosi",
          "Nancy Pelosi",
          "Nancy Pelosi",
          "Nancy Pelosi",
          "Nancy Pelosi",
          "Nancy Pelosi",
          "Nancy Pelosi",
          "Nancy Pelosi",
          "Nancy Pelosi",
          "Nancy Pelosi",
          "Nancy Pelosi",
          "Nancy Pelosi",
          "Nancy Pelosi",
          "Nancy Pelosi",
          "Nancy Pelosi",
          "Nancy Pelosi",
          "Nancy Pelosi",
          "Nancy Pelosi",
          "Nancy Pelosi",
          "Nancy Pelosi",
          "Nancy Pelosi",
          "Nancy Pelosi",
          "Nancy Pelosi",
          "Nancy Pelosi",
          "Nancy Pelosi",
          "Nancy Pelosi",
          "Nancy Pelosi",
          "Nancy Pelosi",
          "Nancy Pelosi",
          "Nancy Pelosi",
          "Nancy Pelosi",
          "Nancy Pelosi",
          "Nancy Pelosi",
          "Nancy Pelosi",
          "Nancy Pelosi",
          "Nancy Pelosi",
          "Nancy Pelosi",
          "Nancy Pelosi",
          "Nancy Pelosi",
          "Nancy Pelosi",
          "Nancy Pelosi",
          "Nancy Pelosi",
          "Nancy Pelosi",
          "Nancy Pelosi",
          "Nancy Pelosi",
          "Nancy Pelosi",
          "Nancy Pelosi",
          "Nancy Pelosi",
          "Nancy Pelosi",
          "Nancy Pelosi",
          "Nancy Pelosi",
          "Nancy Pelosi",
          "Nancy Pelosi",
          "Nancy Pelosi",
          "Nancy Pelosi",
          "Nancy Pelosi",
          "Nancy Pelosi",
          "Nancy Pelosi",
          "Nancy Pelosi",
          "Nancy Pelosi",
          "Nancy Pelosi",
          "Nancy Pelosi",
          "Nancy Pelosi",
          "Nancy Pelosi",
          "Nancy Pelosi",
          "Nancy Pelosi",
          "Nancy Pelosi",
          "Nancy Pelosi",
          "Nancy Pelosi",
          "Nancy Pelosi",
          "Nancy Pelosi",
          "Nancy Pelosi",
          "Nancy Pelosi",
          "Nancy Pelosi",
          "Nancy Pelosi",
          "Nancy Pelosi",
          "Nancy Pelosi",
          "Nancy Pelosi",
          "Nancy Pelosi",
          "Nancy Pelosi",
          "Nancy Pelosi",
          "Nancy Pelosi",
          "Nancy Pelosi",
          "Nancy Pelosi",
          "Nancy Pelosi",
          "Nancy Pelosi",
          "Nancy Pelosi",
          "Nancy Pelosi",
          "Nancy Pelosi",
          "Nancy Pelosi",
          "Nancy Pelosi",
          "Nancy Pelosi",
          "Nancy Pelosi",
          "Nancy Pelosi",
          "Nancy Pelosi",
          "Nancy Pelosi",
          "Nancy Pelosi",
          "Nancy Pelosi",
          "Nancy Pelosi",
          "Nancy Pelosi",
          "Nancy Pelosi",
          "Nancy Pelosi",
          "Nancy Pelosi",
          "Nancy Pelosi",
          "Nancy Pelosi",
          "Nancy Pelosi",
          "Nancy Pelosi",
          "Nancy Pelosi",
          "Nancy Pelosi",
          "Nancy Pelosi",
          "Nancy Pelosi",
          "Nancy Pelosi",
          "Nancy Pelosi",
          "Nancy Pelosi",
          "Nancy Pelosi",
          "Nancy Pelosi",
          "Nancy Pelosi",
          "Nancy Pelosi",
          "Nancy Pelosi",
          "Nancy Pelosi",
          "Nancy Pelosi",
          "Nancy Pelosi",
          "Nancy Pelosi",
          "Nancy Pelosi",
          "Nancy Pelosi",
          "Nancy Pelosi",
          "Nancy Pelosi",
          "Nancy Pelosi",
          "Nancy Pelosi",
          "Nancy Pelosi",
          "Nancy Pelosi",
          "Nancy Pelosi",
          "Nancy Pelosi",
          "Nancy Pelosi",
          "Nancy Pelosi",
          "Nancy Pelosi",
          "Nancy Pelosi",
          "Nancy Pelosi",
          "Nancy Pelosi",
          "Nancy Pelosi",
          "Nancy Pelosi",
          "Nancy Pelosi",
          "Nancy Pelosi",
          "Nancy Pelosi",
          "Nancy Pelosi",
          "Nancy Pelosi",
          "Nancy Pelosi",
          "Nancy Pelosi",
          "Nancy Pelosi",
          "Nancy Pelosi",
          "Nancy Pelosi",
          "Nancy Pelosi",
          "Nancy Pelosi",
          "Nancy Pelosi",
          "Nancy Pelosi",
          "Nancy Pelosi",
          "Nancy Pelosi",
          "Nancy Pelosi",
          "Nancy Pelosi",
          "Nancy Pelosi",
          "Nancy Pelosi",
          "Nancy Pelosi",
          "Nancy Pelosi",
          "Nancy Pelosi",
          "Nancy Pelosi",
          "Nancy Pelosi",
          "Nancy Pelosi",
          "Nancy Pelosi",
          "Nancy Pelosi",
          "Nancy Pelosi",
          "Nancy Pelosi",
          "Nancy Pelosi",
          "Nancy Pelosi",
          "Nancy Pelosi",
          "Nancy Pelosi",
          "Nancy Pelosi",
          "Nancy Pelosi",
          "Nancy Pelosi",
          "Nancy Pelosi",
          "Nancy Pelosi",
          "Nancy Pelosi",
          "Nancy Pelosi",
          "Nancy Pelosi",
          "Nancy Pelosi",
          "Nancy Pelosi",
          "Nancy Pelosi",
          "Nancy Pelosi",
          "Nancy Pelosi",
          "Nancy Pelosi",
          "Nancy Pelosi",
          "Nancy Pelosi",
          "Nancy Pelosi",
          "Nancy Pelosi"
         ],
         "legendgroup": "Nancy Pelosi",
         "marker": {
          "color": "#EF553B",
          "size": [
           90.517,
           90.517,
           90.517,
           90.517,
           90.517,
           90.517,
           90.517,
           90.517,
           90.517,
           90.517,
           90.517,
           90.517,
           90.517,
           90.517,
           90.517,
           90.517,
           90.517,
           90.517,
           90.517,
           90.517,
           90.517,
           90.517,
           90.517,
           90.517,
           90.517,
           90.517,
           90.517,
           90.517,
           90.517,
           90.517,
           90.517,
           90.517,
           90.517,
           90.517,
           90.517,
           90.517,
           90.517,
           90.517,
           90.517,
           90.517,
           90.517,
           90.517,
           90.517,
           90.517,
           90.517,
           90.517,
           90.517,
           90.517,
           90.517,
           90.517,
           90.517,
           90.517,
           90.517,
           90.517,
           90.517,
           90.517,
           90.517,
           90.517,
           90.517,
           90.517,
           90.517,
           90.517,
           90.517,
           90.517,
           90.517,
           90.517,
           90.517,
           90.517,
           90.517,
           90.517,
           90.517,
           90.517,
           90.517,
           90.517,
           90.517,
           90.517,
           90.517,
           90.517,
           90.517,
           90.517,
           90.517,
           90.517,
           90.517,
           90.517,
           90.517,
           90.517,
           90.517,
           90.517,
           90.517,
           90.517,
           90.517,
           90.517,
           90.517,
           90.517,
           90.517,
           90.517,
           90.517,
           90.517,
           90.517,
           90.517,
           90.517,
           90.517,
           90.517,
           90.517,
           90.517,
           90.517,
           90.517,
           90.517,
           90.517,
           90.517,
           90.517,
           90.517,
           90.517,
           90.517,
           90.517,
           90.517,
           90.517,
           90.517,
           90.517,
           90.517,
           90.517,
           90.517,
           90.517,
           90.517,
           90.517,
           90.517,
           90.517,
           90.517,
           90.517,
           90.517,
           90.517,
           90.517,
           90.517,
           90.517,
           90.517,
           90.517,
           90.517,
           90.517,
           90.517,
           90.517,
           90.517,
           90.517,
           90.517,
           90.517,
           90.517,
           90.517,
           90.517,
           90.517,
           90.517,
           90.517,
           90.517,
           90.517,
           90.517,
           90.517,
           90.517,
           90.517,
           87.157,
           90.517,
           90.517,
           90.517,
           90.517,
           90.517,
           90.517,
           90.517,
           90.517,
           90.517,
           90.517,
           90.517,
           90.517,
           90.517,
           90.517,
           90.517,
           90.517,
           90.517,
           90.517,
           90.517,
           90.517,
           90.517,
           90.517,
           90.517,
           90.517,
           90.517,
           90.517,
           90.517,
           90.517,
           90.517,
           90.517,
           90.517,
           90.517,
           90.517,
           73.931,
           90.517,
           90.517,
           90.517,
           90.517,
           90.517,
           90.517,
           90.517,
           90.517,
           90.517
          ],
          "sizemode": "area",
          "sizeref": 0.24465,
          "symbol": "circle"
         },
         "mode": "markers",
         "name": "Nancy Pelosi",
         "showlegend": true,
         "type": "scatter",
         "x": [
          0.62523,
          0.62523,
          0.62523,
          0.62523,
          0.62523,
          0.62523,
          0.62523,
          0.62523,
          0.62523,
          0.62523,
          0.62523,
          0.62523,
          0.62523,
          0.62523,
          0.62523,
          0.62523,
          0.62523,
          0.62523,
          0.62523,
          0.62523,
          0.62523,
          0.62523,
          0.62523,
          0.62523,
          0.62523,
          0.62523,
          0.62523,
          0.62523,
          0.62523,
          0.62523,
          0.62523,
          0.62523,
          0.62523,
          0.62523,
          0.62523,
          0.62523,
          0.62523,
          0.62523,
          0.62523,
          0.62523,
          0.62523,
          0.62523,
          0.62523,
          0.62523,
          0.62523,
          0.62523,
          0.62523,
          0.62523,
          0.62523,
          0.62523,
          0.62523,
          0.62523,
          0.62523,
          0.62523,
          0.62523,
          0.62523,
          0.62523,
          0.62523,
          0.62523,
          0.62523,
          0.62523,
          0.62523,
          0.62523,
          0.62523,
          0.62523,
          0.62523,
          0.62523,
          0.62523,
          0.62523,
          0.62523,
          0.62523,
          0.62523,
          0.62523,
          0.62523,
          0.62523,
          0.62523,
          0.62523,
          0.62523,
          0.62523,
          0.62523,
          0.62523,
          0.62523,
          0.62523,
          0.62523,
          0.62523,
          0.62523,
          0.62523,
          0.62523,
          0.62523,
          0.62523,
          0.62523,
          0.62523,
          0.62523,
          0.62523,
          0.62523,
          0.62523,
          0.62523,
          0.62523,
          0.62523,
          0.62523,
          0.62523,
          0.62523,
          0.62523,
          0.62523,
          0.62523,
          0.62523,
          0.62523,
          0.62523,
          0.62523,
          0.62523,
          0.62523,
          0.62523,
          0.62523,
          0.62523,
          0.62523,
          0.62523,
          0.62523,
          0.62523,
          0.62523,
          0.62523,
          0.62523,
          0.62523,
          0.62523,
          0.62523,
          0.62523,
          0.62523,
          0.62523,
          0.62523,
          0.62523,
          0.62523,
          0.62523,
          0.62523,
          0.62523,
          0.62523,
          0.62523,
          0.62523,
          0.62523,
          0.62523,
          0.62523,
          0.62523,
          0.62523,
          0.62523,
          0.62523,
          0.62523,
          0.62523,
          0.62523,
          0.62523,
          0.62523,
          0.62523,
          0.62523,
          0.62523,
          0.62523,
          0.62523,
          0.62523,
          0.62523,
          0.62523,
          0.80315,
          0.62523,
          0.62523,
          0.62523,
          0.62523,
          0.62523,
          0.62523,
          0.62523,
          0.62523,
          0.62523,
          0.62523,
          0.62523,
          0.62523,
          0.62523,
          0.62523,
          0.62523,
          0.62523,
          0.62523,
          0.62523,
          0.62523,
          0.62523,
          0.62523,
          0.62523,
          0.62523,
          0.62523,
          0.62523,
          0.62523,
          0.62523,
          0.62523,
          0.62523,
          0.62523,
          0.62523,
          0.62523,
          0.62523,
          0.53345,
          0.62523,
          0.62523,
          0.62523,
          0.62523,
          0.62523,
          0.62523,
          0.62523,
          0.62523,
          0.62523
         ],
         "xaxis": "x",
         "y": [
          0.90517,
          0.90517,
          0.90517,
          0.90517,
          0.90517,
          0.90517,
          0.90517,
          0.90517,
          0.90517,
          0.90517,
          0.90517,
          0.90517,
          0.90517,
          0.90517,
          0.90517,
          0.90517,
          0.90517,
          0.90517,
          0.90517,
          0.90517,
          0.90517,
          0.90517,
          0.90517,
          0.90517,
          0.90517,
          0.90517,
          0.90517,
          0.90517,
          0.90517,
          0.90517,
          0.90517,
          0.90517,
          0.90517,
          0.90517,
          0.90517,
          0.90517,
          0.90517,
          0.90517,
          0.90517,
          0.90517,
          0.90517,
          0.90517,
          0.90517,
          0.90517,
          0.90517,
          0.90517,
          0.90517,
          0.90517,
          0.90517,
          0.90517,
          0.90517,
          0.90517,
          0.90517,
          0.90517,
          0.90517,
          0.90517,
          0.90517,
          0.90517,
          0.90517,
          0.90517,
          0.90517,
          0.90517,
          0.90517,
          0.90517,
          0.90517,
          0.90517,
          0.90517,
          0.90517,
          0.90517,
          0.90517,
          0.90517,
          0.90517,
          0.90517,
          0.90517,
          0.90517,
          0.90517,
          0.90517,
          0.90517,
          0.90517,
          0.90517,
          0.90517,
          0.90517,
          0.90517,
          0.90517,
          0.90517,
          0.90517,
          0.90517,
          0.90517,
          0.90517,
          0.90517,
          0.90517,
          0.90517,
          0.90517,
          0.90517,
          0.90517,
          0.90517,
          0.90517,
          0.90517,
          0.90517,
          0.90517,
          0.90517,
          0.90517,
          0.90517,
          0.90517,
          0.90517,
          0.90517,
          0.90517,
          0.90517,
          0.90517,
          0.90517,
          0.90517,
          0.90517,
          0.90517,
          0.90517,
          0.90517,
          0.90517,
          0.90517,
          0.90517,
          0.90517,
          0.90517,
          0.90517,
          0.90517,
          0.90517,
          0.90517,
          0.90517,
          0.90517,
          0.90517,
          0.90517,
          0.90517,
          0.90517,
          0.90517,
          0.90517,
          0.90517,
          0.90517,
          0.90517,
          0.90517,
          0.90517,
          0.90517,
          0.90517,
          0.90517,
          0.90517,
          0.90517,
          0.90517,
          0.90517,
          0.90517,
          0.90517,
          0.90517,
          0.90517,
          0.90517,
          0.90517,
          0.90517,
          0.90517,
          0.90517,
          0.90517,
          0.90517,
          0.90517,
          0.87157,
          0.90517,
          0.90517,
          0.90517,
          0.90517,
          0.90517,
          0.90517,
          0.90517,
          0.90517,
          0.90517,
          0.90517,
          0.90517,
          0.90517,
          0.90517,
          0.90517,
          0.90517,
          0.90517,
          0.90517,
          0.90517,
          0.90517,
          0.90517,
          0.90517,
          0.90517,
          0.90517,
          0.90517,
          0.90517,
          0.90517,
          0.90517,
          0.90517,
          0.90517,
          0.90517,
          0.90517,
          0.90517,
          0.90517,
          0.73931,
          0.90517,
          0.90517,
          0.90517,
          0.90517,
          0.90517,
          0.90517,
          0.90517,
          0.90517,
          0.90517
         ],
         "yaxis": "y"
        },
        {
         "customdata": [
          [
           "@AnandWrites Elizabeth Warren\nKirsten Gillibrand\nKamala Harris*\n\n*14 months out? I have no idea."
          ],
          [
           "It takes 20 years to build a reputation and five minutes to ruin it. If you think about that, you'll do things differently. Warren Buffett"
          ],
          [
           "@SalihTorgeir @JustinSzew309 @TulsiGabbard Who is paying me? Sanders, Warren, Yang, Klobuchar, Harris, Booker? ALL of who I would support ov"
          ],
          [
           "On the same day that @SenWarren proposes a kind of a corporate AMT comes this report:  60 profitable Fortune 500 companies paid zero income "
          ],
          [
           "@RobVoreck @HoarseWisperer @joanwalsh I love her. There are several great candidates, but when it comes to careful, thought-through policy I"
          ],
          [
           "@BernieSanders @AllResistNews Senator Warren has a great plan to counteract this travesty. And when are you releasing your tax returns?"
          ],
          [
           "@Katie_Jeffries @FCNLindsey A TGIF 13 min #Friday morning clear road drive on I95 northbound to the #Fuller #Warren #Bridge #Jacksonville fr"
          ],
          [
           "I’m excited about Kamala Harris’s candidacy. \n\nI’m excited about Elizabeth Warren’s candidacy. \n\nI’m excited about Amy Klobuchar’s candidacy"
          ],
          [
           "Elizabeth Warren has rolled out a proposal to levy a 7% tax on corporate profits above $100 million, \"no loopholes or exemptions,\" which if "
          ],
          [
           "“The loved up couple have been dating for two years.” So, she was 20 &amp; dating him when was 14? Swap the genders......\n\n#Boys #CSE \n\nhttp"
          ],
          [
           "Bernie admits capitalism made him a millionaire and Kamala Harris admits she is a gun owner \"for personal safety\" \n\nSoon Warren will admit h"
          ],
          [
           "@WJXTCrystal A TGIF 14 min #Friday morning clear road drive on I95 northbound to the #Fuller #Warren #Bridge #Jacksonville from south beltwa"
          ],
          [
           "Elizabeth Warren Tells Amazon to Get Bent https://t.co/q2uJuxDo1t"
          ],
          [
           "NEW: @EWarren rolls out a new plan to impose a 7% tax on corporate profits above $100 million, “no loopholes or exemptions.”\n\nIt would raise"
          ],
          [
           "Worthing Pier has been named Pier of the Year. Here are a couple more photos taken by a friend of mine (Warren O'Brien). https://t.co/iOYtjo"
          ],
          [
           "Warren G was the reason why most of us wore a tshirt under a tshirt LMAO! This was G-FUNK era at its best. https://t.co/BGWbsQtPgQ via @YouT"
          ],
          [
           "Breaking: Come out to the store on MacGrath highway Somerville now to join ⁦@SenWarren⁩ on the picket line! Senator Warren to join striking "
          ],
          [
           "I think Warren is great, but I also believe that \"reform\" policies always sound more \"intellectual\" than big changes because they play in th"
          ],
          [
           "Fascinating story on Elizabeth Warren’s years as a registered Republican — and her transformation as she studied bankruptcy https://t.co/kOH"
          ],
          [
           "NEW: @EWarren rolls out a new plan to impose a 7% tax on corporate profits above $100 million, “no loopholes or exemptions.”\n\nIt would raise"
          ],
          [
           ".@ewarren’s proposal is “likely to send an exponentially larger chill down the corporate world’s collective spine: a tax on their profits, s"
          ],
          [
           "Warren is headed to the picket line for the biggest private-sector strike in three years. It’ll be interesting to see who else goes. https:/"
          ],
          [
           "@PickBaudisBrain @carlm311 @TheEllenShow @PeteButtigieg Buttigieg-Warren \n          2020 \n\nYes please."
          ],
          [
           "This is your friendly reminder that Snoop Dogg tickets go on sale in 45 minutes! https://t.co/R40VxX82Oz"
          ],
          [
           "We've got a new poll with Muhlenberg College on what PA Democratic voters are thinking about 2020...\n\nJoe Biden leads with 28%, followed by "
          ],
          [
           "Can Elizabeth Warren Stop the Corporate Rip Off? \n\nWatch here https://t.co/9CpqLcP2pD https://t.co/ABHLWNPWXv"
          ],
          [
           "@NOD008 @zerohedge Chief Warren no like white man named Moore."
          ],
          [
           "@Kvverra @dhh it is a zero sum game, because buttigieg gets endless press coverage for things he says and warren gets effectively zero cover"
          ],
          [
           "Senator Elizabeth Warren will join Stop &amp; Shop workers walking a picket line outside a Somerville store as the strike against New Englan"
          ],
          [
           "Update:  Warren Buffett still not beating Bitcoin since Oct 2010. https://t.co/Jm6mck9Eed"
          ],
          [
           "@dhh elizabeth warren is more clearly spoken and has more experience and vastly more cred. she’s been working AND PASSING actual legislation"
          ],
          [
           "I can’t believe it took you 3 hours and 15 minutes to learn Rule #1, @stevenmnuchin1: don’t tell @RepMaxineWaters how to conduct her committ"
          ],
          [
           "Happy Birthday Malia💖 miss you!! @malia_warren https://t.co/WsFzE2cyUz"
          ],
          [
           "Breaking: Come out to the store on MacGrath highway Somerville now to join ⁦@SenWarren⁩ on the picket line! Senator Warren to join striking "
          ],
          [
           "@Public_Citizen @latimesmuskal Sep 9, 2013 -“You follow this pro-corporate trend to its logical conclusion, and sooner or later you’ll end u"
          ],
          [
           "FWIW, my current thinking on the tiers in the Democratic primary, in terms of likelihood of winning the nomination. This is very rough, obvi"
          ],
          [
           "I’m excited about Kamala Harris’s candidacy. \n\nI’m excited about Elizabeth Warren’s candidacy. \n\nI’m excited about Amy Klobuchar’s candidacy"
          ],
          [
           "even as a non-Warren supporter I pretty much agree with this piece \nhttps://t.co/rB4Cem5N4i"
          ],
          [
           "Don't you be dancing without me Cathy Warren I'm looking at this place up the rd then I'll come knock it out with you https://t.co/tdBrJDRDt"
          ],
          [
           "7 mistakes millionaires like Warren Buffett and Bill Gates never make — that average people do all the time. via @CNBCMakeIt https://t.co/BN"
          ],
          [
           "@JudicialWatch Nancy ,Schumer Maxine Warren and the rest are making millions, and doing nothing for the USA."
          ],
          [
           "I’m a productive person https://t.co/ryAa2GxDS3"
          ],
          [
           "Tens of thousands of Stop &amp; Shop employees at supermarkets in Massachusetts, Rhode Island and Connecticut went on strike Thursday over s"
          ],
          [
           "Good for you Warren #Respect #DemocracyMatters &amp; MUST b defended. #MPTraitors can't b allowed to go on #KillingDemocracy. Those who're a"
          ],
          [
           "I dont think the ds planned it cuz their secret supporters were revealed.\n\nBut I say why would anyone vote for faux progressives if they can"
          ],
          [
           "Warren G ft. Nate Dogg | Regulate | Sesame Street Version https://t.co/Nci61eWXNR via @YouTube"
          ],
          [
           "This just arrived! BOOM! ⚾️ HOFer!\n\n$125 shipped.. w/Insurance 📬\n\nWarren Spahn Auto #/140 PSA 9\n\n@CardConnector \n@BUYORTRADECARDS \n@linkmyca"
          ],
          [
           "@anncolefax @BobLen10 @wplgirls @WplRufc Fantastic👍❤️"
          ],
          [
           "Warren Buffett has made it to his late 80s eating junk food, but it's not for the weak of heart https://t.co/AxNr2exLq7"
          ],
          [
           "Warren? A distinguished career as a Harvard law professor even before she went to the US Senate.\n\nWarren has actual RESULTS: The Consumer Fi"
          ],
          [
           "🔥 New Camp FIRE Finance featured post from @Money_Side_Up\nIf You Were a Business, Would Warren Buffett Invest In You?\nhttps://t.co/tLVDS6dUa"
          ],
          [
           "I wrote the piece I wanted to read about Elizabeth Warren’s policy agenda. https://t.co/Dgz3V97sVb"
          ],
          [
           "On the same day that @SenWarren proposes a kind of a corporate AMT comes this report:  60 profitable Fortune 500 companies paid zero income "
          ],
          [
           "Elizabeth Warren is the intellectual powerhouse of the Democratic party | Moira Donegan https://t.co/PvZYW3OUDL"
          ],
          [
           "Warren would be an amazing President. Seriously. https://t.co/x1qfFvQidY"
          ],
          [
           "Nip said “yeah you got a fat ass but your soul is wack, body like a coke bottle but your soda flat” it’ll go over most of y’all heads"
          ],
          [
           "Rule No.1: Never lose money. Rule No.2: Never forget rule No.1. Warren Buffett"
          ],
          [
           "@FlowerInFaith Geez, two biased opinions of Bernie, both wrong and quite leaning establishment? Bernie is not a real progressive, but much c"
          ],
          [
           "Stop&amp;Shop employees striking in Somerville. @SenWarren will be joining them at 11:30. @7News https://t.co/w7VtOzeJ7l"
          ],
          [
           "How many girls fall on their knees for Warren?"
          ],
          [
           "Thing is, its *female* voters who are granting their support to Biden, Bernie and Buttigieg . . . You can't be atop a Dem primary poll witho"
          ],
          [
           "@lifeofadamdrake @HoodieAnderson_ @jag230112 @c_cuccia20 @MLBTheShow_Tips When’d they announce that?"
          ],
          [
           "1/ Elizabeth Warren is the intellectual powerhouse of the Democratic party | Moira Donegan https://t.co/N2RADQlxzH"
          ],
          [
           "Loomis: \"Elizabeth Warren is a lot more ready to take on the opposition she knows she will face if she wins, as opposed to Bernie thinking t"
          ],
          [
           "@bevandton @SokoAfricanus @OfLaverna @SenWarren @WellsFargo I'm afraid you don't actually understand hypocrisy.  She would be a hypocrite if"
          ],
          [
           "Elizabeth Warren unveils new proposal: 7% tax on corporations' profits over $100 million. https://t.co/7csvfzehbR https://t.co/vO6gRZWvF5"
          ],
          [
           ".@ewarren’s proposal is “likely to send an exponentially larger chill down the corporate world’s collective spine: a tax on their profits, s"
          ],
          [
           "Elizabeth Warren, the Democratic presidential candidate, pushes new corporate tax on profits above $100M, by rolling out a proposal to levy "
          ],
          [
           "@RepRashida @SenWarren Why are you trying to destroy this country?"
          ],
          [
           "I wrote the piece I wanted to read about Elizabeth Warren’s policy agenda. https://t.co/Dgz3V97sVb"
          ],
          [
           "@BFlyReport @SenWarren @RoZsaJH @realDonaldTrump @PeteButtigieg No thanks! I’ll be voting #Tulsi2020 #TulsiForPresident 🌺❤️☮️✌🏽"
          ],
          [
           "I wrote the piece I wanted to read about Elizabeth Warren’s policy agenda. https://t.co/Dgz3V97sVb"
          ],
          [
           "thank you to @Steve_energia &amp; the art department at Warren Wilson College for making these broadsides of my poem “the voice in my head s"
          ],
          [
           "Breaking: Come out to the store on MacGrath highway Somerville now to join ⁦@SenWarren⁩ on the picket line! Senator Warren to join striking "
          ],
          [
           "In 2007, Obama had 104,000 donors (so $240 per donor!) and Clinton had just 60,000 (so $400!).\n\nIn this first quarter, Sanders had 525,000 d"
          ],
          [
           "Warren? A distinguished career as a Harvard law professor even before she went to the US Senate.\n\nWarren has actual RESULTS: The Consumer Fi"
          ],
          [
           "I wrote the piece I wanted to read about Elizabeth Warren’s policy agenda. https://t.co/Dgz3V97sVb"
          ],
          [
           "I wrote the piece I wanted to read about Elizabeth Warren’s policy agenda. https://t.co/Dgz3V97sVb"
          ],
          [
           "Warren Buffett: Tesla's Elon Musk has 'room for improvement' as CEO https://t.co/lvCsEbnxb2 https://t.co/uQtFbgoC7t"
          ],
          [
           "NEW: @EWarren rolls out a new plan to impose a 7% tax on corporate profits above $100 million, “no loopholes or exemptions.”\n\nIt would raise"
          ],
          [
           "I can’t believe it took you 3 hours and 15 minutes to learn Rule #1, @stevenmnuchin1: don’t tell @RepMaxineWaters how to conduct her committ"
          ],
          [
           "Striking Stop &amp; Shop workers picket outside the supermarket on McGrath Highway in Somerville. Very soon, Senator Elizabeth Warren will b"
          ],
          [
           "Senator Elizabeth Warren will join Stop &amp; Shop workers walking a picket line outside a Somerville store as the strike against New Englan"
          ],
          [
           "Mufasa : “scar, brother help me”\n\nScar: “Long live the king\" https://t.co/peobSeYZ6T"
          ],
          [
           "What's behind Warren's plan to break up Facebook, Amazon and Google https://t.co/OQQoCYx8z0"
          ],
          [
           "Warren? A distinguished career as a Harvard law professor even before she went to the US Senate.\n\nWarren has actual RESULTS: The Consumer Fi"
          ],
          [
           "and Hillary is an Eisenhower Republican... The R's, today, have gone off the deep end and are bat-shit crazy. Warren's past was as middle-of"
          ],
          [
           "@daveweigel Sanders [sitting on his back porch]: \"We should forgive all student loans.\"\n\nWarren [in camo fatigues, breathless, sweating and "
          ],
          [
           "“It may well not be Warren who wins the Democratic nomination, but whoever does will be campaigning on her ideas.” https://t.co/aRjkL4i2r2"
          ],
          [
           "Driver charged with fatal multi-vehicle crash in Warren https://t.co/CsZcECfYP8 https://t.co/B9DEf4Zkc3"
          ],
          [
           "Inbox: U.S. Sen. and 2020 presidential candidate Elizabeth Warren will join Stop &amp; Shop workers on the picket line at 11:30 today at the"
          ],
          [
           "Elizabeth Warren is the intellectual powerhouse of the Democratic party | Moira Donegan https://t.co/PvZYW3OUDL"
          ],
          [
           "Some nights I wish I could go back in life not to change shit just to feel a couple things twice."
          ],
          [
           "@RKJ65 @SenWarren THIS, every bit of this. We have a phenomenal pool of talent right now, and as long as the Senate talent comes from a stat"
          ],
          [
           "even as a non-Warren supporter I pretty much agree with this piece \nhttps://t.co/rB4Cem5N4i"
          ],
          [
           "Right on cue, Warren and a bunch of Dems are reintroducing a bill to have the IRS create a free tax filing service and return-free filing. h"
          ],
          [
           "Stop&amp;Shop employees striking in Somerville. @SenWarren will be joining them at 11:30. @7News https://t.co/w7VtOzeJ7l"
          ],
          [
           "Elizabeth Warren's new tax plan would impose a 7% tax on corporate profits above $100 million with no \"loopholes or exemptions.” Under her p"
          ],
          [
           "It’s worth noting that while one candidate is making millions pretending to be diligently fighting against corporate excess, his opponent an"
          ],
          [
           "Breaking: Come out to the store on MacGrath highway Somerville now to join ⁦@SenWarren⁩ on the picket line! Senator Warren to join striking "
          ],
          [
           "Thing is, its *female* voters who are granting their support to Biden, Bernie and Buttigieg . . . You can't be atop a Dem primary poll witho"
          ],
          [
           "I wrote the piece I wanted to read about Elizabeth Warren’s policy agenda. https://t.co/Dgz3V97sVb"
          ],
          [
           "“It may well not be Warren who wins the Democratic nomination, but whoever does will be campaigning on her ideas.” https://t.co/aRjkL4i2r2"
          ],
          [
           "Elizabeth Warren is wrong.  When a business earns a profit it takes nothing out, so there's nothing it needs to put back in.  Profit is a me"
          ],
          [
           "19th cent Marxism that has proven a complete failure. This is how rigid Bernie is. He would be a total disaster as POTUS. Incapable of fatho"
          ],
          [
           "“Because God is love, the most important lesson he wants you to learn on earth is how to love” -Rick Warren"
          ],
          [
           "my bf just sent me this video of his brother’s house getting “ding dong ditched.” My, how the times have changed - i’m DEAD https://t.co/UrU"
          ],
          [
           "Elizabeth Warren has rolled out a proposal to levy a 7% tax on corporate profits above $100 million, \"no loopholes or exemptions,\" which if "
          ],
          [
           "Elizabeth Warren is the intellectual powerhouse of the Democratic party https://t.co/HujBvC8YYe"
          ],
          [
           "Elizabeth Warren is the intellectual powerhouse of the Democratic party\n\nhttps://t.co/RZgA4QeAzC"
          ],
          [
           "I'm betting against Biden to win the nomination, but here's why you can't discount his lead. One big one: I'm sick of this idea it's all nam"
          ],
          [
           ".@ewarren’s proposal is “likely to send an exponentially larger chill down the corporate world’s collective spine: a tax on their profits, s"
          ],
          [
           "#504 – “Elizabeth Warren Delivers, Wrong About Barr, Julian Assange's Arrest, and… https://t.co/vfrBDh9GoL #IDoubtIt"
          ],
          [
           "Democratic presidential candidate Sen. Elizabeth Warren (@ewarren) brings coffee and donuts to striking Stop &amp; Shop workers in Somervill"
          ],
          [
           "@nickdangerca let's face it, warren's tweet very phoney, and worse- trying to call out @potus for criticizing omar's trivializing terrorism."
          ],
          [
           "Ilhan Omar: progressive Democrats condemn Republican smears and urge party to do the same https://t.co/bUi5ccZmQw What a scumbag #DonaldTrum"
          ],
          [
           "Elizabeth Warren is inciting violence against prosperous businessmen and women by demonizing them based on their success. It’s disgusting. I"
          ],
          [
           "Elizabeth Warren is inciting violence against prosperous businessmen and women by demonizing them based on their success. It’s disgusting. I"
          ],
          [
           "Sanders, Warren: I stand with Ilhan Omar against the racist mob\n\nHarris: I'll get back to you, say, Monday?\n\nO'Rourke: The smallness of our "
          ],
          [
           "Tawhidi 1, Warren 0. \n\nSorry @ewarren, politicians can be criticized for their ideas and that’s 100% American. (As opposed to 1/1024th Nativ"
          ],
          [
           "@ewarren #NeedToImpeach\nI’m on board with that Senator Warren. Are you with us on impeachment? Because we’re ready NOW!\n\nWe need to know our"
          ],
          [
           "Honesty is a very expensive gift. Do not expect it from cheap people - Warren Buffet #Expectations #quoteoftheday"
          ],
          [
           "@dbongino Don't push Elizabeth,Dan!!   I hear her spirit animal is ferocious!! 😱🤣🤣\n\nOn a serious note-  @SenWarren do you think anyone is ac"
          ],
          [
           "I wrote the piece I wanted to read about Elizabeth Warren’s policy agenda. https://t.co/Dgz3V97sVb"
          ],
          [
           "@ewarren I thought Sitting Congresswoman was your Indian name @SenWarren"
          ],
          [
           "@IAU_org &lt;Waves&gt; Let's host an #IAU100 Flagship event in Detroit, Michigan!\n\nI'm a volunteer NASA/JPL Solar System Ambassador, and the"
          ],
          [
           "Elizabeth Warren is inciting violence against prosperous businessmen and women by demonizing them based on their success. It’s disgusting. I"
          ],
          [
           "Elizabeth Warren is inciting violence against prosperous businessmen and women by demonizing them based on their success. It’s disgusting. I"
          ],
          [
           "Elizabeth Warren is inciting violence against prosperous businessmen and women by demonizing them based on their success. It’s disgusting. I"
          ],
          [
           "Elizabeth Warren is the intellectual powerhouse of the Democratic party | Moira Donegan https://t.co/PvZYW3OUDL"
          ],
          [
           "Elizabeth Warren is inciting violence against prosperous businessmen and women by demonizing them based on their success. It’s disgusting. I"
          ],
          [
           "Elizabeth Warren is inciting violence against prosperous businessmen and women by demonizing them based on their success. It’s disgusting. I"
          ],
          [
           "Elizabeth Warren is inciting violence against prosperous businessmen and women by demonizing them based on their success. It’s disgusting. I"
          ],
          [
           "Sen. Elizabeth Warren Unveils Plan to Force Big Companies to Pay Fair Share https://t.co/qQmjn6bRuq"
          ],
          [
           "♥️♥️🇺🇸🇺🇸Warren-Harris2020🇺🇸🇺🇸♥️♥️\nLet’s make HERSTORY!!!! https://t.co/6sHWHlWkU9"
          ],
          [
           "Tawhidi 1, Warren 0. \n\nSorry @ewarren, politicians can be criticized for their ideas and that’s 100% American. (As opposed to 1/1024th Nativ"
          ],
          [
           "Lori Loughlin and Elizabeth Warren both committed fraud to steal spots in college...maybe we should send Pocahontas to prison. 🤷‍♀️"
          ],
          [
           "Is Elizabeth Warren the first presidential candidate to speak out about Trump targeting Ilhan? \n\nBecause I am absolutely keeping track."
          ],
          [
           "Elizabeth Warren is inciting violence against prosperous businessmen and women by demonizing them based on their success. It’s disgusting. I"
          ],
          [
           "Elizabeth Warren is inciting violence against prosperous businessmen and women by demonizing them based on their success. It’s disgusting. I"
          ],
          [
           "Time and again since launching her campaign, Warren has set the bar for leadership. This is what every Democrat (and every American) should "
          ],
          [
           "Elizabeth Warren is inciting violence against prosperous businessmen and women by demonizing them based on their success. It’s disgusting. I"
          ],
          [
           "Democrats you don't even have to think or try hard. Just say something like Elizabeth Warren. Copy it if you must. She beat you all to it by"
          ],
          [
           "Elizabeth Warren is inciting violence against prosperous businessmen and women by demonizing them based on their success. It’s disgusting. I"
          ],
          [
           "Elizabeth Warren is inciting violence against prosperous businessmen and women by demonizing them based on their success. It’s disgusting. I"
          ],
          [
           "Elizabeth Warren is inciting violence against prosperous businessmen and women by demonizing them based on their success. It’s disgusting. I"
          ],
          [
           "Elizabeth Warren is inciting violence against prosperous businessmen and women by demonizing them based on their success. It’s disgusting. I"
          ],
          [
           "@dbongino If Elizabeth Warren is inciting violence it'd be the only insightful thing about her entire campaign."
          ],
          [
           "https://t.co/vyLLaG2KmK #Newmusic by #independent #musicians -- Check out Til We're Alone by Warren Ireland #ukmusic #songwriter #music #son"
          ],
          [
           "@Manofstone2018 @frellus @ewarren If Warren promotes demonstratively false claims on Trump, and contribute to normalize hate directed toward"
          ],
          [
           "@_monzon322 @DarinColville @derrickresists @esadah @Barb81146 @Blabla79021362 @kc_act_up @CunningSq16 @Momof2in1year @ChrisToTheW @strom_ann"
          ],
          [
           "Is Uber really worth $100bn? #Uber  https://t.co/nrKlRAOKQE"
          ],
          [
           "Elizabeth Warren would be a phenomenal President and don’t let anyone tell you otherwise. https://t.co/uRQEBL9U4n"
          ],
          [
           "@ewarren This was the perfect response out of everybody. Warren immediately stepped up and pressured peers to follow her lead and do what’s "
          ],
          [
           "Elizabeth Warren is inciting violence against prosperous businessmen and women by demonizing them based on their success. It’s disgusting. I"
          ],
          [
           "@ewarren #NeedToImpeach\nI’m on board with that Senator Warren. Are you with us on impeachment? Because we’re ready NOW!\n\nWe need to know our"
          ],
          [
           "VP Pence to Iowans: \"If you see Sen. Elizabeth Warren. If you see Sen. Amy Klobuchar, see Sen. Cory Booker and others come to Iowa asking fo"
          ],
          [
           "Elizabeth Warren is inciting violence against prosperous businessmen and women by demonizing them based on their success. It’s disgusting. I"
          ],
          [
           "I wrote the piece I wanted to read about Elizabeth Warren’s policy agenda. https://t.co/Dgz3V97sVb"
          ],
          [
           "Elizabeth Warren is inciting violence against prosperous businessmen and women by demonizing them based on their success. It’s disgusting. I"
          ],
          [
           "Elizabeth Warren is inciting violence against prosperous businessmen and women by demonizing them based on their success. It’s disgusting. I"
          ],
          [
           "Elizabeth Warren is inciting violence against prosperous businessmen and women by demonizing them based on their success. It’s disgusting. I"
          ],
          [
           "Elizabeth Warren is inciting violence against prosperous businessmen and women by demonizing them based on their success. It’s disgusting. I"
          ],
          [
           "@_monzon322 @derrickresists @esadah @Barb81146 @Blabla79021362 @kc_act_up @CunningSq16 @Momof2in1year @ChrisToTheW @strom_annette @jidk1187 "
          ],
          [
           "Elizabeth Warren is inciting violence against prosperous businessmen and women by demonizing them based on their success. It’s disgusting. I"
          ],
          [
           "@JohnOSullivan36 I love Pete, but Elizabeth Warren is the most dedicated servant of the people I’ve seen in my 40+ years. Her experience lev"
          ],
          [
           "#NancyPelosi @SpeakerPelosi U know U want it Nancy\nMatter Fact the Whole  Democratic Party Wants it  #KamalaHarris #BernieSanders #Warren #c"
          ],
          [
           "@ewarren Thank you, Senator Warren."
          ],
          [
           "Elizabeth Warren is inciting violence against prosperous businessmen and women by demonizing them based on their success. It’s disgusting. I"
          ],
          [
           "Democratic presidential candidate Sen. Elizabeth Warren (@ewarren) brings coffee and donuts to striking Stop &amp; Shop workers in Somervill"
          ],
          [
           "Elizabeth Warren is inciting violence against prosperous businessmen and women by demonizing them based on their success. It’s disgusting. I"
          ],
          [
           "Time and again since launching her campaign, Warren has set the bar for leadership. This is what every Democrat (and every American) should "
          ],
          [
           "Wes Newton, Sebastian Steyer, Adam Smith-Neale, Jamie Caven, Wayne Warren, Dean Winstanley, Jarred Cole, John Scott and Willem Mandigers all"
          ],
          [
           "Self-made billionaires prove you can't be successful if you don't make time for these 6 things every day. via @CNBCMakeIt https://t.co/1nPow"
          ],
          [
           "Some interesting Massachusetts history as Grossman backs Buttigieg in Elizabeth Warren's backyard: In 2004, he backed Howard Dean despite a "
          ],
          [
           "Self-made billionaires prove you can't be successful if you don't make time for these 6 things every day. via CNBCMakeIt https://t.co/sloLHv"
          ],
          [
           "@RealSaavedra Oh look everyone Elisabeth Warren has something to say. Never mind she is just trying to call the President a racist and hatef"
          ],
          [
           "Elizabeth Warren is the intellectual powerhouse of the Democratic party | Moira Donegan https://t.co/PvZYW3OUDL"
          ],
          [
           "Tawhidi 1, Warren 0. \n\nSorry @ewarren, politicians can be criticized for their ideas and that’s 100% American. (As opposed to 1/1024th Nativ"
          ],
          [
           "WHITE-TAILED EAGLE (no joke!) flew N over North Moors, Upton Warren at 11.47\nBird looked to have secondary missing on left wing."
          ],
          [
           "Elizabeth Warren tells Stop &amp; Shop shoppers, ’Do not cross the picket line’ | @scoopit https://t.co/AiTFrjcuNO"
          ],
          [
           "Self-made billionaires prove you can't be successful if you don't make time for these 6 things every day. via @CNBCMakeIt https://t.co/1nPow"
          ],
          [
           "@STVColin @BBCGaryR @nickeardleybbc @GlennBBC it's time the Scottish media got involved in independence or were going down with the ex empir"
          ],
          [
           "Progress at Warren Farm @LoftforWords https://t.co/PJNdhMZBoP"
          ],
          [
           "I wrote the piece I wanted to read about Elizabeth Warren’s policy agenda. https://t.co/Dgz3V97sVb"
          ],
          [
           "What a bitch. @SenWarren is just another prostitute, willing to say or do anything for a vote. Willing to steal another race for an advantag"
          ],
          [
           "#Breaking @cenkuygur 👏 @BernieSanders Slams @AFPhq for it's Smearing of candidates @SenWarren @CoryBooker and himself for his new income bra"
          ],
          [
           "@soonergrunt Sure there is. There is Joe Lieberman, and the ghost of Zell Miller."
          ],
          [
           "Mane baby urine on antibiotics has a lethal smell. Potent"
          ],
          [
           "@msnbc @cnn\n#BUTTIGIEG DROPPED THE MIKE!!!\nI'm not gay..Im 6u yr young black woman votef!!HE'S GOT MY VOTE!!\nSorry #Warren. IT HAS TO BE A N"
          ],
          [
           "Elizabeth Warren on Trump's tweet about Ilhan Omar: \"Donald Trump is trying to incite violence and to divide us ... Those who don't speak ou"
          ],
          [
           "Candidate Tax Return Tracker:\n\nHarris: 2004-2018\nWarren: 2007-2018\nBeto: Pledged\nBooker: Pledged 2018\nButtigieg: Pledged\nKlobuchar: 2006-201"
          ],
          [
           "Marx: \"... the extirpation, enslavement and entombment ... of the aboriginal population, ... conquest and looting of the East Indies, the tu"
          ],
          [
           "\"Buttigieg\" is a weird way to spell \"Warren\" but ok https://t.co/Kl5SYJvL15"
          ],
          [
           "Warren Place still without a master https://t.co/L1ebHa9Rea"
          ],
          [
           "Instead of running from this, Warren should run on it. She was a pro-free market conservative.\n\nBut what modern Republicans are promoting ha"
          ],
          [
           "\"Study charts as if you were a general in the field of battle watching for a strategic move\" - Ted Warren"
          ],
          [
           "@ewarren senator Warren, my nephew, Dennis Kendricks needs help. Fergus Falls, Minnesota has his 3 children in foster care because of a fals"
          ],
          [
           "@Azrael2124David @greaves46 @KyleKashuv Maybe, and I've heard exactly zero D leaders flinch. They're saying they welcome immigrants, BUT, pe"
          ],
          [
           "VIC - Monash Freeway (M1)\nNear: Princes Highway , Narre Warren\nlanes closed inbound Vehicle Collision\nRight-hand lane closed inbound near th"
          ]
         ],
         "hoverlabel": {
          "namelength": 0
         },
         "hovertemplate": "<b>%{hovertext}</b><br><br>name=Elizabeth Warren<br>identity_attack=%{x}<br>toxicity=%{y}<br>size=%{marker.size}<br>tweet_prev1=%{customdata[0]}",
         "hovertext": [
          "Elizabeth Warren",
          "Elizabeth Warren",
          "Elizabeth Warren",
          "Elizabeth Warren",
          "Elizabeth Warren",
          "Elizabeth Warren",
          "Elizabeth Warren",
          "Elizabeth Warren",
          "Elizabeth Warren",
          "Elizabeth Warren",
          "Elizabeth Warren",
          "Elizabeth Warren",
          "Elizabeth Warren",
          "Elizabeth Warren",
          "Elizabeth Warren",
          "Elizabeth Warren",
          "Elizabeth Warren",
          "Elizabeth Warren",
          "Elizabeth Warren",
          "Elizabeth Warren",
          "Elizabeth Warren",
          "Elizabeth Warren",
          "Elizabeth Warren",
          "Elizabeth Warren",
          "Elizabeth Warren",
          "Elizabeth Warren",
          "Elizabeth Warren",
          "Elizabeth Warren",
          "Elizabeth Warren",
          "Elizabeth Warren",
          "Elizabeth Warren",
          "Elizabeth Warren",
          "Elizabeth Warren",
          "Elizabeth Warren",
          "Elizabeth Warren",
          "Elizabeth Warren",
          "Elizabeth Warren",
          "Elizabeth Warren",
          "Elizabeth Warren",
          "Elizabeth Warren",
          "Elizabeth Warren",
          "Elizabeth Warren",
          "Elizabeth Warren",
          "Elizabeth Warren",
          "Elizabeth Warren",
          "Elizabeth Warren",
          "Elizabeth Warren",
          "Elizabeth Warren",
          "Elizabeth Warren",
          "Elizabeth Warren",
          "Elizabeth Warren",
          "Elizabeth Warren",
          "Elizabeth Warren",
          "Elizabeth Warren",
          "Elizabeth Warren",
          "Elizabeth Warren",
          "Elizabeth Warren",
          "Elizabeth Warren",
          "Elizabeth Warren",
          "Elizabeth Warren",
          "Elizabeth Warren",
          "Elizabeth Warren",
          "Elizabeth Warren",
          "Elizabeth Warren",
          "Elizabeth Warren",
          "Elizabeth Warren",
          "Elizabeth Warren",
          "Elizabeth Warren",
          "Elizabeth Warren",
          "Elizabeth Warren",
          "Elizabeth Warren",
          "Elizabeth Warren",
          "Elizabeth Warren",
          "Elizabeth Warren",
          "Elizabeth Warren",
          "Elizabeth Warren",
          "Elizabeth Warren",
          "Elizabeth Warren",
          "Elizabeth Warren",
          "Elizabeth Warren",
          "Elizabeth Warren",
          "Elizabeth Warren",
          "Elizabeth Warren",
          "Elizabeth Warren",
          "Elizabeth Warren",
          "Elizabeth Warren",
          "Elizabeth Warren",
          "Elizabeth Warren",
          "Elizabeth Warren",
          "Elizabeth Warren",
          "Elizabeth Warren",
          "Elizabeth Warren",
          "Elizabeth Warren",
          "Elizabeth Warren",
          "Elizabeth Warren",
          "Elizabeth Warren",
          "Elizabeth Warren",
          "Elizabeth Warren",
          "Elizabeth Warren",
          "Elizabeth Warren",
          "Elizabeth Warren",
          "Elizabeth Warren",
          "Elizabeth Warren",
          "Elizabeth Warren",
          "Elizabeth Warren",
          "Elizabeth Warren",
          "Elizabeth Warren",
          "Elizabeth Warren",
          "Elizabeth Warren",
          "Elizabeth Warren",
          "Elizabeth Warren",
          "Elizabeth Warren",
          "Elizabeth Warren",
          "Elizabeth Warren",
          "Elizabeth Warren",
          "Elizabeth Warren",
          "Elizabeth Warren",
          "Elizabeth Warren",
          "Elizabeth Warren",
          "Elizabeth Warren",
          "Elizabeth Warren",
          "Elizabeth Warren",
          "Elizabeth Warren",
          "Elizabeth Warren",
          "Elizabeth Warren",
          "Elizabeth Warren",
          "Elizabeth Warren",
          "Elizabeth Warren",
          "Elizabeth Warren",
          "Elizabeth Warren",
          "Elizabeth Warren",
          "Elizabeth Warren",
          "Elizabeth Warren",
          "Elizabeth Warren",
          "Elizabeth Warren",
          "Elizabeth Warren",
          "Elizabeth Warren",
          "Elizabeth Warren",
          "Elizabeth Warren",
          "Elizabeth Warren",
          "Elizabeth Warren",
          "Elizabeth Warren",
          "Elizabeth Warren",
          "Elizabeth Warren",
          "Elizabeth Warren",
          "Elizabeth Warren",
          "Elizabeth Warren",
          "Elizabeth Warren",
          "Elizabeth Warren",
          "Elizabeth Warren",
          "Elizabeth Warren",
          "Elizabeth Warren",
          "Elizabeth Warren",
          "Elizabeth Warren",
          "Elizabeth Warren",
          "Elizabeth Warren",
          "Elizabeth Warren",
          "Elizabeth Warren",
          "Elizabeth Warren",
          "Elizabeth Warren",
          "Elizabeth Warren",
          "Elizabeth Warren",
          "Elizabeth Warren",
          "Elizabeth Warren",
          "Elizabeth Warren",
          "Elizabeth Warren",
          "Elizabeth Warren",
          "Elizabeth Warren",
          "Elizabeth Warren",
          "Elizabeth Warren",
          "Elizabeth Warren",
          "Elizabeth Warren",
          "Elizabeth Warren",
          "Elizabeth Warren",
          "Elizabeth Warren",
          "Elizabeth Warren",
          "Elizabeth Warren",
          "Elizabeth Warren",
          "Elizabeth Warren",
          "Elizabeth Warren",
          "Elizabeth Warren",
          "Elizabeth Warren",
          "Elizabeth Warren",
          "Elizabeth Warren",
          "Elizabeth Warren",
          "Elizabeth Warren",
          "Elizabeth Warren",
          "Elizabeth Warren",
          "Elizabeth Warren",
          "Elizabeth Warren",
          "Elizabeth Warren",
          "Elizabeth Warren",
          "Elizabeth Warren",
          "Elizabeth Warren",
          "Elizabeth Warren",
          "Elizabeth Warren",
          "Elizabeth Warren",
          "Elizabeth Warren",
          "Elizabeth Warren",
          "Elizabeth Warren"
         ],
         "legendgroup": "Elizabeth Warren",
         "marker": {
          "color": "#00cc96",
          "size": [
           19.648,
           14.576,
           37.432,
           6.549,
           9.100999999999999,
           26.467000000000002,
           9.529,
           13.645,
           5.7509999999999994,
           19.296,
           21.815,
           7.263999999999999,
           11.847000000000001,
           18.34,
           2.365,
           22.575,
           17.598,
           5.74,
           5.021,
           18.34,
           12.409,
           18.549,
           24.13,
           30.879,
           9.507,
           25.478,
           47.522999999999996,
           34.788999999999994,
           12.062000000000001,
           4.825,
           21.07,
           9.549000000000001,
           28.349000000000004,
           17.598,
           7.114,
           5.252,
           13.645,
           11.007,
           19.266,
           12.408,
           28.352,
           3.031,
           10.123,
           15.369,
           20.964,
           6.8229999999999995,
           23.439,
           8.790000000000001,
           24.895999999999997,
           11.136,
           5.3870000000000005,
           6.9750000000000005,
           6.549,
           10.832,
           5.356000000000001,
           86.601,
           8.538,
           23.011,
           12.863,
           39.96,
           19.774,
           18.85,
           10.641,
           7.321999999999999,
           57.614,
           6.619,
           12.409,
           3.755,
           46.766999999999996,
           6.9750000000000005,
           9.706,
           6.9750000000000005,
           4.5409999999999995,
           17.598,
           0.661,
           11.136,
           6.9750000000000005,
           6.9750000000000005,
           5.953,
           18.34,
           9.549000000000001,
           20.59,
           12.062000000000001,
           7.808,
           5.756,
           11.136,
           66.52799999999999,
           26.716,
           18.478,
           7.6770000000000005,
           17.776,
           10.832,
           75.681,
           6.903,
           11.007,
           15.293999999999999,
           12.863,
           9.991,
           23.131,
           17.598,
           19.774,
           6.9750000000000005,
           18.478,
           23.169,
           43.497,
           12.342,
           43.626,
           5.7509999999999994,
           6.848,
           6.848,
           31.395,
           12.409,
           7.957,
           20.315,
           61.446,
           75.885,
           49.788,
           49.788,
           40.268,
           41.485,
           12.405,
           12.145999999999999,
           50.425,
           6.9750000000000005,
           32.182,
           4.095,
           49.788,
           49.788,
           49.788,
           10.832,
           49.788,
           49.788,
           49.788,
           7.713,
           12.443999999999999,
           41.485,
           31.705,
           7.768,
           49.788,
           49.788,
           17.095,
           49.788,
           27.837,
           49.788,
           49.788,
           49.788,
           49.788,
           28.951999999999998,
           11.924999999999999,
           30.961,
           12.151,
           2.7,
           10.808,
           12.793,
           49.788,
           12.405,
           6.787,
           49.788,
           6.9750000000000005,
           49.788,
           49.788,
           49.788,
           49.788,
           22.342000000000002,
           49.788,
           8.731,
           37.186,
           16.145,
           49.788,
           20.315,
           49.788,
           17.095,
           6.537,
           10.691,
           1.737,
           10.645,
           72.262,
           10.832,
           41.485,
           18.457,
           11.126999999999999,
           10.691,
           38.259,
           4.3180000000000005,
           6.9750000000000005,
           95.086,
           21.848,
           6.762,
           21.005,
           53.271,
           20.474999999999998,
           2.823,
           24.813,
           18.259,
           7.974,
           16.24,
           7.369000000000001,
           36.912,
           23.531,
           7.149
          ],
          "sizemode": "area",
          "sizeref": 0.24465,
          "symbol": "circle"
         },
         "mode": "markers",
         "name": "Elizabeth Warren",
         "showlegend": true,
         "type": "scatter",
         "x": [
          0.08523,
          0.06854,
          0.3922,
          0.07066,
          0.19413,
          0.13061,
          0.07089,
          0.17563,
          0.08504,
          0.16995,
          0.17352,
          0.04759,
          0.09448,
          0.26153,
          0.02978,
          0.21711,
          0.16715,
          0.06132,
          0.05204,
          0.26153,
          0.09712,
          0.2188,
          0.23222,
          0.1595,
          0.1417,
          0.22936,
          0.67935,
          0.21189,
          0.19591,
          0.04995,
          0.14933,
          0.0398,
          0.2278,
          0.16715,
          0.08049,
          0.05707,
          0.17563,
          0.11455,
          0.05929,
          0.11827,
          0.31547,
          0.01799,
          0.10272,
          0.1711,
          0.32469,
          0.08239,
          0.28235,
          0.0801,
          0.10348,
          0.1265,
          0.05123,
          0.12185,
          0.07066,
          0.11394,
          0.04795,
          0.27026,
          0.08577,
          0.17386,
          0.13923,
          0.3476,
          0.21793,
          0.17242,
          0.11901,
          0.09414,
          0.20994,
          0.10163,
          0.09712,
          0.05062,
          0.39573,
          0.12185,
          0.08821,
          0.12185,
          0.05903,
          0.16715,
          0.03221,
          0.1265,
          0.12185,
          0.12185,
          0.0828,
          0.26153,
          0.0398,
          0.28008,
          0.19591,
          0.08217,
          0.04516,
          0.1265,
          0.43419,
          0.2123,
          0.19716,
          0.0436,
          0.26347,
          0.11394,
          0.08249,
          0.05342,
          0.11455,
          0.23613,
          0.13923,
          0.12029,
          0.13598,
          0.16715,
          0.21793,
          0.12185,
          0.19716,
          0.25992,
          0.2595,
          0.19114,
          0.24556,
          0.08504,
          0.06647,
          0.06647,
          0.1628,
          0.09712,
          0.09046,
          0.16528,
          0.41581,
          0.53485,
          0.47954,
          0.47954,
          0.60803,
          0.59811,
          0.14929,
          0.12568,
          0.5016,
          0.12185,
          0.4504,
          0.07196,
          0.47954,
          0.47954,
          0.47954,
          0.11394,
          0.47954,
          0.47954,
          0.47954,
          0.101,
          0.16977,
          0.59811,
          0.29337,
          0.08114,
          0.47954,
          0.47954,
          0.25171,
          0.47954,
          0.24034,
          0.47954,
          0.47954,
          0.47954,
          0.47954,
          0.32667,
          0.13569,
          0.44228,
          0.11553,
          0.01849,
          0.08247,
          0.10932,
          0.47954,
          0.14929,
          0.09711,
          0.47954,
          0.12185,
          0.47954,
          0.47954,
          0.47954,
          0.47954,
          0.15535,
          0.47954,
          0.04865,
          0.2838,
          0.1345,
          0.47954,
          0.16528,
          0.47954,
          0.25171,
          0.06464,
          0.117,
          0.06916,
          0.13346,
          0.68858,
          0.11394,
          0.59811,
          0.25585,
          0.0953,
          0.117,
          0.43404,
          0.03372,
          0.12185,
          0.7208,
          0.1123,
          0.05562,
          0.03775,
          0.71584,
          0.16772,
          0.03194,
          0.53357,
          0.1597,
          0.09091,
          0.19128,
          0.06998,
          0.21997,
          0.28397,
          0.1027
         ],
         "xaxis": "x",
         "y": [
          0.19648,
          0.14576,
          0.37432,
          0.06549,
          0.09101,
          0.26467,
          0.09529,
          0.13645,
          0.05751,
          0.19296,
          0.21815,
          0.07264,
          0.11847,
          0.1834,
          0.02365,
          0.22575,
          0.17598,
          0.0574,
          0.05021,
          0.1834,
          0.12409,
          0.18549,
          0.2413,
          0.30879,
          0.09507,
          0.25478,
          0.47523,
          0.34789,
          0.12062,
          0.04825,
          0.2107,
          0.09549,
          0.28349,
          0.17598,
          0.07114,
          0.05252,
          0.13645,
          0.11007,
          0.19266,
          0.12408,
          0.28352,
          0.03031,
          0.10123,
          0.15369,
          0.20964,
          0.06823,
          0.23439,
          0.0879,
          0.24896,
          0.11136,
          0.05387,
          0.06975,
          0.06549,
          0.10832,
          0.05356,
          0.86601,
          0.08538,
          0.23011,
          0.12863,
          0.3996,
          0.19774,
          0.1885,
          0.10641,
          0.07322,
          0.57614,
          0.06619,
          0.12409,
          0.03755,
          0.46767,
          0.06975,
          0.09706,
          0.06975,
          0.04541,
          0.17598,
          0.00661,
          0.11136,
          0.06975,
          0.06975,
          0.05953,
          0.1834,
          0.09549,
          0.2059,
          0.12062,
          0.07808,
          0.05756,
          0.11136,
          0.66528,
          0.26716,
          0.18478,
          0.07677,
          0.17776,
          0.10832,
          0.75681,
          0.06903,
          0.11007,
          0.15294,
          0.12863,
          0.09991,
          0.23131,
          0.17598,
          0.19774,
          0.06975,
          0.18478,
          0.23169,
          0.43497,
          0.12342,
          0.43626,
          0.05751,
          0.06848,
          0.06848,
          0.31395,
          0.12409,
          0.07957,
          0.20315,
          0.61446,
          0.75885,
          0.49788,
          0.49788,
          0.40268,
          0.41485,
          0.12405,
          0.12146,
          0.50425,
          0.06975,
          0.32182,
          0.04095,
          0.49788,
          0.49788,
          0.49788,
          0.10832,
          0.49788,
          0.49788,
          0.49788,
          0.07713,
          0.12444,
          0.41485,
          0.31705,
          0.07768,
          0.49788,
          0.49788,
          0.17095,
          0.49788,
          0.27837,
          0.49788,
          0.49788,
          0.49788,
          0.49788,
          0.28952,
          0.11925,
          0.30961,
          0.12151,
          0.027,
          0.10808,
          0.12793,
          0.49788,
          0.12405,
          0.06787,
          0.49788,
          0.06975,
          0.49788,
          0.49788,
          0.49788,
          0.49788,
          0.22342,
          0.49788,
          0.08731,
          0.37186,
          0.16145,
          0.49788,
          0.20315,
          0.49788,
          0.17095,
          0.06537,
          0.10691,
          0.01737,
          0.10645,
          0.72262,
          0.10832,
          0.41485,
          0.18457,
          0.11127,
          0.10691,
          0.38259,
          0.04318,
          0.06975,
          0.95086,
          0.21848,
          0.06762,
          0.21005,
          0.53271,
          0.20475,
          0.02823,
          0.24813,
          0.18259,
          0.07974,
          0.1624,
          0.07369,
          0.36912,
          0.23531,
          0.07149
         ],
         "yaxis": "y"
        },
        {
         "customdata": [
          [
           "@realDonaldTrump your fuckbag  bitch, Sanders, must be getting a pretty penny from you.\nGood job on hollowing out our nation's laws to make "
          ],
          [
           "@BernieSanders 2016: Hillary made millions writing books &amp; giving speeches, she is a corporate whore!\n\n@SenSanders 2019: I wrote a book,"
          ],
          [
           "@BernieSanders 2016: Hillary made millions writing books &amp; giving speeches, she is a corporate whore!\n\n@SenSanders 2019: I wrote a book,"
          ],
          [
           "@BernieSanders 2016: Hillary made millions writing books &amp; giving speeches, she is a corporate whore!\n\n@SenSanders 2019: I wrote a book,"
          ],
          [
           "@BernieSanders 2016: Hillary made millions writing books &amp; giving speeches, she is a corporate whore!\n\n@SenSanders 2019: I wrote a book,"
          ],
          [
           "@BernieSanders 2016: Hillary made millions writing books &amp; giving speeches, she is a corporate whore!\n\n@SenSanders 2019: I wrote a book,"
          ],
          [
           "@BernieSanders 2016: Hillary made millions writing books &amp; giving speeches, she is a corporate whore!\n\n@SenSanders 2019: I wrote a book,"
          ],
          [
           "@HillReporter LYING BITCH SANDERS\nWILL BURN LONG IN HELL ACTUALLY HAPPENS WHEN\nDEATH BEGINS\nSURVIVORS REPORT REPEATEDLY\nINTERESTING RESEARCH"
          ],
          [
           "@HillReporter LYING BITCH SANDERS\nWILL BURN LONG IN HELL ACTUALLY HAPPENS WHEN\nDEATH BEGINS\nSURVIVORS REPORT REPEATEDLY\nINTERESTING RESEARCH"
          ],
          [
           "LMAO YES GET THAT BITCH. Bernie Sanders is that bitch and I support 100% https://t.co/nZvMJIBt3q"
          ],
          [
           "@taznum8 @ReginaA1981 @smileyt22 @DmitrysPlane @Anootchka @master_deli @OmartheWonder @mattrellen @rick_sl8 @MarvinKey74 @NudelHalbWeiner @k"
          ],
          [
           "Presidential candidate Bernie \"Fuck This Bitch\" Sanders https://t.co/emEEESY4GJ"
          ],
          [
           "Presidential candidate Bernie \"Fuck This Bitch\" Sanders https://t.co/emEEESY4GJ"
          ],
          [
           "@krassenstein Yes wAke the fuck up! \nOnce one get the taste of money all bets are off \nREMINDER:  Kremlin whore Bernie Sanders(I) also refus"
          ],
          [
           "Bernie Sanders and wife should pay the Pre-Trump Taxes on their almost $600,000 in income. He is always complaining about these big TAX CUTS"
          ],
          [
           "@cenkuygur @SpeakerPelosi @IlhanMN @SenSanders @SpeakerPelosi is the de facto leader of the Nation and if she says your man @SenSanders isn’"
          ],
          [
           "@HillaryWarnedUs Wait —the opening sentence :: Independent Vermont senator and Democratic presidential candidate Bernie Sanders is calling f"
          ],
          [
           "How, some Wall Street “Democrats are beginning to ask, do they thwart a 70-something candidate from outside the party structure who is immun"
          ],
          [
           "Many Trump Fans &amp; Signs were outside of the @FoxNews Studio last night in the now thriving (Thank you President Trump) Bethlehem, Pennsy"
          ],
          [
           "Many Trump Fans &amp; Signs were outside of the @FoxNews Studio last night in the now thriving (Thank you President Trump) Bethlehem, Pennsy"
          ],
          [
           "Just like Bernie Sanders deported your ass out the room?! https://t.co/iVjXPHKcRj"
          ],
          [
           "Many Trump Fans &amp; Signs were outside of the @FoxNews Studio last night in the now thriving (Thank you President Trump) Bethlehem, Pennsy"
          ],
          [
           "Many Trump Fans &amp; Signs were outside of the @FoxNews Studio last night in the now thriving (Thank you President Trump) Bethlehem, Pennsy"
          ],
          [
           "Bernie Sanders has released his tax returns for the last ten years. They show that he actually became a millionaire by telling you how evil "
          ],
          [
           "Many Trump Fans &amp; Signs were outside of the @FoxNews Studio last night in the now thriving (Thank you President Trump) Bethlehem, Pennsy"
          ],
          [
           "Just like Bernie Sanders deported your ass out the room?! https://t.co/iVjXPHKcRj"
          ],
          [
           "Bernie Sanders and wife should pay the Pre-Trump Taxes on their almost $600,000 in income. He is always complaining about these big TAX CUTS"
          ],
          [
           "Many Trump Fans &amp; Signs were outside of the @FoxNews Studio last night in the now thriving (Thank you President Trump) Bethlehem, Pennsy"
          ],
          [
           "Bernie Sanders and wife should pay the Pre-Trump Taxes on their almost $600,000 in income. He is always complaining about these big TAX CUTS"
          ],
          [
           "Trump Tax Law Saved Sanders Nearly $40,000 Last Year https://t.co/wLtYpReLyu via @CharlesFLehman"
          ],
          [
           "BERNIE SANDERS IS DOING REALLY WELL UNDER DEMS TICKET NO NO BERNIE ATTACKS WE MUST WIN THE WHITE HOUSE PERIOD IF YOU ATTACK I WILL BLOCK YOU"
          ],
          [
           "@realDonaldTrump @FoxNews @BretBaier @donnabrazile Bernie Sanders attacks Trump on Fox News calling him a ‘pathalogical liar’ as Brett Baier"
          ],
          [
           "Bernie Sanders and wife should pay the Pre-Trump Taxes on their almost $600,000 in income. He is always complaining about these big TAX CUTS"
          ],
          [
           "@ROCKONOHIO @pinkk9lover @SenSanders @AppSame @skb_sara @LVNancy @LibsHateGrizz @KatTheHammer1 @magastorybook @buzzman888 @GaetaSusan @Choos"
          ],
          [
           "Just like Bernie Sanders deported your ass out the room?! https://t.co/iVjXPHKcRj"
          ],
          [
           "I believe it will be Crazy Bernie Sanders vs. Sleepy Joe Biden as the two finalists to run against maybe the best Economy in the history of "
          ],
          [
           "@ezraklein Agree. A big factor is that Democratic elites respond first and most to power, so as he's grown in power, they've accomadated the"
          ],
          [
           "Unpopular opinion: @BernieSanders is really not much different than @realdonaldtrump. Aside from some policy differences that neither would "
          ],
          [
           "IT'S ON! https://t.co/aBmfzeDoQU https://t.co/FAyIuwL0Uw"
          ],
          [
           "WATCH: Bernie Sanders Has Infowars Reporter Booted From Public Event For Most Ironic Reason Ever https://t.co/LkIfFXfDrs"
          ],
          [
           "Speaking as a Catholic here…please don't donate to help Notre Dame. The Church is worth $30 billion. Donate to help Puerto Rico recover. Don"
          ],
          [
           "@morningmika I cringe when you promote Bernie Sanders. You are going to be disappointed. Stay woke because he will not be the nominee."
          ],
          [
           "RT if you believe Bernie Sanders should give away two of his three houses to charity and his millions of dollars before he dares tell anyone"
          ],
          [
           "I believe it will be Crazy Bernie Sanders vs. Sleepy Joe Biden as the two finalists to run against maybe the best Economy in the history of "
          ],
          [
           "Asked if he's smart enough to see Trump's taxes, Rep. Brad Sherman tells CNN: \"I'm surprised to see Sarah Sanders talking about intelligence"
          ],
          [
           "I believe it will be Crazy Bernie Sanders vs. Sleepy Joe Biden as the two finalists to run against maybe the best Economy in the history of "
          ],
          [
           "Tonight Bernie Sanders said that he thinks infanticide is okay and that rapists and murderers deserve the right to vote from prison.\n\nThis i"
          ],
          [
           "I believe it will be Crazy Bernie Sanders vs. Sleepy Joe Biden as the two finalists to run against maybe the best Economy in the history of "
          ],
          [
           "Alex Jones on Bernie Sanders calling InfoWars a white supremacist organization: \"It's lawsuit time\""
          ],
          [
           "Prediction hum, “PAIN”. Lol🤣🤣 https://t.co/85CUupdgHW"
          ],
          [
           "Bernie Sanders and wife should pay the Pre-Trump Taxes on their almost $600,000 in income. He is always complaining about these big TAX CUTS"
          ],
          [
           "Bernie Sanders and wife should pay the Pre-Trump Taxes on their almost $600,000 in income. He is always complaining about these big TAX CUTS"
          ],
          [
           "Leading 2020 Dem contender Bernie Sanders incited violence against female reporters for Infowars by falsely labeling them “white nationalist"
          ],
          [
           "@ezraklein Not ONE person who didn’t vote for Bernie Sanders in 2016 is slightly interested in voting for him now that we all know he receiv"
          ],
          [
           "Try me! https://t.co/jX9smC3sHD"
          ],
          [
           "Bernie Sanders and wife should pay the Pre-Trump Taxes on their almost $600,000 in income. He is always complaining about these big TAX CUTS"
          ],
          [
           "Bernie Sanders on how he got so rich: \"I wrote a best-selling book. If you write a best-selling book, you can be a millionaire, too.” \n\nYou "
          ],
          [
           "It's On! Trump Predicts It Will Be \"Crazy Bernie Sanders\" vs \"Sleepy Joe Biden\" As Two Dem 2020 Finalists, \"May God Rest Their Soul!\" https:"
          ],
          [
           "Bernie Sanders and wife should pay the Pre-Trump Taxes on their almost $600,000 in income. He is always complaining about these big TAX CUTS"
          ],
          [
           "Bernie Sanders and wife should pay the Pre-Trump Taxes on their almost $600,000 in income. He is always complaining about these big TAX CUTS"
          ],
          [
           "@SenSanders You being one of the wealthy tribe, is this an admission of guilt?"
          ],
          [
           "Bernie Sanders Town Hall Recap https://t.co/RB6iA2qmTe"
          ],
          [
           "Many Trump Fans &amp; Signs were outside of the @FoxNews Studio last night in the now thriving (Thank you President Trump) Bethlehem, Pennsy"
          ],
          [
           "Just like Bernie Sanders deported your ass out the room?! https://t.co/iVjXPHKcRj"
          ],
          [
           "Many Trump Fans &amp; Signs were outside of the @FoxNews Studio last night in the now thriving (Thank you President Trump) Bethlehem, Pennsy"
          ],
          [
           "By Brendan Hoover\n\nBernie Sanders (I-VT) is hosted at a Fox News Townhall. The senator talks again about his much touted wealth tax. Here's "
          ],
          [
           "I'm sick of seeing right-wing media reporting headlines like \"Beto O'Rourke only donated 1% of his income to charity,\" or \"Bernie Sanders on"
          ],
          [
           "I believe it will be Crazy Bernie Sanders vs. Sleepy Joe Biden as the two finalists to run against maybe the best Economy in the history of "
          ],
          [
           "Bernie Sanders and wife should pay the Pre-Trump Taxes on their almost $600,000 in income. He is always complaining about these big TAX CUTS"
          ],
          [
           "Many Trump Fans &amp; Signs were outside of the @FoxNews Studio last night in the now thriving (Thank you President Trump) Bethlehem, Pennsy"
          ],
          [
           "Just like Bernie Sanders deported your ass out the room?! https://t.co/iVjXPHKcRj"
          ],
          [
           "Warmed over 1960's Socialist hash and/or The Foul Mouthed Groper. The \"Favorites\" in the upcoming Leftist Run.\n https://t.co/45rWnO8Fow via "
          ],
          [
           "Bernie Sanders Tries To Slap Fox Host Back During Awkward Town Hall, Her Response Was Golden https://t.co/l35vHxYyQ9"
          ],
          [
           "Joe Scarborough is advising Democrats to go on Fox News like Bernie Sanders did last night. Out of curiosity, I checked out Fox News this mo"
          ],
          [
           "Bernie Sanders and wife should pay the Pre-Trump Taxes on their almost $600,000 in income. He is always complaining about these big TAX CUTS"
          ],
          [
           "There’s no bigger fraud in politics than limousine lib Bernie Sanders. He refuses to pay the tax rates he wants working class Americans to p"
          ],
          [
           "I believe it will be Crazy Bernie Sanders vs. Sleepy Joe Biden as the two finalists to run against maybe the best Economy in the history of "
          ],
          [
           "Many Trump Fans &amp; Signs were outside of the @FoxNews Studio last night in the now thriving (Thank you President Trump) Bethlehem, Pennsy"
          ],
          [
           "@realDonaldTrump Is Bernie Sanders wife still under investigation for bank fraud?"
          ],
          [
           "Bernie Sanders released 10 years of his tax returns just prior to a Fox News town hall event in Pennsylvania Monday, which showed that he ha"
          ],
          [
           "Rep. Brad Sherman on Sarah Sanders saying \"Congress is not smart enough for Trump's tax returns\" \n\n\"I'm surprised to see Sarah Sanders talki"
          ],
          [
           "@BitchyPundit @Rhonda_Painter @sandrakimdone @stucam7771 How much did Bernie Sanders accept from the NRA and other dubious sources? I see a "
          ],
          [
           "Just like Bernie Sanders deported your ass out the room?! https://t.co/iVjXPHKcRj"
          ],
          [
           "Bernie Sanders and wife should pay the Pre-Trump Taxes on their almost $600,000 in income. He is always complaining about these big TAX CUTS"
          ],
          [
           "MEETINGS BY DEMOCRATIC PARTY CONSPIRING TO STOP BERNIE SANDERS ATTENDED BY THE FOLLOWING:\n Nancy Pelosi; Senator Chuck Schumer, the majority"
          ],
          [
           "BREAKING:  Fox News drew almost 2.6 million viewers for the Bernie Sanders Town Hall.  This surpasses many of Fox News' broadcasts of Trump "
          ],
          [
           "Rep. Brad Sherman on Sarah Sanders saying \"Congress is not smart enough for Trump's tax returns\" \n\n\"I'm surprised to see Sarah Sanders talki"
          ],
          [
           "@BethLew85934715 @ndesigner @daveweigel @SenSanders Russia boosted Sanders because- divide and conquer. Divide the nation with chaos, promot"
          ],
          [
           "House Democrat: If Sarah Sanders cared about intelligence, \"she probably would have chosen another employer\" https://t.co/j52ChA3WAV https:/"
          ],
          [
           "The NYT makes clear that the worst Dems in Washington - led by the incomparably scummy David Brock, oligarchical Dem financiers and (no intr"
          ],
          [
           "@briebriejoy We will never forget that Kremlin whore Bernie Sanders(I) campaigned to make our first African American President @BarackObama "
          ],
          [
           "If the D party backed Sanders instead of Biden they would have an excellent chance of defeating Trump but evidently the donors prefer the fa"
          ],
          [
           "The most prominent, self-avowed socialist in US politics, Bernie Sanders is a millionaire who's never held a job outside of public office.\nH"
          ],
          [
           "Bernie Sanders isn’t a Democrat nor is his purpose is to win but act as a wedge to divide and ultimately cause the Democrats to lose in 2020"
          ],
          [
           "@A_M_Dolan Again, I disagree because of the nature of that video.  I value TP which is why it was a noteworthy event before Sanders’ respons"
          ],
          [
           "Bernie Sanders Donated Less Than One Percent to Charity First Year He Made Over One Million Dollars - Tennessee Star https://t.co/A2d7Ihxxah"
          ],
          [
           "I believe it will be Crazy Bernie Sanders vs. Sleepy Joe Biden as the two finalists to run against maybe the best Economy in the history of "
          ],
          [
           "Asked if he's smart enough to see Trump's taxes, Rep. Brad Sherman tells CNN: \"I'm surprised to see Sarah Sanders talking about intelligence"
          ],
          [
           "Legit gap matters\n-Wall St interests behind centrist Dems *are* against Sanders' agenda\n-Bernie more likely to beat Trump than any candidate"
          ],
          [
           "Trump has tweeted about Bernie Sanders 4 times in less than 12 hours (3 of those in just the last hour). It seems Bernie has gotten under Tr"
          ],
          [
           "Is there a bigger fraud in politics than Bernie Sanders? Not only does he fail to pay the high tax rates he wants to impose on working Ameri"
          ],
          [
           "Bernie Sanders and wife should pay the Pre-Trump Taxes on their almost $600,000 in income. He is always complaining about these big TAX CUTS"
          ],
          [
           "@Xeynon @Noahpinion @delong @robertwaldmann @paulkrugman @neeratanden time to update your data https://t.co/ScGMQtFFI4"
          ],
          [
           "I believe it will be Crazy Bernie Sanders vs. Sleepy Joe Biden as the two finalists to run against maybe the best Economy in the history of "
          ],
          [
           "Bernie Sanders and wife should pay the Pre-Trump Taxes on their almost $600,000 in income. He is always complaining about these big TAX CUTS"
          ],
          [
           "And her success so far with large donors in California still has not been enough to offset her rivals' advantages elsewhere. President Trump"
          ],
          [
           "Elizabeth Warren's new climate change and public lands plan calls for leaving federal fossil fuel reserves in the ground and boosting renewa"
          ],
          [
           "Just like Bernie Sanders deported your ass out the room?! https://t.co/iVjXPHKcRj"
          ],
          [
           "Is there a bigger fraud in politics than Bernie Sanders? Not only does he fail to pay the high tax rates he wants to impose on working Ameri"
          ],
          [
           "How a 78-year-old Indian-American mom became collateral damage in a messy fight between Sanders and Clinton supporters ... https://t.co/P5m6"
          ],
          [
           "The NYT makes clear that the worst Dems in Washington - led by the incomparably scummy David Brock, oligarchical Dem financiers and (no intr"
          ],
          [
           "“Households headed by a ‘conservative’ give, on average, 30 percent more dollars to charity than households headed by a ‘liberal.’ This disc"
          ],
          [
           "Counterpoint: most Democrats running for president have no proposed foreign policy whatsoever (exceptions: Warren, Sanders, Gabbard). https:"
          ],
          [
           "Is Senator Bernie Sanders (I-VT) sharing his wealth with you like a good socialist?"
          ],
          [
           "@realDonaldTrump @FoxNews @BretBaier @donnabrazile Bernie Sanders attacks Trump on Fox News calling him a ‘pathalogical liar’ as Brett Baier"
          ],
          [
           "I'm sick of seeing right-wing media reporting headlines like \"Beto O'Rourke only donated 1% of his income to charity,\" or \"Bernie Sanders on"
          ],
          [
           "RT ONLY \n🚨ATTENTION DEMOCRATS🚨\n.@ericswalwell \n@RepSwalwell \n@SenKamalaHarris \n@CoryBooker \n@SenSanders \n@BernieSanders 👈Locos\n@ewarren 👈Poc"
          ],
          [
           "Just like Bernie Sanders deported your ass out the room?! https://t.co/iVjXPHKcRj"
          ],
          [
           "Bernie Sanders is a liar and a fraud he is a multi-millionaire but when he goes to his rallies he wears his old suit which he bought at Good"
          ],
          [
           "Only in America...can a person become a MILLIONAIRE from writing a book about the EVIL'S of CAPITALISM!!!  Isn't THAT right, Bernie? We'll n"
          ],
          [
           "Asked if he's smart enough to see Trump's taxes, Rep. Brad Sherman tells CNN: \"I'm surprised to see Sarah Sanders talking about intelligence"
          ],
          [
           "REPORT: Bernie Sanders reaped huge profit from Trump tax law last year https://t.co/eusJYfIrVu"
          ],
          [
           "@krassenstein @realDonaldTrump @FoxNews Donald Trump is jealous that people actually like Bernie Sanders."
          ],
          [
           "Bernie Sanders and wife should pay the Pre-Trump Taxes on their almost $600,000 in income. He is always complaining about these big TAX CUTS"
          ],
          [
           "@realDonaldTrump GET TO WORK!!! @SpeakerPelosi @AdamSchiff @SenFeinstein @SenSchumer @SenateGOP @SenKamalaHarris @SenToniAtkins @SenSanders "
          ],
          [
           "Yeah cnn... right...big news... https://t.co/8rXAMTfgOy"
          ],
          [
           "People can tout Bernie Sanders all they want but he is a tool to dismember the Democratic Party\n\nWhile, I may agree with some progressive po"
          ],
          [
           "Do you support Bernie Sanders as a presidential candidate for the Democratic Party? After vote, please RT"
          ],
          [
           "Just went to the #BernieTownHall and the crowd was ENAMORED by him. The positive energy in the room was contagious. I think this was a real "
          ],
          [
           "Many Trump Fans &amp; Signs were outside of the @FoxNews Studio last night in the now thriving (Thank you President Trump) Bethlehem, Pennsy"
          ],
          [
           "Is there a bigger fraud in politics than Bernie Sanders? Not only does he fail to pay the high tax rates he wants to impose on working Ameri"
          ],
          [
           "Is there a bigger fraud in politics than Bernie Sanders? Not only does he fail to pay the high tax rates he wants to impose on working Ameri"
          ],
          [
           "Many Trump Fans &amp; Signs were outside of the @FoxNews Studio last night in the now thriving (Thank you President Trump) Bethlehem, Pennsy"
          ],
          [
           "Bernie Sanders says he does not want his policies to add to the national debt https://t.co/DPIFWq2ooq @FoxNews #AAG"
          ],
          [
           "Gun Girl Kaitlin Bennett was kicked out of Bernie Sanders town hall in Ohio.\nHow scared is Bernie's campaign that they won't allow a 5'3 gir"
          ],
          [
           "Many Trump Fans &amp; Signs were outside of the @FoxNews Studio last night in the now thriving (Thank you President Trump) Bethlehem, Pennsy"
          ],
          [
           "Is there a bigger fraud in politics than Bernie Sanders? Not only does he fail to pay the high tax rates he wants to impose on working Ameri"
          ],
          [
           "Limousine Lib Bernie Sanders wants to cut the “middle man” out of healthcare while simultaneously advocating to insert the biggest “middle m"
          ],
          [
           "@realDonaldTrump Bernie Sanders should donate 70% of his wealth to the Federal Government to show he's sincere about his policies. Otherwise"
          ],
          [
           "“Households headed by a ‘conservative’ give, on average, 30 percent more dollars to charity than households headed by a ‘liberal.’ This disc"
          ],
          [
           "@JillFilipovic With all due respect, having a closed door meeting specific to stoping Sanders is pretty nefarious. It's true. It happened an"
          ],
          [
           "@rholdenon If you don't mind me asking you, as an \"intense GOPer\" would you have voted for the Republican nominee Dwight D. Eisenhower?\nYou "
          ],
          [
           "Trump saying “May God Rest Their Soul” to the very much alive Biden &amp; Sanders, but not to the late John McCain, is arguably the most Tru"
          ],
          [
           "Sanders refuses to answer for any thing he has done, makes excuses, deflects, gets angry &amp; then goes back to his 50 year old talking poi"
          ],
          [
           "Bernie Sanders and wife should pay the Pre-Trump Taxes on their almost $600,000 in income. He is always complaining about these big TAX CUTS"
          ],
          [
           "Just like Bernie Sanders deported your ass out the room?! https://t.co/iVjXPHKcRj"
          ],
          [
           "Just wow!!! https://t.co/mED4n9Kl1V"
          ],
          [
           "I hope you got that same energy for Barack and Hillary because they stayed going on Fox News. Barry and Bill O'Reilly talked alot and on SUP"
          ],
          [
           "Is there a bigger fraud in politics than Bernie Sanders? Not only does he fail to pay the high tax rates he wants to impose on working Ameri"
          ],
          [
           "Bernie Sanders and wife should pay the Pre-Trump Taxes on their almost $600,000 in income. He is always complaining about these big TAX CUTS"
          ],
          [
           "Is there a bigger fraud in politics than Bernie Sanders? Not only does he fail to pay the high tax rates he wants to impose on working Ameri"
          ],
          [
           "Asked if he's smart enough to see Trump's taxes, Rep. Brad Sherman tells CNN: \"I'm surprised to see Sarah Sanders talking about intelligence"
          ],
          [
           "Bernie Sanders isn’t a Democrat nor is his purpose is to win but act as a wedge to divide and ultimately cause the Democrats to lose in 2020"
          ],
          [
           "Is there a bigger fraud in politics than Bernie Sanders? Not only does he fail to pay the high tax rates he wants to impose on working Ameri"
          ],
          [
           "Many Trump Fans &amp; Signs were outside of the @FoxNews Studio last night in the now thriving (Thank you President Trump) Bethlehem, Pennsy"
          ],
          [
           "BERNIE SANDERS \"FREE MEDICAL FOR ALL!\"  (then) \"HEALTHCARE IS NOT FREE!\" (then) \"IT'S GONNA BE FREE FOR WHEN YOU USE IT! -- YOU'RE GONNA PAY"
          ],
          [
           "Sanders: Trump ‘Scared Of Our Campaign’ https://t.co/jkkLGwnaMc"
          ],
          [
           "Is there a bigger fraud in politics than Bernie Sanders? Not only does he fail to pay the high tax rates he wants to impose on working Ameri"
          ],
          [
           "In response to Sanders slam on voting \"just because\" they are women:    YES, voting for women, not JUST because (they have DAZZLING credenti"
          ],
          [
           "I'm sick of seeing right-wing media reporting headlines like \"Beto O'Rourke only donated 1% of his income to charity,\" or \"Bernie Sanders on"
          ],
          [
           "Bernie Sanders and wife should pay the Pre-Trump Taxes on their almost $600,000 in income. He is always complaining about these big TAX CUTS"
          ],
          [
           "@realDonaldTrump How exactly is Bernie Sanders crazy? Joe Biden was in the prior administration that saved the economy and handed you a gift"
          ],
          [
           "Just like Bernie Sanders deported your ass out the room?! https://t.co/iVjXPHKcRj"
          ],
          [
           "@PressSec @POTUS is skipping the WH correspondents dinner for the 3rd straight year and holding a huge rally instead..\n\nAnyone else think @P"
          ],
          [
           "@900CheesePizza @cynicananda @washingtonpost No one but Sanders has created any plans. Yet. Why? Cause it’s early in the process. Think you’"
          ],
          [
           "I believe it will be Crazy Bernie Sanders vs. Sleepy Joe Biden as the two finalists to run against maybe the best Economy in the history of "
          ],
          [
           "Is there a bigger fraud in politics than Bernie Sanders? Not only does he fail to pay the high tax rates he wants to impose on working Ameri"
          ],
          [
           "Is there a bigger fraud in politics than Bernie Sanders? Not only does he fail to pay the high tax rates he wants to impose on working Ameri"
          ],
          [
           "Elizabeth Warren made a big campaign promise on climate change this week, vowing to leave federal fossil fuel reserves in the ground. It's a"
          ],
          [
           "“When a Fox News anchor described Mr. Sanders...as ‘a staunch supporter’ of Ms. Omar, the senator balked.\n\n“‘Hold it, hold it, hold it,’ Mr."
          ],
          [
           "Is there a bigger fraud in politics than Bernie Sanders? Not only does he fail to pay the high tax rates he wants to impose on working Ameri"
          ],
          [
           "Bernie Sanders Says Democrats Will Lose 2020 Election If They Continue To Focus On Donald Trump-\n\"If we spend all our time attacking Trump, "
          ],
          [
           "@chargrille World Bank did a ten year study, very granular and data-based, concluding a positive correlation between more equal representati"
          ],
          [
           "Hey @SenSanders\nAll that money you say you made from selling your book is called CAPITALISM.  \n\nSTOP TRYING TO SHOVE SOCIALISM DOWN OUR THRO"
          ],
          [
           "Just like Bernie Sanders deported your ass out the room?! https://t.co/iVjXPHKcRj"
          ],
          [
           "Just like Bernie Sanders deported your ass out the room?! https://t.co/iVjXPHKcRj"
          ],
          [
           "Just like Bernie Sanders deported your ass out the room?! https://t.co/iVjXPHKcRj"
          ],
          [
           "That lying bitch Sanders should be in jail. Lock her up, lock her up"
          ],
          [
           "@justdawn_ @joshscampbell @PressSec Lying bitch. Sanders told the Mueller team that it was a “slip of the tongue” when she told reporters th"
          ],
          [
           "@ezraklein Um... no. No. What kind of a comfort an American can have voting for that Kremlin whore Bernie Sanders (I)\nRussians helped Bernie"
          ],
          [
           "Hillary's bitch  Bernie Sanders.... old useless fuc... just like turtle man Mitch McConnell another useless piece of s*** https://t.co/hHP1r"
          ],
          [
           "Sarah Sanders admits in the Mueller report she lies to the press and the American people. She should resign today."
          ],
          [
           "Watch this video and the easy manner in which Sarah Sanders publicly said “countless” FBI employees reached out to her, thanking the White H"
          ],
          [
           "Members of the press whenever they consider asking Sarah Sanders a question https://t.co/r3NsxWpTzx"
          ],
          [
           "Mueller report documents Sean Spicer and Sarah Sanders lying to press - Vox https://t.co/NQlfaTi8N0"
          ],
          [
           "The public witness Sarah Sanders lie to American people every single day, except for those days when she has no pressers."
          ],
          [
           "@kylegriffin1 We knew S. Sanders has no soul, Mueller just put in in writing."
          ],
          [
           "This is the moment where Sarah Sanders told the press she had \"heard from countless members of the FBI\" that Comey had lost the confidence o"
          ],
          [
           "Watch this video and the easy manner in which Sarah Sanders publicly said “countless” FBI employees reached out to her, thanking the White H"
          ],
          [
           "Sarah Sanders admits in the Mueller report she lies to the press and the American people. She should resign today."
          ],
          [
           "The Republican tax cuts benefitted corporations , not working families. Companies making millions in profits should pay their fair share of "
          ],
          [
           "As a gay American, I just want to say that I have nothing against Sarah Sanders. I don’t hate or think she’s a horrible person. I simply bel"
          ],
          [
           "So now we know that Propaganda Sycophant Sarah Huckabee Sanders admitted to Mueller that she lied to the press about most FBI agents hating "
          ],
          [
           "Mueller report, page 23: Internal IRA memos show that by early 2016 the goal of Russia's secret social media operation was to support Trump "
          ],
          [
           "@PreetBharara Here is the exchange with Sanders’ lie about FBI morale. She doubled down and then even further said her conversations with FB"
          ],
          [
           "And why is Sandra Huckabee Sanders still the @PressSec? Oh, I forgot she reports and lies for the @potus, @realDonaldTrump on a daily basis."
          ],
          [
           "Watch this video and the easy manner in which Sarah Sanders publicly said “countless” FBI employees reached out to her, thanking the White H"
          ],
          [
           "The Mueller Report shows:\n\n- Trump Almost Certainly Obstructed Justice\n- Sarah Sanders Lied to America\n- Trump Lied to America\n- Trump Accep"
          ],
          [
           "Now that Sarah Sanders has admitted to lying on behalf of the President there is no need for any reputable news outlet to have her on air to"
          ],
          [
           "This is the moment where Sarah Sanders told the press she had \"heard from countless members of the FBI\" that Comey had lost the confidence o"
          ]
         ],
         "hoverlabel": {
          "namelength": 0
         },
         "hovertemplate": "<b>%{hovertext}</b><br><br>name=Bernie Sanders<br>identity_attack=%{x}<br>toxicity=%{y}<br>size=%{marker.size}<br>tweet_prev1=%{customdata[0]}",
         "hovertext": [
          "Bernie Sanders",
          "Bernie Sanders",
          "Bernie Sanders",
          "Bernie Sanders",
          "Bernie Sanders",
          "Bernie Sanders",
          "Bernie Sanders",
          "Bernie Sanders",
          "Bernie Sanders",
          "Bernie Sanders",
          "Bernie Sanders",
          "Bernie Sanders",
          "Bernie Sanders",
          "Bernie Sanders",
          "Bernie Sanders",
          "Bernie Sanders",
          "Bernie Sanders",
          "Bernie Sanders",
          "Bernie Sanders",
          "Bernie Sanders",
          "Bernie Sanders",
          "Bernie Sanders",
          "Bernie Sanders",
          "Bernie Sanders",
          "Bernie Sanders",
          "Bernie Sanders",
          "Bernie Sanders",
          "Bernie Sanders",
          "Bernie Sanders",
          "Bernie Sanders",
          "Bernie Sanders",
          "Bernie Sanders",
          "Bernie Sanders",
          "Bernie Sanders",
          "Bernie Sanders",
          "Bernie Sanders",
          "Bernie Sanders",
          "Bernie Sanders",
          "Bernie Sanders",
          "Bernie Sanders",
          "Bernie Sanders",
          "Bernie Sanders",
          "Bernie Sanders",
          "Bernie Sanders",
          "Bernie Sanders",
          "Bernie Sanders",
          "Bernie Sanders",
          "Bernie Sanders",
          "Bernie Sanders",
          "Bernie Sanders",
          "Bernie Sanders",
          "Bernie Sanders",
          "Bernie Sanders",
          "Bernie Sanders",
          "Bernie Sanders",
          "Bernie Sanders",
          "Bernie Sanders",
          "Bernie Sanders",
          "Bernie Sanders",
          "Bernie Sanders",
          "Bernie Sanders",
          "Bernie Sanders",
          "Bernie Sanders",
          "Bernie Sanders",
          "Bernie Sanders",
          "Bernie Sanders",
          "Bernie Sanders",
          "Bernie Sanders",
          "Bernie Sanders",
          "Bernie Sanders",
          "Bernie Sanders",
          "Bernie Sanders",
          "Bernie Sanders",
          "Bernie Sanders",
          "Bernie Sanders",
          "Bernie Sanders",
          "Bernie Sanders",
          "Bernie Sanders",
          "Bernie Sanders",
          "Bernie Sanders",
          "Bernie Sanders",
          "Bernie Sanders",
          "Bernie Sanders",
          "Bernie Sanders",
          "Bernie Sanders",
          "Bernie Sanders",
          "Bernie Sanders",
          "Bernie Sanders",
          "Bernie Sanders",
          "Bernie Sanders",
          "Bernie Sanders",
          "Bernie Sanders",
          "Bernie Sanders",
          "Bernie Sanders",
          "Bernie Sanders",
          "Bernie Sanders",
          "Bernie Sanders",
          "Bernie Sanders",
          "Bernie Sanders",
          "Bernie Sanders",
          "Bernie Sanders",
          "Bernie Sanders",
          "Bernie Sanders",
          "Bernie Sanders",
          "Bernie Sanders",
          "Bernie Sanders",
          "Bernie Sanders",
          "Bernie Sanders",
          "Bernie Sanders",
          "Bernie Sanders",
          "Bernie Sanders",
          "Bernie Sanders",
          "Bernie Sanders",
          "Bernie Sanders",
          "Bernie Sanders",
          "Bernie Sanders",
          "Bernie Sanders",
          "Bernie Sanders",
          "Bernie Sanders",
          "Bernie Sanders",
          "Bernie Sanders",
          "Bernie Sanders",
          "Bernie Sanders",
          "Bernie Sanders",
          "Bernie Sanders",
          "Bernie Sanders",
          "Bernie Sanders",
          "Bernie Sanders",
          "Bernie Sanders",
          "Bernie Sanders",
          "Bernie Sanders",
          "Bernie Sanders",
          "Bernie Sanders",
          "Bernie Sanders",
          "Bernie Sanders",
          "Bernie Sanders",
          "Bernie Sanders",
          "Bernie Sanders",
          "Bernie Sanders",
          "Bernie Sanders",
          "Bernie Sanders",
          "Bernie Sanders",
          "Bernie Sanders",
          "Bernie Sanders",
          "Bernie Sanders",
          "Bernie Sanders",
          "Bernie Sanders",
          "Bernie Sanders",
          "Bernie Sanders",
          "Bernie Sanders",
          "Bernie Sanders",
          "Bernie Sanders",
          "Bernie Sanders",
          "Bernie Sanders",
          "Bernie Sanders",
          "Bernie Sanders",
          "Bernie Sanders",
          "Bernie Sanders",
          "Bernie Sanders",
          "Bernie Sanders",
          "Bernie Sanders",
          "Bernie Sanders",
          "Bernie Sanders",
          "Bernie Sanders",
          "Bernie Sanders",
          "Bernie Sanders",
          "Bernie Sanders",
          "Bernie Sanders",
          "Bernie Sanders",
          "Bernie Sanders",
          "Bernie Sanders",
          "Bernie Sanders",
          "Bernie Sanders",
          "Bernie Sanders",
          "Bernie Sanders",
          "Bernie Sanders",
          "Bernie Sanders",
          "Bernie Sanders",
          "Bernie Sanders",
          "Bernie Sanders",
          "Bernie Sanders",
          "Bernie Sanders",
          "Bernie Sanders",
          "Bernie Sanders",
          "Bernie Sanders",
          "Bernie Sanders",
          "Bernie Sanders",
          "Bernie Sanders",
          "Bernie Sanders",
          "Bernie Sanders",
          "Bernie Sanders",
          "Bernie Sanders",
          "Bernie Sanders",
          "Bernie Sanders",
          "Bernie Sanders",
          "Bernie Sanders",
          "Bernie Sanders",
          "Bernie Sanders",
          "Bernie Sanders",
          "Bernie Sanders"
         ],
         "legendgroup": "Bernie Sanders",
         "marker": {
          "color": "#ab63fa",
          "size": [
           95.403,
           87.185,
           87.185,
           87.185,
           87.185,
           87.185,
           87.185,
           78.755,
           78.755,
           96.408,
           83.772,
           97.86,
           97.86,
           82.188,
           17.171,
           55.66799999999999,
           21.163999999999998,
           16.716,
           19.451,
           19.451,
           83.779,
           19.451,
           19.451,
           22.15,
           19.451,
           83.779,
           17.171,
           19.451,
           17.171,
           7.184,
           32.127,
           37.99,
           17.171,
           38.406,
           83.779,
           20.249,
           9.632,
           32.214,
           4.82,
           24.781,
           35.796,
           28.52,
           19.957,
           20.249,
           7.463,
           20.249,
           62.89900000000001,
           20.249,
           47.022000000000006,
           18.55,
           17.171,
           17.171,
           34.311,
           36.164,
           6.111,
           17.171,
           7.242999999999999,
           17.951,
           17.171,
           17.171,
           23.119,
           10.698,
           19.451,
           83.779,
           19.451,
           20.559,
           44.126,
           20.249,
           17.171,
           19.451,
           83.779,
           28.269,
           23.105999999999998,
           37.641999999999996,
           17.171,
           31.546999999999997,
           20.249,
           19.451,
           16.714000000000002,
           46.589999999999996,
           15.076999999999998,
           28.262999999999998,
           83.779,
           17.171,
           18.805,
           11.987,
           15.076999999999998,
           25.848,
           13.111,
           23.104,
           81.382,
           17.997,
           16.119,
           44.157000000000004,
           15.299999999999999,
           8.27,
           20.249,
           7.463,
           10.712000000000002,
           12.222,
           44.022,
           17.171,
           8.427999999999999,
           20.249,
           17.171,
           7.865,
           11.266,
           83.779,
           44.022,
           26.778999999999996,
           23.104,
           11.033,
           12.224,
           6.710000000000001,
           37.99,
           44.126,
           42.684,
           83.779,
           78.636,
           22.559,
           7.463,
           13.866,
           31.719,
           17.171,
           32.223,
           6.935,
           47.888999999999996,
           6.648,
           16.68,
           19.451,
           44.022,
           44.022,
           19.451,
           21.279999999999998,
           37.423,
           19.451,
           44.022,
           53.478,
           44.257000000000005,
           11.033,
           53.264,
           20.118,
           15.637,
           29.041,
           17.171,
           83.779,
           6.449000000000001,
           6.842,
           44.022,
           17.171,
           44.022,
           7.463,
           44.157000000000004,
           44.022,
           19.451,
           12.084999999999999,
           14.602,
           44.022,
           27.727,
           44.126,
           17.171,
           24.789,
           83.779,
           32.754,
           37.396,
           20.249,
           44.022,
           44.022,
           8.801,
           23.452,
           44.022,
           20.25,
           21.068,
           57.986000000000004,
           83.779,
           83.779,
           83.779,
           92.703,
           76.644,
           66.554,
           97.56899999999999,
           32.119,
           37.167,
           5.454,
           13.414000000000001,
           28.500999999999998,
           32.244,
           20.233999999999998,
           37.167,
           32.119,
           6.814000000000001,
           61.524,
           30.105999999999998,
           14.392,
           22.317,
           55.118,
           37.167,
           23.601,
           13.94,
           20.233999999999998
          ],
          "sizemode": "area",
          "sizeref": 0.24465,
          "symbol": "circle"
         },
         "mode": "markers",
         "name": "Bernie Sanders",
         "showlegend": true,
         "type": "scatter",
         "x": [
          0.68931,
          0.51382,
          0.51382,
          0.51382,
          0.51382,
          0.51382,
          0.51382,
          0.34174,
          0.34174,
          0.65752,
          0.81136,
          0.59152,
          0.59152,
          0.60693,
          0.13018,
          0.34129,
          0.20704,
          0.2525,
          0.12334,
          0.12334,
          0.51239,
          0.12334,
          0.12334,
          0.12783,
          0.12334,
          0.51239,
          0.13018,
          0.12334,
          0.13018,
          0.0827,
          0.32401,
          0.2394,
          0.13018,
          0.37164,
          0.51239,
          0.2295,
          0.09059,
          0.41031,
          0.03109,
          0.39557,
          0.54004,
          0.24085,
          0.17985,
          0.2295,
          0.10188,
          0.2295,
          0.4467,
          0.2295,
          0.68562,
          0.07512,
          0.13018,
          0.13018,
          0.60183,
          0.59121,
          0.0301,
          0.13018,
          0.09996,
          0.12473,
          0.13018,
          0.13018,
          0.23764,
          0.11286,
          0.12334,
          0.51239,
          0.12334,
          0.2208,
          0.27476,
          0.2295,
          0.13018,
          0.12334,
          0.51239,
          0.32762,
          0.13,
          0.30175,
          0.13018,
          0.21847,
          0.2295,
          0.12334,
          0.08188,
          0.27258,
          0.17953,
          0.29419,
          0.51239,
          0.13018,
          0.25075,
          0.12224,
          0.17953,
          0.3048,
          0.1874,
          0.2033,
          0.80312,
          0.20994,
          0.28268,
          0.42752,
          0.21028,
          0.13731,
          0.2295,
          0.10188,
          0.15909,
          0.13848,
          0.28514,
          0.13018,
          0.0579,
          0.2295,
          0.13018,
          0.12466,
          0.09318,
          0.51239,
          0.28514,
          0.39856,
          0.2033,
          0.20386,
          0.21237,
          0.08243,
          0.2394,
          0.27476,
          0.40424,
          0.51239,
          0.39586,
          0.27534,
          0.10188,
          0.13159,
          0.281,
          0.13018,
          0.26909,
          0.09657,
          0.43472,
          0.05507,
          0.11319,
          0.12334,
          0.28514,
          0.28514,
          0.12334,
          0.18649,
          0.27388,
          0.12334,
          0.28514,
          0.39272,
          0.22236,
          0.20386,
          0.53606,
          0.22655,
          0.16521,
          0.17886,
          0.13018,
          0.51239,
          0.06108,
          0.06331,
          0.28514,
          0.13018,
          0.28514,
          0.10188,
          0.42752,
          0.28514,
          0.12334,
          0.13606,
          0.19476,
          0.28514,
          0.41775,
          0.27476,
          0.13018,
          0.13801,
          0.51239,
          0.2984,
          0.29991,
          0.2295,
          0.28514,
          0.28514,
          0.07886,
          0.26908,
          0.28514,
          0.28052,
          0.30969,
          0.33081,
          0.51239,
          0.51239,
          0.51239,
          0.66705,
          0.45191,
          0.63421,
          0.68949,
          0.3047,
          0.41469,
          0.09004,
          0.08662,
          0.32629,
          0.21248,
          0.16702,
          0.41469,
          0.3047,
          0.08678,
          0.7208,
          0.298,
          0.23269,
          0.14606,
          0.34657,
          0.41469,
          0.15372,
          0.11007,
          0.16702
         ],
         "xaxis": "x",
         "y": [
          0.95403,
          0.87185,
          0.87185,
          0.87185,
          0.87185,
          0.87185,
          0.87185,
          0.78755,
          0.78755,
          0.96408,
          0.83772,
          0.9786,
          0.9786,
          0.82188,
          0.17171,
          0.55668,
          0.21164,
          0.16716,
          0.19451,
          0.19451,
          0.83779,
          0.19451,
          0.19451,
          0.2215,
          0.19451,
          0.83779,
          0.17171,
          0.19451,
          0.17171,
          0.07184,
          0.32127,
          0.3799,
          0.17171,
          0.38406,
          0.83779,
          0.20249,
          0.09632,
          0.32214,
          0.0482,
          0.24781,
          0.35796,
          0.2852,
          0.19957,
          0.20249,
          0.07463,
          0.20249,
          0.62899,
          0.20249,
          0.47022,
          0.1855,
          0.17171,
          0.17171,
          0.34311,
          0.36164,
          0.06111,
          0.17171,
          0.07243,
          0.17951,
          0.17171,
          0.17171,
          0.23119,
          0.10698,
          0.19451,
          0.83779,
          0.19451,
          0.20559,
          0.44126,
          0.20249,
          0.17171,
          0.19451,
          0.83779,
          0.28269,
          0.23106,
          0.37642,
          0.17171,
          0.31547,
          0.20249,
          0.19451,
          0.16714,
          0.4659,
          0.15077,
          0.28263,
          0.83779,
          0.17171,
          0.18805,
          0.11987,
          0.15077,
          0.25848,
          0.13111,
          0.23104,
          0.81382,
          0.17997,
          0.16119,
          0.44157,
          0.153,
          0.0827,
          0.20249,
          0.07463,
          0.10712,
          0.12222,
          0.44022,
          0.17171,
          0.08428,
          0.20249,
          0.17171,
          0.07865,
          0.11266,
          0.83779,
          0.44022,
          0.26779,
          0.23104,
          0.11033,
          0.12224,
          0.0671,
          0.3799,
          0.44126,
          0.42684,
          0.83779,
          0.78636,
          0.22559,
          0.07463,
          0.13866,
          0.31719,
          0.17171,
          0.32223,
          0.06935,
          0.47889,
          0.06648,
          0.1668,
          0.19451,
          0.44022,
          0.44022,
          0.19451,
          0.2128,
          0.37423,
          0.19451,
          0.44022,
          0.53478,
          0.44257,
          0.11033,
          0.53264,
          0.20118,
          0.15637,
          0.29041,
          0.17171,
          0.83779,
          0.06449,
          0.06842,
          0.44022,
          0.17171,
          0.44022,
          0.07463,
          0.44157,
          0.44022,
          0.19451,
          0.12085,
          0.14602,
          0.44022,
          0.27727,
          0.44126,
          0.17171,
          0.24789,
          0.83779,
          0.32754,
          0.37396,
          0.20249,
          0.44022,
          0.44022,
          0.08801,
          0.23452,
          0.44022,
          0.2025,
          0.21068,
          0.57986,
          0.83779,
          0.83779,
          0.83779,
          0.92703,
          0.76644,
          0.66554,
          0.97569,
          0.32119,
          0.37167,
          0.05454,
          0.13414,
          0.28501,
          0.32244,
          0.20234,
          0.37167,
          0.32119,
          0.06814,
          0.61524,
          0.30106,
          0.14392,
          0.22317,
          0.55118,
          0.37167,
          0.23601,
          0.1394,
          0.20234
         ],
         "yaxis": "y"
        },
        {
         "customdata": [
          [
           "Watch congresswoman Alexandria Ocasio-Cortez give a powerful speech on the new green deal and the dangers of climate change https://t.co/gae"
          ],
          [
           "#ClimateAction @GretaThunberg How much more time are we going to waste listening to naysayers like @realDonaldTrump? @AOC @IlhanMN #GreenNew"
          ],
          [
           "@TweedSuitEsq @AOC All right. I proof read all of this &amp; autocorrect still recharged toe words it changed the first time and I had corre"
          ],
          [
           "@LilaGraceRose @AOC I’m sorry but what is wrong with you? Millions of fully formed human beings experience systemic violence and this is the"
          ],
          [
           "\"To me, [@AOC] is irredeemable.\"\n--@ThomasSowell, May, 2019\n\n#AOC https://t.co/KpTrzSpCF8"
          ],
          [
           "@world_concerned @AOC @GretaThunberg The world has great potential for good and bad. Apocalypse, or Paradise... it can go either way at this"
          ],
          [
           "@UrBetsyJean @AOC Most student loans aren’t given unless co signed by mom and dad or another."
          ],
          [
           "@AOC College= Indoctrination Camps"
          ],
          [
           "Thank you @AOC for loudly saying what every Muslim, Jew, Sikh, Hindu, Black Christian, &amp; Arab Christian has been shouting for years\n\nIt "
          ],
          [
           "@larryelder @AOC @ThomasSowell I would pay the same to see Dr. Sowell with or without anyone else on stage. Which is to say, more money than"
          ],
          [
           "There is all kinds of \"help\" for new students with student loan debt, BUT what about the people that went through a recession, zero jobs and"
          ],
          [
           "AOC invokes Bible, taunts ‘religious right’ about interest rates, punishing women and ‘queer people,’ and trying to ‘outlaw sex’ https://t.c"
          ],
          [
           "Interesting case study. Would be curious about the outcome of the experiment, and hopeful that they might suggest progressive signs. Might b"
          ],
          [
           "Pay attention Canadians.\nThe CPC are aligned with this theocratic GOP &amp;similar global “conservative” theologies. Their purpose is to “pu"
          ],
          [
           "@Leahgreenb Because its run by a DEMOCRAT controlled HOUSE.\n\nJUSTICE would be getting rid of hack @AOC @IlhanMN and the other Jew hater. Can"
          ],
          [
           "@northkats @voxdotcom @BernieSanders @AOC Don’t carry a balance"
          ],
          [
           "@larryelder @AOC @ThomasSowell It would be beneath Dr. Sowell to debate such an imbicil like Cortez @AOC"
          ],
          [
           "@AOC AOC: \"Billionaires are inherently evil and no one should have this much money!\"\n\nAlso AOC: \"Look at this awesome billionaire who volunt"
          ],
          [
           "@DDubsCareBear @LilaGraceRose @AOC So, murdering them in utero is preferable to allowing them to live. Abortion is the most brutal form of c"
          ],
          [
           "@Bakari45 @AOC Debt comes from personal choices. Nobody gets a letter in the mail on their 18th or 21st birthday that says happy birthday yo"
          ],
          [
           ".@AOC made a great point about white supremacist violence and the label of terrorism https://t.co/kc4bpr1MRN"
          ],
          [
           "If you care about democracy, you should be a socialist. https://t.co/WXlqbsgYyE"
          ],
          [
           "I believe that if @AOC had a few more years experience she could be our next president...I have very high hopes for her and, if she does run"
          ],
          [
           "Thank you @AOC for loudly saying what every Muslim, Jew, Sikh, Hindu, Black Christian, &amp; Arab Christian has been shouting for years\n\nIt "
          ],
          [
           "This Guy is The BIGGEST BLOW Hard YET !!  New York is a Disgrace Under His Watch. He and AOC Lost Amazon &amp; Thousands Of JOBS !  @FoxNews"
          ],
          [
           "\"People's lives are not commodities...you cannot ask the question how much will you pay to live, because the answer is everything.\n\nThat is "
          ],
          [
           "REMINDER: There are Dems who have taken a strong principled position on #impeachment. Among them @ewarren, @RashidaTlaib, @AOC, @IlhanMN, @R"
          ],
          [
           ".@AOC made a great point about white supremacist violence and the label of terrorism https://t.co/kc4bpr1MRN"
          ],
          [
           "AOC Uses the BIBLE to Help Her Case – OH WAIT, it Was Just to TAUNT Religious Voters https://t.co/INCAtbiAcG https://t.co/Z6tzGgvNwE"
          ],
          [
           "\"When they say 'oh it's too much' what do they mean by that? \nIs 100% clean and #renewableenergy too much? \nIs fighting for dignified jobs t"
          ],
          [
           "Joe Crowley: Ocasio-Cortez 'most vulnerable' to defeat in 2020 https://t.co/iHzMsl60dJ\n\nUnfortunately, he means Dead Eyes is \"most vulnerabl"
          ],
          [
           "@nedstarkgaryen AOC isn't good on foreign policy and she's not as leftist on class issues as much as I'd like. It's easy to distort in Ameri"
          ],
          [
           "@JeffKing1970 @AOC My country is doing just fine. I’ll start to worry when we elect a racist coward as pm and when the British start thinkin"
          ],
          [
           "@AOC Why are you so mean? Is that what you need to feel ok about yourself? Try to understand ALL points of view, not just those popular to S"
          ],
          [
           ".@AOC made a great point about white supremacist violence and the label of terrorism https://t.co/kc4bpr1MRN"
          ],
          [
           "@AOC @DemForceArmy I would have been thrilled if someone had done that for me, but there was also such a sense of satisfaction when u paid t"
          ],
          [
           "@larryelder @AOC @ThomasSowell I would pay more to see Ben Shapiro debate AOC, or Bernie, or Pete Buttidgege.."
          ],
          [
           "@heymikey80 @alstadtj @derek_mafs @AOC Meanwhile all these politicians and their CEO bffs are getting more welfare lol thanks to me and ppl "
          ],
          [
           ".@RepAOC @AOC: \"I blame us. I blame this body because every single developed country in the world guarantees health care as a right except u"
          ],
          [
           "WOW!!!! There was good news today!!!! He just changed the future of so many young black men and their families!!!! 🙌🏾🙌🏾🙌🏾 https://t.co/r9T21"
          ],
          [
           "@PWM62 @GallivanScott @BurgSkeletal @jennrgrimes @dk_stephan @FalconYourHero @Gurt4Prez @OpinionatedLab @OmartheWonder @grnmedina_chris @sar"
          ],
          [
           ".@AOC made a great point about white supremacist violence and the label of terrorism https://t.co/kc4bpr1MRN"
          ],
          [
           "With more knowledge on how to pursue careers, negotiate salaries that include equity &amp; sponsorship for upward mobility, financial dignit"
          ],
          [
           "\"To me, [@AOC] is irredeemable.\"\n--@ThomasSowell, May, 2019\n\n#AOC https://t.co/KpTrzSpCF8"
          ],
          [
           "Thank you @AOC for loudly saying what every Muslim, Jew, Sikh, Hindu, Black Christian, &amp; Arab Christian has been shouting for years\n\nIt "
          ],
          [
           "Thank you @AOC for loudly saying what every Muslim, Jew, Sikh, Hindu, Black Christian, &amp; Arab Christian has been shouting for years\n\nIt "
          ],
          [
           "\"To me, [@AOC] is irredeemable.\"\n--@ThomasSowell, May, 2019\n\n#AOC https://t.co/KpTrzSpCF8"
          ],
          [
           "@JrHighRedux @BriereBear @nyparalegal52 @AOC What's wrong with you?"
          ],
          [
           "@mrHappy35012480 @AOC And no one had a problem with it back then, what has changed?"
          ],
          [
           "@GOP  As a 20 yr vet (ret) I'm 66 now.,THANK YOU PRESIDENT TRUMP! To @AOC  @RepAOC , put on the uniform, go to the front line and wake up ev"
          ],
          [
           "@AOC For the same reason you’re silent when the shooter is Muslim or the victims are Jews."
          ],
          [
           "Alexandria Ocasio-Cortez and Bernie Sanders Want the Post Office to be Your Bank. https://t.co/0fhWOqjmb5"
          ],
          [
           "@AOC This is awesome for the graduates and very generous of Mr. Smith!!It would also be interesting to see any variation between students th"
          ],
          [
           "@camcamdamn @PNav57 @AOC Ah, the people who oppose the murdering of babies are sick in the head. Makes sense"
          ],
          [
           "This is so true. How many people would have made substantially different life choices, let alone career choices, if they found out on gradua"
          ],
          [
           "Thank you @AOC for loudly saying what every Muslim, Jew, Sikh, Hindu, Black Christian, &amp; Arab Christian has been shouting for years\n\nIt "
          ],
          [
           "@AOC Blah blah blah, I want to kill my kid.\n\nThank God conservatives recognize everything shouldn't be a federal mandate, and gives states r"
          ],
          [
           "@AngelaBelcamino @AOC Can we all have free ice cream, too?"
          ],
          [
           "@AOC It would be great if everyone had their student debt paid off.  Let’s not wait a decade and a half."
          ],
          [
           "@AOC LMAO.\n\nYou are RIDICULOUS.\n\nWomen don't have a right to murder unborn babies. \n\nNothing you say makes any sense.\n\nNobody cares what you"
          ],
          [
           "@DDubsCareBear @LilaGraceRose @AOC WERE paying for the abortions because The MOTHER would rather be a whore than take responsibility for her"
          ],
          [
           "Democrats over last 24 hours:\n\n- Kirsten Gillibrand says anti-abortion laws are against the Christian faith \n\n-Pete Buttigieg compares Chris"
          ],
          [
           "@MAGLARod @AOC @saikatc So you see Trump isn't to blame for these distinctions and the Miami shooting and the San Bernardino shootings didn'"
          ],
          [
           "This is huge https://t.co/cHkHCLPYet"
          ],
          [
           "@AOC If having woman power means I can kill my offspring than I would rather have no power"
          ],
          [
           "@AOC Does a woman have two heart beats?"
          ],
          [
           "@AOC No matter how you spin this, Alexandria, you are advocating for the systemic violence that destroys millions of innocent human lives. A"
          ],
          [
           "@Grahamjs79 @AOC I get it. I am in a christian pooling coverage now till I hit 65. It covers all costs over $500 (reimbursement) ..... AOC t"
          ],
          [
           "@RoseDC11 @TeaBoots @RepAdamSchiff @IlhanMN @AOC There are several more that should be added to your list for either not doing their jobs or"
          ],
          [
           "@AOC Please say all of that in public, maybe on the floor of the house."
          ],
          [
           "@AOC @GovernorKayIvey Man rapes child, gets 6 months.\nChild miscarries, gets 20 years."
          ],
          [
           "@AngelaBelcamino @AOC We don’t want to own you, we just don’t want you killing babies for convenience"
          ],
          [
           "@AOC Go for it . Test it in New York and let us know. Test your Green new deal their too. Test all your wonderful spaghetti that you throw a"
          ],
          [
           "@DDubsCareBear @LilaGraceRose @AOC I was adopted and not getting an unavailability of abortion is not the i was put into state care. Maybe l"
          ],
          [
           "I guess control of your body doesn’t begin when you first get a body? \n\nOr is the genetically distinct human body in the womb just a figment"
          ],
          [
           "@PNav57 @AOC The law strickly targetd doctors who do the procedures. Not the mothers"
          ],
          [
           "@Politicalme12 @cspan @RepAOC @AOC Again... didn’t say that gaveling was illegitimate.  \n\nPlease read what was said and stop making up a rea"
          ],
          [
           "I see AOC has a whopping 20% approval rating in her own district. \n\nI guess people have already had enough of her big mouth, anger, hate, ra"
          ],
          [
           ".@AOC asked this pharma exec why a life-saving HIV drug costs nearly $2,000 in the U.S. and $8 in Australia https://t.co/A7wTv92CCF"
          ],
          [
           "@AOC and may God have mercy on your soul"
          ],
          [
           "@larryelder @AOC @ThomasSowell You mean “be paid”?  Still tough to answer but I could use the gas money.  Call it a down payment on all the "
          ],
          [
           "AOC asks pharma CEO why $2,000 HIV drug costs just $8 in Australia: 'People are dying for no reason' https://t.co/rqkK1Z9DoW via @YahooNews"
          ],
          [
           "@AOC Wait, what?  I thought we were trying to get rid of all the billionaires?"
          ],
          [
           "Thank you @AOC for loudly saying what every Muslim, Jew, Sikh, Hindu, Black Christian, &amp; Arab Christian has been shouting for years\n\nIt "
          ],
          [
           "@HalTotoro87 @AOC So you're saying that old white dudes are against eugenics that your pal Margaret Sanger was A-Ok with?"
          ],
          [
           "Yours is not the only mind that been blown. https://t.co/gLOyz4Tc1Y"
          ],
          [
           "Thank you @AOC for loudly saying what every Muslim, Jew, Sikh, Hindu, Black Christian, &amp; Arab Christian has been shouting for years\n\nIt "
          ],
          [
           "@AOC Would love for some billionaire to pay off all the court fees for former felons in FL, so they can vote, and follow that. That would al"
          ],
          [
           "@rigginsjj @AOC @gatesfoundation Woof. I’ll just say that would be exceedingly optimistic that say that the services that an institution suc"
          ],
          [
           "@larryelder @AOC @ThomasSowell And after he’s done with her, how about we have him teach Trump a thing or two. Topic #1: Tariffs."
          ],
          [
           "I have some questions for you, @AOC. You’ve been a Congresswoman for long enough now. Hope you have answers. But I’m not keeping my fingers "
          ],
          [
           "Thank you @AOC for loudly saying what every Muslim, Jew, Sikh, Hindu, Black Christian, &amp; Arab Christian has been shouting for years\n\nIt "
          ],
          [
           "@adasomg @realDonaldTrump @SpeakerPelosi @SenSchumer @AOC @WhiteHouse 🇺🇸Make America Great Again 🇺🇸 https://t.co/2N3BbdBoFd"
          ],
          [
           "#WomensRightsAreHumanRights #SlaveLABOR Women FORCED by LAW to carry a child must be PAID by the state for all medical expenses incurred due"
          ],
          [
           "Kamala Harris Owns A Gun But Doesn’t Want YOU To.\n\nBernie Sanders Makes Millions But Doesn’t Want YOU To.\n\nOcasio-Cortez Flies On Planes But"
          ],
          [
           "Alexandria Ocasio-Cortez and Bernie Sanders Want the Post Office to be Your Bank. https://t.co/0fhWOqjmb5"
          ],
          [
           "@nicesharky @loxahatcheeboy @FionaGiselle1 @AOC AOC does not understand lots of thing.. like everything.\nShe was elected you a fire sale. #F"
          ],
          [
           "im sorry but nancy pelosi and aoc just need to end their political career"
          ],
          [
           ".@AOC asked this pharma exec why a life-saving HIV drug costs nearly $2,000 in the U.S. and $8 in Australia https://t.co/A7wTv92CCF"
          ],
          [
           "@AOC GOP Extremists? People that are against murdering babies.  There, I fixed it for you. \n\n❤🇺🇸❤🇺🇸❤🇺🇸😂"
          ],
          [
           "#CoffeeWithSkipper \n\nWhen all else fails pull out the race card \n\nYesterday Alexandria Ocasio-Cortez tweeted the GOP doesn’t care about the "
          ],
          [
           "This is so true. How many people would have made substantially different life choices, let alone career choices, if they found out on gradua"
          ],
          [
           "@RoseDC11 @francesme @RepAdamSchiff @IlhanMN @AOC Dont 4get @RashidaTlaib"
          ],
          [
           "The kids are all right. Please purchase our climate primer book World of Thermo, especially any of you involved with the @sunrisemvmt . @AOC"
          ],
          [
           ".@AOC made a great point about white supremacist violence and the label of terrorism https://t.co/kc4bpr1MRN"
          ],
          [
           "The stupidity of this tweet is fully realized when you understand that more woman are pro-life than men. That men are in government and list"
          ],
          [
           "@AngelaBelcamino @AOC Spoiler Alert : they owned you"
          ],
          [
           "@AOC You are correct, they should make good choices and be responsible for their own actions and be willing to work and put forth the effort"
          ],
          [
           "@larryelder @AOC @ThomasSowell My 12 year old daughter could debate her and still kick her ass"
          ],
          [
           ".@AOC made a great point about white supremacist violence and the label of terrorism https://t.co/kc4bpr1MRN"
          ],
          [
           "Lord help us! RT @FionaGiselle1: She.  Is.  12.  \n\nIf only her educational comprehension was that mature.   \n\n@AOC \n https://t.co/R19xIGB1kD"
          ],
          [
           "@AOC Bravo Mr. Smith!!!!!"
          ],
          [
           "@adasomg @realDonaldTrump @SpeakerPelosi @SenSchumer @AOC @WhiteHouse 🇺🇸Make America Great Again 🇺🇸 https://t.co/2N3BbdBoFd"
          ],
          [
           "@AOC You can create life that’s the most powerful thing you can do but I fully support you never reproducing."
          ],
          [
           "@AOC Keep your legs closed or use protection. Women are using phony excuses"
          ],
          [
           "@AOC HI, ASSHOLE!!  👋😀\n\nOver HERE! Over HERE! 👋😀\n\nGo to your favorite search engine on-line and search, \"September 11, 2001\" 😉👍\n\nI'll wait. "
          ],
          [
           "@AOC How about don’t go to college if you can’t afford it! Maybe trade school or community college."
          ],
          [
           "@priusjames @dk_stephan @BurgSkeletal @katiD22 @GallivanScott @PWM62 @FalconYourHero @Gurt4Prez @OpinionatedLab @OmartheWonder @grnmedina_ch"
          ],
          [
           "Alexandria Ocasio-Cortez Schools Pharma Exec on HIV Drug Prices | NowThis https://t.co/0lVaxlC36Q via @YouTube //What a Fireball, this is wh"
          ],
          [
           "@AOC What you just said is one of the most insanely idiotic things I have ever read. At no point in your rambling, incoherent tweet were you"
          ],
          [
           "@David_desJ @EmilyAWiseman @dynarski @AOC For that to be true, youd have to argue that the nature of student debt is different across time. "
          ],
          [
           "@PNav57 @camcamdamn @AOC You're naive and stupid. Sharia law would make it illegal and punishable by stoning to lose your virginity as a wom"
          ],
          [
           "@AOC Colleges are places of education... they shouldn’t be an institution that makes you a prisoner to your debt for the rest of your life. "
          ],
          [
           "@RoseDC11 @BlueSea1964 @RepAdamSchiff @IlhanMN @AOC SOOO TRUE AND US CITIZENS ARE BECOMING MORE KNOWLEDGEABLE ABOUT THIS THREAT TO OUR NATIO"
          ],
          [
           "'an honest reckoning with the full extent of the crisis is the only way to arrive at a response on the same scale. ... As @AOC said at the c"
          ],
          [
           "@AOC \"Limiting birth control\"\n\nJUST WALK DOWN TO WALMART AND BUY SOME CONTRACEPTIVES. THEY'RE NOT EXPENSIVE.\n\nFucking ridiculous."
          ],
          [
           "This data exists and it has shown that black students with school debt are no more better off than those without https://t.co/iMaQJrQDTg"
          ],
          [
           "@Dannygambit1 @hawaiiilove @KAT40811334 @malisaficent @JapuntichKim @TammyRedmond @WickedWarrior5 @Bpwll @robin_ked @us_poll @RedDragonFly19"
          ],
          [
           "@ASexbot @cmclymer @iamjonajim What's the matter? Did the truth hurt your feeling? Don't worry, Ill Promptly fuck off, but let me just leave"
          ],
          [
           "@larryelder @AOC @ThomasSowell It would be like watching a guy club a baby seal. You know how it’s going to end before it starts."
          ],
          [
           "@AOC Which theology allows for murder?"
          ],
          [
           ".@AOC made a great point about white supremacist violence and the label of terrorism https://t.co/kc4bpr1MRN"
          ],
          [
           "@AOC sex that falls outside their theology... eh, is the sex that causes pregnancy falls outside their theology? really?\n\nWHY ARE YOU SO DUM"
          ],
          [
           "@AOC Receiving an act of charity may influence these students mak, so that will have to be factored in. But in the world of science nothing "
          ],
          [
           "Where is this repository of information where crimes are given a designation of \"terrorism\" or not, and who decides? \n\nIt doesn't exist. The"
          ],
          [
           "#SundayMorning Reading - #ClimateAction: Taking a stance for the choice to #actonclimate is Moral clarity. That's the real message that will"
          ],
          [
           "@AnthonyJSisk @AOC @BernieSanders In that utopia this act of charity wouldn't be needed at all, that's kind of the point"
          ],
          [
           "\"To me, [@AOC] is irredeemable.\"\n--@ThomasSowell, May, 2019\n\n#AOC https://t.co/KpTrzSpCF8"
          ],
          [
           "@LAFC bad choice to have politics in the game. Approving aoc as a strong woman, really. Do you recall her smiling when amazon pulled out of "
          ],
          [
           "@LiglyCnsrvatari @arindube @AOC I’m not concerned about selection bias, even granting the experiment is valid I don’t see what useful questi"
          ],
          [
           "@Sassprincess111 @thelindadegnan @Kaiya1212 @lizlibra1009 @Mackaveli8 @ImpeachShitler @HadleysMaMa13 @Cha51brolll19 @marthatoddharv @LItaloA"
          ],
          [
           "It floors me that Nancy Pelosi has done more to stop Alexandria Ocasio-Cortez's political agenda than she has to stop Donald Trump's."
          ],
          [
           "@MIGOP @justinamash Time to rally and unseat this faux Republican Amash in 2020. Bye bye Justin! Maybe Rashid, Ilahn, and AOC will take you "
          ],
          [
           "@AOC I’m paying off a college loan now. Are you going to pay it off for me??"
          ],
          [
           "@PCribbett @kromer76 @karl_nittinger @AOC I wouldn't know"
          ],
          [
           "PSA: I really don’t care what you do with your body. I care what you do with the body of the life inside you. https://t.co/UXPmcFM6pJ"
          ],
          [
           "@cmpnwtr @LPimpernel @jules_su @AOC @TheDemocrats @HouseDemocrats False."
          ],
          [
           "@davidwebbshow @AOC Yeah but, a decent Capitalist"
          ],
          [
           "@DontRegurgitate @AOC @TheDemocrats * End For-Profit hospitals. My husband had Tricare when he had heart surgery and major complications. $2"
          ],
          [
           "Whenever you have a bad DJT day just call &lt;3  or @DrPhil\n\nHow does it feel when members of your own party want your job? @justinamash\n\n@r"
          ],
          [
           "@AOC lol. Loon."
          ],
          [
           "@jjauthor @BernieSanders @AOC Donald Trump bankrupted his businesses five times and lost more money than any American, but sure let’s postul"
          ],
          [
           "@DDubsCareBear @LilaGraceRose @AOC Hey, foster care or death, i choose foster care"
          ],
          [
           "DC Comics Sends Cease And Desist Over Alexandria Ocasio-Cortez Comic Book Cover - Good for DC Comics!  https://t.co/D60fVNnrNT"
          ],
          [
           "Thank you @AOC for loudly saying what every Muslim, Jew, Sikh, Hindu, Black Christian, &amp; Arab Christian has been shouting for years\n\nIt "
          ],
          [
           "@AOC AOC: \"Billionaires are inherently evil and no one should have this much money!\"\n\nAlso AOC: \"Look at this awesome billionaire who volunt"
          ],
          [
           "Thank you @AOC for loudly saying what every Muslim, Jew, Sikh, Hindu, Black Christian, &amp; Arab Christian has been shouting for years\n\nIt "
          ],
          [
           "Does “live from the border” mean Party City?\n\nFox is really out here doing the most on a budget to make the border look more dangerous than "
          ],
          [
           "Alexandria Ocasio-Cortez and Bernie Sanders Want the Post Office to be Your Bank. https://t.co/0fhWOqjmb5"
          ],
          [
           "@AOC AOC: \"Billionaires are inherently evil and no one should have this much money!\"\n\nAlso AOC: \"Look at this awesome billionaire who volunt"
          ],
          [
           "@AOC Also need the Dept of Education to allow for lowering of interest rates and stop capitalizing interest. 8.25% interest since 2000 means"
          ],
          [
           "I don't know how many times I have thought about this.\nHow many millions of people lost their homes, because bankers lied to them and tricke"
          ],
          [
           "@strataxe12 @AOC Although thoughtful idea, the purpose of college in my opinion\nIs to get a “well rounded” education.  That means taking cou"
          ],
          [
           "Thank you @AOC for loudly saying what every Muslim, Jew, Sikh, Hindu, Black Christian, &amp; Arab Christian has been shouting for years\n\nIt "
          ],
          [
           "@AOC Wish my debt was paid for."
          ],
          [
           "Yours is not the only mind that been blown. https://t.co/gLOyz4Tc1Y"
          ],
          [
           "I have some questions for you, @AOC. You’ve been a Congresswoman for long enough now. Hope you have answers. But I’m not keeping my fingers "
          ],
          [
           "@AOC It's about the killing of children, honeybaby. That's it, plain &amp; simple. Nobody gives a damn about your sexuality or whatever."
          ],
          [
           "Thank you @AOC for loudly saying what every Muslim, Jew, Sikh, Hindu, Black Christian, &amp; Arab Christian has been shouting for years\n\nIt "
          ],
          [
           "Thank you @AOC for loudly saying what every Muslim, Jew, Sikh, Hindu, Black Christian, &amp; Arab Christian has been shouting for years\n\nIt "
          ],
          [
           "Yours is not the only mind that been blown. https://t.co/gLOyz4Tc1Y"
          ],
          [
           "@DefiantlyFree This needs to happen. I’ll stan all day for Mayor AOC. Put that city out of its misery."
          ],
          [
           "🐶🇺🇸Sheeepdogs: Believe This WOW! A Video Just Came Out Showing People In AOC’s District…DON’T LIKE SOCIALISM! VOTR HER OUT!!!🇺🇸🐶\n🇺🇸🐶 IFB @20"
          ],
          [
           "@cmpnwtr @jules_su @AOC @TheDemocrats @HouseDemocrats Nancy Pelosi is a political coward that refuses to do her constitutional duty of impea"
          ],
          [
           "Ocasio-Cortez Invokes Bible To Mock 'Religious Right,' Push Usury Bill https://t.co/5lamzjvXJW"
          ],
          [
           "REMINDER:\n\n@AOC is 29 years old and until last week she didn’t know what a disposal is. \n\nAnd she things plants growing in soil is “magic.” "
          ],
          [
           "@sally_ann_cole @AOC Sperm is potential life. They do not grow, don't have 46 chromosomes, and doesn't have a unique DNA sequence. Do you kn"
          ],
          [
           "\"To me, [@AOC] is irredeemable.\"\n--@ThomasSowell, May, 2019\n\n#AOC https://t.co/KpTrzSpCF8"
          ],
          [
           "Thank you @AOC for loudly saying what every Muslim, Jew, Sikh, Hindu, Black Christian, &amp; Arab Christian has been shouting for years\n\nIt "
          ],
          [
           "I wish I was AOC and could say dumb shit all day and get paid for it."
          ],
          [
           "AOC as Wonder Woman? DC Comics not happy about rival publisher’s illustration: reports.💥\n\nWOW, Dems have: a bartender, skateboarder, 2 anti-"
          ],
          [
           "Video of Morehouse College's graduating class being told by commencement speaker Robert F Smith that he's paying off their student loans (re"
          ],
          [
           "You’ve cracked the code. You’ve discovered our plot to own women and control their every move. You make the left look dumber and dumber. htt"
          ],
          [
           "THIS COMMENCEMENT THEIRS\nR. SMITH COMMENTS THENCE\n\n#PoeticAnagramWave\n\n#MorehouseGrad2019 https://t.co/GCc5rFlhVP"
          ],
          [
           "@SmplJacKingston @AOC your first comment is ridiculous. don’t put words in my mouth. \n2nd, that’s fine with me. i wouldn’t say y’all look an"
          ],
          [
           "Can't wait for @AOC's critics in Congress to engage her on research designs for natural experiments to identify causal effects of important "
          ],
          [
           "@nowthisnews @AOC There are no words to describe how much I love this woman."
          ],
          [
           "It's about the killing of children, honeybaby. That's it, plain &amp; simple. Nobody gives a damn about your sexuality or whatever. https://"
          ],
          [
           "@AOC @KenTremendous Imagine if we taxed billionaires"
          ],
          [
           "@MSNBC Will @BillNye @AOC and @BetoORourke be disappointed in ten years when their imaginary climate crisis has not unfolded?"
          ],
          [
           "@roninminer802 @AnthonyJSisk @AOC @BernieSanders Not the point of the comment brah"
          ],
          [
           "@MikeHun91238323 @kyledcheney Maybe. 2016 had a favorable Senate &amp; the Democrats gained one seat.\nBiden may solve their problem, but he'"
          ],
          [
           "@mannoname4 @LindaForAmerica @Steve0539 @AOC @realDonaldTrump They failed to understand how effectively the Russians were helping.\nAnd as fo"
          ],
          [
           "@TheDamaniFelder @AOC Oh please...refer to her as Ms.Cortez only!😂😂😂😂 https://t.co/TjgSepdEt1"
          ],
          [
           "@LItaloAmericana @chola_swag @marthatoddharv @ImpeachShitler @lizlibra1009 @Sassprincess111 @Kaiya1212 @HadleysMaMa13 @Cha51brolll19 @Neugie"
          ],
          [
           "@AOC Where is this repository of information where crimes are given a designation of \"terrorism\" or not, and who decides?\n\nIt doesn't exist."
          ],
          [
           "Thank you @AOC for loudly saying what every Muslim, Jew, Sikh, Hindu, Black Christian, &amp; Arab Christian has been shouting for years\n\nIt "
          ],
          [
           "I have some questions for you, @AOC. You’ve been a Congresswoman for long enough now. Hope you have answers. But I’m not keeping my fingers "
          ],
          [
           "@Slate AOC: Our party sucks. Our party is responsible for every problem in America. I would like your vote. \n\nHAHAHAHAHAHAHA. Not a chance."
          ],
          [
           "I don’t see Biden, Harris, Buttigieg, Beto, Warren, etc. attacking other candidates.\n\nBut I do see Bernie, AOC, and the @justicedems attacki"
          ]
         ],
         "hoverlabel": {
          "namelength": 0
         },
         "hovertemplate": "<b>%{hovertext}</b><br><br>name=Alexandr Ocasio-Cortez<br>identity_attack=%{x}<br>toxicity=%{y}<br>size=%{marker.size}<br>tweet_prev1=%{customdata[0]}",
         "hovertext": [
          "Alexandr Ocasio-Cortez",
          "Alexandr Ocasio-Cortez",
          "Alexandr Ocasio-Cortez",
          "Alexandr Ocasio-Cortez",
          "Alexandr Ocasio-Cortez",
          "Alexandr Ocasio-Cortez",
          "Alexandr Ocasio-Cortez",
          "Alexandr Ocasio-Cortez",
          "Alexandr Ocasio-Cortez",
          "Alexandr Ocasio-Cortez",
          "Alexandr Ocasio-Cortez",
          "Alexandr Ocasio-Cortez",
          "Alexandr Ocasio-Cortez",
          "Alexandr Ocasio-Cortez",
          "Alexandr Ocasio-Cortez",
          "Alexandr Ocasio-Cortez",
          "Alexandr Ocasio-Cortez",
          "Alexandr Ocasio-Cortez",
          "Alexandr Ocasio-Cortez",
          "Alexandr Ocasio-Cortez",
          "Alexandr Ocasio-Cortez",
          "Alexandr Ocasio-Cortez",
          "Alexandr Ocasio-Cortez",
          "Alexandr Ocasio-Cortez",
          "Alexandr Ocasio-Cortez",
          "Alexandr Ocasio-Cortez",
          "Alexandr Ocasio-Cortez",
          "Alexandr Ocasio-Cortez",
          "Alexandr Ocasio-Cortez",
          "Alexandr Ocasio-Cortez",
          "Alexandr Ocasio-Cortez",
          "Alexandr Ocasio-Cortez",
          "Alexandr Ocasio-Cortez",
          "Alexandr Ocasio-Cortez",
          "Alexandr Ocasio-Cortez",
          "Alexandr Ocasio-Cortez",
          "Alexandr Ocasio-Cortez",
          "Alexandr Ocasio-Cortez",
          "Alexandr Ocasio-Cortez",
          "Alexandr Ocasio-Cortez",
          "Alexandr Ocasio-Cortez",
          "Alexandr Ocasio-Cortez",
          "Alexandr Ocasio-Cortez",
          "Alexandr Ocasio-Cortez",
          "Alexandr Ocasio-Cortez",
          "Alexandr Ocasio-Cortez",
          "Alexandr Ocasio-Cortez",
          "Alexandr Ocasio-Cortez",
          "Alexandr Ocasio-Cortez",
          "Alexandr Ocasio-Cortez",
          "Alexandr Ocasio-Cortez",
          "Alexandr Ocasio-Cortez",
          "Alexandr Ocasio-Cortez",
          "Alexandr Ocasio-Cortez",
          "Alexandr Ocasio-Cortez",
          "Alexandr Ocasio-Cortez",
          "Alexandr Ocasio-Cortez",
          "Alexandr Ocasio-Cortez",
          "Alexandr Ocasio-Cortez",
          "Alexandr Ocasio-Cortez",
          "Alexandr Ocasio-Cortez",
          "Alexandr Ocasio-Cortez",
          "Alexandr Ocasio-Cortez",
          "Alexandr Ocasio-Cortez",
          "Alexandr Ocasio-Cortez",
          "Alexandr Ocasio-Cortez",
          "Alexandr Ocasio-Cortez",
          "Alexandr Ocasio-Cortez",
          "Alexandr Ocasio-Cortez",
          "Alexandr Ocasio-Cortez",
          "Alexandr Ocasio-Cortez",
          "Alexandr Ocasio-Cortez",
          "Alexandr Ocasio-Cortez",
          "Alexandr Ocasio-Cortez",
          "Alexandr Ocasio-Cortez",
          "Alexandr Ocasio-Cortez",
          "Alexandr Ocasio-Cortez",
          "Alexandr Ocasio-Cortez",
          "Alexandr Ocasio-Cortez",
          "Alexandr Ocasio-Cortez",
          "Alexandr Ocasio-Cortez",
          "Alexandr Ocasio-Cortez",
          "Alexandr Ocasio-Cortez",
          "Alexandr Ocasio-Cortez",
          "Alexandr Ocasio-Cortez",
          "Alexandr Ocasio-Cortez",
          "Alexandr Ocasio-Cortez",
          "Alexandr Ocasio-Cortez",
          "Alexandr Ocasio-Cortez",
          "Alexandr Ocasio-Cortez",
          "Alexandr Ocasio-Cortez",
          "Alexandr Ocasio-Cortez",
          "Alexandr Ocasio-Cortez",
          "Alexandr Ocasio-Cortez",
          "Alexandr Ocasio-Cortez",
          "Alexandr Ocasio-Cortez",
          "Alexandr Ocasio-Cortez",
          "Alexandr Ocasio-Cortez",
          "Alexandr Ocasio-Cortez",
          "Alexandr Ocasio-Cortez",
          "Alexandr Ocasio-Cortez",
          "Alexandr Ocasio-Cortez",
          "Alexandr Ocasio-Cortez",
          "Alexandr Ocasio-Cortez",
          "Alexandr Ocasio-Cortez",
          "Alexandr Ocasio-Cortez",
          "Alexandr Ocasio-Cortez",
          "Alexandr Ocasio-Cortez",
          "Alexandr Ocasio-Cortez",
          "Alexandr Ocasio-Cortez",
          "Alexandr Ocasio-Cortez",
          "Alexandr Ocasio-Cortez",
          "Alexandr Ocasio-Cortez",
          "Alexandr Ocasio-Cortez",
          "Alexandr Ocasio-Cortez",
          "Alexandr Ocasio-Cortez",
          "Alexandr Ocasio-Cortez",
          "Alexandr Ocasio-Cortez",
          "Alexandr Ocasio-Cortez",
          "Alexandr Ocasio-Cortez",
          "Alexandr Ocasio-Cortez",
          "Alexandr Ocasio-Cortez",
          "Alexandr Ocasio-Cortez",
          "Alexandr Ocasio-Cortez",
          "Alexandr Ocasio-Cortez",
          "Alexandr Ocasio-Cortez",
          "Alexandr Ocasio-Cortez",
          "Alexandr Ocasio-Cortez",
          "Alexandr Ocasio-Cortez",
          "Alexandr Ocasio-Cortez",
          "Alexandr Ocasio-Cortez",
          "Alexandr Ocasio-Cortez",
          "Alexandr Ocasio-Cortez",
          "Alexandr Ocasio-Cortez",
          "Alexandr Ocasio-Cortez",
          "Alexandr Ocasio-Cortez",
          "Alexandr Ocasio-Cortez",
          "Alexandr Ocasio-Cortez",
          "Alexandr Ocasio-Cortez",
          "Alexandr Ocasio-Cortez",
          "Alexandr Ocasio-Cortez",
          "Alexandr Ocasio-Cortez",
          "Alexandr Ocasio-Cortez",
          "Alexandr Ocasio-Cortez",
          "Alexandr Ocasio-Cortez",
          "Alexandr Ocasio-Cortez",
          "Alexandr Ocasio-Cortez",
          "Alexandr Ocasio-Cortez",
          "Alexandr Ocasio-Cortez",
          "Alexandr Ocasio-Cortez",
          "Alexandr Ocasio-Cortez",
          "Alexandr Ocasio-Cortez",
          "Alexandr Ocasio-Cortez",
          "Alexandr Ocasio-Cortez",
          "Alexandr Ocasio-Cortez",
          "Alexandr Ocasio-Cortez",
          "Alexandr Ocasio-Cortez",
          "Alexandr Ocasio-Cortez",
          "Alexandr Ocasio-Cortez",
          "Alexandr Ocasio-Cortez",
          "Alexandr Ocasio-Cortez",
          "Alexandr Ocasio-Cortez",
          "Alexandr Ocasio-Cortez",
          "Alexandr Ocasio-Cortez",
          "Alexandr Ocasio-Cortez",
          "Alexandr Ocasio-Cortez",
          "Alexandr Ocasio-Cortez",
          "Alexandr Ocasio-Cortez",
          "Alexandr Ocasio-Cortez",
          "Alexandr Ocasio-Cortez",
          "Alexandr Ocasio-Cortez",
          "Alexandr Ocasio-Cortez",
          "Alexandr Ocasio-Cortez",
          "Alexandr Ocasio-Cortez",
          "Alexandr Ocasio-Cortez",
          "Alexandr Ocasio-Cortez",
          "Alexandr Ocasio-Cortez",
          "Alexandr Ocasio-Cortez",
          "Alexandr Ocasio-Cortez",
          "Alexandr Ocasio-Cortez",
          "Alexandr Ocasio-Cortez",
          "Alexandr Ocasio-Cortez",
          "Alexandr Ocasio-Cortez",
          "Alexandr Ocasio-Cortez",
          "Alexandr Ocasio-Cortez",
          "Alexandr Ocasio-Cortez",
          "Alexandr Ocasio-Cortez",
          "Alexandr Ocasio-Cortez",
          "Alexandr Ocasio-Cortez",
          "Alexandr Ocasio-Cortez",
          "Alexandr Ocasio-Cortez",
          "Alexandr Ocasio-Cortez",
          "Alexandr Ocasio-Cortez",
          "Alexandr Ocasio-Cortez",
          "Alexandr Ocasio-Cortez",
          "Alexandr Ocasio-Cortez",
          "Alexandr Ocasio-Cortez",
          "Alexandr Ocasio-Cortez",
          "Alexandr Ocasio-Cortez",
          "Alexandr Ocasio-Cortez"
         ],
         "legendgroup": "Alexandr Ocasio-Cortez",
         "marker": {
          "color": "#FFA15A",
          "size": [
           10.759,
           48.234,
           11.362,
           66.872,
           21.761,
           6.9750000000000005,
           22.958000000000002,
           18.364,
           71.77799999999999,
           19.915,
           22.959,
           50.124,
           5.356000000000001,
           46.589999999999996,
           65.19500000000001,
           32.223,
           40.201,
           55.909,
           71.434,
           17.619,
           60.797999999999995,
           8.953,
           7.5600000000000005,
           71.77799999999999,
           75.058,
           12.095,
           18.441,
           60.797999999999995,
           18.798000000000002,
           10.447,
           21.708,
           13.83,
           70.573,
           10.587,
           60.797999999999995,
           8.705,
           17.497,
           60.838,
           43.152,
           43.112,
           50.11600000000001,
           60.797999999999995,
           3.531,
           21.761,
           71.77799999999999,
           71.77799999999999,
           21.761,
           34.663,
           14.261,
           34.264,
           28.1,
           6.886,
           8.208,
           43.908,
           5.058,
           71.77799999999999,
           73.887,
           23.239,
           17.073,
           77.804,
           83.785,
           21.532,
           32.149,
           3.689,
           76.689,
           15.589,
           31.619000000000003,
           28.993000000000002,
           13.807,
           23.596,
           71.434,
           65.28399999999999,
           15.382000000000001,
           20.656,
           36.116,
           25.846000000000004,
           43.867,
           83.191,
           37.848,
           32.551,
           17.449,
           21.144,
           28.011000000000003,
           71.77799999999999,
           61.785000000000004,
           25.745,
           71.77799999999999,
           17.575,
           10.399,
           18.093999999999998,
           20.319000000000003,
           71.77799999999999,
           26.881,
           20.395,
           25.348,
           6.886,
           47.906,
           16.286,
           37.848,
           64.058,
           37.344,
           5.058,
           44.55,
           24.098,
           60.797999999999995,
           87.141,
           46.589999999999996,
           6.549,
           87.884,
           60.797999999999995,
           20.365,
           16.320999999999998,
           26.881,
           60.797999999999995,
           68.753,
           93.343,
           21.881999999999998,
           31.468,
           14.942,
           76.678,
           9.366,
           73.526,
           33.345,
           53.49699999999999,
           9.727,
           92.703,
           37.067,
           54.333,
           76.683,
           45.634,
           38.999,
           60.797999999999995,
           83.785,
           9.364,
           20.453,
           10.465,
           38.467,
           21.761,
           56.535000000000004,
           11.759,
           13.635,
           33.006,
           42.834,
           12.318,
           36.515,
           53.079,
           53.28699999999999,
           32.228,
           12.064,
           25.836,
           45.483000000000004,
           37.212,
           53.15,
           5.738,
           71.77799999999999,
           55.909,
           71.77799999999999,
           13.186,
           6.886,
           55.909,
           6.481000000000001,
           31.723000000000003,
           11.116,
           71.77799999999999,
           16.265,
           25.745,
           20.319000000000003,
           71.25399999999999,
           71.77799999999999,
           71.77799999999999,
           25.745,
           44.811,
           43.632,
           65.19500000000001,
           18.307000000000002,
           11.019,
           46.931,
           21.761,
           71.77799999999999,
           76.68199999999999,
           53.091,
           9.447999999999999,
           83.17099999999999,
           17.137,
           53.592,
           11.526,
           23.867,
           71.434,
           22.688,
           20.304,
           21.357,
           12.281,
           50.27199999999999,
           37.758,
           32.188,
           20.884,
           71.77799999999999,
           20.319000000000003,
           72.803,
           37.549
          ],
          "sizemode": "area",
          "sizeref": 0.24465,
          "symbol": "circle"
         },
         "mode": "markers",
         "name": "Alexandr Ocasio-Cortez",
         "showlegend": true,
         "type": "scatter",
         "x": [
          0.09902,
          0.32896,
          0.09772,
          0.32474,
          0.12754,
          0.04079,
          0.21694,
          0.14575,
          0.85038,
          0.27353,
          0.21508,
          0.73143,
          0.04707,
          0.6788,
          0.7208,
          0.25354,
          0.24568,
          0.60395,
          0.63421,
          0.12274,
          0.7208,
          0.11059,
          0.10486,
          0.85038,
          0.40651,
          0.09604,
          0.17047,
          0.7208,
          0.31426,
          0.14713,
          0.20334,
          0.16579,
          0.7317,
          0.07589,
          0.7208,
          0.12124,
          0.21849,
          0.63421,
          0.46487,
          0.68887,
          0.52173,
          0.7208,
          0.0849,
          0.12754,
          0.85038,
          0.85038,
          0.12754,
          0.22209,
          0.12316,
          0.16746,
          0.57801,
          0.07923,
          0.15636,
          0.28934,
          0.03415,
          0.85038,
          0.68822,
          0.23812,
          0.15481,
          0.63788,
          0.48622,
          0.60256,
          0.28623,
          0.0194,
          0.74064,
          0.25353,
          0.21918,
          0.44511,
          0.13532,
          0.28413,
          0.44858,
          0.32779,
          0.14741,
          0.09113,
          0.3296,
          0.14169,
          0.1693,
          0.33985,
          0.29802,
          0.28678,
          0.21097,
          0.23989,
          0.32897,
          0.85038,
          0.7208,
          0.05812,
          0.85038,
          0.26959,
          0.08827,
          0.10225,
          0.20788,
          0.85038,
          0.31509,
          0.17239,
          0.17949,
          0.07923,
          0.4649,
          0.15018,
          0.29802,
          0.58685,
          0.61295,
          0.03415,
          0.39077,
          0.17328,
          0.7208,
          0.51336,
          0.27967,
          0.03699,
          0.42544,
          0.7208,
          0.14939,
          0.14521,
          0.31509,
          0.36799,
          0.76601,
          0.52086,
          0.24228,
          0.26413,
          0.10568,
          0.15587,
          0.08923,
          0.5938,
          0.37921,
          0.47494,
          0.21105,
          0.28403,
          0.57492,
          0.55246,
          0.41112,
          0.30452,
          0.37448,
          0.7208,
          0.44567,
          0.08546,
          0.20036,
          0.04412,
          0.24761,
          0.12754,
          0.38415,
          0.10704,
          0.11783,
          0.29168,
          0.36188,
          0.10244,
          0.32212,
          0.11567,
          0.41186,
          0.29156,
          0.10392,
          0.10576,
          0.18623,
          0.32362,
          0.3284,
          0.07009,
          0.85038,
          0.60395,
          0.85038,
          0.13311,
          0.07923,
          0.60395,
          0.07421,
          0.29511,
          0.12175,
          0.85038,
          0.1326,
          0.05812,
          0.20788,
          0.4479,
          0.85038,
          0.85038,
          0.05812,
          0.30421,
          0.46325,
          0.32714,
          0.30272,
          0.10327,
          0.29704,
          0.12754,
          0.85038,
          0.09359,
          0.67639,
          0.11673,
          0.68711,
          0.12169,
          0.37756,
          0.14926,
          0.2795,
          0.42681,
          0.20775,
          0.13547,
          0.10645,
          0.16314,
          0.51975,
          0.3121,
          0.28581,
          0.20363,
          0.85038,
          0.20788,
          0.48958,
          0.32348
         ],
         "xaxis": "x",
         "y": [
          0.10759,
          0.48234,
          0.11362,
          0.66872,
          0.21761,
          0.06975,
          0.22958,
          0.18364,
          0.71778,
          0.19915,
          0.22959,
          0.50124,
          0.05356,
          0.4659,
          0.65195,
          0.32223,
          0.40201,
          0.55909,
          0.71434,
          0.17619,
          0.60798,
          0.08953,
          0.0756,
          0.71778,
          0.75058,
          0.12095,
          0.18441,
          0.60798,
          0.18798,
          0.10447,
          0.21708,
          0.1383,
          0.70573,
          0.10587,
          0.60798,
          0.08705,
          0.17497,
          0.60838,
          0.43152,
          0.43112,
          0.50116,
          0.60798,
          0.03531,
          0.21761,
          0.71778,
          0.71778,
          0.21761,
          0.34663,
          0.14261,
          0.34264,
          0.281,
          0.06886,
          0.08208,
          0.43908,
          0.05058,
          0.71778,
          0.73887,
          0.23239,
          0.17073,
          0.77804,
          0.83785,
          0.21532,
          0.32149,
          0.03689,
          0.76689,
          0.15589,
          0.31619,
          0.28993,
          0.13807,
          0.23596,
          0.71434,
          0.65284,
          0.15382,
          0.20656,
          0.36116,
          0.25846,
          0.43867,
          0.83191,
          0.37848,
          0.32551,
          0.17449,
          0.21144,
          0.28011,
          0.71778,
          0.61785,
          0.25745,
          0.71778,
          0.17575,
          0.10399,
          0.18094,
          0.20319,
          0.71778,
          0.26881,
          0.20395,
          0.25348,
          0.06886,
          0.47906,
          0.16286,
          0.37848,
          0.64058,
          0.37344,
          0.05058,
          0.4455,
          0.24098,
          0.60798,
          0.87141,
          0.4659,
          0.06549,
          0.87884,
          0.60798,
          0.20365,
          0.16321,
          0.26881,
          0.60798,
          0.68753,
          0.93343,
          0.21882,
          0.31468,
          0.14942,
          0.76678,
          0.09366,
          0.73526,
          0.33345,
          0.53497,
          0.09727,
          0.92703,
          0.37067,
          0.54333,
          0.76683,
          0.45634,
          0.38999,
          0.60798,
          0.83785,
          0.09364,
          0.20453,
          0.10465,
          0.38467,
          0.21761,
          0.56535,
          0.11759,
          0.13635,
          0.33006,
          0.42834,
          0.12318,
          0.36515,
          0.53079,
          0.53287,
          0.32228,
          0.12064,
          0.25836,
          0.45483,
          0.37212,
          0.5315,
          0.05738,
          0.71778,
          0.55909,
          0.71778,
          0.13186,
          0.06886,
          0.55909,
          0.06481,
          0.31723,
          0.11116,
          0.71778,
          0.16265,
          0.25745,
          0.20319,
          0.71254,
          0.71778,
          0.71778,
          0.25745,
          0.44811,
          0.43632,
          0.65195,
          0.18307,
          0.11019,
          0.46931,
          0.21761,
          0.71778,
          0.76682,
          0.53091,
          0.09448,
          0.83171,
          0.17137,
          0.53592,
          0.11526,
          0.23867,
          0.71434,
          0.22688,
          0.20304,
          0.21357,
          0.12281,
          0.50272,
          0.37758,
          0.32188,
          0.20884,
          0.71778,
          0.20319,
          0.72803,
          0.37549
         ],
         "yaxis": "y"
        }
       ],
       "layout": {
        "legend": {
         "itemsizing": "constant",
         "title": {
          "text": "name"
         },
         "tracegroupgap": 0
        },
        "margin": {
         "t": 60
        },
        "template": {
         "data": {
          "bar": [
           {
            "error_x": {
             "color": "#2a3f5f"
            },
            "error_y": {
             "color": "#2a3f5f"
            },
            "marker": {
             "line": {
              "color": "#E5ECF6",
              "width": 0.5
             }
            },
            "type": "bar"
           }
          ],
          "barpolar": [
           {
            "marker": {
             "line": {
              "color": "#E5ECF6",
              "width": 0.5
             }
            },
            "type": "barpolar"
           }
          ],
          "carpet": [
           {
            "aaxis": {
             "endlinecolor": "#2a3f5f",
             "gridcolor": "white",
             "linecolor": "white",
             "minorgridcolor": "white",
             "startlinecolor": "#2a3f5f"
            },
            "baxis": {
             "endlinecolor": "#2a3f5f",
             "gridcolor": "white",
             "linecolor": "white",
             "minorgridcolor": "white",
             "startlinecolor": "#2a3f5f"
            },
            "type": "carpet"
           }
          ],
          "choropleth": [
           {
            "colorbar": {
             "outlinewidth": 0,
             "ticks": ""
            },
            "type": "choropleth"
           }
          ],
          "contour": [
           {
            "colorbar": {
             "outlinewidth": 0,
             "ticks": ""
            },
            "colorscale": [
             [
              0,
              "#0d0887"
             ],
             [
              0.1111111111111111,
              "#46039f"
             ],
             [
              0.2222222222222222,
              "#7201a8"
             ],
             [
              0.3333333333333333,
              "#9c179e"
             ],
             [
              0.4444444444444444,
              "#bd3786"
             ],
             [
              0.5555555555555556,
              "#d8576b"
             ],
             [
              0.6666666666666666,
              "#ed7953"
             ],
             [
              0.7777777777777778,
              "#fb9f3a"
             ],
             [
              0.8888888888888888,
              "#fdca26"
             ],
             [
              1,
              "#f0f921"
             ]
            ],
            "type": "contour"
           }
          ],
          "contourcarpet": [
           {
            "colorbar": {
             "outlinewidth": 0,
             "ticks": ""
            },
            "type": "contourcarpet"
           }
          ],
          "heatmap": [
           {
            "colorbar": {
             "outlinewidth": 0,
             "ticks": ""
            },
            "colorscale": [
             [
              0,
              "#0d0887"
             ],
             [
              0.1111111111111111,
              "#46039f"
             ],
             [
              0.2222222222222222,
              "#7201a8"
             ],
             [
              0.3333333333333333,
              "#9c179e"
             ],
             [
              0.4444444444444444,
              "#bd3786"
             ],
             [
              0.5555555555555556,
              "#d8576b"
             ],
             [
              0.6666666666666666,
              "#ed7953"
             ],
             [
              0.7777777777777778,
              "#fb9f3a"
             ],
             [
              0.8888888888888888,
              "#fdca26"
             ],
             [
              1,
              "#f0f921"
             ]
            ],
            "type": "heatmap"
           }
          ],
          "heatmapgl": [
           {
            "colorbar": {
             "outlinewidth": 0,
             "ticks": ""
            },
            "colorscale": [
             [
              0,
              "#0d0887"
             ],
             [
              0.1111111111111111,
              "#46039f"
             ],
             [
              0.2222222222222222,
              "#7201a8"
             ],
             [
              0.3333333333333333,
              "#9c179e"
             ],
             [
              0.4444444444444444,
              "#bd3786"
             ],
             [
              0.5555555555555556,
              "#d8576b"
             ],
             [
              0.6666666666666666,
              "#ed7953"
             ],
             [
              0.7777777777777778,
              "#fb9f3a"
             ],
             [
              0.8888888888888888,
              "#fdca26"
             ],
             [
              1,
              "#f0f921"
             ]
            ],
            "type": "heatmapgl"
           }
          ],
          "histogram": [
           {
            "marker": {
             "colorbar": {
              "outlinewidth": 0,
              "ticks": ""
             }
            },
            "type": "histogram"
           }
          ],
          "histogram2d": [
           {
            "colorbar": {
             "outlinewidth": 0,
             "ticks": ""
            },
            "colorscale": [
             [
              0,
              "#0d0887"
             ],
             [
              0.1111111111111111,
              "#46039f"
             ],
             [
              0.2222222222222222,
              "#7201a8"
             ],
             [
              0.3333333333333333,
              "#9c179e"
             ],
             [
              0.4444444444444444,
              "#bd3786"
             ],
             [
              0.5555555555555556,
              "#d8576b"
             ],
             [
              0.6666666666666666,
              "#ed7953"
             ],
             [
              0.7777777777777778,
              "#fb9f3a"
             ],
             [
              0.8888888888888888,
              "#fdca26"
             ],
             [
              1,
              "#f0f921"
             ]
            ],
            "type": "histogram2d"
           }
          ],
          "histogram2dcontour": [
           {
            "colorbar": {
             "outlinewidth": 0,
             "ticks": ""
            },
            "colorscale": [
             [
              0,
              "#0d0887"
             ],
             [
              0.1111111111111111,
              "#46039f"
             ],
             [
              0.2222222222222222,
              "#7201a8"
             ],
             [
              0.3333333333333333,
              "#9c179e"
             ],
             [
              0.4444444444444444,
              "#bd3786"
             ],
             [
              0.5555555555555556,
              "#d8576b"
             ],
             [
              0.6666666666666666,
              "#ed7953"
             ],
             [
              0.7777777777777778,
              "#fb9f3a"
             ],
             [
              0.8888888888888888,
              "#fdca26"
             ],
             [
              1,
              "#f0f921"
             ]
            ],
            "type": "histogram2dcontour"
           }
          ],
          "mesh3d": [
           {
            "colorbar": {
             "outlinewidth": 0,
             "ticks": ""
            },
            "type": "mesh3d"
           }
          ],
          "parcoords": [
           {
            "line": {
             "colorbar": {
              "outlinewidth": 0,
              "ticks": ""
             }
            },
            "type": "parcoords"
           }
          ],
          "pie": [
           {
            "automargin": true,
            "type": "pie"
           }
          ],
          "scatter": [
           {
            "marker": {
             "colorbar": {
              "outlinewidth": 0,
              "ticks": ""
             }
            },
            "type": "scatter"
           }
          ],
          "scatter3d": [
           {
            "line": {
             "colorbar": {
              "outlinewidth": 0,
              "ticks": ""
             }
            },
            "marker": {
             "colorbar": {
              "outlinewidth": 0,
              "ticks": ""
             }
            },
            "type": "scatter3d"
           }
          ],
          "scattercarpet": [
           {
            "marker": {
             "colorbar": {
              "outlinewidth": 0,
              "ticks": ""
             }
            },
            "type": "scattercarpet"
           }
          ],
          "scattergeo": [
           {
            "marker": {
             "colorbar": {
              "outlinewidth": 0,
              "ticks": ""
             }
            },
            "type": "scattergeo"
           }
          ],
          "scattergl": [
           {
            "marker": {
             "colorbar": {
              "outlinewidth": 0,
              "ticks": ""
             }
            },
            "type": "scattergl"
           }
          ],
          "scattermapbox": [
           {
            "marker": {
             "colorbar": {
              "outlinewidth": 0,
              "ticks": ""
             }
            },
            "type": "scattermapbox"
           }
          ],
          "scatterpolar": [
           {
            "marker": {
             "colorbar": {
              "outlinewidth": 0,
              "ticks": ""
             }
            },
            "type": "scatterpolar"
           }
          ],
          "scatterpolargl": [
           {
            "marker": {
             "colorbar": {
              "outlinewidth": 0,
              "ticks": ""
             }
            },
            "type": "scatterpolargl"
           }
          ],
          "scatterternary": [
           {
            "marker": {
             "colorbar": {
              "outlinewidth": 0,
              "ticks": ""
             }
            },
            "type": "scatterternary"
           }
          ],
          "surface": [
           {
            "colorbar": {
             "outlinewidth": 0,
             "ticks": ""
            },
            "colorscale": [
             [
              0,
              "#0d0887"
             ],
             [
              0.1111111111111111,
              "#46039f"
             ],
             [
              0.2222222222222222,
              "#7201a8"
             ],
             [
              0.3333333333333333,
              "#9c179e"
             ],
             [
              0.4444444444444444,
              "#bd3786"
             ],
             [
              0.5555555555555556,
              "#d8576b"
             ],
             [
              0.6666666666666666,
              "#ed7953"
             ],
             [
              0.7777777777777778,
              "#fb9f3a"
             ],
             [
              0.8888888888888888,
              "#fdca26"
             ],
             [
              1,
              "#f0f921"
             ]
            ],
            "type": "surface"
           }
          ],
          "table": [
           {
            "cells": {
             "fill": {
              "color": "#EBF0F8"
             },
             "line": {
              "color": "white"
             }
            },
            "header": {
             "fill": {
              "color": "#C8D4E3"
             },
             "line": {
              "color": "white"
             }
            },
            "type": "table"
           }
          ]
         },
         "layout": {
          "annotationdefaults": {
           "arrowcolor": "#2a3f5f",
           "arrowhead": 0,
           "arrowwidth": 1
          },
          "coloraxis": {
           "colorbar": {
            "outlinewidth": 0,
            "ticks": ""
           }
          },
          "colorscale": {
           "diverging": [
            [
             0,
             "#8e0152"
            ],
            [
             0.1,
             "#c51b7d"
            ],
            [
             0.2,
             "#de77ae"
            ],
            [
             0.3,
             "#f1b6da"
            ],
            [
             0.4,
             "#fde0ef"
            ],
            [
             0.5,
             "#f7f7f7"
            ],
            [
             0.6,
             "#e6f5d0"
            ],
            [
             0.7,
             "#b8e186"
            ],
            [
             0.8,
             "#7fbc41"
            ],
            [
             0.9,
             "#4d9221"
            ],
            [
             1,
             "#276419"
            ]
           ],
           "sequential": [
            [
             0,
             "#0d0887"
            ],
            [
             0.1111111111111111,
             "#46039f"
            ],
            [
             0.2222222222222222,
             "#7201a8"
            ],
            [
             0.3333333333333333,
             "#9c179e"
            ],
            [
             0.4444444444444444,
             "#bd3786"
            ],
            [
             0.5555555555555556,
             "#d8576b"
            ],
            [
             0.6666666666666666,
             "#ed7953"
            ],
            [
             0.7777777777777778,
             "#fb9f3a"
            ],
            [
             0.8888888888888888,
             "#fdca26"
            ],
            [
             1,
             "#f0f921"
            ]
           ],
           "sequentialminus": [
            [
             0,
             "#0d0887"
            ],
            [
             0.1111111111111111,
             "#46039f"
            ],
            [
             0.2222222222222222,
             "#7201a8"
            ],
            [
             0.3333333333333333,
             "#9c179e"
            ],
            [
             0.4444444444444444,
             "#bd3786"
            ],
            [
             0.5555555555555556,
             "#d8576b"
            ],
            [
             0.6666666666666666,
             "#ed7953"
            ],
            [
             0.7777777777777778,
             "#fb9f3a"
            ],
            [
             0.8888888888888888,
             "#fdca26"
            ],
            [
             1,
             "#f0f921"
            ]
           ]
          },
          "colorway": [
           "#636efa",
           "#EF553B",
           "#00cc96",
           "#ab63fa",
           "#FFA15A",
           "#19d3f3",
           "#FF6692",
           "#B6E880",
           "#FF97FF",
           "#FECB52"
          ],
          "font": {
           "color": "#2a3f5f"
          },
          "geo": {
           "bgcolor": "white",
           "lakecolor": "white",
           "landcolor": "#E5ECF6",
           "showlakes": true,
           "showland": true,
           "subunitcolor": "white"
          },
          "hoverlabel": {
           "align": "left"
          },
          "hovermode": "closest",
          "mapbox": {
           "style": "light"
          },
          "paper_bgcolor": "white",
          "plot_bgcolor": "#E5ECF6",
          "polar": {
           "angularaxis": {
            "gridcolor": "white",
            "linecolor": "white",
            "ticks": ""
           },
           "bgcolor": "#E5ECF6",
           "radialaxis": {
            "gridcolor": "white",
            "linecolor": "white",
            "ticks": ""
           }
          },
          "scene": {
           "xaxis": {
            "backgroundcolor": "#E5ECF6",
            "gridcolor": "white",
            "gridwidth": 2,
            "linecolor": "white",
            "showbackground": true,
            "ticks": "",
            "zerolinecolor": "white"
           },
           "yaxis": {
            "backgroundcolor": "#E5ECF6",
            "gridcolor": "white",
            "gridwidth": 2,
            "linecolor": "white",
            "showbackground": true,
            "ticks": "",
            "zerolinecolor": "white"
           },
           "zaxis": {
            "backgroundcolor": "#E5ECF6",
            "gridcolor": "white",
            "gridwidth": 2,
            "linecolor": "white",
            "showbackground": true,
            "ticks": "",
            "zerolinecolor": "white"
           }
          },
          "shapedefaults": {
           "line": {
            "color": "#2a3f5f"
           }
          },
          "ternary": {
           "aaxis": {
            "gridcolor": "white",
            "linecolor": "white",
            "ticks": ""
           },
           "baxis": {
            "gridcolor": "white",
            "linecolor": "white",
            "ticks": ""
           },
           "bgcolor": "#E5ECF6",
           "caxis": {
            "gridcolor": "white",
            "linecolor": "white",
            "ticks": ""
           }
          },
          "title": {
           "x": 0.05
          },
          "xaxis": {
           "automargin": true,
           "gridcolor": "white",
           "linecolor": "white",
           "ticks": "",
           "title": {
            "standoff": 15
           },
           "zerolinecolor": "white",
           "zerolinewidth": 2
          },
          "yaxis": {
           "automargin": true,
           "gridcolor": "white",
           "linecolor": "white",
           "ticks": "",
           "title": {
            "standoff": 15
           },
           "zerolinecolor": "white",
           "zerolinewidth": 2
          }
         }
        },
        "xaxis": {
         "anchor": "y",
         "domain": [
          0,
          1
         ],
         "title": {
          "text": "identity_attack"
         }
        },
        "yaxis": {
         "anchor": "x",
         "domain": [
          0,
          1
         ],
         "title": {
          "text": "toxicity"
         }
        }
       }
      },
      "text/html": [
       "<div>\n",
       "        \n",
       "        \n",
       "            <div id=\"d57d28fe-adf6-4f6b-958a-acd7f3485471\" class=\"plotly-graph-div\" style=\"height:525px; width:100%;\"></div>\n",
       "            <script type=\"text/javascript\">\n",
       "                require([\"plotly\"], function(Plotly) {\n",
       "                    window.PLOTLYENV=window.PLOTLYENV || {};\n",
       "                    \n",
       "                if (document.getElementById(\"d57d28fe-adf6-4f6b-958a-acd7f3485471\")) {\n",
       "                    Plotly.newPlot(\n",
       "                        'd57d28fe-adf6-4f6b-958a-acd7f3485471',\n",
       "                        [{\"customdata\": [[\"Some will say my plan to combat gun violence is \\u201ctoo bold.\\u201d As president, if Congress continues to bury its head in the sand, I will act. To\"], [\"\\u201cThis is another way to hinder women\\u2019s access to care, particularly for black women in the state of Louisiana,\\\" Harris said. \\u201cIt is going to\"], [\"@KamalaHarris Why don\\u2019t you tell China, India and Indonesia \\ud83d\\ude02\"], [\"Meet the power women behind  \\u2066@KamalaHarris as she\\u2069 runs for President, leaning in to women of color in a diverse Dem 2020 base: \\u2066@DeidreDeJ\"], [\"Loopholes in our system mean millions of guns are sold each year with no questions asked. This is a danger to our families, this is a danger\"], [\"@smalltownandrew @kamalaharris Kamala gets free pot from the Mexican drug cartels to be their spokeswoman\"], [\"@Lrihendry Sounds exactly like, Kamala Harris?  Note: to Willie!\"], [\"@KamalaHarris No one to sleep with this time to help you win.\"], [\"Retweet if you believe death-row felons lose LIFE, LIBERTY &amp; the RIGHT TO VOTE!\\n\\nLike if you see the campaigns of Socialists @BernieSand\"], [\"Jurors Hear Evidence On Teen \\u2018Crime Spree\\u2019 Ending In Officer Caprio\\u2019s Death https://t.co/nVqM2duaj9\"], [\"Retweet if you believe death-row felons lose LIFE, LIBERTY &amp; the RIGHT TO VOTE!\\n\\nLike if you see the campaigns of Socialists @BernieSand\"], [\"@charliekirk11 @BetoORourke @BernieSanders @KamalaHarris because they have us to filch it out of! We're stupid enough to keep voting these a\"], [\"I saw someone say they didn't like Kamala Harris, because of 'how she dealt with Brett Kavanaugh'!\\n\\nReally??  That's one of the reasons I re\"], [\".@KamalaHarris\\u2019 go-to response when she gets pressed on the issues and she doesn\\u2019t want to explain her position: Let\\u2019s have that conversatio\"], [\"If I was going to rate the candidates\\u2019 performances, not based on level of applause but on my view of their responses, it would be:\\n\\n1. Warr\"], [\"Retweet if you believe death-row felons lose LIFE, LIBERTY &amp; the RIGHT TO VOTE!\\n\\nLike if you see the campaigns of Socialists @BernieSand\"], [\"April 27, elected officials like @KamalaHarris are coming together to answer questions from working people just like you at the National For\"], [\"@unknowns1776 @AndPhaedrus @KamalaHarris Because no one believes what he or you posted. It\\u2019s complete bull\\ud83d\\udca9.\"], [\"#BOND25 \\n\\nDirected by Cary Fukunaga\\n\\nReturning cast:\\nDaniel Craig\\nRalph Fiennes \\nNaomie Harris \\nBen Wishaw\\nRory Kinnear \\nJeffrey Wright\\nL\\u00e9a \"], [\"Democrats demand you give up your hard-earned money to help the less fortunate\\n\\nThen why did @BetoORourke only give 1/3 of 1% of his income \"], [\"Melissa Harris Perry is on fire at the Men of Color Summit!! https://t.co/h4wIqGbGGA\"], [\"Democrats demand you give up your hard-earned money to help the less fortunate\\n\\nThen why did @BetoORourke only give 1/3 of 1% of his income \"], [\".@KamalaHarris\\u2019 go-to response when she gets pressed on the issues and she doesn\\u2019t want to explain her position: Let\\u2019s have that conversatio\"], [\"Question @BernieSanders and @KamalaHarris you claim that prisoners should not lose their constitutional rights, so do we assume you would gi\"], [\"Harris, and thank you for asking. https://t.co/ZK9id4xRRK\"], [\"At the risk of unleashing the hounds of hell on Twitter, I have no idea why people would vote for Biden or Sanders in a primary when there a\"], [\"@KamalaHarris Keep in mind the 2nd was made to restrict government not the people! https://t.co/53nUqW0nvY\"], [\"@JoeBiden @PeteButtigieg @KamalaHarris @SenWarren @amyklobuchar and ESPECIALLY @SenSanders:\\n\\nTHIS is his game plan. He is going to try and t\"], [\"Lashana Lynch and Rami Malek are joining Daniel Craig and Naomie Harris in the 25th James Bond film. Principle photography has started in Ja\"], [\"As the marijuana industry continues to grow, there are people of color sitting behind bars for doing the exact same thing. It's time we chan\"], [\"Where would 007 be without Moneypenny? Naomie Harris (@NaomieHarris) is back for #BOND25 https://t.co/aJWhRkRh6v\"], [\"Where would 007 be without Moneypenny? Naomie Harris (@NaomieHarris) is back for #BOND25 https://t.co/aJWhRkRh6v\"], [\"Retweet if you believe death-row felons lose LIFE, LIBERTY &amp; the RIGHT TO VOTE!\\n\\nLike if you see the campaigns of Socialists @BernieSand\"], [\"I saw someone say they didn't like Kamala Harris, because of 'how she dealt with Brett Kavanaugh'!\\n\\nReally??  That's one of the reasons I re\"], [\"Anyway the field looks pretty clear now. It\\u2019s Biden, Harris, Sanders, Warren. Two corporate, two not; two patriarchal, two not. I\\u2019ll be shoc\"], [\"@ruthmkb North Bay doesn't care....after all they elected Mike Harris.\"], [\"Why Mekanism CEO Jason Harris likes getting punched, the Kool-Aid man and  David Bowie https://t.co/9fYsivwnVS https://t.co/0w1PIL75eG\"], [\"@GOPChairwoman @KamalaHarris Good work, but you\\u2019re kinda beating a dead horse here.\"], [\"Whatever you think of @HillaryClinton, this is a must-read, spot-on analysis of where things stand on #impeachment and how to move forward @\"], [\"Three days in a row Cy-Fair! Let\\u2019s see if we can keep the streak alive with having the top three polling locations in Harris County! Find th\"], [\"Bernie Sanders is the new #1 in our 2020 Democrat rankings - CNNPolitics https://t.co/dMnOlq7JIz\"], [\".@KamalaHarris\\u2019 go-to response when she gets pressed on the issues and she doesn\\u2019t want to explain her position: Let\\u2019s have that conversatio\"], [\"@IKE_Packers Pick 12. Brian Burns                   Pick 30. K\\u2019Neal Harris\"], [\"\\\"If Congress doesn't pass these gun control laws, then @KamalaHarris\\u2014if she's elected president\\u2014she says she's going to put pen to paper and\"], [\"@charliekirk11 @BetoORourke @BernieSanders @KamalaHarris Come on now you know they don\\u2019t mean THEIR money!!\"], [\"Talked with 20 or so attendees of #SheThePeople2020 afterwards. Consensus was that @ewarren gave strongest performance. @KamalaHarris &amp; \"], [\"@pianogreen @maydaymindy9 @ThinkOneWorld Joe Biden Former Vice President. 30%\\nBernie Sanders U.S. Senator. 24%\\nPete Buttigieg Mayor. 9%\\nKama\"], [\"#BOND25 \\n\\nDirected by Cary Fukunaga\\n\\nReturning cast:\\nDaniel Craig\\nRalph Fiennes \\nNaomie Harris \\nBen Wishaw\\nRory Kinnear \\nJeffrey Wright\\nL\\u00e9a \"], [\"Loopholes in our system mean millions of guns are sold each year with no questions asked. This is a danger to our families, this is a danger\"], [\".@KamalaHarris\\u2019 go-to response when she gets pressed on the issues and she doesn\\u2019t want to explain her position: Let\\u2019s have that conversatio\"], [\"@SuperEliteTexan Unqualified Harris is already dictating. She shows be upended by the other leftists and clearly eliminated early in the gam\"], [\"Kamala Harris calls for third gender option on federal IDs, Sorry Kamala, there are only 2 genders!  https://t.co/r9bUXi0dfK #FoxNews\"], [\"The only viable candidates at this stage are Warren, Castro, and Harris. Everyone else can go home.\"], [\"@JKHokie @Mr_whistlepig @HokiESQ I like Yang. Yang and Harris?\"], [\"@21stCenturyFDR @JoeBiden Nope.  Don't need an ineffective, Russian backed, all talk/no action, anti-sanctions, honeymooned in Russia. popul\"], [\"@DLoesch Nope....my guess is Mayor Pete or Kamala Harris.\\n\\nCreepy Joe has too much baggage, and knows where the bodies are buried. He can't \"], [\"@Guffdaddy1 @abeligbod @KamalaHarris You are so witty and creative\"], [\"@charliekirk11 @BetoORourke @BernieSanders @KamalaHarris Maybe his name should be \\u201cCheapo\\u201d instead of Beto.\"], [\"Kamala Harris supports putting a 3rd gender option on federal ID cards.\\n\\nBernie Sanders supports allowing terrorists like the Boston Bomber \"], [\"@ChangePolls Beto is way more dominant in TX than Harris in CA ( Harris polls #3 in CA). Therefore, Beto has more safe delegates than Harris\"], [\"Where would 007 be without Moneypenny? Naomie Harris (@NaomieHarris) is back for #BOND25 https://t.co/aJWhRkRh6v\"], [\"@charliekirk11 @BetoORourke @BernieSanders @KamalaHarris Under Trump's #TaxCutsForTheRich these multinationals &amp; billionaires not only D\"], [\"@maydaymindy9 Only if it\\u2019s Biden/Warren or Biden/Harris, and Biden would make a deal for only one term then back his VP for president in 202\"], [\"@VividConfusion @KamalaHarris We are in the Puget Sound area... not only Seattle but everywhere around here. Yes many are moving but some do\"], [\"Kamala Harris supports putting a 3rd gender option on federal ID cards.\\n\\nBernie Sanders supports allowing terrorists like the Boston Bomber \"], [\".@KamalaHarris\\u2019 go-to response when she gets pressed on the issues and she doesn\\u2019t want to explain her position: Let\\u2019s have that conversatio\"], [\"@tribelaw @HillaryClinton @RonaldKlain @RepJerryNadler @RepAdamSchiff @jamie_raskin @PeteButtigieg @BetoORourke @JoeBiden @KamalaHarris Show\"], [\"@ChristopherCag5 @TimSheryl @KamalaHarris Old Testament slaughter happened due to evil sins of men, not God\\u2019s grace or the mercy that Jesus \"], [\"@marklevinshow Kamala Harris should have not been elected to the Senate, let alone running for the Presidency. What is happening here? D Onk\"], [\"What's so funny about all the centrist candidates is that like, I keep reading an article that's like Harris says X or Orourke does Y or klo\"], [\"@jerryllucas @KurtNiceHHL @armsivilli @KamalaHarris Popcorn ready for that!\"], [\"My favorite candidates right now are Pete Buttigieg, Bernie Sanders, and Kamala Harris. I like a lot of the policies Elizabeth Warren is pro\"], [\"@JamalSimmons @JoeBiden I think he, O\\u2019Rourke and Harris are the top tier with Warren and Castro in the second tier of contenders.\"], [\"@MonmouthPoll @JoeBiden @BernieSanders @PeteButtigieg @KamalaHarris @ewarren @BetoORourke @CoryBooker @Hickenlooper Maybe voters are beginni\"], [\"Lamar Jackson's personal QB coach Joshua Harris on what sets #Ravens QB apart: \\\"People saying he can't do something, he locks in like I have\"], [\"I'm honored to have been asked to moderate a candidates' panel on Wages and Working People featuring @JulianCastro @KamalaHarris,  @amyklobu\"], [\"#BOND25 \\n\\nDirected by Cary Fukunaga\\n\\nReturning cast:\\nDaniel Craig\\nRalph Fiennes \\nNaomie Harris \\nBen Wishaw\\nRory Kinnear \\nJeffrey Wright\\nL\\u00e9a \"], [\"#AvangersEndgame i dont know but i love it already, the series https://t.co/3X9Q4aqROH\"], [\"@ChrisHarrisJr For those saying \\u201cpay him\\u201d he\\u2019s under contract for $8 million this year so he isn\\u2019t exactly starving. Does he deserve more ba\"], [\"@DLoesch I don't think so. Kamala Harris might get his endorsement. I've got my popcorn though. \\ud83e\\udd13\"], [\"Kamala Harris can\\u2019t even be clear about whether convicted terrorists should vote? https://t.co/bEt8tYfNvn\"], [\"That was a GREAT answer by @KamalaHarris about how young men of color were criminalized for selling weed but now white men are making all of\"], [\"Sen. Kamala Harris says people who have been arrested for selling marijuana should be \\\"first in line to get the jobs that are available\\\" in \"], [\"Kamala Harris\\u2019s\\u2019 go to line when she is not prepared for a question and put on the spot is \\u201cI think it\\u2019s time to have that conversation.\\u201d\\n\\nT\"], [\"Good morning Richard Harris.\"], [\"Again I am agnostic in Biden but it did piss me off with some of the more obvious \\u201ccreepy Joe\\u201d hit jobs from Bernie faction. Even with Harri\"], [\"Now Playing: One Kiss by Calvin Harris &amp; Dua Lipa https://t.co/nXDpysl5Ar\"], [\"Whatever you think of @HillaryClinton, this is a must-read, spot-on analysis of where things stand on #impeachment and how to move forward @\"], [\"@hlthiskrieger @CyrusMMcQueen \\u2665\\ufe0f\\u2665\\ufe0f\\u2665\\ufe0f\\u2665\\ufe0f\\u2665\\ufe0f\\u2665\\ufe0f\\u2665\\ufe0f\\u2665\\ufe0f\\u2665\\ufe0f\\u2665\\ufe0f\\u2665\\ufe0f to Patsy Cline.  Roy Orbison, Johnny Cash, EmmyLou Harris, Hank Williams, Ray Charles d\"], [\"@ajclassic Policy on what?! Harris &amp; Booker have been on non-stop media tours addressing their Policy Positions and proposals.\"], [\"Why Mekanism CEO Jason Harris likes getting punched, the Kool-Aid man and David Bowie https://t.co/rkepZkYaM2 https://t.co/qPSkcuRUit\"], [\"@tribelaw @HillaryClinton @RonaldKlain @RepJerryNadler @RepAdamSchiff @jamie_raskin @PeteButtigieg @BetoORourke @JoeBiden @KamalaHarris The \"], [\"Kamala Harris was fire at #SheThePeople today. This answer on immigration had me on my feet. She let Trump have it. \\ud83d\\udd25 https://t.co/WUOur8mmW\"], [\"Bernie Sanders, Kamala Harris and now AOC and her chief of staff, ALL OF THEM back the idea that they want criminals to be able to vote in p\"], [\"GRAND SKY AND HARRIS CREATE BVLOS 'SUPER CORRIDOR'\\n\\nhttps://t.co/OnqdZvcNQ4\"], [\"#SheThePeople2020\\nIf only Kamala Harris was around back then to stop Kamala Harris from jailing so many people of color for marijuana.\\n#Kama\"], [\"Live feed of Kamala Harris\\u2019 campaign HQ after hearing Bernie and Tulsi were booed by a room full of black women  https://t.co/GpGEuuRQJu\"], [\"The media is labeling Joe Biden as the \\u201cgrown-up\\u201d in the race.\\n\\nI\\u2019m pretty sure...Elizabeth Warren, Kamala Harris, and everyone else running\"], [\"humilation of naked girls peruvian anal harris sex toon game porn girl anal licking squirting teens videos Spain  https://t.co/VJ6gLBL0bZ\"], [\".@KamalaHarris: \\u201cThere is not a teacher I know that went into that noble profession thinking that they\\u2019d have to strap on a gun in order to \"], [\"Rachael Harris @MagicConDE #LuciferOnNetflix  https://t.co/fAS65rhgGZ\"], [\"even though i know this, it doesn't make it less infuriating.\\n\\\"Voters require female candidates to be more prepared than men\\u2014and then punish\"], [\"@michaelmalice I also have a prediction. Kamala Harris will win 2020 and all we'll hear for the next 50 years is that if we haven't had a mi\"], [\"The For The Throne album is here. \\n\\n@XAmbassadors lead singer Sam Harris breaks down the inspiration behind the single \\u201cPower is Power\\u201d and \"], [\"@KamalaHarris The NRA doesn't have a thing to do with gun violence. Good grief y'all's narrative is obtuse.\"], [\"Me stepping into summer not pregnant but with a car seat cause I\\u2019m a fine mom now\\ud83d\\ude02 https://t.co/03fLTXJRkx\"], [\"Kamala Harris: If elected I will institute gun control by executive action. \\n\\nMe: Well, I was going to say that you just  blew your chances.\"], [\"\\\"@ThisIsMeIreland will continue to work towards a safe, accessible, best practice model of care for #transgenderpeople in Ireland until that\"], [\"HAPPY BIRTHDAY TO THE ONE AND ONLY ELORA HARRIS!!!!! I love you Elora and thank you for everything you done for me and others. You\\u2019re such a\"], [\"Twitter Summary Today:\\n\\n-Taylor Swift\\n-Avengers\\n-NFL Draft\\n\\nThat\\u2019s literally it\"], [\"Now Playing on FunX Dance : I Found You\\n - Benny Blanco &amp; Calvin Harris\\n https://t.co/ZkCwZM1OrA\"], [\"@maydaymindy9 oh PLEASE!!!\"], [\"@KamalaHarris Millions of ILLEGAL guns are sold without a background check because they are sold on the street ILLEGALLY. It\\u2019s already ILLEG\"], [\"The worst would be Harris or Buttigeig. Harris is a stone cold authoritarian who will bypass Congress &amp; neutralizes Haley as a woman. Bu\"], [\"@SimonHarrisTD                     What recourse would there be for parents where the child/individual has suffered long term damage as a re\"], [\"The For The Throne album is here. \\n\\n@XAmbassadors lead singer Sam Harris breaks down the inspiration behind the single \\u201cPower is Power\\u201d and \"], [\"@prole_no @PoliticForecast @JoeBiden @PeteButtigieg @BernieSanders @BetoORourke @KamalaHarris @ewarren @CoryBooker @AndrewYang @TulsiGabbard\"], [\"Rachael Harris @MagicConDE #LuciferOnNetflix  https://t.co/fAS65rhgGZ\"], [\"@laurielew1966 @KamalaHarris What exactly does \\\"treating a gun owner as if they we're armed\\\" mean? Approaching them with their weapon drawn?\"], [\"@BuckeyOn @ralphgriffinjr @KamalaHarris I worry about laws that would force women to carry rape/incest babies against their will.      If yo\"], [\"The For The Throne album is here. \\n\\n@XAmbassadors lead singer Sam Harris breaks down the inspiration behind the single \\u201cPower is Power\\u201d and \"], [\".@WorldOfStu tells @WatchChad which Democrat to watch out for in 2020 on the latest episode of the Chad Prather podcast.\\n\\n\\\"The one I would p\"], [\"@SXMUrbanView @thelauracoates @KamalaHarris Trivial argument @thelauracoates. Back to the drawing board for you.\"], [\"@KamalaHarris Stand up? That\\u2019s not your usual position to get what you want done in government, amirite?\\n\\nI mean, at least not according to \"], [\"Today the #BrainBus served its first constituents in Central and North Florida! Driver and @AlzFLGulf Program Manager Rob Harris discussed t\"], [\"Can someone ask @KamalaHarris about this in her next bullshit town hall? \\n\\nhttps://t.co/C87x3DNjq6 https://t.co/eCHQWmIneG\"], [\"If she has \\u2018I Kissed Dating Goodbye\\u2019 or any book by Joshua Harris on her bookshelf,\\n\\nFlee, my brothers. She will attempt to kill you. https:\"], [\"How do we get voters out to the polls? Invest in community leadership. #SheThePeople2020 https://t.co/JoTSXr7Qtd\"], [\"Dear @PolitiFact, \\n\\n@KamalaHarris said, \\\"The majority of women are minimum wage workers.\\\" You called this false even though she meant most m\"], [\"I\\u2019m loving this picture.\\n\\nI\\u2019m glad @KamalaHarris &amp; @JoeBiden\\u2019s voices, perspectives, life experiences, policy ideas will be part of the \"], [\"@KamalaHarris Do you have the facts to back up your bull \\ud83d\\udca9statement???\"], [\"@pwningkittanz @ZacharySolis6 @PoliticForecast @JoeBiden @PeteButtigieg @BernieSanders @BetoORourke @KamalaHarris @ewarren @CoryBooker @Andr\"], [\"@NateSilver538 Biden Harris ticket will win election.\"], [\"The For The Throne album is here. \\n\\n@XAmbassadors lead singer Sam Harris breaks down the inspiration behind the single \\u201cPower is Power\\u201d and \"], [\"How do we reconcile local problem solving with impact at scale in decentralised contexts? @ODIdev RA Dan Harris explores in a recent blog fo\"], [\"@MAGAHusker @KamalaHarris No I was the right the first time. I am a responsible gun owner. I believe that responsible gun owners should get \"], [\"Trump Job Approval:\\nApprove 44%\\nDisapprove 56%\\n\\n@Harris_X_/@ScottWRasmussen 4/22-25\\nhttps://t.co/apJn6k83WV\"], [\"Makes too much sense. PP or Harris, I gotta think the Colts trade for one of them https://t.co/QoM6uCN303\"], [\"@KamalaHarris We have a president who would be taking far more bold decisive action on a number of things including saving lives and keeping\"], [\"Where would 007 be without Moneypenny? Naomie Harris (@NaomieHarris) is back for #BOND25 https://t.co/aJWhRkRh6v\"], [\"@YWCArva #owaluncheon for Outstanding women! Recognizing many honorees, including @BHC_RVA Greta Harris in the human relations award! #commd\"], [\"Nasty twit says @KamalaHarris has \\u201ca nasty wit\\u201d. https://t.co/4keQmVkIHo\"], [\"Rachael Harris is on stage. \\ud83d\\ude42 #Lucifer #MagicCon @ Maritim Hotel Bonn https://t.co/TQi2PzUP6u\"], [\"European election candidate, convicted criminal Paul Harris AKA Stephen Yaxley-Lennon. Passport fraud attempting to enter the USA illegally.\"], [\"@DemocracyStorm @JoeCunninghamSC Wonderful! @SenFeinstein &amp; @KamalaHarris have also fought hard to ban offshoot drilling &amp; drift net\"], [\"NEW: #2020 hopeful @KamalaHarris is coming back to SC to meet with educators -- the day before teachers with @SCforED march on Columbia. @th\"], [\"#NowPlaying Love Won't Let Me Wait by Major Harris on #UrbanRadio Soul Hits Station https://t.co/JGX7wN7sFh\"], [\"I wonder which name Stephen Christopher Yaxley-Lennon will stand under - this one or Tommy Robinson or Andrew McMaster or Paul Harris or Way\"], [\"Kamala Harris chooses women of color to drive her campaign  https://t.co/NCSkHWjzzX\"], [\"@huggybuddy1 @PoliticForecast @JoeBiden @PeteButtigieg @BernieSanders @BetoORourke @KamalaHarris @ewarren @CoryBooker @AndrewYang @TulsiGabb\"], [\"The For The Throne album is here. \\n\\n@XAmbassadors lead singer Sam Harris breaks down the inspiration behind the single \\u201cPower is Power\\u201d and \"], [\".@KamalaHarris: \\u201cYou must start the marriages immediately.\\u201d \\ud83c\\udff3\\ufe0f\\u200d\\ud83c\\udf08 https://t.co/lym9FQzJB4\"], [\"Of the remaining Alabama players, who do you think the Redskins will draft? \\n\\nIsaiah Buggs\\nLester Cotton\\nDamien Harris\\nHale Hentges\\nChristia\"], [\"The For The Throne album is here. \\n\\n@XAmbassadors lead singer Sam Harris breaks down the inspiration behind the single \\u201cPower is Power\\u201d and \"], [\"Kamala Harris owns a handgun. That's disqualifying for a 2020 Democrat in my book - https://t.co/8S8qNwWRVo\"], [\"Kamala Harris on the hubbub over famous rainbow jacket. https://t.co/0N4FzFyiYc\"], [\"I'm really vexed by the most prominent living black sci fi writer suggesting that Kamala Harris' years as a prosecutor means that she should\"], [\"@omgsugardoll He kind of just projectile shit the second I opened his diaper \\ud83e\\udd37\\ud83c\\udffb\\u200d\\u2640\\ufe0f id truly rather catch it than have to clean it off carpet\"], [\"@ananavarro @KamalaHarris @JoeBiden Yes, they make the debate better, safer for the insurance companies to keep your health as their hostage\"], [\"Many of us own guns. That's okay. However, do you want a mentally ill or violent person to own weapons that were made for military use? I do\"], [\"Unbelievable! https://t.co/6Qk9W9IbzA\"], [\"@LeftwardSwing @ProFromWithin @BarbaraLNewsome @RBReich @ewarren @KamalaHarris That\\u2019s why Bernie won\\u2019t win.  We have FAR better candidates. \"], [\"@Ange_Amene Meanwhile Harrises CARE act goes to funding training on implicit bias in hospitals and med schools. https://t.co/XQFUgS73XM http\"], [\"@E73002002 @KamalaHarris Just for clarity, are you saying the U. S. military is filled with GED and ASVAB waiver individuals?\"], [\"@DemocracyStorm @JoeCunninghamSC Wonderful! @SenFeinstein &amp; @KamalaHarris have also fought hard to ban offshoot drilling &amp; drift net\"], [\"@Alex___Harris Tier 4?! I just opened them tier 2 is available\"], [\"#Wrong \\nAs long as she passes a #CommonSense gun control screening, she can own a handgun.\\n\\nKamala Harris owns a handgun. That's disqualifyi\"], [\"@SimonHarrisTD                     What recourse would there be for parents where the child/individual has suffered long term damage as a re\"], [\"The latest from @ShamsCharania: Around the league, executives believe several other teams, such as Memphis, Utah, Dallas and Brooklyn, will \"], [\"@KamalaHarris You're not afraid to silence the voice of the people, is what you're saying. This may come as a shock but the NRA isn't a gove\"], [\"Probably because the NRA are law-abiding folks who\\u2019ve done nothing to earn your ire. https://t.co/VfBjhC6zc5\"], [\"The For The Throne album is here. \\n\\n@XAmbassadors lead singer Sam Harris breaks down the inspiration behind the single \\u201cPower is Power\\u201d and \"], [\"The For The Throne album is here. \\n\\n@XAmbassadors lead singer Sam Harris breaks down the inspiration behind the single \\u201cPower is Power\\u201d and \"], [\"@LeaundraRoss @notcapnamerica @KamalaHarris It's coming! I've been involved in POTUS campaign politics for over three decades, and I've neve\"], [\"For your #Fridayreads we recommend this illuminating interview with MA student Alison Frater about her experience in university in the 70s. \"], [\"@mmpadellan Gillibrand or Harris. Beat me up but G. railroaded Franken over nothing &amp; left the slush fund to cover harassment complaints\"], [\"@BradyCrosby5 @LeftwardSwing @PoliticForecast @JoeBiden @PeteButtigieg @BernieSanders @BetoORourke @KamalaHarris @ewarren @CoryBooker @Andre\"], [\"@KamalaHarris Sanity in the Heartland. Thank goodness\"], [\"I'm warming to the thought of a Biden/Harris ticket (or similar).\\n\\nWhat thinks you America?\"], [\"\\\"Harris' vision could build a uniquely comprehensive plan\\\"\\n\\nhttps://t.co/SVTO8skLLH\"], [\"@notcapnamerica @KamalaHarris They wind up in the databases I search. Thousands of kids missing. Thousands of them found dead and never repo\"], [\"More Bond 25 timeline (Part I) updates: References to a NY Post Page Six gossip story; Bamigoye interview with Broccoli; embedded video of G\"], [\"@Onesalontexas @KamalaHarris Democrats have been calling republicans racist since we kicked their ass in the civil war. 100 yrs of repeating\"], [\"Ever notice when Kamala Harris gets questioned, her response is always \\u201cI think we need to have that conversation\\u201d or \\u201cI\\u2019m ready to have tha\"], [\"Gearing up for our @CAPAction &amp; @SEIU forum on income inequality tomorrow. Excited to hear from @ewarren, @JulianCastro, @KamalaHarris, \"], [\"Kamala Harris and Elizabeth Warren Lead an Incredible Field of 2020 Women. How Are They Trailing Pete Buttigieg? https://t.co/834tiBYxV3\"], [\"I'm warming to the thought of a Biden/Harris ticket (or similar).\\n\\nWhat thinks you America?\"], [\"People who say Brie Larson is a bad Cap Marvel don\\u2019t know how terrible a character Cap Marvel is. Imagine Kamala Harris got superpowers. Tha\"], [\"Every Republican supports a lying, criminal, white nationalist sexual predator who locks kids in cages. That\\u2019s disqualifying in my book. htt\"], [\"Kamala Harris: If elected I will institute gun control by executive action. \\n\\nMe: Well, I was going to say that you just  blew your chances.\"], [\"I don\\u2019t know what this person is smoking  https://t.co/H1SWVkFetM\"], [\"#RockwellAutomation training by experts in the automation field, right here in metro Atlanta. \\n\\nIrvin Clark Tavarez Holston Ken Lapolla Ben \"], [\"God Bless https://t.co/TLQpGSO8TV\"], [\"As a white supremacist, Bernie is obviously my top pick, but I do think that Kamala Harris has the best policies for dealing with breeders a\"], [\"@KamalaHarris Huh. So Harris' poll numbers make more people think of the Titanic than just me...\"], [\"Well yeah https://t.co/9hP8nINcqb\"], [\"Neither Beto nor Pete hav the qualifications and gravitas of Warren and Harris.  Both Warren and Harris hav at least the ability to lead tha\"], [\"@KamalaHarris @NRA He thinks the solution to gun violence is more guns.  That\\u2019s like saying \\u201cthe solution to having a President who lies, is\"], [\"@BullPup2A @NOMERCY604 In my minds ear, I heard @KamalaHarris say she is in favor of illegal immigration. \\n\\nShe\\u2019d prefer to NOT fix Immigrat\"], [\"@KamalaHarris @NRA I agree with the President\"]], \"hoverlabel\": {\"namelength\": 0}, \"hovertemplate\": \"<b>%{hovertext}</b><br><br>name=Kamala Harris<br>identity_attack=%{x}<br>toxicity=%{y}<br>size=%{marker.size}<br>tweet_prev1=%{customdata[0]}\", \"hovertext\": [\"Kamala Harris\", \"Kamala Harris\", \"Kamala Harris\", \"Kamala Harris\", \"Kamala Harris\", \"Kamala Harris\", \"Kamala Harris\", \"Kamala Harris\", \"Kamala Harris\", \"Kamala Harris\", \"Kamala Harris\", \"Kamala Harris\", \"Kamala Harris\", \"Kamala Harris\", \"Kamala Harris\", \"Kamala Harris\", \"Kamala Harris\", \"Kamala Harris\", \"Kamala Harris\", \"Kamala Harris\", \"Kamala Harris\", \"Kamala Harris\", \"Kamala Harris\", \"Kamala Harris\", \"Kamala Harris\", \"Kamala Harris\", \"Kamala Harris\", \"Kamala Harris\", \"Kamala Harris\", \"Kamala Harris\", \"Kamala Harris\", \"Kamala Harris\", \"Kamala Harris\", \"Kamala Harris\", \"Kamala Harris\", \"Kamala Harris\", \"Kamala Harris\", \"Kamala Harris\", \"Kamala Harris\", \"Kamala Harris\", \"Kamala Harris\", \"Kamala Harris\", \"Kamala Harris\", \"Kamala Harris\", \"Kamala Harris\", \"Kamala Harris\", \"Kamala Harris\", \"Kamala Harris\", \"Kamala Harris\", \"Kamala Harris\", \"Kamala Harris\", \"Kamala Harris\", \"Kamala Harris\", \"Kamala Harris\", \"Kamala Harris\", \"Kamala Harris\", \"Kamala Harris\", \"Kamala Harris\", \"Kamala Harris\", \"Kamala Harris\", \"Kamala Harris\", \"Kamala Harris\", \"Kamala Harris\", \"Kamala Harris\", \"Kamala Harris\", \"Kamala Harris\", \"Kamala Harris\", \"Kamala Harris\", \"Kamala Harris\", \"Kamala Harris\", \"Kamala Harris\", \"Kamala Harris\", \"Kamala Harris\", \"Kamala Harris\", \"Kamala Harris\", \"Kamala Harris\", \"Kamala Harris\", \"Kamala Harris\", \"Kamala Harris\", \"Kamala Harris\", \"Kamala Harris\", \"Kamala Harris\", \"Kamala Harris\", \"Kamala Harris\", \"Kamala Harris\", \"Kamala Harris\", \"Kamala Harris\", \"Kamala Harris\", \"Kamala Harris\", \"Kamala Harris\", \"Kamala Harris\", \"Kamala Harris\", \"Kamala Harris\", \"Kamala Harris\", \"Kamala Harris\", \"Kamala Harris\", \"Kamala Harris\", \"Kamala Harris\", \"Kamala Harris\", \"Kamala Harris\", \"Kamala Harris\", \"Kamala Harris\", \"Kamala Harris\", \"Kamala Harris\", \"Kamala Harris\", \"Kamala Harris\", \"Kamala Harris\", \"Kamala Harris\", \"Kamala Harris\", \"Kamala Harris\", \"Kamala Harris\", \"Kamala Harris\", \"Kamala Harris\", \"Kamala Harris\", \"Kamala Harris\", \"Kamala Harris\", \"Kamala Harris\", \"Kamala Harris\", \"Kamala Harris\", \"Kamala Harris\", \"Kamala Harris\", \"Kamala Harris\", \"Kamala Harris\", \"Kamala Harris\", \"Kamala Harris\", \"Kamala Harris\", \"Kamala Harris\", \"Kamala Harris\", \"Kamala Harris\", \"Kamala Harris\", \"Kamala Harris\", \"Kamala Harris\", \"Kamala Harris\", \"Kamala Harris\", \"Kamala Harris\", \"Kamala Harris\", \"Kamala Harris\", \"Kamala Harris\", \"Kamala Harris\", \"Kamala Harris\", \"Kamala Harris\", \"Kamala Harris\", \"Kamala Harris\", \"Kamala Harris\", \"Kamala Harris\", \"Kamala Harris\", \"Kamala Harris\", \"Kamala Harris\", \"Kamala Harris\", \"Kamala Harris\", \"Kamala Harris\", \"Kamala Harris\", \"Kamala Harris\", \"Kamala Harris\", \"Kamala Harris\", \"Kamala Harris\", \"Kamala Harris\", \"Kamala Harris\", \"Kamala Harris\", \"Kamala Harris\", \"Kamala Harris\", \"Kamala Harris\", \"Kamala Harris\", \"Kamala Harris\", \"Kamala Harris\", \"Kamala Harris\", \"Kamala Harris\", \"Kamala Harris\", \"Kamala Harris\", \"Kamala Harris\", \"Kamala Harris\", \"Kamala Harris\", \"Kamala Harris\", \"Kamala Harris\", \"Kamala Harris\", \"Kamala Harris\", \"Kamala Harris\", \"Kamala Harris\", \"Kamala Harris\", \"Kamala Harris\", \"Kamala Harris\", \"Kamala Harris\", \"Kamala Harris\", \"Kamala Harris\", \"Kamala Harris\", \"Kamala Harris\", \"Kamala Harris\", \"Kamala Harris\", \"Kamala Harris\", \"Kamala Harris\", \"Kamala Harris\", \"Kamala Harris\", \"Kamala Harris\", \"Kamala Harris\", \"Kamala Harris\", \"Kamala Harris\", \"Kamala Harris\", \"Kamala Harris\", \"Kamala Harris\", \"Kamala Harris\"], \"legendgroup\": \"Kamala Harris\", \"marker\": {\"color\": \"#636efa\", \"size\": [49.112, 68.83200000000001, 35.037, 38.056, 22.994999999999997, 42.746, 7.5600000000000005, 20.380000000000003, 60.797999999999995, 18.681, 60.797999999999995, 76.079, 22.505, 20.599999999999998, 8.841000000000001, 60.797999999999995, 9.17, 61.868, 17.102999999999998, 20.276, 27.889999999999997, 20.276, 20.599999999999998, 22.8, 1.233, 38.712999999999994, 20.216, 11.63, 11.529, 48.512, 7.215000000000001, 7.215000000000001, 60.797999999999995, 22.505, 12.275, 16.903000000000002, 51.910000000000004, 36.315, 17.301, 7.968999999999999, 7.3469999999999995, 20.599999999999998, 22.243, 9.803, 36.727, 7.5009999999999994, 5.339, 17.102999999999998, 22.994999999999997, 20.599999999999998, 21.990000000000002, 18.223, 19.8, 10.832, 50.977, 42.096000000000004, 22.498, 43.541000000000004, 53.269, 8.393, 7.215000000000001, 27.67, 6.676, 10.112, 53.269, 20.599999999999998, 46.559, 27.49, 10.796999999999999, 6.654999999999999, 16.42, 4.723999999999999, 8.966000000000001, 71.434, 8.568000000000001, 3.3970000000000002, 17.102999999999998, 12.025, 6.438000000000001, 8.405, 14.172, 31.615, 26.758, 38.322, 4.977, 43.352000000000004, 11.667, 17.301, 27.771, 11.116, 51.910000000000004, 12.009, 31.003999999999998, 43.887, 4.277, 56.099, 71.258, 12.620000000000001, 93.314, 23.468, 46.589999999999996, 18.962, 38.844, 6.551, 34.959, 37.174, 10.26, 7.785, 8.485, 6.551, 11.244, 30.024, 32.118, 40.339999999999996, 12.187000000000001, 6.551, 43.705, 46.589999999999996, 30.861, 73.887, 6.551, 10.168000000000001, 15.017, 35.232, 11.134, 91.025, 40.765, 17.742, 28.042, 14.762, 49.552, 37.368, 7.4590000000000005, 6.551, 3.0349999999999997, 42.66, 37.354, 6.239999999999999, 18.742, 7.215000000000001, 9.790000000000001, 73.887, 20.973, 43.791000000000004, 22.864, 8.844000000000001, 16.831, 49.666, 31.784000000000002, 46.686, 6.551, 24.006, 11.261000000000001, 6.551, 12.025, 6.413, 31.642, 83.246, 27.134000000000004, 45.184999999999995, 8.802, 14.790000000000001, 13.486, 22.649, 22.864, 2.407, 12.267, 12.187000000000001, 3.939, 22.431, 17.589, 6.551, 6.551, 24.913, 10.019, 86.209, 16.591, 21.633, 9.035, 0.8670000000000001, 31.198999999999998, 17.099, 76.69, 3.945, 20.509, 6.812, 9.035, 22.544, 71.434, 10.26, 38.59, 14.261, 3.707, 60.797999999999995, 15.524, 3.694, 8.888, 51.786, 38.099, 32.139], \"sizemode\": \"area\", \"sizeref\": 0.24465, \"symbol\": \"circle\"}, \"mode\": \"markers\", \"name\": \"Kamala Harris\", \"showlegend\": true, \"type\": \"scatter\", \"x\": [0.38785, 0.86372, 0.42576, 0.45401, 0.17253, 0.5367, 0.05552, 0.09583, 0.60342, 0.08269, 0.60342, 0.41672, 0.17751, 0.10114, 0.17594, 0.60342, 0.10548, 0.21546, 0.29926, 0.16075, 0.41492, 0.16075, 0.10114, 0.11021, 0.01939, 0.25538, 0.20476, 0.09025, 0.18969, 0.52297, 0.07949, 0.07949, 0.60342, 0.17751, 0.12366, 0.21584, 0.28741, 0.09749, 0.15406, 0.08289, 0.1025, 0.10114, 0.14125, 0.08322, 0.21501, 0.09141, 0.05479, 0.29926, 0.17253, 0.10114, 0.2947, 0.30426, 0.28876, 0.1543, 0.56529, 0.27702, 0.10791, 0.32805, 0.60693, 0.12748, 0.07949, 0.16515, 0.09954, 0.15895, 0.60693, 0.10114, 0.28137, 0.33237, 0.08594, 0.1035, 0.0975, 0.05056, 0.09898, 0.44157, 0.06332, 0.0308, 0.29926, 0.10234, 0.04191, 0.03312, 0.17702, 0.53656, 0.1674, 0.31732, 0.04314, 0.32542, 0.05392, 0.15406, 0.17398, 0.11466, 0.28741, 0.12019, 0.27303, 0.34937, 0.05774, 0.52216, 0.85947, 0.2006, 0.56299, 0.17361, 0.316, 0.26687, 0.54275, 0.065, 0.13138, 0.167, 0.09524, 0.12922, 0.04871, 0.07791, 0.09541, 0.16054, 0.26036, 0.42697, 0.12743, 0.065, 0.29501, 0.316, 0.23191, 0.60066, 0.065, 0.12543, 0.08394, 0.15371, 0.10569, 0.17674, 0.11211, 0.18316, 0.33202, 0.1487, 0.27116, 0.31468, 0.08568, 0.065, 0.03328, 0.35563, 0.27581, 0.06024, 0.14928, 0.07949, 0.11343, 0.28055, 0.12436, 0.40445, 0.13631, 0.09685, 0.11096, 0.21209, 0.45258, 0.60693, 0.065, 0.15733, 0.20499, 0.065, 0.13276, 0.0243, 0.48716, 0.15306, 0.20431, 0.4833, 0.0854, 0.14097, 0.12252, 0.2142, 0.13631, 0.01826, 0.14525, 0.12743, 0.08324, 0.27431, 0.1191, 0.065, 0.065, 0.29094, 0.08643, 0.59243, 0.21105, 0.14463, 0.12729, 0.00834, 0.29212, 0.23467, 0.7208, 0.02401, 0.27377, 0.0928, 0.12729, 0.11358, 0.80312, 0.09524, 0.17893, 0.08722, 0.0773, 0.71701, 0.11877, 0.03309, 0.11625, 0.32835, 0.4115, 0.24629], \"xaxis\": \"x\", \"y\": [0.49112, 0.68832, 0.35037, 0.38056, 0.22995, 0.42746, 0.0756, 0.2038, 0.60798, 0.18681, 0.60798, 0.76079, 0.22505, 0.206, 0.08841, 0.60798, 0.0917, 0.61868, 0.17103, 0.20276, 0.2789, 0.20276, 0.206, 0.228, 0.01233, 0.38713, 0.20216, 0.1163, 0.11529, 0.48512, 0.07215, 0.07215, 0.60798, 0.22505, 0.12275, 0.16903, 0.5191, 0.36315, 0.17301, 0.07969, 0.07347, 0.206, 0.22243, 0.09803, 0.36727, 0.07501, 0.05339, 0.17103, 0.22995, 0.206, 0.2199, 0.18223, 0.198, 0.10832, 0.50977, 0.42096, 0.22498, 0.43541, 0.53269, 0.08393, 0.07215, 0.2767, 0.06676, 0.10112, 0.53269, 0.206, 0.46559, 0.2749, 0.10797, 0.06655, 0.1642, 0.04724, 0.08966, 0.71434, 0.08568, 0.03397, 0.17103, 0.12025, 0.06438, 0.08405, 0.14172, 0.31615, 0.26758, 0.38322, 0.04977, 0.43352, 0.11667, 0.17301, 0.27771, 0.11116, 0.5191, 0.12009, 0.31004, 0.43887, 0.04277, 0.56099, 0.71258, 0.1262, 0.93314, 0.23468, 0.4659, 0.18962, 0.38844, 0.06551, 0.34959, 0.37174, 0.1026, 0.07785, 0.08485, 0.06551, 0.11244, 0.30024, 0.32118, 0.4034, 0.12187, 0.06551, 0.43705, 0.4659, 0.30861, 0.73887, 0.06551, 0.10168, 0.15017, 0.35232, 0.11134, 0.91025, 0.40765, 0.17742, 0.28042, 0.14762, 0.49552, 0.37368, 0.07459, 0.06551, 0.03035, 0.4266, 0.37354, 0.0624, 0.18742, 0.07215, 0.0979, 0.73887, 0.20973, 0.43791, 0.22864, 0.08844, 0.16831, 0.49666, 0.31784, 0.46686, 0.06551, 0.24006, 0.11261, 0.06551, 0.12025, 0.06413, 0.31642, 0.83246, 0.27134, 0.45185, 0.08802, 0.1479, 0.13486, 0.22649, 0.22864, 0.02407, 0.12267, 0.12187, 0.03939, 0.22431, 0.17589, 0.06551, 0.06551, 0.24913, 0.10019, 0.86209, 0.16591, 0.21633, 0.09035, 0.00867, 0.31199, 0.17099, 0.7669, 0.03945, 0.20509, 0.06812, 0.09035, 0.22544, 0.71434, 0.1026, 0.3859, 0.14261, 0.03707, 0.60798, 0.15524, 0.03694, 0.08888, 0.51786, 0.38099, 0.32139], \"yaxis\": \"y\"}, {\"customdata\": [[\"I don\\u2019t know about the other 63+ million American citizens that voted for a @realDonaldTrump agenda, but I have had enough of this bitch @Sp\"], [\"I don\\u2019t know about the other 63+ million American citizens that voted for a @realDonaldTrump agenda, but I have had enough of this bitch @Sp\"], [\"I don\\u2019t know about the other 63+ million American citizens that voted for a @realDonaldTrump agenda, but I have had enough of this bitch @Sp\"], [\"I don\\u2019t know about the other 63+ million American citizens that voted for a @realDonaldTrump agenda, but I have had enough of this bitch @Sp\"], [\"I don\\u2019t know about the other 63+ million American citizens that voted for a @realDonaldTrump agenda, but I have had enough of this bitch @Sp\"], [\"I don\\u2019t know about the other 63+ million American citizens that voted for a @realDonaldTrump agenda, but I have had enough of this bitch @Sp\"], [\"I don\\u2019t know about the other 63+ million American citizens that voted for a @realDonaldTrump agenda, but I have had enough of this bitch @Sp\"], [\"I don\\u2019t know about the other 63+ million American citizens that voted for a @realDonaldTrump agenda, but I have had enough of this bitch @Sp\"], [\"I don\\u2019t know about the other 63+ million American citizens that voted for a @realDonaldTrump agenda, but I have had enough of this bitch @Sp\"], [\"I don\\u2019t know about the other 63+ million American citizens that voted for a @realDonaldTrump agenda, but I have had enough of this bitch @Sp\"], [\"I don\\u2019t know about the other 63+ million American citizens that voted for a @realDonaldTrump agenda, but I have had enough of this bitch @Sp\"], [\"I don\\u2019t know about the other 63+ million American citizens that voted for a @realDonaldTrump agenda, but I have had enough of this bitch @Sp\"], [\"I don\\u2019t know about the other 63+ million American citizens that voted for a @realDonaldTrump agenda, but I have had enough of this bitch @Sp\"], [\"I don\\u2019t know about the other 63+ million American citizens that voted for a @realDonaldTrump agenda, but I have had enough of this bitch @Sp\"], [\"I don\\u2019t know about the other 63+ million American citizens that voted for a @realDonaldTrump agenda, but I have had enough of this bitch @Sp\"], [\"I don\\u2019t know about the other 63+ million American citizens that voted for a @realDonaldTrump agenda, but I have had enough of this bitch @Sp\"], [\"I don\\u2019t know about the other 63+ million American citizens that voted for a @realDonaldTrump agenda, but I have had enough of this bitch @Sp\"], [\"I don\\u2019t know about the other 63+ million American citizens that voted for a @realDonaldTrump agenda, but I have had enough of this bitch @Sp\"], [\"I don\\u2019t know about the other 63+ million American citizens that voted for a @realDonaldTrump agenda, but I have had enough of this bitch @Sp\"], [\"I don\\u2019t know about the other 63+ million American citizens that voted for a @realDonaldTrump agenda, but I have had enough of this bitch @Sp\"], [\"I don\\u2019t know about the other 63+ million American citizens that voted for a @realDonaldTrump agenda, but I have had enough of this bitch @Sp\"], [\"I don\\u2019t know about the other 63+ million American citizens that voted for a @realDonaldTrump agenda, but I have had enough of this bitch @Sp\"], [\"I don\\u2019t know about the other 63+ million American citizens that voted for a @realDonaldTrump agenda, but I have had enough of this bitch @Sp\"], [\"I don\\u2019t know about the other 63+ million American citizens that voted for a @realDonaldTrump agenda, but I have had enough of this bitch @Sp\"], [\"I don\\u2019t know about the other 63+ million American citizens that voted for a @realDonaldTrump agenda, but I have had enough of this bitch @Sp\"], [\"I don\\u2019t know about the other 63+ million American citizens that voted for a @realDonaldTrump agenda, but I have had enough of this bitch @Sp\"], [\"I don\\u2019t know about the other 63+ million American citizens that voted for a @realDonaldTrump agenda, but I have had enough of this bitch @Sp\"], [\"I don\\u2019t know about the other 63+ million American citizens that voted for a @realDonaldTrump agenda, but I have had enough of this bitch @Sp\"], [\"I don\\u2019t know about the other 63+ million American citizens that voted for a @realDonaldTrump agenda, but I have had enough of this bitch @Sp\"], [\"I don\\u2019t know about the other 63+ million American citizens that voted for a @realDonaldTrump agenda, but I have had enough of this bitch @Sp\"], [\"I don\\u2019t know about the other 63+ million American citizens that voted for a @realDonaldTrump agenda, but I have had enough of this bitch @Sp\"], [\"I don\\u2019t know about the other 63+ million American citizens that voted for a @realDonaldTrump agenda, but I have had enough of this bitch @Sp\"], [\"I don\\u2019t know about the other 63+ million American citizens that voted for a @realDonaldTrump agenda, but I have had enough of this bitch @Sp\"], [\"I don\\u2019t know about the other 63+ million American citizens that voted for a @realDonaldTrump agenda, but I have had enough of this bitch @Sp\"], [\"I don\\u2019t know about the other 63+ million American citizens that voted for a @realDonaldTrump agenda, but I have had enough of this bitch @Sp\"], [\"I don\\u2019t know about the other 63+ million American citizens that voted for a @realDonaldTrump agenda, but I have had enough of this bitch @Sp\"], [\"I don\\u2019t know about the other 63+ million American citizens that voted for a @realDonaldTrump agenda, but I have had enough of this bitch @Sp\"], [\"I don\\u2019t know about the other 63+ million American citizens that voted for a @realDonaldTrump agenda, but I have had enough of this bitch @Sp\"], [\"I don\\u2019t know about the other 63+ million American citizens that voted for a @realDonaldTrump agenda, but I have had enough of this bitch @Sp\"], [\"I don\\u2019t know about the other 63+ million American citizens that voted for a @realDonaldTrump agenda, but I have had enough of this bitch @Sp\"], [\"I don\\u2019t know about the other 63+ million American citizens that voted for a @realDonaldTrump agenda, but I have had enough of this bitch @Sp\"], [\"I don\\u2019t know about the other 63+ million American citizens that voted for a @realDonaldTrump agenda, but I have had enough of this bitch @Sp\"], [\"I don\\u2019t know about the other 63+ million American citizens that voted for a @realDonaldTrump agenda, but I have had enough of this bitch @Sp\"], [\"I don\\u2019t know about the other 63+ million American citizens that voted for a @realDonaldTrump agenda, but I have had enough of this bitch @Sp\"], [\"I don\\u2019t know about the other 63+ million American citizens that voted for a @realDonaldTrump agenda, but I have had enough of this bitch @Sp\"], [\"I don\\u2019t know about the other 63+ million American citizens that voted for a @realDonaldTrump agenda, but I have had enough of this bitch @Sp\"], [\"I don\\u2019t know about the other 63+ million American citizens that voted for a @realDonaldTrump agenda, but I have had enough of this bitch @Sp\"], [\"I don\\u2019t know about the other 63+ million American citizens that voted for a @realDonaldTrump agenda, but I have had enough of this bitch @Sp\"], [\"I don\\u2019t know about the other 63+ million American citizens that voted for a @realDonaldTrump agenda, but I have had enough of this bitch @Sp\"], [\"I don\\u2019t know about the other 63+ million American citizens that voted for a @realDonaldTrump agenda, but I have had enough of this bitch @Sp\"], [\"I don\\u2019t know about the other 63+ million American citizens that voted for a @realDonaldTrump agenda, but I have had enough of this bitch @Sp\"], [\"I don\\u2019t know about the other 63+ million American citizens that voted for a @realDonaldTrump agenda, but I have had enough of this bitch @Sp\"], [\"I don\\u2019t know about the other 63+ million American citizens that voted for a @realDonaldTrump agenda, but I have had enough of this bitch @Sp\"], [\"I don\\u2019t know about the other 63+ million American citizens that voted for a @realDonaldTrump agenda, but I have had enough of this bitch @Sp\"], [\"I don\\u2019t know about the other 63+ million American citizens that voted for a @realDonaldTrump agenda, but I have had enough of this bitch @Sp\"], [\"I don\\u2019t know about the other 63+ million American citizens that voted for a @realDonaldTrump agenda, but I have had enough of this bitch @Sp\"], [\"I don\\u2019t know about the other 63+ million American citizens that voted for a @realDonaldTrump agenda, but I have had enough of this bitch @Sp\"], [\"I don\\u2019t know about the other 63+ million American citizens that voted for a @realDonaldTrump agenda, but I have had enough of this bitch @Sp\"], [\"I don\\u2019t know about the other 63+ million American citizens that voted for a @realDonaldTrump agenda, but I have had enough of this bitch @Sp\"], [\"I don\\u2019t know about the other 63+ million American citizens that voted for a @realDonaldTrump agenda, but I have had enough of this bitch @Sp\"], [\"I don\\u2019t know about the other 63+ million American citizens that voted for a @realDonaldTrump agenda, but I have had enough of this bitch @Sp\"], [\"I don\\u2019t know about the other 63+ million American citizens that voted for a @realDonaldTrump agenda, but I have had enough of this bitch @Sp\"], [\"I don\\u2019t know about the other 63+ million American citizens that voted for a @realDonaldTrump agenda, but I have had enough of this bitch @Sp\"], [\"I don\\u2019t know about the other 63+ million American citizens that voted for a @realDonaldTrump agenda, but I have had enough of this bitch @Sp\"], [\"I don\\u2019t know about the other 63+ million American citizens that voted for a @realDonaldTrump agenda, but I have had enough of this bitch @Sp\"], [\"I don\\u2019t know about the other 63+ million American citizens that voted for a @realDonaldTrump agenda, but I have had enough of this bitch @Sp\"], [\"I don\\u2019t know about the other 63+ million American citizens that voted for a @realDonaldTrump agenda, but I have had enough of this bitch @Sp\"], [\"I don\\u2019t know about the other 63+ million American citizens that voted for a @realDonaldTrump agenda, but I have had enough of this bitch @Sp\"], [\"I don\\u2019t know about the other 63+ million American citizens that voted for a @realDonaldTrump agenda, but I have had enough of this bitch @Sp\"], [\"I don\\u2019t know about the other 63+ million American citizens that voted for a @realDonaldTrump agenda, but I have had enough of this bitch @Sp\"], [\"I don\\u2019t know about the other 63+ million American citizens that voted for a @realDonaldTrump agenda, but I have had enough of this bitch @Sp\"], [\"I don\\u2019t know about the other 63+ million American citizens that voted for a @realDonaldTrump agenda, but I have had enough of this bitch @Sp\"], [\"I don\\u2019t know about the other 63+ million American citizens that voted for a @realDonaldTrump agenda, but I have had enough of this bitch @Sp\"], [\"I don\\u2019t know about the other 63+ million American citizens that voted for a @realDonaldTrump agenda, but I have had enough of this bitch @Sp\"], [\"I don\\u2019t know about the other 63+ million American citizens that voted for a @realDonaldTrump agenda, but I have had enough of this bitch @Sp\"], [\"I don\\u2019t know about the other 63+ million American citizens that voted for a @realDonaldTrump agenda, but I have had enough of this bitch @Sp\"], [\"I don\\u2019t know about the other 63+ million American citizens that voted for a @realDonaldTrump agenda, but I have had enough of this bitch @Sp\"], [\"I don\\u2019t know about the other 63+ million American citizens that voted for a @realDonaldTrump agenda, but I have had enough of this bitch @Sp\"], [\"I don\\u2019t know about the other 63+ million American citizens that voted for a @realDonaldTrump agenda, but I have had enough of this bitch @Sp\"], [\"I don\\u2019t know about the other 63+ million American citizens that voted for a @realDonaldTrump agenda, but I have had enough of this bitch @Sp\"], [\"I don\\u2019t know about the other 63+ million American citizens that voted for a @realDonaldTrump agenda, but I have had enough of this bitch @Sp\"], [\"I don\\u2019t know about the other 63+ million American citizens that voted for a @realDonaldTrump agenda, but I have had enough of this bitch @Sp\"], [\"I don\\u2019t know about the other 63+ million American citizens that voted for a @realDonaldTrump agenda, but I have had enough of this bitch @Sp\"], [\"I don\\u2019t know about the other 63+ million American citizens that voted for a @realDonaldTrump agenda, but I have had enough of this bitch @Sp\"], [\"I don\\u2019t know about the other 63+ million American citizens that voted for a @realDonaldTrump agenda, but I have had enough of this bitch @Sp\"], [\"I don\\u2019t know about the other 63+ million American citizens that voted for a @realDonaldTrump agenda, but I have had enough of this bitch @Sp\"], [\"I don\\u2019t know about the other 63+ million American citizens that voted for a @realDonaldTrump agenda, but I have had enough of this bitch @Sp\"], [\"I don\\u2019t know about the other 63+ million American citizens that voted for a @realDonaldTrump agenda, but I have had enough of this bitch @Sp\"], [\"I don\\u2019t know about the other 63+ million American citizens that voted for a @realDonaldTrump agenda, but I have had enough of this bitch @Sp\"], [\"I don\\u2019t know about the other 63+ million American citizens that voted for a @realDonaldTrump agenda, but I have had enough of this bitch @Sp\"], [\"I don\\u2019t know about the other 63+ million American citizens that voted for a @realDonaldTrump agenda, but I have had enough of this bitch @Sp\"], [\"I don\\u2019t know about the other 63+ million American citizens that voted for a @realDonaldTrump agenda, but I have had enough of this bitch @Sp\"], [\"I don\\u2019t know about the other 63+ million American citizens that voted for a @realDonaldTrump agenda, but I have had enough of this bitch @Sp\"], [\"I don\\u2019t know about the other 63+ million American citizens that voted for a @realDonaldTrump agenda, but I have had enough of this bitch @Sp\"], [\"I don\\u2019t know about the other 63+ million American citizens that voted for a @realDonaldTrump agenda, but I have had enough of this bitch @Sp\"], [\"I don\\u2019t know about the other 63+ million American citizens that voted for a @realDonaldTrump agenda, but I have had enough of this bitch @Sp\"], [\"I don\\u2019t know about the other 63+ million American citizens that voted for a @realDonaldTrump agenda, but I have had enough of this bitch @Sp\"], [\"I don\\u2019t know about the other 63+ million American citizens that voted for a @realDonaldTrump agenda, but I have had enough of this bitch @Sp\"], [\"I don\\u2019t know about the other 63+ million American citizens that voted for a @realDonaldTrump agenda, but I have had enough of this bitch @Sp\"], [\"I don\\u2019t know about the other 63+ million American citizens that voted for a @realDonaldTrump agenda, but I have had enough of this bitch @Sp\"], [\"I don\\u2019t know about the other 63+ million American citizens that voted for a @realDonaldTrump agenda, but I have had enough of this bitch @Sp\"], [\"I don\\u2019t know about the other 63+ million American citizens that voted for a @realDonaldTrump agenda, but I have had enough of this bitch @Sp\"], [\"I don\\u2019t know about the other 63+ million American citizens that voted for a @realDonaldTrump agenda, but I have had enough of this bitch @Sp\"], [\"I don\\u2019t know about the other 63+ million American citizens that voted for a @realDonaldTrump agenda, but I have had enough of this bitch @Sp\"], [\"I don\\u2019t know about the other 63+ million American citizens that voted for a @realDonaldTrump agenda, but I have had enough of this bitch @Sp\"], [\"I don\\u2019t know about the other 63+ million American citizens that voted for a @realDonaldTrump agenda, but I have had enough of this bitch @Sp\"], [\"I don\\u2019t know about the other 63+ million American citizens that voted for a @realDonaldTrump agenda, but I have had enough of this bitch @Sp\"], [\"I don\\u2019t know about the other 63+ million American citizens that voted for a @realDonaldTrump agenda, but I have had enough of this bitch @Sp\"], [\"I don\\u2019t know about the other 63+ million American citizens that voted for a @realDonaldTrump agenda, but I have had enough of this bitch @Sp\"], [\"I don\\u2019t know about the other 63+ million American citizens that voted for a @realDonaldTrump agenda, but I have had enough of this bitch @Sp\"], [\"I don\\u2019t know about the other 63+ million American citizens that voted for a @realDonaldTrump agenda, but I have had enough of this bitch @Sp\"], [\"I don\\u2019t know about the other 63+ million American citizens that voted for a @realDonaldTrump agenda, but I have had enough of this bitch @Sp\"], [\"I don\\u2019t know about the other 63+ million American citizens that voted for a @realDonaldTrump agenda, but I have had enough of this bitch @Sp\"], [\"I don\\u2019t know about the other 63+ million American citizens that voted for a @realDonaldTrump agenda, but I have had enough of this bitch @Sp\"], [\"I don\\u2019t know about the other 63+ million American citizens that voted for a @realDonaldTrump agenda, but I have had enough of this bitch @Sp\"], [\"I don\\u2019t know about the other 63+ million American citizens that voted for a @realDonaldTrump agenda, but I have had enough of this bitch @Sp\"], [\"I don\\u2019t know about the other 63+ million American citizens that voted for a @realDonaldTrump agenda, but I have had enough of this bitch @Sp\"], [\"I don\\u2019t know about the other 63+ million American citizens that voted for a @realDonaldTrump agenda, but I have had enough of this bitch @Sp\"], [\"I don\\u2019t know about the other 63+ million American citizens that voted for a @realDonaldTrump agenda, but I have had enough of this bitch @Sp\"], [\"I don\\u2019t know about the other 63+ million American citizens that voted for a @realDonaldTrump agenda, but I have had enough of this bitch @Sp\"], [\"I don\\u2019t know about the other 63+ million American citizens that voted for a @realDonaldTrump agenda, but I have had enough of this bitch @Sp\"], [\"I don\\u2019t know about the other 63+ million American citizens that voted for a @realDonaldTrump agenda, but I have had enough of this bitch @Sp\"], [\"I don\\u2019t know about the other 63+ million American citizens that voted for a @realDonaldTrump agenda, but I have had enough of this bitch @Sp\"], [\"I don\\u2019t know about the other 63+ million American citizens that voted for a @realDonaldTrump agenda, but I have had enough of this bitch @Sp\"], [\"I don\\u2019t know about the other 63+ million American citizens that voted for a @realDonaldTrump agenda, but I have had enough of this bitch @Sp\"], [\"I don\\u2019t know about the other 63+ million American citizens that voted for a @realDonaldTrump agenda, but I have had enough of this bitch @Sp\"], [\"I don\\u2019t know about the other 63+ million American citizens that voted for a @realDonaldTrump agenda, but I have had enough of this bitch @Sp\"], [\"I don\\u2019t know about the other 63+ million American citizens that voted for a @realDonaldTrump agenda, but I have had enough of this bitch @Sp\"], [\"I don\\u2019t know about the other 63+ million American citizens that voted for a @realDonaldTrump agenda, but I have had enough of this bitch @Sp\"], [\"I don\\u2019t know about the other 63+ million American citizens that voted for a @realDonaldTrump agenda, but I have had enough of this bitch @Sp\"], [\"I don\\u2019t know about the other 63+ million American citizens that voted for a @realDonaldTrump agenda, but I have had enough of this bitch @Sp\"], [\"I don\\u2019t know about the other 63+ million American citizens that voted for a @realDonaldTrump agenda, but I have had enough of this bitch @Sp\"], [\"I don\\u2019t know about the other 63+ million American citizens that voted for a @realDonaldTrump agenda, but I have had enough of this bitch @Sp\"], [\"I don\\u2019t know about the other 63+ million American citizens that voted for a @realDonaldTrump agenda, but I have had enough of this bitch @Sp\"], [\"I don\\u2019t know about the other 63+ million American citizens that voted for a @realDonaldTrump agenda, but I have had enough of this bitch @Sp\"], [\"I don\\u2019t know about the other 63+ million American citizens that voted for a @realDonaldTrump agenda, but I have had enough of this bitch @Sp\"], [\"I don\\u2019t know about the other 63+ million American citizens that voted for a @realDonaldTrump agenda, but I have had enough of this bitch @Sp\"], [\"I don\\u2019t know about the other 63+ million American citizens that voted for a @realDonaldTrump agenda, but I have had enough of this bitch @Sp\"], [\"I don\\u2019t know about the other 63+ million American citizens that voted for a @realDonaldTrump agenda, but I have had enough of this bitch @Sp\"], [\"I don\\u2019t know about the other 63+ million American citizens that voted for a @realDonaldTrump agenda, but I have had enough of this bitch @Sp\"], [\"I don\\u2019t know about the other 63+ million American citizens that voted for a @realDonaldTrump agenda, but I have had enough of this bitch @Sp\"], [\"I don\\u2019t know about the other 63+ million American citizens that voted for a @realDonaldTrump agenda, but I have had enough of this bitch @Sp\"], [\"I don\\u2019t know about the other 63+ million American citizens that voted for a @realDonaldTrump agenda, but I have had enough of this bitch @Sp\"], [\"I don\\u2019t know about the other 63+ million American citizens that voted for a @realDonaldTrump agenda, but I have had enough of this bitch @Sp\"], [\"I don\\u2019t know about the other 63+ million American citizens that voted for a @realDonaldTrump agenda, but I have had enough of this bitch @Sp\"], [\"I don\\u2019t know about the other 63+ million American citizens that voted for a @realDonaldTrump agenda, but I have had enough of this bitch @Sp\"], [\"I don\\u2019t know about the other 63+ million American citizens that voted for a @realDonaldTrump agenda, but I have had enough of this bitch @Sp\"], [\"I don\\u2019t know about the other 63+ million American citizens that voted for a @realDonaldTrump agenda, but I have had enough of this bitch @Sp\"], [\"I don\\u2019t know about the other 63+ million American citizens that voted for a @realDonaldTrump agenda, but I have had enough of this bitch @Sp\"], [\"I don\\u2019t know about the other 63+ million American citizens that voted for a @realDonaldTrump agenda, but I have had enough of this bitch @Sp\"], [\"I don\\u2019t know about the other 63+ million American citizens that voted for a @realDonaldTrump agenda, but I have had enough of this bitch @Sp\"], [\"I don\\u2019t know about the other 63+ million American citizens that voted for a @realDonaldTrump agenda, but I have had enough of this bitch @Sp\"], [\"I don\\u2019t know about the other 63+ million American citizens that voted for a @realDonaldTrump agenda, but I have had enough of this bitch @Sp\"], [\"I don\\u2019t know about the other 63+ million American citizens that voted for a @realDonaldTrump agenda, but I have had enough of this bitch @Sp\"], [\"I don\\u2019t know about the other 63+ million American citizens that voted for a @realDonaldTrump agenda, but I have had enough of this bitch @Sp\"], [\"I don\\u2019t know about the other 63+ million American citizens that voted for a @realDonaldTrump agenda, but I have had enough of this bitch @Sp\"], [\"Epic bad bitch Nancy Pelosi...impeaching Trump on behalf of her ruling class buddy the braindead racist Joe Biden rather than immigrant chil\"], [\"I don\\u2019t know about the other 63+ million American citizens that voted for a @realDonaldTrump agenda, but I have had enough of this bitch @Sp\"], [\"I don\\u2019t know about the other 63+ million American citizens that voted for a @realDonaldTrump agenda, but I have had enough of this bitch @Sp\"], [\"I don\\u2019t know about the other 63+ million American citizens that voted for a @realDonaldTrump agenda, but I have had enough of this bitch @Sp\"], [\"I don\\u2019t know about the other 63+ million American citizens that voted for a @realDonaldTrump agenda, but I have had enough of this bitch @Sp\"], [\"I don\\u2019t know about the other 63+ million American citizens that voted for a @realDonaldTrump agenda, but I have had enough of this bitch @Sp\"], [\"I don\\u2019t know about the other 63+ million American citizens that voted for a @realDonaldTrump agenda, but I have had enough of this bitch @Sp\"], [\"I don\\u2019t know about the other 63+ million American citizens that voted for a @realDonaldTrump agenda, but I have had enough of this bitch @Sp\"], [\"I don\\u2019t know about the other 63+ million American citizens that voted for a @realDonaldTrump agenda, but I have had enough of this bitch @Sp\"], [\"I don\\u2019t know about the other 63+ million American citizens that voted for a @realDonaldTrump agenda, but I have had enough of this bitch @Sp\"], [\"I don\\u2019t know about the other 63+ million American citizens that voted for a @realDonaldTrump agenda, but I have had enough of this bitch @Sp\"], [\"I don\\u2019t know about the other 63+ million American citizens that voted for a @realDonaldTrump agenda, but I have had enough of this bitch @Sp\"], [\"I don\\u2019t know about the other 63+ million American citizens that voted for a @realDonaldTrump agenda, but I have had enough of this bitch @Sp\"], [\"I don\\u2019t know about the other 63+ million American citizens that voted for a @realDonaldTrump agenda, but I have had enough of this bitch @Sp\"], [\"I don\\u2019t know about the other 63+ million American citizens that voted for a @realDonaldTrump agenda, but I have had enough of this bitch @Sp\"], [\"I don\\u2019t know about the other 63+ million American citizens that voted for a @realDonaldTrump agenda, but I have had enough of this bitch @Sp\"], [\"I don\\u2019t know about the other 63+ million American citizens that voted for a @realDonaldTrump agenda, but I have had enough of this bitch @Sp\"], [\"I don\\u2019t know about the other 63+ million American citizens that voted for a @realDonaldTrump agenda, but I have had enough of this bitch @Sp\"], [\"I don\\u2019t know about the other 63+ million American citizens that voted for a @realDonaldTrump agenda, but I have had enough of this bitch @Sp\"], [\"I don\\u2019t know about the other 63+ million American citizens that voted for a @realDonaldTrump agenda, but I have had enough of this bitch @Sp\"], [\"I don\\u2019t know about the other 63+ million American citizens that voted for a @realDonaldTrump agenda, but I have had enough of this bitch @Sp\"], [\"I don\\u2019t know about the other 63+ million American citizens that voted for a @realDonaldTrump agenda, but I have had enough of this bitch @Sp\"], [\"I don\\u2019t know about the other 63+ million American citizens that voted for a @realDonaldTrump agenda, but I have had enough of this bitch @Sp\"], [\"I don\\u2019t know about the other 63+ million American citizens that voted for a @realDonaldTrump agenda, but I have had enough of this bitch @Sp\"], [\"I don\\u2019t know about the other 63+ million American citizens that voted for a @realDonaldTrump agenda, but I have had enough of this bitch @Sp\"], [\"I don\\u2019t know about the other 63+ million American citizens that voted for a @realDonaldTrump agenda, but I have had enough of this bitch @Sp\"], [\"I don\\u2019t know about the other 63+ million American citizens that voted for a @realDonaldTrump agenda, but I have had enough of this bitch @Sp\"], [\"I don\\u2019t know about the other 63+ million American citizens that voted for a @realDonaldTrump agenda, but I have had enough of this bitch @Sp\"], [\"I don\\u2019t know about the other 63+ million American citizens that voted for a @realDonaldTrump agenda, but I have had enough of this bitch @Sp\"], [\"I don\\u2019t know about the other 63+ million American citizens that voted for a @realDonaldTrump agenda, but I have had enough of this bitch @Sp\"], [\"I don\\u2019t know about the other 63+ million American citizens that voted for a @realDonaldTrump agenda, but I have had enough of this bitch @Sp\"], [\"I don\\u2019t know about the other 63+ million American citizens that voted for a @realDonaldTrump agenda, but I have had enough of this bitch @Sp\"], [\"I don\\u2019t know about the other 63+ million American citizens that voted for a @realDonaldTrump agenda, but I have had enough of this bitch @Sp\"], [\"I don\\u2019t know about the other 63+ million American citizens that voted for a @realDonaldTrump agenda, but I have had enough of this bitch @Sp\"], [\"@GregShugar It's crazy that you people still think they found anything to impeach him on.... the bitch @SpeakerPelosi is giving democrats th\"], [\"I don\\u2019t know about the other 63+ million American citizens that voted for a @realDonaldTrump agenda, but I have had enough of this bitch @Sp\"], [\"I don\\u2019t know about the other 63+ million American citizens that voted for a @realDonaldTrump agenda, but I have had enough of this bitch @Sp\"], [\"I don\\u2019t know about the other 63+ million American citizens that voted for a @realDonaldTrump agenda, but I have had enough of this bitch @Sp\"], [\"I don\\u2019t know about the other 63+ million American citizens that voted for a @realDonaldTrump agenda, but I have had enough of this bitch @Sp\"], [\"I don\\u2019t know about the other 63+ million American citizens that voted for a @realDonaldTrump agenda, but I have had enough of this bitch @Sp\"], [\"I don\\u2019t know about the other 63+ million American citizens that voted for a @realDonaldTrump agenda, but I have had enough of this bitch @Sp\"], [\"I don\\u2019t know about the other 63+ million American citizens that voted for a @realDonaldTrump agenda, but I have had enough of this bitch @Sp\"], [\"I don\\u2019t know about the other 63+ million American citizens that voted for a @realDonaldTrump agenda, but I have had enough of this bitch @Sp\"], [\"I don\\u2019t know about the other 63+ million American citizens that voted for a @realDonaldTrump agenda, but I have had enough of this bitch @Sp\"]], \"hoverlabel\": {\"namelength\": 0}, \"hovertemplate\": \"<b>%{hovertext}</b><br><br>name=Nancy Pelosi<br>identity_attack=%{x}<br>toxicity=%{y}<br>size=%{marker.size}<br>tweet_prev1=%{customdata[0]}\", \"hovertext\": [\"Nancy Pelosi\", \"Nancy Pelosi\", \"Nancy Pelosi\", \"Nancy Pelosi\", \"Nancy Pelosi\", \"Nancy Pelosi\", \"Nancy Pelosi\", \"Nancy Pelosi\", \"Nancy Pelosi\", \"Nancy Pelosi\", \"Nancy Pelosi\", \"Nancy Pelosi\", \"Nancy Pelosi\", \"Nancy Pelosi\", \"Nancy Pelosi\", \"Nancy Pelosi\", \"Nancy Pelosi\", \"Nancy Pelosi\", \"Nancy Pelosi\", \"Nancy Pelosi\", \"Nancy Pelosi\", \"Nancy Pelosi\", \"Nancy Pelosi\", \"Nancy Pelosi\", \"Nancy Pelosi\", \"Nancy Pelosi\", \"Nancy Pelosi\", \"Nancy Pelosi\", \"Nancy Pelosi\", \"Nancy Pelosi\", \"Nancy Pelosi\", \"Nancy Pelosi\", \"Nancy Pelosi\", \"Nancy Pelosi\", \"Nancy Pelosi\", \"Nancy Pelosi\", \"Nancy Pelosi\", \"Nancy Pelosi\", \"Nancy Pelosi\", \"Nancy Pelosi\", \"Nancy Pelosi\", \"Nancy Pelosi\", \"Nancy Pelosi\", \"Nancy Pelosi\", \"Nancy Pelosi\", \"Nancy Pelosi\", \"Nancy Pelosi\", \"Nancy Pelosi\", \"Nancy Pelosi\", \"Nancy Pelosi\", \"Nancy Pelosi\", \"Nancy Pelosi\", \"Nancy Pelosi\", \"Nancy Pelosi\", \"Nancy Pelosi\", \"Nancy Pelosi\", \"Nancy Pelosi\", \"Nancy Pelosi\", \"Nancy Pelosi\", \"Nancy Pelosi\", \"Nancy Pelosi\", \"Nancy Pelosi\", \"Nancy Pelosi\", \"Nancy Pelosi\", \"Nancy Pelosi\", \"Nancy Pelosi\", \"Nancy Pelosi\", \"Nancy Pelosi\", \"Nancy Pelosi\", \"Nancy Pelosi\", \"Nancy Pelosi\", \"Nancy Pelosi\", \"Nancy Pelosi\", \"Nancy Pelosi\", \"Nancy Pelosi\", \"Nancy Pelosi\", \"Nancy Pelosi\", \"Nancy Pelosi\", \"Nancy Pelosi\", \"Nancy Pelosi\", \"Nancy Pelosi\", \"Nancy Pelosi\", \"Nancy Pelosi\", \"Nancy Pelosi\", \"Nancy Pelosi\", \"Nancy Pelosi\", \"Nancy Pelosi\", \"Nancy Pelosi\", \"Nancy Pelosi\", \"Nancy Pelosi\", \"Nancy Pelosi\", \"Nancy Pelosi\", \"Nancy Pelosi\", \"Nancy Pelosi\", \"Nancy Pelosi\", \"Nancy Pelosi\", \"Nancy Pelosi\", \"Nancy Pelosi\", \"Nancy Pelosi\", \"Nancy Pelosi\", \"Nancy Pelosi\", \"Nancy Pelosi\", \"Nancy Pelosi\", \"Nancy Pelosi\", \"Nancy Pelosi\", \"Nancy Pelosi\", \"Nancy Pelosi\", \"Nancy Pelosi\", \"Nancy Pelosi\", \"Nancy Pelosi\", \"Nancy Pelosi\", \"Nancy Pelosi\", \"Nancy Pelosi\", \"Nancy Pelosi\", \"Nancy Pelosi\", \"Nancy Pelosi\", \"Nancy Pelosi\", \"Nancy Pelosi\", \"Nancy Pelosi\", \"Nancy Pelosi\", \"Nancy Pelosi\", \"Nancy Pelosi\", \"Nancy Pelosi\", \"Nancy Pelosi\", \"Nancy Pelosi\", \"Nancy Pelosi\", \"Nancy Pelosi\", \"Nancy Pelosi\", \"Nancy Pelosi\", \"Nancy Pelosi\", \"Nancy Pelosi\", \"Nancy Pelosi\", \"Nancy Pelosi\", \"Nancy Pelosi\", \"Nancy Pelosi\", \"Nancy Pelosi\", \"Nancy Pelosi\", \"Nancy Pelosi\", \"Nancy Pelosi\", \"Nancy Pelosi\", \"Nancy Pelosi\", \"Nancy Pelosi\", \"Nancy Pelosi\", \"Nancy Pelosi\", \"Nancy Pelosi\", \"Nancy Pelosi\", \"Nancy Pelosi\", \"Nancy Pelosi\", \"Nancy Pelosi\", \"Nancy Pelosi\", \"Nancy Pelosi\", \"Nancy Pelosi\", \"Nancy Pelosi\", \"Nancy Pelosi\", \"Nancy Pelosi\", \"Nancy Pelosi\", \"Nancy Pelosi\", \"Nancy Pelosi\", \"Nancy Pelosi\", \"Nancy Pelosi\", \"Nancy Pelosi\", \"Nancy Pelosi\", \"Nancy Pelosi\", \"Nancy Pelosi\", \"Nancy Pelosi\", \"Nancy Pelosi\", \"Nancy Pelosi\", \"Nancy Pelosi\", \"Nancy Pelosi\", \"Nancy Pelosi\", \"Nancy Pelosi\", \"Nancy Pelosi\", \"Nancy Pelosi\", \"Nancy Pelosi\", \"Nancy Pelosi\", \"Nancy Pelosi\", \"Nancy Pelosi\", \"Nancy Pelosi\", \"Nancy Pelosi\", \"Nancy Pelosi\", \"Nancy Pelosi\", \"Nancy Pelosi\", \"Nancy Pelosi\", \"Nancy Pelosi\", \"Nancy Pelosi\", \"Nancy Pelosi\", \"Nancy Pelosi\", \"Nancy Pelosi\", \"Nancy Pelosi\", \"Nancy Pelosi\", \"Nancy Pelosi\", \"Nancy Pelosi\", \"Nancy Pelosi\", \"Nancy Pelosi\", \"Nancy Pelosi\", \"Nancy Pelosi\", \"Nancy Pelosi\", \"Nancy Pelosi\", \"Nancy Pelosi\", \"Nancy Pelosi\"], \"legendgroup\": \"Nancy Pelosi\", \"marker\": {\"color\": \"#EF553B\", \"size\": [90.517, 90.517, 90.517, 90.517, 90.517, 90.517, 90.517, 90.517, 90.517, 90.517, 90.517, 90.517, 90.517, 90.517, 90.517, 90.517, 90.517, 90.517, 90.517, 90.517, 90.517, 90.517, 90.517, 90.517, 90.517, 90.517, 90.517, 90.517, 90.517, 90.517, 90.517, 90.517, 90.517, 90.517, 90.517, 90.517, 90.517, 90.517, 90.517, 90.517, 90.517, 90.517, 90.517, 90.517, 90.517, 90.517, 90.517, 90.517, 90.517, 90.517, 90.517, 90.517, 90.517, 90.517, 90.517, 90.517, 90.517, 90.517, 90.517, 90.517, 90.517, 90.517, 90.517, 90.517, 90.517, 90.517, 90.517, 90.517, 90.517, 90.517, 90.517, 90.517, 90.517, 90.517, 90.517, 90.517, 90.517, 90.517, 90.517, 90.517, 90.517, 90.517, 90.517, 90.517, 90.517, 90.517, 90.517, 90.517, 90.517, 90.517, 90.517, 90.517, 90.517, 90.517, 90.517, 90.517, 90.517, 90.517, 90.517, 90.517, 90.517, 90.517, 90.517, 90.517, 90.517, 90.517, 90.517, 90.517, 90.517, 90.517, 90.517, 90.517, 90.517, 90.517, 90.517, 90.517, 90.517, 90.517, 90.517, 90.517, 90.517, 90.517, 90.517, 90.517, 90.517, 90.517, 90.517, 90.517, 90.517, 90.517, 90.517, 90.517, 90.517, 90.517, 90.517, 90.517, 90.517, 90.517, 90.517, 90.517, 90.517, 90.517, 90.517, 90.517, 90.517, 90.517, 90.517, 90.517, 90.517, 90.517, 90.517, 90.517, 90.517, 90.517, 90.517, 90.517, 87.157, 90.517, 90.517, 90.517, 90.517, 90.517, 90.517, 90.517, 90.517, 90.517, 90.517, 90.517, 90.517, 90.517, 90.517, 90.517, 90.517, 90.517, 90.517, 90.517, 90.517, 90.517, 90.517, 90.517, 90.517, 90.517, 90.517, 90.517, 90.517, 90.517, 90.517, 90.517, 90.517, 90.517, 73.931, 90.517, 90.517, 90.517, 90.517, 90.517, 90.517, 90.517, 90.517, 90.517], \"sizemode\": \"area\", \"sizeref\": 0.24465, \"symbol\": \"circle\"}, \"mode\": \"markers\", \"name\": \"Nancy Pelosi\", \"showlegend\": true, \"type\": \"scatter\", \"x\": [0.62523, 0.62523, 0.62523, 0.62523, 0.62523, 0.62523, 0.62523, 0.62523, 0.62523, 0.62523, 0.62523, 0.62523, 0.62523, 0.62523, 0.62523, 0.62523, 0.62523, 0.62523, 0.62523, 0.62523, 0.62523, 0.62523, 0.62523, 0.62523, 0.62523, 0.62523, 0.62523, 0.62523, 0.62523, 0.62523, 0.62523, 0.62523, 0.62523, 0.62523, 0.62523, 0.62523, 0.62523, 0.62523, 0.62523, 0.62523, 0.62523, 0.62523, 0.62523, 0.62523, 0.62523, 0.62523, 0.62523, 0.62523, 0.62523, 0.62523, 0.62523, 0.62523, 0.62523, 0.62523, 0.62523, 0.62523, 0.62523, 0.62523, 0.62523, 0.62523, 0.62523, 0.62523, 0.62523, 0.62523, 0.62523, 0.62523, 0.62523, 0.62523, 0.62523, 0.62523, 0.62523, 0.62523, 0.62523, 0.62523, 0.62523, 0.62523, 0.62523, 0.62523, 0.62523, 0.62523, 0.62523, 0.62523, 0.62523, 0.62523, 0.62523, 0.62523, 0.62523, 0.62523, 0.62523, 0.62523, 0.62523, 0.62523, 0.62523, 0.62523, 0.62523, 0.62523, 0.62523, 0.62523, 0.62523, 0.62523, 0.62523, 0.62523, 0.62523, 0.62523, 0.62523, 0.62523, 0.62523, 0.62523, 0.62523, 0.62523, 0.62523, 0.62523, 0.62523, 0.62523, 0.62523, 0.62523, 0.62523, 0.62523, 0.62523, 0.62523, 0.62523, 0.62523, 0.62523, 0.62523, 0.62523, 0.62523, 0.62523, 0.62523, 0.62523, 0.62523, 0.62523, 0.62523, 0.62523, 0.62523, 0.62523, 0.62523, 0.62523, 0.62523, 0.62523, 0.62523, 0.62523, 0.62523, 0.62523, 0.62523, 0.62523, 0.62523, 0.62523, 0.62523, 0.62523, 0.62523, 0.62523, 0.62523, 0.62523, 0.62523, 0.62523, 0.62523, 0.80315, 0.62523, 0.62523, 0.62523, 0.62523, 0.62523, 0.62523, 0.62523, 0.62523, 0.62523, 0.62523, 0.62523, 0.62523, 0.62523, 0.62523, 0.62523, 0.62523, 0.62523, 0.62523, 0.62523, 0.62523, 0.62523, 0.62523, 0.62523, 0.62523, 0.62523, 0.62523, 0.62523, 0.62523, 0.62523, 0.62523, 0.62523, 0.62523, 0.62523, 0.53345, 0.62523, 0.62523, 0.62523, 0.62523, 0.62523, 0.62523, 0.62523, 0.62523, 0.62523], \"xaxis\": \"x\", \"y\": [0.90517, 0.90517, 0.90517, 0.90517, 0.90517, 0.90517, 0.90517, 0.90517, 0.90517, 0.90517, 0.90517, 0.90517, 0.90517, 0.90517, 0.90517, 0.90517, 0.90517, 0.90517, 0.90517, 0.90517, 0.90517, 0.90517, 0.90517, 0.90517, 0.90517, 0.90517, 0.90517, 0.90517, 0.90517, 0.90517, 0.90517, 0.90517, 0.90517, 0.90517, 0.90517, 0.90517, 0.90517, 0.90517, 0.90517, 0.90517, 0.90517, 0.90517, 0.90517, 0.90517, 0.90517, 0.90517, 0.90517, 0.90517, 0.90517, 0.90517, 0.90517, 0.90517, 0.90517, 0.90517, 0.90517, 0.90517, 0.90517, 0.90517, 0.90517, 0.90517, 0.90517, 0.90517, 0.90517, 0.90517, 0.90517, 0.90517, 0.90517, 0.90517, 0.90517, 0.90517, 0.90517, 0.90517, 0.90517, 0.90517, 0.90517, 0.90517, 0.90517, 0.90517, 0.90517, 0.90517, 0.90517, 0.90517, 0.90517, 0.90517, 0.90517, 0.90517, 0.90517, 0.90517, 0.90517, 0.90517, 0.90517, 0.90517, 0.90517, 0.90517, 0.90517, 0.90517, 0.90517, 0.90517, 0.90517, 0.90517, 0.90517, 0.90517, 0.90517, 0.90517, 0.90517, 0.90517, 0.90517, 0.90517, 0.90517, 0.90517, 0.90517, 0.90517, 0.90517, 0.90517, 0.90517, 0.90517, 0.90517, 0.90517, 0.90517, 0.90517, 0.90517, 0.90517, 0.90517, 0.90517, 0.90517, 0.90517, 0.90517, 0.90517, 0.90517, 0.90517, 0.90517, 0.90517, 0.90517, 0.90517, 0.90517, 0.90517, 0.90517, 0.90517, 0.90517, 0.90517, 0.90517, 0.90517, 0.90517, 0.90517, 0.90517, 0.90517, 0.90517, 0.90517, 0.90517, 0.90517, 0.90517, 0.90517, 0.90517, 0.90517, 0.90517, 0.90517, 0.87157, 0.90517, 0.90517, 0.90517, 0.90517, 0.90517, 0.90517, 0.90517, 0.90517, 0.90517, 0.90517, 0.90517, 0.90517, 0.90517, 0.90517, 0.90517, 0.90517, 0.90517, 0.90517, 0.90517, 0.90517, 0.90517, 0.90517, 0.90517, 0.90517, 0.90517, 0.90517, 0.90517, 0.90517, 0.90517, 0.90517, 0.90517, 0.90517, 0.90517, 0.73931, 0.90517, 0.90517, 0.90517, 0.90517, 0.90517, 0.90517, 0.90517, 0.90517, 0.90517], \"yaxis\": \"y\"}, {\"customdata\": [[\"@AnandWrites Elizabeth Warren\\nKirsten Gillibrand\\nKamala Harris*\\n\\n*14 months out? I have no idea.\"], [\"It takes 20 years to build a reputation and five minutes to ruin it. If you think about that, you'll do things differently. Warren Buffett\"], [\"@SalihTorgeir @JustinSzew309 @TulsiGabbard Who is paying me? Sanders, Warren, Yang, Klobuchar, Harris, Booker? ALL of who I would support ov\"], [\"On the same day that @SenWarren proposes a kind of a corporate AMT comes this report:  60 profitable Fortune 500 companies paid zero income \"], [\"@RobVoreck @HoarseWisperer @joanwalsh I love her. There are several great candidates, but when it comes to careful, thought-through policy I\"], [\"@BernieSanders @AllResistNews Senator Warren has a great plan to counteract this travesty. And when are you releasing your tax returns?\"], [\"@Katie_Jeffries @FCNLindsey A TGIF 13 min #Friday morning clear road drive on I95 northbound to the #Fuller #Warren #Bridge #Jacksonville fr\"], [\"I\\u2019m excited about Kamala Harris\\u2019s candidacy. \\n\\nI\\u2019m excited about Elizabeth Warren\\u2019s candidacy. \\n\\nI\\u2019m excited about Amy Klobuchar\\u2019s candidacy\"], [\"Elizabeth Warren has rolled out a proposal to levy a 7% tax on corporate profits above $100 million, \\\"no loopholes or exemptions,\\\" which if \"], [\"\\u201cThe loved up couple have been dating for two years.\\u201d So, she was 20 &amp; dating him when was 14? Swap the genders......\\n\\n#Boys #CSE \\n\\nhttp\"], [\"Bernie admits capitalism made him a millionaire and Kamala Harris admits she is a gun owner \\\"for personal safety\\\" \\n\\nSoon Warren will admit h\"], [\"@WJXTCrystal A TGIF 14 min #Friday morning clear road drive on I95 northbound to the #Fuller #Warren #Bridge #Jacksonville from south beltwa\"], [\"Elizabeth Warren Tells Amazon to Get Bent https://t.co/q2uJuxDo1t\"], [\"NEW: @EWarren rolls out a new plan to impose a 7% tax on corporate profits above $100 million, \\u201cno loopholes or exemptions.\\u201d\\n\\nIt would raise\"], [\"Worthing Pier has been named Pier of the Year. Here are a couple more photos taken by a friend of mine (Warren O'Brien). https://t.co/iOYtjo\"], [\"Warren G was the reason why most of us wore a tshirt under a tshirt LMAO! This was G-FUNK era at its best. https://t.co/BGWbsQtPgQ via @YouT\"], [\"Breaking: Come out to the store on MacGrath highway Somerville now to join \\u2066@SenWarren\\u2069 on the picket line! Senator Warren to join striking \"], [\"I think Warren is great, but I also believe that \\\"reform\\\" policies always sound more \\\"intellectual\\\" than big changes because they play in th\"], [\"Fascinating story on Elizabeth Warren\\u2019s years as a registered Republican \\u2014 and her transformation as she studied bankruptcy https://t.co/kOH\"], [\"NEW: @EWarren rolls out a new plan to impose a 7% tax on corporate profits above $100 million, \\u201cno loopholes or exemptions.\\u201d\\n\\nIt would raise\"], [\".@ewarren\\u2019s proposal is \\u201clikely to send an exponentially larger chill down the corporate world\\u2019s collective spine: a tax on their profits, s\"], [\"Warren is headed to the picket line for the biggest private-sector strike in three years. It\\u2019ll be interesting to see who else goes. https:/\"], [\"@PickBaudisBrain @carlm311 @TheEllenShow @PeteButtigieg Buttigieg-Warren \\n          2020 \\n\\nYes please.\"], [\"This is your friendly reminder that Snoop Dogg tickets go on sale in 45 minutes! https://t.co/R40VxX82Oz\"], [\"We've got a new poll with Muhlenberg College on what PA Democratic voters are thinking about 2020...\\n\\nJoe Biden leads with 28%, followed by \"], [\"Can Elizabeth Warren Stop the Corporate Rip Off? \\n\\nWatch here https://t.co/9CpqLcP2pD https://t.co/ABHLWNPWXv\"], [\"@NOD008 @zerohedge Chief Warren no like white man named Moore.\"], [\"@Kvverra @dhh it is a zero sum game, because buttigieg gets endless press coverage for things he says and warren gets effectively zero cover\"], [\"Senator Elizabeth Warren will join Stop &amp; Shop workers walking a picket line outside a Somerville store as the strike against New Englan\"], [\"Update:  Warren Buffett still not beating Bitcoin since Oct 2010. https://t.co/Jm6mck9Eed\"], [\"@dhh elizabeth warren is more clearly spoken and has more experience and vastly more cred. she\\u2019s been working AND PASSING actual legislation\"], [\"I can\\u2019t believe it took you 3 hours and 15 minutes to learn Rule #1, @stevenmnuchin1: don\\u2019t tell @RepMaxineWaters how to conduct her committ\"], [\"Happy Birthday Malia\\ud83d\\udc96 miss you!! @malia_warren https://t.co/WsFzE2cyUz\"], [\"Breaking: Come out to the store on MacGrath highway Somerville now to join \\u2066@SenWarren\\u2069 on the picket line! Senator Warren to join striking \"], [\"@Public_Citizen @latimesmuskal Sep 9, 2013 -\\u201cYou follow this pro-corporate trend to its logical conclusion, and sooner or later you\\u2019ll end u\"], [\"FWIW, my current thinking on the tiers in the Democratic primary, in terms of likelihood of winning the nomination. This is very rough, obvi\"], [\"I\\u2019m excited about Kamala Harris\\u2019s candidacy. \\n\\nI\\u2019m excited about Elizabeth Warren\\u2019s candidacy. \\n\\nI\\u2019m excited about Amy Klobuchar\\u2019s candidacy\"], [\"even as a non-Warren supporter I pretty much agree with this piece \\nhttps://t.co/rB4Cem5N4i\"], [\"Don't you be dancing without me Cathy Warren I'm looking at this place up the rd then I'll come knock it out with you https://t.co/tdBrJDRDt\"], [\"7 mistakes millionaires like Warren Buffett and Bill Gates never make \\u2014 that average people do all the time. via @CNBCMakeIt https://t.co/BN\"], [\"@JudicialWatch Nancy ,Schumer Maxine Warren and the rest are making millions, and doing nothing for the USA.\"], [\"I\\u2019m a productive person https://t.co/ryAa2GxDS3\"], [\"Tens of thousands of Stop &amp; Shop employees at supermarkets in Massachusetts, Rhode Island and Connecticut went on strike Thursday over s\"], [\"Good for you Warren #Respect #DemocracyMatters &amp; MUST b defended. #MPTraitors can't b allowed to go on #KillingDemocracy. Those who're a\"], [\"I dont think the ds planned it cuz their secret supporters were revealed.\\n\\nBut I say why would anyone vote for faux progressives if they can\"], [\"Warren G ft. Nate Dogg | Regulate | Sesame Street Version https://t.co/Nci61eWXNR via @YouTube\"], [\"This just arrived! BOOM! \\u26be\\ufe0f HOFer!\\n\\n$125 shipped.. w/Insurance \\ud83d\\udcec\\n\\nWarren Spahn Auto #/140 PSA 9\\n\\n@CardConnector \\n@BUYORTRADECARDS \\n@linkmyca\"], [\"@anncolefax @BobLen10 @wplgirls @WplRufc Fantastic\\ud83d\\udc4d\\u2764\\ufe0f\"], [\"Warren Buffett has made it to his late 80s eating junk food, but it's not for the weak of heart https://t.co/AxNr2exLq7\"], [\"Warren? A distinguished career as a Harvard law professor even before she went to the US Senate.\\n\\nWarren has actual RESULTS: The Consumer Fi\"], [\"\\ud83d\\udd25 New Camp FIRE Finance featured post from @Money_Side_Up\\nIf You Were a Business, Would Warren Buffett Invest In You?\\nhttps://t.co/tLVDS6dUa\"], [\"I wrote the piece I wanted to read about Elizabeth Warren\\u2019s policy agenda. https://t.co/Dgz3V97sVb\"], [\"On the same day that @SenWarren proposes a kind of a corporate AMT comes this report:  60 profitable Fortune 500 companies paid zero income \"], [\"Elizabeth Warren is the intellectual powerhouse of the Democratic party | Moira Donegan https://t.co/PvZYW3OUDL\"], [\"Warren would be an amazing President. Seriously. https://t.co/x1qfFvQidY\"], [\"Nip said \\u201cyeah you got a fat ass but your soul is wack, body like a coke bottle but your soda flat\\u201d it\\u2019ll go over most of y\\u2019all heads\"], [\"Rule No.1: Never lose money. Rule No.2: Never forget rule No.1. Warren Buffett\"], [\"@FlowerInFaith Geez, two biased opinions of Bernie, both wrong and quite leaning establishment? Bernie is not a real progressive, but much c\"], [\"Stop&amp;Shop employees striking in Somerville. @SenWarren will be joining them at 11:30. @7News https://t.co/w7VtOzeJ7l\"], [\"How many girls fall on their knees for Warren?\"], [\"Thing is, its *female* voters who are granting their support to Biden, Bernie and Buttigieg . . . You can't be atop a Dem primary poll witho\"], [\"@lifeofadamdrake @HoodieAnderson_ @jag230112 @c_cuccia20 @MLBTheShow_Tips When\\u2019d they announce that?\"], [\"1/ Elizabeth Warren is the intellectual powerhouse of the Democratic party | Moira Donegan https://t.co/N2RADQlxzH\"], [\"Loomis: \\\"Elizabeth Warren is a lot more ready to take on the opposition she knows she will face if she wins, as opposed to Bernie thinking t\"], [\"@bevandton @SokoAfricanus @OfLaverna @SenWarren @WellsFargo I'm afraid you don't actually understand hypocrisy.  She would be a hypocrite if\"], [\"Elizabeth Warren unveils new proposal: 7% tax on corporations' profits over $100 million. https://t.co/7csvfzehbR https://t.co/vO6gRZWvF5\"], [\".@ewarren\\u2019s proposal is \\u201clikely to send an exponentially larger chill down the corporate world\\u2019s collective spine: a tax on their profits, s\"], [\"Elizabeth Warren, the Democratic presidential candidate, pushes new corporate tax on profits above $100M, by rolling out a proposal to levy \"], [\"@RepRashida @SenWarren Why are you trying to destroy this country?\"], [\"I wrote the piece I wanted to read about Elizabeth Warren\\u2019s policy agenda. https://t.co/Dgz3V97sVb\"], [\"@BFlyReport @SenWarren @RoZsaJH @realDonaldTrump @PeteButtigieg No thanks! I\\u2019ll be voting #Tulsi2020 #TulsiForPresident \\ud83c\\udf3a\\u2764\\ufe0f\\u262e\\ufe0f\\u270c\\ud83c\\udffd\"], [\"I wrote the piece I wanted to read about Elizabeth Warren\\u2019s policy agenda. https://t.co/Dgz3V97sVb\"], [\"thank you to @Steve_energia &amp; the art department at Warren Wilson College for making these broadsides of my poem \\u201cthe voice in my head s\"], [\"Breaking: Come out to the store on MacGrath highway Somerville now to join \\u2066@SenWarren\\u2069 on the picket line! Senator Warren to join striking \"], [\"In 2007, Obama had 104,000 donors (so $240 per donor!) and Clinton had just 60,000 (so $400!).\\n\\nIn this first quarter, Sanders had 525,000 d\"], [\"Warren? A distinguished career as a Harvard law professor even before she went to the US Senate.\\n\\nWarren has actual RESULTS: The Consumer Fi\"], [\"I wrote the piece I wanted to read about Elizabeth Warren\\u2019s policy agenda. https://t.co/Dgz3V97sVb\"], [\"I wrote the piece I wanted to read about Elizabeth Warren\\u2019s policy agenda. https://t.co/Dgz3V97sVb\"], [\"Warren Buffett: Tesla's Elon Musk has 'room for improvement' as CEO https://t.co/lvCsEbnxb2 https://t.co/uQtFbgoC7t\"], [\"NEW: @EWarren rolls out a new plan to impose a 7% tax on corporate profits above $100 million, \\u201cno loopholes or exemptions.\\u201d\\n\\nIt would raise\"], [\"I can\\u2019t believe it took you 3 hours and 15 minutes to learn Rule #1, @stevenmnuchin1: don\\u2019t tell @RepMaxineWaters how to conduct her committ\"], [\"Striking Stop &amp; Shop workers picket outside the supermarket on McGrath Highway in Somerville. Very soon, Senator Elizabeth Warren will b\"], [\"Senator Elizabeth Warren will join Stop &amp; Shop workers walking a picket line outside a Somerville store as the strike against New Englan\"], [\"Mufasa : \\u201cscar, brother help me\\u201d\\n\\nScar: \\u201cLong live the king\\\" https://t.co/peobSeYZ6T\"], [\"What's behind Warren's plan to break up Facebook, Amazon and Google https://t.co/OQQoCYx8z0\"], [\"Warren? A distinguished career as a Harvard law professor even before she went to the US Senate.\\n\\nWarren has actual RESULTS: The Consumer Fi\"], [\"and Hillary is an Eisenhower Republican... The R's, today, have gone off the deep end and are bat-shit crazy. Warren's past was as middle-of\"], [\"@daveweigel Sanders [sitting on his back porch]: \\\"We should forgive all student loans.\\\"\\n\\nWarren [in camo fatigues, breathless, sweating and \"], [\"\\u201cIt may well not be Warren who wins the Democratic nomination, but whoever does will be campaigning on her ideas.\\u201d https://t.co/aRjkL4i2r2\"], [\"Driver charged with fatal multi-vehicle crash in Warren https://t.co/CsZcECfYP8 https://t.co/B9DEf4Zkc3\"], [\"Inbox: U.S. Sen. and 2020 presidential candidate Elizabeth Warren will join Stop &amp; Shop workers on the picket line at 11:30 today at the\"], [\"Elizabeth Warren is the intellectual powerhouse of the Democratic party | Moira Donegan https://t.co/PvZYW3OUDL\"], [\"Some nights I wish I could go back in life not to change shit just to feel a couple things twice.\"], [\"@RKJ65 @SenWarren THIS, every bit of this. We have a phenomenal pool of talent right now, and as long as the Senate talent comes from a stat\"], [\"even as a non-Warren supporter I pretty much agree with this piece \\nhttps://t.co/rB4Cem5N4i\"], [\"Right on cue, Warren and a bunch of Dems are reintroducing a bill to have the IRS create a free tax filing service and return-free filing. h\"], [\"Stop&amp;Shop employees striking in Somerville. @SenWarren will be joining them at 11:30. @7News https://t.co/w7VtOzeJ7l\"], [\"Elizabeth Warren's new tax plan would impose a 7% tax on corporate profits above $100 million with no \\\"loopholes or exemptions.\\u201d Under her p\"], [\"It\\u2019s worth noting that while one candidate is making millions pretending to be diligently fighting against corporate excess, his opponent an\"], [\"Breaking: Come out to the store on MacGrath highway Somerville now to join \\u2066@SenWarren\\u2069 on the picket line! Senator Warren to join striking \"], [\"Thing is, its *female* voters who are granting their support to Biden, Bernie and Buttigieg . . . You can't be atop a Dem primary poll witho\"], [\"I wrote the piece I wanted to read about Elizabeth Warren\\u2019s policy agenda. https://t.co/Dgz3V97sVb\"], [\"\\u201cIt may well not be Warren who wins the Democratic nomination, but whoever does will be campaigning on her ideas.\\u201d https://t.co/aRjkL4i2r2\"], [\"Elizabeth Warren is wrong.  When a business earns a profit it takes nothing out, so there's nothing it needs to put back in.  Profit is a me\"], [\"19th cent Marxism that has proven a complete failure. This is how rigid Bernie is. He would be a total disaster as POTUS. Incapable of fatho\"], [\"\\u201cBecause God is love, the most important lesson he wants you to learn on earth is how to love\\u201d -Rick Warren\"], [\"my bf just sent me this video of his brother\\u2019s house getting \\u201cding dong ditched.\\u201d My, how the times have changed - i\\u2019m DEAD https://t.co/UrU\"], [\"Elizabeth Warren has rolled out a proposal to levy a 7% tax on corporate profits above $100 million, \\\"no loopholes or exemptions,\\\" which if \"], [\"Elizabeth Warren is the intellectual powerhouse of the Democratic party https://t.co/HujBvC8YYe\"], [\"Elizabeth Warren is the intellectual powerhouse of the Democratic party\\n\\nhttps://t.co/RZgA4QeAzC\"], [\"I'm betting against Biden to win the nomination, but here's why you can't discount his lead. One big one: I'm sick of this idea it's all nam\"], [\".@ewarren\\u2019s proposal is \\u201clikely to send an exponentially larger chill down the corporate world\\u2019s collective spine: a tax on their profits, s\"], [\"#504 \\u2013 \\u201cElizabeth Warren Delivers, Wrong About Barr, Julian Assange's Arrest, and\\u2026 https://t.co/vfrBDh9GoL #IDoubtIt\"], [\"Democratic presidential candidate Sen. Elizabeth Warren (@ewarren) brings coffee and donuts to striking Stop &amp; Shop workers in Somervill\"], [\"@nickdangerca let's face it, warren's tweet very phoney, and worse- trying to call out @potus for criticizing omar's trivializing terrorism.\"], [\"Ilhan Omar: progressive Democrats condemn Republican smears and urge party to do the same https://t.co/bUi5ccZmQw What a scumbag #DonaldTrum\"], [\"Elizabeth Warren is inciting violence against prosperous businessmen and women by demonizing them based on their success. It\\u2019s disgusting. I\"], [\"Elizabeth Warren is inciting violence against prosperous businessmen and women by demonizing them based on their success. It\\u2019s disgusting. I\"], [\"Sanders, Warren: I stand with Ilhan Omar against the racist mob\\n\\nHarris: I'll get back to you, say, Monday?\\n\\nO'Rourke: The smallness of our \"], [\"Tawhidi 1, Warren 0. \\n\\nSorry @ewarren, politicians can be criticized for their ideas and that\\u2019s 100% American. (As opposed to 1/1024th Nativ\"], [\"@ewarren #NeedToImpeach\\nI\\u2019m on board with that Senator Warren. Are you with us on impeachment? Because we\\u2019re ready NOW!\\n\\nWe need to know our\"], [\"Honesty is a very expensive gift. Do not expect it from cheap people - Warren Buffet #Expectations #quoteoftheday\"], [\"@dbongino Don't push Elizabeth,Dan!!   I hear her spirit animal is ferocious!! \\ud83d\\ude31\\ud83e\\udd23\\ud83e\\udd23\\n\\nOn a serious note-  @SenWarren do you think anyone is ac\"], [\"I wrote the piece I wanted to read about Elizabeth Warren\\u2019s policy agenda. https://t.co/Dgz3V97sVb\"], [\"@ewarren I thought Sitting Congresswoman was your Indian name @SenWarren\"], [\"@IAU_org &lt;Waves&gt; Let's host an #IAU100 Flagship event in Detroit, Michigan!\\n\\nI'm a volunteer NASA/JPL Solar System Ambassador, and the\"], [\"Elizabeth Warren is inciting violence against prosperous businessmen and women by demonizing them based on their success. It\\u2019s disgusting. I\"], [\"Elizabeth Warren is inciting violence against prosperous businessmen and women by demonizing them based on their success. It\\u2019s disgusting. I\"], [\"Elizabeth Warren is inciting violence against prosperous businessmen and women by demonizing them based on their success. It\\u2019s disgusting. I\"], [\"Elizabeth Warren is the intellectual powerhouse of the Democratic party | Moira Donegan https://t.co/PvZYW3OUDL\"], [\"Elizabeth Warren is inciting violence against prosperous businessmen and women by demonizing them based on their success. It\\u2019s disgusting. I\"], [\"Elizabeth Warren is inciting violence against prosperous businessmen and women by demonizing them based on their success. It\\u2019s disgusting. I\"], [\"Elizabeth Warren is inciting violence against prosperous businessmen and women by demonizing them based on their success. It\\u2019s disgusting. I\"], [\"Sen. Elizabeth Warren Unveils Plan to Force Big Companies to Pay Fair Share https://t.co/qQmjn6bRuq\"], [\"\\u2665\\ufe0f\\u2665\\ufe0f\\ud83c\\uddfa\\ud83c\\uddf8\\ud83c\\uddfa\\ud83c\\uddf8Warren-Harris2020\\ud83c\\uddfa\\ud83c\\uddf8\\ud83c\\uddfa\\ud83c\\uddf8\\u2665\\ufe0f\\u2665\\ufe0f\\nLet\\u2019s make HERSTORY!!!! https://t.co/6sHWHlWkU9\"], [\"Tawhidi 1, Warren 0. \\n\\nSorry @ewarren, politicians can be criticized for their ideas and that\\u2019s 100% American. (As opposed to 1/1024th Nativ\"], [\"Lori Loughlin and Elizabeth Warren both committed fraud to steal spots in college...maybe we should send Pocahontas to prison. \\ud83e\\udd37\\u200d\\u2640\\ufe0f\"], [\"Is Elizabeth Warren the first presidential candidate to speak out about Trump targeting Ilhan? \\n\\nBecause I am absolutely keeping track.\"], [\"Elizabeth Warren is inciting violence against prosperous businessmen and women by demonizing them based on their success. It\\u2019s disgusting. I\"], [\"Elizabeth Warren is inciting violence against prosperous businessmen and women by demonizing them based on their success. It\\u2019s disgusting. I\"], [\"Time and again since launching her campaign, Warren has set the bar for leadership. This is what every Democrat (and every American) should \"], [\"Elizabeth Warren is inciting violence against prosperous businessmen and women by demonizing them based on their success. It\\u2019s disgusting. I\"], [\"Democrats you don't even have to think or try hard. Just say something like Elizabeth Warren. Copy it if you must. She beat you all to it by\"], [\"Elizabeth Warren is inciting violence against prosperous businessmen and women by demonizing them based on their success. It\\u2019s disgusting. I\"], [\"Elizabeth Warren is inciting violence against prosperous businessmen and women by demonizing them based on their success. It\\u2019s disgusting. I\"], [\"Elizabeth Warren is inciting violence against prosperous businessmen and women by demonizing them based on their success. It\\u2019s disgusting. I\"], [\"Elizabeth Warren is inciting violence against prosperous businessmen and women by demonizing them based on their success. It\\u2019s disgusting. I\"], [\"@dbongino If Elizabeth Warren is inciting violence it'd be the only insightful thing about her entire campaign.\"], [\"https://t.co/vyLLaG2KmK #Newmusic by #independent #musicians -- Check out Til We're Alone by Warren Ireland #ukmusic #songwriter #music #son\"], [\"@Manofstone2018 @frellus @ewarren If Warren promotes demonstratively false claims on Trump, and contribute to normalize hate directed toward\"], [\"@_monzon322 @DarinColville @derrickresists @esadah @Barb81146 @Blabla79021362 @kc_act_up @CunningSq16 @Momof2in1year @ChrisToTheW @strom_ann\"], [\"Is Uber really worth $100bn? #Uber  https://t.co/nrKlRAOKQE\"], [\"Elizabeth Warren would be a phenomenal President and don\\u2019t let anyone tell you otherwise. https://t.co/uRQEBL9U4n\"], [\"@ewarren This was the perfect response out of everybody. Warren immediately stepped up and pressured peers to follow her lead and do what\\u2019s \"], [\"Elizabeth Warren is inciting violence against prosperous businessmen and women by demonizing them based on their success. It\\u2019s disgusting. I\"], [\"@ewarren #NeedToImpeach\\nI\\u2019m on board with that Senator Warren. Are you with us on impeachment? Because we\\u2019re ready NOW!\\n\\nWe need to know our\"], [\"VP Pence to Iowans: \\\"If you see Sen. Elizabeth Warren. If you see Sen. Amy Klobuchar, see Sen. Cory Booker and others come to Iowa asking fo\"], [\"Elizabeth Warren is inciting violence against prosperous businessmen and women by demonizing them based on their success. It\\u2019s disgusting. I\"], [\"I wrote the piece I wanted to read about Elizabeth Warren\\u2019s policy agenda. https://t.co/Dgz3V97sVb\"], [\"Elizabeth Warren is inciting violence against prosperous businessmen and women by demonizing them based on their success. It\\u2019s disgusting. I\"], [\"Elizabeth Warren is inciting violence against prosperous businessmen and women by demonizing them based on their success. It\\u2019s disgusting. I\"], [\"Elizabeth Warren is inciting violence against prosperous businessmen and women by demonizing them based on their success. It\\u2019s disgusting. I\"], [\"Elizabeth Warren is inciting violence against prosperous businessmen and women by demonizing them based on their success. It\\u2019s disgusting. I\"], [\"@_monzon322 @derrickresists @esadah @Barb81146 @Blabla79021362 @kc_act_up @CunningSq16 @Momof2in1year @ChrisToTheW @strom_annette @jidk1187 \"], [\"Elizabeth Warren is inciting violence against prosperous businessmen and women by demonizing them based on their success. It\\u2019s disgusting. I\"], [\"@JohnOSullivan36 I love Pete, but Elizabeth Warren is the most dedicated servant of the people I\\u2019ve seen in my 40+ years. Her experience lev\"], [\"#NancyPelosi @SpeakerPelosi U know U want it Nancy\\nMatter Fact the Whole  Democratic Party Wants it  #KamalaHarris #BernieSanders #Warren #c\"], [\"@ewarren Thank you, Senator Warren.\"], [\"Elizabeth Warren is inciting violence against prosperous businessmen and women by demonizing them based on their success. It\\u2019s disgusting. I\"], [\"Democratic presidential candidate Sen. Elizabeth Warren (@ewarren) brings coffee and donuts to striking Stop &amp; Shop workers in Somervill\"], [\"Elizabeth Warren is inciting violence against prosperous businessmen and women by demonizing them based on their success. It\\u2019s disgusting. I\"], [\"Time and again since launching her campaign, Warren has set the bar for leadership. This is what every Democrat (and every American) should \"], [\"Wes Newton, Sebastian Steyer, Adam Smith-Neale, Jamie Caven, Wayne Warren, Dean Winstanley, Jarred Cole, John Scott and Willem Mandigers all\"], [\"Self-made billionaires prove you can't be successful if you don't make time for these 6 things every day. via @CNBCMakeIt https://t.co/1nPow\"], [\"Some interesting Massachusetts history as Grossman backs Buttigieg in Elizabeth Warren's backyard: In 2004, he backed Howard Dean despite a \"], [\"Self-made billionaires prove you can't be successful if you don't make time for these 6 things every day. via CNBCMakeIt https://t.co/sloLHv\"], [\"@RealSaavedra Oh look everyone Elisabeth Warren has something to say. Never mind she is just trying to call the President a racist and hatef\"], [\"Elizabeth Warren is the intellectual powerhouse of the Democratic party | Moira Donegan https://t.co/PvZYW3OUDL\"], [\"Tawhidi 1, Warren 0. \\n\\nSorry @ewarren, politicians can be criticized for their ideas and that\\u2019s 100% American. (As opposed to 1/1024th Nativ\"], [\"WHITE-TAILED EAGLE (no joke!) flew N over North Moors, Upton Warren at 11.47\\nBird looked to have secondary missing on left wing.\"], [\"Elizabeth Warren tells Stop &amp; Shop shoppers, \\u2019Do not cross the picket line\\u2019 | @scoopit https://t.co/AiTFrjcuNO\"], [\"Self-made billionaires prove you can't be successful if you don't make time for these 6 things every day. via @CNBCMakeIt https://t.co/1nPow\"], [\"@STVColin @BBCGaryR @nickeardleybbc @GlennBBC it's time the Scottish media got involved in independence or were going down with the ex empir\"], [\"Progress at Warren Farm @LoftforWords https://t.co/PJNdhMZBoP\"], [\"I wrote the piece I wanted to read about Elizabeth Warren\\u2019s policy agenda. https://t.co/Dgz3V97sVb\"], [\"What a bitch. @SenWarren is just another prostitute, willing to say or do anything for a vote. Willing to steal another race for an advantag\"], [\"#Breaking @cenkuygur \\ud83d\\udc4f @BernieSanders Slams @AFPhq for it's Smearing of candidates @SenWarren @CoryBooker and himself for his new income bra\"], [\"@soonergrunt Sure there is. There is Joe Lieberman, and the ghost of Zell Miller.\"], [\"Mane baby urine on antibiotics has a lethal smell. Potent\"], [\"@msnbc @cnn\\n#BUTTIGIEG DROPPED THE MIKE!!!\\nI'm not gay..Im 6u yr young black woman votef!!HE'S GOT MY VOTE!!\\nSorry #Warren. IT HAS TO BE A N\"], [\"Elizabeth Warren on Trump's tweet about Ilhan Omar: \\\"Donald Trump is trying to incite violence and to divide us ... Those who don't speak ou\"], [\"Candidate Tax Return Tracker:\\n\\nHarris: 2004-2018\\nWarren: 2007-2018\\nBeto: Pledged\\nBooker: Pledged 2018\\nButtigieg: Pledged\\nKlobuchar: 2006-201\"], [\"Marx: \\\"... the extirpation, enslavement and entombment ... of the aboriginal population, ... conquest and looting of the East Indies, the tu\"], [\"\\\"Buttigieg\\\" is a weird way to spell \\\"Warren\\\" but ok https://t.co/Kl5SYJvL15\"], [\"Warren Place still without a master https://t.co/L1ebHa9Rea\"], [\"Instead of running from this, Warren should run on it. She was a pro-free market conservative.\\n\\nBut what modern Republicans are promoting ha\"], [\"\\\"Study charts as if you were a general in the field of battle watching for a strategic move\\\" - Ted Warren\"], [\"@ewarren senator Warren, my nephew, Dennis Kendricks needs help. Fergus Falls, Minnesota has his 3 children in foster care because of a fals\"], [\"@Azrael2124David @greaves46 @KyleKashuv Maybe, and I've heard exactly zero D leaders flinch. They're saying they welcome immigrants, BUT, pe\"], [\"VIC - Monash Freeway (M1)\\nNear: Princes Highway , Narre Warren\\nlanes closed inbound Vehicle Collision\\nRight-hand lane closed inbound near th\"]], \"hoverlabel\": {\"namelength\": 0}, \"hovertemplate\": \"<b>%{hovertext}</b><br><br>name=Elizabeth Warren<br>identity_attack=%{x}<br>toxicity=%{y}<br>size=%{marker.size}<br>tweet_prev1=%{customdata[0]}\", \"hovertext\": [\"Elizabeth Warren\", \"Elizabeth Warren\", \"Elizabeth Warren\", \"Elizabeth Warren\", \"Elizabeth Warren\", \"Elizabeth Warren\", \"Elizabeth Warren\", \"Elizabeth Warren\", \"Elizabeth Warren\", \"Elizabeth Warren\", \"Elizabeth Warren\", \"Elizabeth Warren\", \"Elizabeth Warren\", \"Elizabeth Warren\", \"Elizabeth Warren\", \"Elizabeth Warren\", \"Elizabeth Warren\", \"Elizabeth Warren\", \"Elizabeth Warren\", \"Elizabeth Warren\", \"Elizabeth Warren\", \"Elizabeth Warren\", \"Elizabeth Warren\", \"Elizabeth Warren\", \"Elizabeth Warren\", \"Elizabeth Warren\", \"Elizabeth Warren\", \"Elizabeth Warren\", \"Elizabeth Warren\", \"Elizabeth Warren\", \"Elizabeth Warren\", \"Elizabeth Warren\", \"Elizabeth Warren\", \"Elizabeth Warren\", \"Elizabeth Warren\", \"Elizabeth Warren\", \"Elizabeth Warren\", \"Elizabeth Warren\", \"Elizabeth Warren\", \"Elizabeth Warren\", \"Elizabeth Warren\", \"Elizabeth Warren\", \"Elizabeth Warren\", \"Elizabeth Warren\", \"Elizabeth Warren\", \"Elizabeth Warren\", \"Elizabeth Warren\", \"Elizabeth Warren\", \"Elizabeth Warren\", \"Elizabeth Warren\", \"Elizabeth Warren\", \"Elizabeth Warren\", \"Elizabeth Warren\", \"Elizabeth Warren\", \"Elizabeth Warren\", \"Elizabeth Warren\", \"Elizabeth Warren\", \"Elizabeth Warren\", \"Elizabeth Warren\", \"Elizabeth Warren\", \"Elizabeth Warren\", \"Elizabeth Warren\", \"Elizabeth Warren\", \"Elizabeth Warren\", \"Elizabeth Warren\", \"Elizabeth Warren\", \"Elizabeth Warren\", \"Elizabeth Warren\", \"Elizabeth Warren\", \"Elizabeth Warren\", \"Elizabeth Warren\", \"Elizabeth Warren\", \"Elizabeth Warren\", \"Elizabeth Warren\", \"Elizabeth Warren\", \"Elizabeth Warren\", \"Elizabeth Warren\", \"Elizabeth Warren\", \"Elizabeth Warren\", \"Elizabeth Warren\", \"Elizabeth Warren\", \"Elizabeth Warren\", \"Elizabeth Warren\", \"Elizabeth Warren\", \"Elizabeth Warren\", \"Elizabeth Warren\", \"Elizabeth Warren\", \"Elizabeth Warren\", \"Elizabeth Warren\", \"Elizabeth Warren\", \"Elizabeth Warren\", \"Elizabeth Warren\", \"Elizabeth Warren\", \"Elizabeth Warren\", \"Elizabeth Warren\", \"Elizabeth Warren\", \"Elizabeth Warren\", \"Elizabeth Warren\", \"Elizabeth Warren\", \"Elizabeth Warren\", \"Elizabeth Warren\", \"Elizabeth Warren\", \"Elizabeth Warren\", \"Elizabeth Warren\", \"Elizabeth Warren\", \"Elizabeth Warren\", \"Elizabeth Warren\", \"Elizabeth Warren\", \"Elizabeth Warren\", \"Elizabeth Warren\", \"Elizabeth Warren\", \"Elizabeth Warren\", \"Elizabeth Warren\", \"Elizabeth Warren\", \"Elizabeth Warren\", \"Elizabeth Warren\", \"Elizabeth Warren\", \"Elizabeth Warren\", \"Elizabeth Warren\", \"Elizabeth Warren\", \"Elizabeth Warren\", \"Elizabeth Warren\", \"Elizabeth Warren\", \"Elizabeth Warren\", \"Elizabeth Warren\", \"Elizabeth Warren\", \"Elizabeth Warren\", \"Elizabeth Warren\", \"Elizabeth Warren\", \"Elizabeth Warren\", \"Elizabeth Warren\", \"Elizabeth Warren\", \"Elizabeth Warren\", \"Elizabeth Warren\", \"Elizabeth Warren\", \"Elizabeth Warren\", \"Elizabeth Warren\", \"Elizabeth Warren\", \"Elizabeth Warren\", \"Elizabeth Warren\", \"Elizabeth Warren\", \"Elizabeth Warren\", \"Elizabeth Warren\", \"Elizabeth Warren\", \"Elizabeth Warren\", \"Elizabeth Warren\", \"Elizabeth Warren\", \"Elizabeth Warren\", \"Elizabeth Warren\", \"Elizabeth Warren\", \"Elizabeth Warren\", \"Elizabeth Warren\", \"Elizabeth Warren\", \"Elizabeth Warren\", \"Elizabeth Warren\", \"Elizabeth Warren\", \"Elizabeth Warren\", \"Elizabeth Warren\", \"Elizabeth Warren\", \"Elizabeth Warren\", \"Elizabeth Warren\", \"Elizabeth Warren\", \"Elizabeth Warren\", \"Elizabeth Warren\", \"Elizabeth Warren\", \"Elizabeth Warren\", \"Elizabeth Warren\", \"Elizabeth Warren\", \"Elizabeth Warren\", \"Elizabeth Warren\", \"Elizabeth Warren\", \"Elizabeth Warren\", \"Elizabeth Warren\", \"Elizabeth Warren\", \"Elizabeth Warren\", \"Elizabeth Warren\", \"Elizabeth Warren\", \"Elizabeth Warren\", \"Elizabeth Warren\", \"Elizabeth Warren\", \"Elizabeth Warren\", \"Elizabeth Warren\", \"Elizabeth Warren\", \"Elizabeth Warren\", \"Elizabeth Warren\", \"Elizabeth Warren\", \"Elizabeth Warren\", \"Elizabeth Warren\", \"Elizabeth Warren\", \"Elizabeth Warren\", \"Elizabeth Warren\", \"Elizabeth Warren\", \"Elizabeth Warren\", \"Elizabeth Warren\", \"Elizabeth Warren\", \"Elizabeth Warren\", \"Elizabeth Warren\", \"Elizabeth Warren\", \"Elizabeth Warren\", \"Elizabeth Warren\"], \"legendgroup\": \"Elizabeth Warren\", \"marker\": {\"color\": \"#00cc96\", \"size\": [19.648, 14.576, 37.432, 6.549, 9.100999999999999, 26.467000000000002, 9.529, 13.645, 5.7509999999999994, 19.296, 21.815, 7.263999999999999, 11.847000000000001, 18.34, 2.365, 22.575, 17.598, 5.74, 5.021, 18.34, 12.409, 18.549, 24.13, 30.879, 9.507, 25.478, 47.522999999999996, 34.788999999999994, 12.062000000000001, 4.825, 21.07, 9.549000000000001, 28.349000000000004, 17.598, 7.114, 5.252, 13.645, 11.007, 19.266, 12.408, 28.352, 3.031, 10.123, 15.369, 20.964, 6.8229999999999995, 23.439, 8.790000000000001, 24.895999999999997, 11.136, 5.3870000000000005, 6.9750000000000005, 6.549, 10.832, 5.356000000000001, 86.601, 8.538, 23.011, 12.863, 39.96, 19.774, 18.85, 10.641, 7.321999999999999, 57.614, 6.619, 12.409, 3.755, 46.766999999999996, 6.9750000000000005, 9.706, 6.9750000000000005, 4.5409999999999995, 17.598, 0.661, 11.136, 6.9750000000000005, 6.9750000000000005, 5.953, 18.34, 9.549000000000001, 20.59, 12.062000000000001, 7.808, 5.756, 11.136, 66.52799999999999, 26.716, 18.478, 7.6770000000000005, 17.776, 10.832, 75.681, 6.903, 11.007, 15.293999999999999, 12.863, 9.991, 23.131, 17.598, 19.774, 6.9750000000000005, 18.478, 23.169, 43.497, 12.342, 43.626, 5.7509999999999994, 6.848, 6.848, 31.395, 12.409, 7.957, 20.315, 61.446, 75.885, 49.788, 49.788, 40.268, 41.485, 12.405, 12.145999999999999, 50.425, 6.9750000000000005, 32.182, 4.095, 49.788, 49.788, 49.788, 10.832, 49.788, 49.788, 49.788, 7.713, 12.443999999999999, 41.485, 31.705, 7.768, 49.788, 49.788, 17.095, 49.788, 27.837, 49.788, 49.788, 49.788, 49.788, 28.951999999999998, 11.924999999999999, 30.961, 12.151, 2.7, 10.808, 12.793, 49.788, 12.405, 6.787, 49.788, 6.9750000000000005, 49.788, 49.788, 49.788, 49.788, 22.342000000000002, 49.788, 8.731, 37.186, 16.145, 49.788, 20.315, 49.788, 17.095, 6.537, 10.691, 1.737, 10.645, 72.262, 10.832, 41.485, 18.457, 11.126999999999999, 10.691, 38.259, 4.3180000000000005, 6.9750000000000005, 95.086, 21.848, 6.762, 21.005, 53.271, 20.474999999999998, 2.823, 24.813, 18.259, 7.974, 16.24, 7.369000000000001, 36.912, 23.531, 7.149], \"sizemode\": \"area\", \"sizeref\": 0.24465, \"symbol\": \"circle\"}, \"mode\": \"markers\", \"name\": \"Elizabeth Warren\", \"showlegend\": true, \"type\": \"scatter\", \"x\": [0.08523, 0.06854, 0.3922, 0.07066, 0.19413, 0.13061, 0.07089, 0.17563, 0.08504, 0.16995, 0.17352, 0.04759, 0.09448, 0.26153, 0.02978, 0.21711, 0.16715, 0.06132, 0.05204, 0.26153, 0.09712, 0.2188, 0.23222, 0.1595, 0.1417, 0.22936, 0.67935, 0.21189, 0.19591, 0.04995, 0.14933, 0.0398, 0.2278, 0.16715, 0.08049, 0.05707, 0.17563, 0.11455, 0.05929, 0.11827, 0.31547, 0.01799, 0.10272, 0.1711, 0.32469, 0.08239, 0.28235, 0.0801, 0.10348, 0.1265, 0.05123, 0.12185, 0.07066, 0.11394, 0.04795, 0.27026, 0.08577, 0.17386, 0.13923, 0.3476, 0.21793, 0.17242, 0.11901, 0.09414, 0.20994, 0.10163, 0.09712, 0.05062, 0.39573, 0.12185, 0.08821, 0.12185, 0.05903, 0.16715, 0.03221, 0.1265, 0.12185, 0.12185, 0.0828, 0.26153, 0.0398, 0.28008, 0.19591, 0.08217, 0.04516, 0.1265, 0.43419, 0.2123, 0.19716, 0.0436, 0.26347, 0.11394, 0.08249, 0.05342, 0.11455, 0.23613, 0.13923, 0.12029, 0.13598, 0.16715, 0.21793, 0.12185, 0.19716, 0.25992, 0.2595, 0.19114, 0.24556, 0.08504, 0.06647, 0.06647, 0.1628, 0.09712, 0.09046, 0.16528, 0.41581, 0.53485, 0.47954, 0.47954, 0.60803, 0.59811, 0.14929, 0.12568, 0.5016, 0.12185, 0.4504, 0.07196, 0.47954, 0.47954, 0.47954, 0.11394, 0.47954, 0.47954, 0.47954, 0.101, 0.16977, 0.59811, 0.29337, 0.08114, 0.47954, 0.47954, 0.25171, 0.47954, 0.24034, 0.47954, 0.47954, 0.47954, 0.47954, 0.32667, 0.13569, 0.44228, 0.11553, 0.01849, 0.08247, 0.10932, 0.47954, 0.14929, 0.09711, 0.47954, 0.12185, 0.47954, 0.47954, 0.47954, 0.47954, 0.15535, 0.47954, 0.04865, 0.2838, 0.1345, 0.47954, 0.16528, 0.47954, 0.25171, 0.06464, 0.117, 0.06916, 0.13346, 0.68858, 0.11394, 0.59811, 0.25585, 0.0953, 0.117, 0.43404, 0.03372, 0.12185, 0.7208, 0.1123, 0.05562, 0.03775, 0.71584, 0.16772, 0.03194, 0.53357, 0.1597, 0.09091, 0.19128, 0.06998, 0.21997, 0.28397, 0.1027], \"xaxis\": \"x\", \"y\": [0.19648, 0.14576, 0.37432, 0.06549, 0.09101, 0.26467, 0.09529, 0.13645, 0.05751, 0.19296, 0.21815, 0.07264, 0.11847, 0.1834, 0.02365, 0.22575, 0.17598, 0.0574, 0.05021, 0.1834, 0.12409, 0.18549, 0.2413, 0.30879, 0.09507, 0.25478, 0.47523, 0.34789, 0.12062, 0.04825, 0.2107, 0.09549, 0.28349, 0.17598, 0.07114, 0.05252, 0.13645, 0.11007, 0.19266, 0.12408, 0.28352, 0.03031, 0.10123, 0.15369, 0.20964, 0.06823, 0.23439, 0.0879, 0.24896, 0.11136, 0.05387, 0.06975, 0.06549, 0.10832, 0.05356, 0.86601, 0.08538, 0.23011, 0.12863, 0.3996, 0.19774, 0.1885, 0.10641, 0.07322, 0.57614, 0.06619, 0.12409, 0.03755, 0.46767, 0.06975, 0.09706, 0.06975, 0.04541, 0.17598, 0.00661, 0.11136, 0.06975, 0.06975, 0.05953, 0.1834, 0.09549, 0.2059, 0.12062, 0.07808, 0.05756, 0.11136, 0.66528, 0.26716, 0.18478, 0.07677, 0.17776, 0.10832, 0.75681, 0.06903, 0.11007, 0.15294, 0.12863, 0.09991, 0.23131, 0.17598, 0.19774, 0.06975, 0.18478, 0.23169, 0.43497, 0.12342, 0.43626, 0.05751, 0.06848, 0.06848, 0.31395, 0.12409, 0.07957, 0.20315, 0.61446, 0.75885, 0.49788, 0.49788, 0.40268, 0.41485, 0.12405, 0.12146, 0.50425, 0.06975, 0.32182, 0.04095, 0.49788, 0.49788, 0.49788, 0.10832, 0.49788, 0.49788, 0.49788, 0.07713, 0.12444, 0.41485, 0.31705, 0.07768, 0.49788, 0.49788, 0.17095, 0.49788, 0.27837, 0.49788, 0.49788, 0.49788, 0.49788, 0.28952, 0.11925, 0.30961, 0.12151, 0.027, 0.10808, 0.12793, 0.49788, 0.12405, 0.06787, 0.49788, 0.06975, 0.49788, 0.49788, 0.49788, 0.49788, 0.22342, 0.49788, 0.08731, 0.37186, 0.16145, 0.49788, 0.20315, 0.49788, 0.17095, 0.06537, 0.10691, 0.01737, 0.10645, 0.72262, 0.10832, 0.41485, 0.18457, 0.11127, 0.10691, 0.38259, 0.04318, 0.06975, 0.95086, 0.21848, 0.06762, 0.21005, 0.53271, 0.20475, 0.02823, 0.24813, 0.18259, 0.07974, 0.1624, 0.07369, 0.36912, 0.23531, 0.07149], \"yaxis\": \"y\"}, {\"customdata\": [[\"@realDonaldTrump your fuckbag  bitch, Sanders, must be getting a pretty penny from you.\\nGood job on hollowing out our nation's laws to make \"], [\"@BernieSanders 2016: Hillary made millions writing books &amp; giving speeches, she is a corporate whore!\\n\\n@SenSanders 2019: I wrote a book,\"], [\"@BernieSanders 2016: Hillary made millions writing books &amp; giving speeches, she is a corporate whore!\\n\\n@SenSanders 2019: I wrote a book,\"], [\"@BernieSanders 2016: Hillary made millions writing books &amp; giving speeches, she is a corporate whore!\\n\\n@SenSanders 2019: I wrote a book,\"], [\"@BernieSanders 2016: Hillary made millions writing books &amp; giving speeches, she is a corporate whore!\\n\\n@SenSanders 2019: I wrote a book,\"], [\"@BernieSanders 2016: Hillary made millions writing books &amp; giving speeches, she is a corporate whore!\\n\\n@SenSanders 2019: I wrote a book,\"], [\"@BernieSanders 2016: Hillary made millions writing books &amp; giving speeches, she is a corporate whore!\\n\\n@SenSanders 2019: I wrote a book,\"], [\"@HillReporter LYING BITCH SANDERS\\nWILL BURN LONG IN HELL ACTUALLY HAPPENS WHEN\\nDEATH BEGINS\\nSURVIVORS REPORT REPEATEDLY\\nINTERESTING RESEARCH\"], [\"@HillReporter LYING BITCH SANDERS\\nWILL BURN LONG IN HELL ACTUALLY HAPPENS WHEN\\nDEATH BEGINS\\nSURVIVORS REPORT REPEATEDLY\\nINTERESTING RESEARCH\"], [\"LMAO YES GET THAT BITCH. Bernie Sanders is that bitch and I support 100% https://t.co/nZvMJIBt3q\"], [\"@taznum8 @ReginaA1981 @smileyt22 @DmitrysPlane @Anootchka @master_deli @OmartheWonder @mattrellen @rick_sl8 @MarvinKey74 @NudelHalbWeiner @k\"], [\"Presidential candidate Bernie \\\"Fuck This Bitch\\\" Sanders https://t.co/emEEESY4GJ\"], [\"Presidential candidate Bernie \\\"Fuck This Bitch\\\" Sanders https://t.co/emEEESY4GJ\"], [\"@krassenstein Yes wAke the fuck up! \\nOnce one get the taste of money all bets are off \\nREMINDER:  Kremlin whore Bernie Sanders(I) also refus\"], [\"Bernie Sanders and wife should pay the Pre-Trump Taxes on their almost $600,000 in income. He is always complaining about these big TAX CUTS\"], [\"@cenkuygur @SpeakerPelosi @IlhanMN @SenSanders @SpeakerPelosi is the de facto leader of the Nation and if she says your man @SenSanders isn\\u2019\"], [\"@HillaryWarnedUs Wait \\u2014the opening sentence :: Independent Vermont senator and Democratic presidential candidate Bernie Sanders is calling f\"], [\"How, some Wall Street \\u201cDemocrats are beginning to ask, do they thwart a 70-something candidate from outside the party structure who is immun\"], [\"Many Trump Fans &amp; Signs were outside of the @FoxNews Studio last night in the now thriving (Thank you President Trump) Bethlehem, Pennsy\"], [\"Many Trump Fans &amp; Signs were outside of the @FoxNews Studio last night in the now thriving (Thank you President Trump) Bethlehem, Pennsy\"], [\"Just like Bernie Sanders deported your ass out the room?! https://t.co/iVjXPHKcRj\"], [\"Many Trump Fans &amp; Signs were outside of the @FoxNews Studio last night in the now thriving (Thank you President Trump) Bethlehem, Pennsy\"], [\"Many Trump Fans &amp; Signs were outside of the @FoxNews Studio last night in the now thriving (Thank you President Trump) Bethlehem, Pennsy\"], [\"Bernie Sanders has released his tax returns for the last ten years. They show that he actually became a millionaire by telling you how evil \"], [\"Many Trump Fans &amp; Signs were outside of the @FoxNews Studio last night in the now thriving (Thank you President Trump) Bethlehem, Pennsy\"], [\"Just like Bernie Sanders deported your ass out the room?! https://t.co/iVjXPHKcRj\"], [\"Bernie Sanders and wife should pay the Pre-Trump Taxes on their almost $600,000 in income. He is always complaining about these big TAX CUTS\"], [\"Many Trump Fans &amp; Signs were outside of the @FoxNews Studio last night in the now thriving (Thank you President Trump) Bethlehem, Pennsy\"], [\"Bernie Sanders and wife should pay the Pre-Trump Taxes on their almost $600,000 in income. He is always complaining about these big TAX CUTS\"], [\"Trump Tax Law Saved Sanders Nearly $40,000 Last Year https://t.co/wLtYpReLyu via @CharlesFLehman\"], [\"BERNIE SANDERS IS DOING REALLY WELL UNDER DEMS TICKET NO NO BERNIE ATTACKS WE MUST WIN THE WHITE HOUSE PERIOD IF YOU ATTACK I WILL BLOCK YOU\"], [\"@realDonaldTrump @FoxNews @BretBaier @donnabrazile Bernie Sanders attacks Trump on Fox News calling him a \\u2018pathalogical liar\\u2019 as Brett Baier\"], [\"Bernie Sanders and wife should pay the Pre-Trump Taxes on their almost $600,000 in income. He is always complaining about these big TAX CUTS\"], [\"@ROCKONOHIO @pinkk9lover @SenSanders @AppSame @skb_sara @LVNancy @LibsHateGrizz @KatTheHammer1 @magastorybook @buzzman888 @GaetaSusan @Choos\"], [\"Just like Bernie Sanders deported your ass out the room?! https://t.co/iVjXPHKcRj\"], [\"I believe it will be Crazy Bernie Sanders vs. Sleepy Joe Biden as the two finalists to run against maybe the best Economy in the history of \"], [\"@ezraklein Agree. A big factor is that Democratic elites respond first and most to power, so as he's grown in power, they've accomadated the\"], [\"Unpopular opinion: @BernieSanders is really not much different than @realdonaldtrump. Aside from some policy differences that neither would \"], [\"IT'S ON! https://t.co/aBmfzeDoQU https://t.co/FAyIuwL0Uw\"], [\"WATCH: Bernie Sanders Has Infowars Reporter Booted From Public Event For Most Ironic Reason Ever https://t.co/LkIfFXfDrs\"], [\"Speaking as a Catholic here\\u2026please don't donate to help Notre Dame. The Church is worth $30 billion. Donate to help Puerto Rico recover. Don\"], [\"@morningmika I cringe when you promote Bernie Sanders. You are going to be disappointed. Stay woke because he will not be the nominee.\"], [\"RT if you believe Bernie Sanders should give away two of his three houses to charity and his millions of dollars before he dares tell anyone\"], [\"I believe it will be Crazy Bernie Sanders vs. Sleepy Joe Biden as the two finalists to run against maybe the best Economy in the history of \"], [\"Asked if he's smart enough to see Trump's taxes, Rep. Brad Sherman tells CNN: \\\"I'm surprised to see Sarah Sanders talking about intelligence\"], [\"I believe it will be Crazy Bernie Sanders vs. Sleepy Joe Biden as the two finalists to run against maybe the best Economy in the history of \"], [\"Tonight Bernie Sanders said that he thinks infanticide is okay and that rapists and murderers deserve the right to vote from prison.\\n\\nThis i\"], [\"I believe it will be Crazy Bernie Sanders vs. Sleepy Joe Biden as the two finalists to run against maybe the best Economy in the history of \"], [\"Alex Jones on Bernie Sanders calling InfoWars a white supremacist organization: \\\"It's lawsuit time\\\"\"], [\"Prediction hum, \\u201cPAIN\\u201d. Lol\\ud83e\\udd23\\ud83e\\udd23 https://t.co/85CUupdgHW\"], [\"Bernie Sanders and wife should pay the Pre-Trump Taxes on their almost $600,000 in income. He is always complaining about these big TAX CUTS\"], [\"Bernie Sanders and wife should pay the Pre-Trump Taxes on their almost $600,000 in income. He is always complaining about these big TAX CUTS\"], [\"Leading 2020 Dem contender Bernie Sanders incited violence against female reporters for Infowars by falsely labeling them \\u201cwhite nationalist\"], [\"@ezraklein Not ONE person who didn\\u2019t vote for Bernie Sanders in 2016 is slightly interested in voting for him now that we all know he receiv\"], [\"Try me! https://t.co/jX9smC3sHD\"], [\"Bernie Sanders and wife should pay the Pre-Trump Taxes on their almost $600,000 in income. He is always complaining about these big TAX CUTS\"], [\"Bernie Sanders on how he got so rich: \\\"I wrote a best-selling book. If you write a best-selling book, you can be a millionaire, too.\\u201d \\n\\nYou \"], [\"It's On! Trump Predicts It Will Be \\\"Crazy Bernie Sanders\\\" vs \\\"Sleepy Joe Biden\\\" As Two Dem 2020 Finalists, \\\"May God Rest Their Soul!\\\" https:\"], [\"Bernie Sanders and wife should pay the Pre-Trump Taxes on their almost $600,000 in income. He is always complaining about these big TAX CUTS\"], [\"Bernie Sanders and wife should pay the Pre-Trump Taxes on their almost $600,000 in income. He is always complaining about these big TAX CUTS\"], [\"@SenSanders You being one of the wealthy tribe, is this an admission of guilt?\"], [\"Bernie Sanders Town Hall Recap https://t.co/RB6iA2qmTe\"], [\"Many Trump Fans &amp; Signs were outside of the @FoxNews Studio last night in the now thriving (Thank you President Trump) Bethlehem, Pennsy\"], [\"Just like Bernie Sanders deported your ass out the room?! https://t.co/iVjXPHKcRj\"], [\"Many Trump Fans &amp; Signs were outside of the @FoxNews Studio last night in the now thriving (Thank you President Trump) Bethlehem, Pennsy\"], [\"By Brendan Hoover\\n\\nBernie Sanders (I-VT) is hosted at a Fox News Townhall. The senator talks again about his much touted wealth tax. Here's \"], [\"I'm sick of seeing right-wing media reporting headlines like \\\"Beto O'Rourke only donated 1% of his income to charity,\\\" or \\\"Bernie Sanders on\"], [\"I believe it will be Crazy Bernie Sanders vs. Sleepy Joe Biden as the two finalists to run against maybe the best Economy in the history of \"], [\"Bernie Sanders and wife should pay the Pre-Trump Taxes on their almost $600,000 in income. He is always complaining about these big TAX CUTS\"], [\"Many Trump Fans &amp; Signs were outside of the @FoxNews Studio last night in the now thriving (Thank you President Trump) Bethlehem, Pennsy\"], [\"Just like Bernie Sanders deported your ass out the room?! https://t.co/iVjXPHKcRj\"], [\"Warmed over 1960's Socialist hash and/or The Foul Mouthed Groper. The \\\"Favorites\\\" in the upcoming Leftist Run.\\n https://t.co/45rWnO8Fow via \"], [\"Bernie Sanders Tries To Slap Fox Host Back During Awkward Town Hall, Her Response Was Golden https://t.co/l35vHxYyQ9\"], [\"Joe Scarborough is advising Democrats to go on Fox News like Bernie Sanders did last night. Out of curiosity, I checked out Fox News this mo\"], [\"Bernie Sanders and wife should pay the Pre-Trump Taxes on their almost $600,000 in income. He is always complaining about these big TAX CUTS\"], [\"There\\u2019s no bigger fraud in politics than limousine lib Bernie Sanders. He refuses to pay the tax rates he wants working class Americans to p\"], [\"I believe it will be Crazy Bernie Sanders vs. Sleepy Joe Biden as the two finalists to run against maybe the best Economy in the history of \"], [\"Many Trump Fans &amp; Signs were outside of the @FoxNews Studio last night in the now thriving (Thank you President Trump) Bethlehem, Pennsy\"], [\"@realDonaldTrump Is Bernie Sanders wife still under investigation for bank fraud?\"], [\"Bernie Sanders released 10 years of his tax returns just prior to a Fox News town hall event in Pennsylvania Monday, which showed that he ha\"], [\"Rep. Brad Sherman on Sarah Sanders saying \\\"Congress is not smart enough for Trump's tax returns\\\" \\n\\n\\\"I'm surprised to see Sarah Sanders talki\"], [\"@BitchyPundit @Rhonda_Painter @sandrakimdone @stucam7771 How much did Bernie Sanders accept from the NRA and other dubious sources? I see a \"], [\"Just like Bernie Sanders deported your ass out the room?! https://t.co/iVjXPHKcRj\"], [\"Bernie Sanders and wife should pay the Pre-Trump Taxes on their almost $600,000 in income. He is always complaining about these big TAX CUTS\"], [\"MEETINGS BY DEMOCRATIC PARTY CONSPIRING TO STOP BERNIE SANDERS ATTENDED BY THE FOLLOWING:\\n Nancy Pelosi; Senator Chuck Schumer, the majority\"], [\"BREAKING:  Fox News drew almost 2.6 million viewers for the Bernie Sanders Town Hall.  This surpasses many of Fox News' broadcasts of Trump \"], [\"Rep. Brad Sherman on Sarah Sanders saying \\\"Congress is not smart enough for Trump's tax returns\\\" \\n\\n\\\"I'm surprised to see Sarah Sanders talki\"], [\"@BethLew85934715 @ndesigner @daveweigel @SenSanders Russia boosted Sanders because- divide and conquer. Divide the nation with chaos, promot\"], [\"House Democrat: If Sarah Sanders cared about intelligence, \\\"she probably would have chosen another employer\\\" https://t.co/j52ChA3WAV https:/\"], [\"The NYT makes clear that the worst Dems in Washington - led by the incomparably scummy David Brock, oligarchical Dem financiers and (no intr\"], [\"@briebriejoy We will never forget that Kremlin whore Bernie Sanders(I) campaigned to make our first African American President @BarackObama \"], [\"If the D party backed Sanders instead of Biden they would have an excellent chance of defeating Trump but evidently the donors prefer the fa\"], [\"The most prominent, self-avowed socialist in US politics, Bernie Sanders is a millionaire who's never held a job outside of public office.\\nH\"], [\"Bernie Sanders isn\\u2019t a Democrat nor is his purpose is to win but act as a wedge to divide and ultimately cause the Democrats to lose in 2020\"], [\"@A_M_Dolan Again, I disagree because of the nature of that video.  I value TP which is why it was a noteworthy event before Sanders\\u2019 respons\"], [\"Bernie Sanders Donated Less Than One Percent to Charity First Year He Made Over One Million Dollars - Tennessee Star https://t.co/A2d7Ihxxah\"], [\"I believe it will be Crazy Bernie Sanders vs. Sleepy Joe Biden as the two finalists to run against maybe the best Economy in the history of \"], [\"Asked if he's smart enough to see Trump's taxes, Rep. Brad Sherman tells CNN: \\\"I'm surprised to see Sarah Sanders talking about intelligence\"], [\"Legit gap matters\\n-Wall St interests behind centrist Dems *are* against Sanders' agenda\\n-Bernie more likely to beat Trump than any candidate\"], [\"Trump has tweeted about Bernie Sanders 4 times in less than 12 hours (3 of those in just the last hour). It seems Bernie has gotten under Tr\"], [\"Is there a bigger fraud in politics than Bernie Sanders? Not only does he fail to pay the high tax rates he wants to impose on working Ameri\"], [\"Bernie Sanders and wife should pay the Pre-Trump Taxes on their almost $600,000 in income. He is always complaining about these big TAX CUTS\"], [\"@Xeynon @Noahpinion @delong @robertwaldmann @paulkrugman @neeratanden time to update your data https://t.co/ScGMQtFFI4\"], [\"I believe it will be Crazy Bernie Sanders vs. Sleepy Joe Biden as the two finalists to run against maybe the best Economy in the history of \"], [\"Bernie Sanders and wife should pay the Pre-Trump Taxes on their almost $600,000 in income. He is always complaining about these big TAX CUTS\"], [\"And her success so far with large donors in California still has not been enough to offset her rivals' advantages elsewhere. President Trump\"], [\"Elizabeth Warren's new climate change and public lands plan calls for leaving federal fossil fuel reserves in the ground and boosting renewa\"], [\"Just like Bernie Sanders deported your ass out the room?! https://t.co/iVjXPHKcRj\"], [\"Is there a bigger fraud in politics than Bernie Sanders? Not only does he fail to pay the high tax rates he wants to impose on working Ameri\"], [\"How a 78-year-old Indian-American mom became collateral damage in a messy fight between Sanders and Clinton supporters ... https://t.co/P5m6\"], [\"The NYT makes clear that the worst Dems in Washington - led by the incomparably scummy David Brock, oligarchical Dem financiers and (no intr\"], [\"\\u201cHouseholds headed by a \\u2018conservative\\u2019 give, on average, 30 percent more dollars to charity than households headed by a \\u2018liberal.\\u2019 This disc\"], [\"Counterpoint: most Democrats running for president have no proposed foreign policy whatsoever (exceptions: Warren, Sanders, Gabbard). https:\"], [\"Is Senator Bernie Sanders (I-VT) sharing his wealth with you like a good socialist?\"], [\"@realDonaldTrump @FoxNews @BretBaier @donnabrazile Bernie Sanders attacks Trump on Fox News calling him a \\u2018pathalogical liar\\u2019 as Brett Baier\"], [\"I'm sick of seeing right-wing media reporting headlines like \\\"Beto O'Rourke only donated 1% of his income to charity,\\\" or \\\"Bernie Sanders on\"], [\"RT ONLY \\n\\ud83d\\udea8ATTENTION DEMOCRATS\\ud83d\\udea8\\n.@ericswalwell \\n@RepSwalwell \\n@SenKamalaHarris \\n@CoryBooker \\n@SenSanders \\n@BernieSanders \\ud83d\\udc48Locos\\n@ewarren \\ud83d\\udc48Poc\"], [\"Just like Bernie Sanders deported your ass out the room?! https://t.co/iVjXPHKcRj\"], [\"Bernie Sanders is a liar and a fraud he is a multi-millionaire but when he goes to his rallies he wears his old suit which he bought at Good\"], [\"Only in America...can a person become a MILLIONAIRE from writing a book about the EVIL'S of CAPITALISM!!!  Isn't THAT right, Bernie? We'll n\"], [\"Asked if he's smart enough to see Trump's taxes, Rep. Brad Sherman tells CNN: \\\"I'm surprised to see Sarah Sanders talking about intelligence\"], [\"REPORT: Bernie Sanders reaped huge profit from Trump tax law last year https://t.co/eusJYfIrVu\"], [\"@krassenstein @realDonaldTrump @FoxNews Donald Trump is jealous that people actually like Bernie Sanders.\"], [\"Bernie Sanders and wife should pay the Pre-Trump Taxes on their almost $600,000 in income. He is always complaining about these big TAX CUTS\"], [\"@realDonaldTrump GET TO WORK!!! @SpeakerPelosi @AdamSchiff @SenFeinstein @SenSchumer @SenateGOP @SenKamalaHarris @SenToniAtkins @SenSanders \"], [\"Yeah cnn... right...big news... https://t.co/8rXAMTfgOy\"], [\"People can tout Bernie Sanders all they want but he is a tool to dismember the Democratic Party\\n\\nWhile, I may agree with some progressive po\"], [\"Do you support Bernie Sanders as a presidential candidate for the Democratic Party? After vote, please RT\"], [\"Just went to the #BernieTownHall and the crowd was ENAMORED by him. The positive energy in the room was contagious. I think this was a real \"], [\"Many Trump Fans &amp; Signs were outside of the @FoxNews Studio last night in the now thriving (Thank you President Trump) Bethlehem, Pennsy\"], [\"Is there a bigger fraud in politics than Bernie Sanders? Not only does he fail to pay the high tax rates he wants to impose on working Ameri\"], [\"Is there a bigger fraud in politics than Bernie Sanders? Not only does he fail to pay the high tax rates he wants to impose on working Ameri\"], [\"Many Trump Fans &amp; Signs were outside of the @FoxNews Studio last night in the now thriving (Thank you President Trump) Bethlehem, Pennsy\"], [\"Bernie Sanders says he does not want his policies to add to the national debt https://t.co/DPIFWq2ooq @FoxNews #AAG\"], [\"Gun Girl Kaitlin Bennett was kicked out of Bernie Sanders town hall in Ohio.\\nHow scared is Bernie's campaign that they won't allow a 5'3 gir\"], [\"Many Trump Fans &amp; Signs were outside of the @FoxNews Studio last night in the now thriving (Thank you President Trump) Bethlehem, Pennsy\"], [\"Is there a bigger fraud in politics than Bernie Sanders? Not only does he fail to pay the high tax rates he wants to impose on working Ameri\"], [\"Limousine Lib Bernie Sanders wants to cut the \\u201cmiddle man\\u201d out of healthcare while simultaneously advocating to insert the biggest \\u201cmiddle m\"], [\"@realDonaldTrump Bernie Sanders should donate 70% of his wealth to the Federal Government to show he's sincere about his policies. Otherwise\"], [\"\\u201cHouseholds headed by a \\u2018conservative\\u2019 give, on average, 30 percent more dollars to charity than households headed by a \\u2018liberal.\\u2019 This disc\"], [\"@JillFilipovic With all due respect, having a closed door meeting specific to stoping Sanders is pretty nefarious. It's true. It happened an\"], [\"@rholdenon If you don't mind me asking you, as an \\\"intense GOPer\\\" would you have voted for the Republican nominee Dwight D. Eisenhower?\\nYou \"], [\"Trump saying \\u201cMay God Rest Their Soul\\u201d to the very much alive Biden &amp; Sanders, but not to the late John McCain, is arguably the most Tru\"], [\"Sanders refuses to answer for any thing he has done, makes excuses, deflects, gets angry &amp; then goes back to his 50 year old talking poi\"], [\"Bernie Sanders and wife should pay the Pre-Trump Taxes on their almost $600,000 in income. He is always complaining about these big TAX CUTS\"], [\"Just like Bernie Sanders deported your ass out the room?! https://t.co/iVjXPHKcRj\"], [\"Just wow!!! https://t.co/mED4n9Kl1V\"], [\"I hope you got that same energy for Barack and Hillary because they stayed going on Fox News. Barry and Bill O'Reilly talked alot and on SUP\"], [\"Is there a bigger fraud in politics than Bernie Sanders? Not only does he fail to pay the high tax rates he wants to impose on working Ameri\"], [\"Bernie Sanders and wife should pay the Pre-Trump Taxes on their almost $600,000 in income. He is always complaining about these big TAX CUTS\"], [\"Is there a bigger fraud in politics than Bernie Sanders? Not only does he fail to pay the high tax rates he wants to impose on working Ameri\"], [\"Asked if he's smart enough to see Trump's taxes, Rep. Brad Sherman tells CNN: \\\"I'm surprised to see Sarah Sanders talking about intelligence\"], [\"Bernie Sanders isn\\u2019t a Democrat nor is his purpose is to win but act as a wedge to divide and ultimately cause the Democrats to lose in 2020\"], [\"Is there a bigger fraud in politics than Bernie Sanders? Not only does he fail to pay the high tax rates he wants to impose on working Ameri\"], [\"Many Trump Fans &amp; Signs were outside of the @FoxNews Studio last night in the now thriving (Thank you President Trump) Bethlehem, Pennsy\"], [\"BERNIE SANDERS \\\"FREE MEDICAL FOR ALL!\\\"  (then) \\\"HEALTHCARE IS NOT FREE!\\\" (then) \\\"IT'S GONNA BE FREE FOR WHEN YOU USE IT! -- YOU'RE GONNA PAY\"], [\"Sanders: Trump \\u2018Scared Of Our Campaign\\u2019 https://t.co/jkkLGwnaMc\"], [\"Is there a bigger fraud in politics than Bernie Sanders? Not only does he fail to pay the high tax rates he wants to impose on working Ameri\"], [\"In response to Sanders slam on voting \\\"just because\\\" they are women:    YES, voting for women, not JUST because (they have DAZZLING credenti\"], [\"I'm sick of seeing right-wing media reporting headlines like \\\"Beto O'Rourke only donated 1% of his income to charity,\\\" or \\\"Bernie Sanders on\"], [\"Bernie Sanders and wife should pay the Pre-Trump Taxes on their almost $600,000 in income. He is always complaining about these big TAX CUTS\"], [\"@realDonaldTrump How exactly is Bernie Sanders crazy? Joe Biden was in the prior administration that saved the economy and handed you a gift\"], [\"Just like Bernie Sanders deported your ass out the room?! https://t.co/iVjXPHKcRj\"], [\"@PressSec @POTUS is skipping the WH correspondents dinner for the 3rd straight year and holding a huge rally instead..\\n\\nAnyone else think @P\"], [\"@900CheesePizza @cynicananda @washingtonpost No one but Sanders has created any plans. Yet. Why? Cause it\\u2019s early in the process. Think you\\u2019\"], [\"I believe it will be Crazy Bernie Sanders vs. Sleepy Joe Biden as the two finalists to run against maybe the best Economy in the history of \"], [\"Is there a bigger fraud in politics than Bernie Sanders? Not only does he fail to pay the high tax rates he wants to impose on working Ameri\"], [\"Is there a bigger fraud in politics than Bernie Sanders? Not only does he fail to pay the high tax rates he wants to impose on working Ameri\"], [\"Elizabeth Warren made a big campaign promise on climate change this week, vowing to leave federal fossil fuel reserves in the ground. It's a\"], [\"\\u201cWhen a Fox News anchor described Mr. Sanders...as \\u2018a staunch supporter\\u2019 of Ms. Omar, the senator balked.\\n\\n\\u201c\\u2018Hold it, hold it, hold it,\\u2019 Mr.\"], [\"Is there a bigger fraud in politics than Bernie Sanders? Not only does he fail to pay the high tax rates he wants to impose on working Ameri\"], [\"Bernie Sanders Says Democrats Will Lose 2020 Election If They Continue To Focus On Donald Trump-\\n\\\"If we spend all our time attacking Trump, \"], [\"@chargrille World Bank did a ten year study, very granular and data-based, concluding a positive correlation between more equal representati\"], [\"Hey @SenSanders\\nAll that money you say you made from selling your book is called CAPITALISM.  \\n\\nSTOP TRYING TO SHOVE SOCIALISM DOWN OUR THRO\"], [\"Just like Bernie Sanders deported your ass out the room?! https://t.co/iVjXPHKcRj\"], [\"Just like Bernie Sanders deported your ass out the room?! https://t.co/iVjXPHKcRj\"], [\"Just like Bernie Sanders deported your ass out the room?! https://t.co/iVjXPHKcRj\"], [\"That lying bitch Sanders should be in jail. Lock her up, lock her up\"], [\"@justdawn_ @joshscampbell @PressSec Lying bitch. Sanders told the Mueller team that it was a \\u201cslip of the tongue\\u201d when she told reporters th\"], [\"@ezraklein Um... no. No. What kind of a comfort an American can have voting for that Kremlin whore Bernie Sanders (I)\\nRussians helped Bernie\"], [\"Hillary's bitch  Bernie Sanders.... old useless fuc... just like turtle man Mitch McConnell another useless piece of s*** https://t.co/hHP1r\"], [\"Sarah Sanders admits in the Mueller report she lies to the press and the American people. She should resign today.\"], [\"Watch this video and the easy manner in which Sarah Sanders publicly said \\u201ccountless\\u201d FBI employees reached out to her, thanking the White H\"], [\"Members of the press whenever they consider asking Sarah Sanders a question https://t.co/r3NsxWpTzx\"], [\"Mueller report documents Sean Spicer and Sarah Sanders lying to press - Vox https://t.co/NQlfaTi8N0\"], [\"The public witness Sarah Sanders lie to American people every single day, except for those days when she has no pressers.\"], [\"@kylegriffin1 We knew S. Sanders has no soul, Mueller just put in in writing.\"], [\"This is the moment where Sarah Sanders told the press she had \\\"heard from countless members of the FBI\\\" that Comey had lost the confidence o\"], [\"Watch this video and the easy manner in which Sarah Sanders publicly said \\u201ccountless\\u201d FBI employees reached out to her, thanking the White H\"], [\"Sarah Sanders admits in the Mueller report she lies to the press and the American people. She should resign today.\"], [\"The Republican tax cuts benefitted corporations , not working families. Companies making millions in profits should pay their fair share of \"], [\"As a gay American, I just want to say that I have nothing against Sarah Sanders. I don\\u2019t hate or think she\\u2019s a horrible person. I simply bel\"], [\"So now we know that Propaganda Sycophant Sarah Huckabee Sanders admitted to Mueller that she lied to the press about most FBI agents hating \"], [\"Mueller report, page 23: Internal IRA memos show that by early 2016 the goal of Russia's secret social media operation was to support Trump \"], [\"@PreetBharara Here is the exchange with Sanders\\u2019 lie about FBI morale. She doubled down and then even further said her conversations with FB\"], [\"And why is Sandra Huckabee Sanders still the @PressSec? Oh, I forgot she reports and lies for the @potus, @realDonaldTrump on a daily basis.\"], [\"Watch this video and the easy manner in which Sarah Sanders publicly said \\u201ccountless\\u201d FBI employees reached out to her, thanking the White H\"], [\"The Mueller Report shows:\\n\\n- Trump Almost Certainly Obstructed Justice\\n- Sarah Sanders Lied to America\\n- Trump Lied to America\\n- Trump Accep\"], [\"Now that Sarah Sanders has admitted to lying on behalf of the President there is no need for any reputable news outlet to have her on air to\"], [\"This is the moment where Sarah Sanders told the press she had \\\"heard from countless members of the FBI\\\" that Comey had lost the confidence o\"]], \"hoverlabel\": {\"namelength\": 0}, \"hovertemplate\": \"<b>%{hovertext}</b><br><br>name=Bernie Sanders<br>identity_attack=%{x}<br>toxicity=%{y}<br>size=%{marker.size}<br>tweet_prev1=%{customdata[0]}\", \"hovertext\": [\"Bernie Sanders\", \"Bernie Sanders\", \"Bernie Sanders\", \"Bernie Sanders\", \"Bernie Sanders\", \"Bernie Sanders\", \"Bernie Sanders\", \"Bernie Sanders\", \"Bernie Sanders\", \"Bernie Sanders\", \"Bernie Sanders\", \"Bernie Sanders\", \"Bernie Sanders\", \"Bernie Sanders\", \"Bernie Sanders\", \"Bernie Sanders\", \"Bernie Sanders\", \"Bernie Sanders\", \"Bernie Sanders\", \"Bernie Sanders\", \"Bernie Sanders\", \"Bernie Sanders\", \"Bernie Sanders\", \"Bernie Sanders\", \"Bernie Sanders\", \"Bernie Sanders\", \"Bernie Sanders\", \"Bernie Sanders\", \"Bernie Sanders\", \"Bernie Sanders\", \"Bernie Sanders\", \"Bernie Sanders\", \"Bernie Sanders\", \"Bernie Sanders\", \"Bernie Sanders\", \"Bernie Sanders\", \"Bernie Sanders\", \"Bernie Sanders\", \"Bernie Sanders\", \"Bernie Sanders\", \"Bernie Sanders\", \"Bernie Sanders\", \"Bernie Sanders\", \"Bernie Sanders\", \"Bernie Sanders\", \"Bernie Sanders\", \"Bernie Sanders\", \"Bernie Sanders\", \"Bernie Sanders\", \"Bernie Sanders\", \"Bernie Sanders\", \"Bernie Sanders\", \"Bernie Sanders\", \"Bernie Sanders\", \"Bernie Sanders\", \"Bernie Sanders\", \"Bernie Sanders\", \"Bernie Sanders\", \"Bernie Sanders\", \"Bernie Sanders\", \"Bernie Sanders\", \"Bernie Sanders\", \"Bernie Sanders\", \"Bernie Sanders\", \"Bernie Sanders\", \"Bernie Sanders\", \"Bernie Sanders\", \"Bernie Sanders\", \"Bernie Sanders\", \"Bernie Sanders\", \"Bernie Sanders\", \"Bernie Sanders\", \"Bernie Sanders\", \"Bernie Sanders\", \"Bernie Sanders\", \"Bernie Sanders\", \"Bernie Sanders\", \"Bernie Sanders\", \"Bernie Sanders\", \"Bernie Sanders\", \"Bernie Sanders\", \"Bernie Sanders\", \"Bernie Sanders\", \"Bernie Sanders\", \"Bernie Sanders\", \"Bernie Sanders\", \"Bernie Sanders\", \"Bernie Sanders\", \"Bernie Sanders\", \"Bernie Sanders\", \"Bernie Sanders\", \"Bernie Sanders\", \"Bernie Sanders\", \"Bernie Sanders\", \"Bernie Sanders\", \"Bernie Sanders\", \"Bernie Sanders\", \"Bernie Sanders\", \"Bernie Sanders\", \"Bernie Sanders\", \"Bernie Sanders\", \"Bernie Sanders\", \"Bernie Sanders\", \"Bernie Sanders\", \"Bernie Sanders\", \"Bernie Sanders\", \"Bernie Sanders\", \"Bernie Sanders\", \"Bernie Sanders\", \"Bernie Sanders\", \"Bernie Sanders\", \"Bernie Sanders\", \"Bernie Sanders\", \"Bernie Sanders\", \"Bernie Sanders\", \"Bernie Sanders\", \"Bernie Sanders\", \"Bernie Sanders\", \"Bernie Sanders\", \"Bernie Sanders\", \"Bernie Sanders\", \"Bernie Sanders\", \"Bernie Sanders\", \"Bernie Sanders\", \"Bernie Sanders\", \"Bernie Sanders\", \"Bernie Sanders\", \"Bernie Sanders\", \"Bernie Sanders\", \"Bernie Sanders\", \"Bernie Sanders\", \"Bernie Sanders\", \"Bernie Sanders\", \"Bernie Sanders\", \"Bernie Sanders\", \"Bernie Sanders\", \"Bernie Sanders\", \"Bernie Sanders\", \"Bernie Sanders\", \"Bernie Sanders\", \"Bernie Sanders\", \"Bernie Sanders\", \"Bernie Sanders\", \"Bernie Sanders\", \"Bernie Sanders\", \"Bernie Sanders\", \"Bernie Sanders\", \"Bernie Sanders\", \"Bernie Sanders\", \"Bernie Sanders\", \"Bernie Sanders\", \"Bernie Sanders\", \"Bernie Sanders\", \"Bernie Sanders\", \"Bernie Sanders\", \"Bernie Sanders\", \"Bernie Sanders\", \"Bernie Sanders\", \"Bernie Sanders\", \"Bernie Sanders\", \"Bernie Sanders\", \"Bernie Sanders\", \"Bernie Sanders\", \"Bernie Sanders\", \"Bernie Sanders\", \"Bernie Sanders\", \"Bernie Sanders\", \"Bernie Sanders\", \"Bernie Sanders\", \"Bernie Sanders\", \"Bernie Sanders\", \"Bernie Sanders\", \"Bernie Sanders\", \"Bernie Sanders\", \"Bernie Sanders\", \"Bernie Sanders\", \"Bernie Sanders\", \"Bernie Sanders\", \"Bernie Sanders\", \"Bernie Sanders\", \"Bernie Sanders\", \"Bernie Sanders\", \"Bernie Sanders\", \"Bernie Sanders\", \"Bernie Sanders\", \"Bernie Sanders\", \"Bernie Sanders\", \"Bernie Sanders\", \"Bernie Sanders\", \"Bernie Sanders\", \"Bernie Sanders\", \"Bernie Sanders\", \"Bernie Sanders\", \"Bernie Sanders\", \"Bernie Sanders\", \"Bernie Sanders\", \"Bernie Sanders\", \"Bernie Sanders\", \"Bernie Sanders\", \"Bernie Sanders\"], \"legendgroup\": \"Bernie Sanders\", \"marker\": {\"color\": \"#ab63fa\", \"size\": [95.403, 87.185, 87.185, 87.185, 87.185, 87.185, 87.185, 78.755, 78.755, 96.408, 83.772, 97.86, 97.86, 82.188, 17.171, 55.66799999999999, 21.163999999999998, 16.716, 19.451, 19.451, 83.779, 19.451, 19.451, 22.15, 19.451, 83.779, 17.171, 19.451, 17.171, 7.184, 32.127, 37.99, 17.171, 38.406, 83.779, 20.249, 9.632, 32.214, 4.82, 24.781, 35.796, 28.52, 19.957, 20.249, 7.463, 20.249, 62.89900000000001, 20.249, 47.022000000000006, 18.55, 17.171, 17.171, 34.311, 36.164, 6.111, 17.171, 7.242999999999999, 17.951, 17.171, 17.171, 23.119, 10.698, 19.451, 83.779, 19.451, 20.559, 44.126, 20.249, 17.171, 19.451, 83.779, 28.269, 23.105999999999998, 37.641999999999996, 17.171, 31.546999999999997, 20.249, 19.451, 16.714000000000002, 46.589999999999996, 15.076999999999998, 28.262999999999998, 83.779, 17.171, 18.805, 11.987, 15.076999999999998, 25.848, 13.111, 23.104, 81.382, 17.997, 16.119, 44.157000000000004, 15.299999999999999, 8.27, 20.249, 7.463, 10.712000000000002, 12.222, 44.022, 17.171, 8.427999999999999, 20.249, 17.171, 7.865, 11.266, 83.779, 44.022, 26.778999999999996, 23.104, 11.033, 12.224, 6.710000000000001, 37.99, 44.126, 42.684, 83.779, 78.636, 22.559, 7.463, 13.866, 31.719, 17.171, 32.223, 6.935, 47.888999999999996, 6.648, 16.68, 19.451, 44.022, 44.022, 19.451, 21.279999999999998, 37.423, 19.451, 44.022, 53.478, 44.257000000000005, 11.033, 53.264, 20.118, 15.637, 29.041, 17.171, 83.779, 6.449000000000001, 6.842, 44.022, 17.171, 44.022, 7.463, 44.157000000000004, 44.022, 19.451, 12.084999999999999, 14.602, 44.022, 27.727, 44.126, 17.171, 24.789, 83.779, 32.754, 37.396, 20.249, 44.022, 44.022, 8.801, 23.452, 44.022, 20.25, 21.068, 57.986000000000004, 83.779, 83.779, 83.779, 92.703, 76.644, 66.554, 97.56899999999999, 32.119, 37.167, 5.454, 13.414000000000001, 28.500999999999998, 32.244, 20.233999999999998, 37.167, 32.119, 6.814000000000001, 61.524, 30.105999999999998, 14.392, 22.317, 55.118, 37.167, 23.601, 13.94, 20.233999999999998], \"sizemode\": \"area\", \"sizeref\": 0.24465, \"symbol\": \"circle\"}, \"mode\": \"markers\", \"name\": \"Bernie Sanders\", \"showlegend\": true, \"type\": \"scatter\", \"x\": [0.68931, 0.51382, 0.51382, 0.51382, 0.51382, 0.51382, 0.51382, 0.34174, 0.34174, 0.65752, 0.81136, 0.59152, 0.59152, 0.60693, 0.13018, 0.34129, 0.20704, 0.2525, 0.12334, 0.12334, 0.51239, 0.12334, 0.12334, 0.12783, 0.12334, 0.51239, 0.13018, 0.12334, 0.13018, 0.0827, 0.32401, 0.2394, 0.13018, 0.37164, 0.51239, 0.2295, 0.09059, 0.41031, 0.03109, 0.39557, 0.54004, 0.24085, 0.17985, 0.2295, 0.10188, 0.2295, 0.4467, 0.2295, 0.68562, 0.07512, 0.13018, 0.13018, 0.60183, 0.59121, 0.0301, 0.13018, 0.09996, 0.12473, 0.13018, 0.13018, 0.23764, 0.11286, 0.12334, 0.51239, 0.12334, 0.2208, 0.27476, 0.2295, 0.13018, 0.12334, 0.51239, 0.32762, 0.13, 0.30175, 0.13018, 0.21847, 0.2295, 0.12334, 0.08188, 0.27258, 0.17953, 0.29419, 0.51239, 0.13018, 0.25075, 0.12224, 0.17953, 0.3048, 0.1874, 0.2033, 0.80312, 0.20994, 0.28268, 0.42752, 0.21028, 0.13731, 0.2295, 0.10188, 0.15909, 0.13848, 0.28514, 0.13018, 0.0579, 0.2295, 0.13018, 0.12466, 0.09318, 0.51239, 0.28514, 0.39856, 0.2033, 0.20386, 0.21237, 0.08243, 0.2394, 0.27476, 0.40424, 0.51239, 0.39586, 0.27534, 0.10188, 0.13159, 0.281, 0.13018, 0.26909, 0.09657, 0.43472, 0.05507, 0.11319, 0.12334, 0.28514, 0.28514, 0.12334, 0.18649, 0.27388, 0.12334, 0.28514, 0.39272, 0.22236, 0.20386, 0.53606, 0.22655, 0.16521, 0.17886, 0.13018, 0.51239, 0.06108, 0.06331, 0.28514, 0.13018, 0.28514, 0.10188, 0.42752, 0.28514, 0.12334, 0.13606, 0.19476, 0.28514, 0.41775, 0.27476, 0.13018, 0.13801, 0.51239, 0.2984, 0.29991, 0.2295, 0.28514, 0.28514, 0.07886, 0.26908, 0.28514, 0.28052, 0.30969, 0.33081, 0.51239, 0.51239, 0.51239, 0.66705, 0.45191, 0.63421, 0.68949, 0.3047, 0.41469, 0.09004, 0.08662, 0.32629, 0.21248, 0.16702, 0.41469, 0.3047, 0.08678, 0.7208, 0.298, 0.23269, 0.14606, 0.34657, 0.41469, 0.15372, 0.11007, 0.16702], \"xaxis\": \"x\", \"y\": [0.95403, 0.87185, 0.87185, 0.87185, 0.87185, 0.87185, 0.87185, 0.78755, 0.78755, 0.96408, 0.83772, 0.9786, 0.9786, 0.82188, 0.17171, 0.55668, 0.21164, 0.16716, 0.19451, 0.19451, 0.83779, 0.19451, 0.19451, 0.2215, 0.19451, 0.83779, 0.17171, 0.19451, 0.17171, 0.07184, 0.32127, 0.3799, 0.17171, 0.38406, 0.83779, 0.20249, 0.09632, 0.32214, 0.0482, 0.24781, 0.35796, 0.2852, 0.19957, 0.20249, 0.07463, 0.20249, 0.62899, 0.20249, 0.47022, 0.1855, 0.17171, 0.17171, 0.34311, 0.36164, 0.06111, 0.17171, 0.07243, 0.17951, 0.17171, 0.17171, 0.23119, 0.10698, 0.19451, 0.83779, 0.19451, 0.20559, 0.44126, 0.20249, 0.17171, 0.19451, 0.83779, 0.28269, 0.23106, 0.37642, 0.17171, 0.31547, 0.20249, 0.19451, 0.16714, 0.4659, 0.15077, 0.28263, 0.83779, 0.17171, 0.18805, 0.11987, 0.15077, 0.25848, 0.13111, 0.23104, 0.81382, 0.17997, 0.16119, 0.44157, 0.153, 0.0827, 0.20249, 0.07463, 0.10712, 0.12222, 0.44022, 0.17171, 0.08428, 0.20249, 0.17171, 0.07865, 0.11266, 0.83779, 0.44022, 0.26779, 0.23104, 0.11033, 0.12224, 0.0671, 0.3799, 0.44126, 0.42684, 0.83779, 0.78636, 0.22559, 0.07463, 0.13866, 0.31719, 0.17171, 0.32223, 0.06935, 0.47889, 0.06648, 0.1668, 0.19451, 0.44022, 0.44022, 0.19451, 0.2128, 0.37423, 0.19451, 0.44022, 0.53478, 0.44257, 0.11033, 0.53264, 0.20118, 0.15637, 0.29041, 0.17171, 0.83779, 0.06449, 0.06842, 0.44022, 0.17171, 0.44022, 0.07463, 0.44157, 0.44022, 0.19451, 0.12085, 0.14602, 0.44022, 0.27727, 0.44126, 0.17171, 0.24789, 0.83779, 0.32754, 0.37396, 0.20249, 0.44022, 0.44022, 0.08801, 0.23452, 0.44022, 0.2025, 0.21068, 0.57986, 0.83779, 0.83779, 0.83779, 0.92703, 0.76644, 0.66554, 0.97569, 0.32119, 0.37167, 0.05454, 0.13414, 0.28501, 0.32244, 0.20234, 0.37167, 0.32119, 0.06814, 0.61524, 0.30106, 0.14392, 0.22317, 0.55118, 0.37167, 0.23601, 0.1394, 0.20234], \"yaxis\": \"y\"}, {\"customdata\": [[\"Watch congresswoman Alexandria Ocasio-Cortez give a powerful speech on the new green deal and the dangers of climate change https://t.co/gae\"], [\"#ClimateAction @GretaThunberg How much more time are we going to waste listening to naysayers like @realDonaldTrump? @AOC @IlhanMN #GreenNew\"], [\"@TweedSuitEsq @AOC All right. I proof read all of this &amp; autocorrect still recharged toe words it changed the first time and I had corre\"], [\"@LilaGraceRose @AOC I\\u2019m sorry but what is wrong with you? Millions of fully formed human beings experience systemic violence and this is the\"], [\"\\\"To me, [@AOC] is irredeemable.\\\"\\n--@ThomasSowell, May, 2019\\n\\n#AOC https://t.co/KpTrzSpCF8\"], [\"@world_concerned @AOC @GretaThunberg The world has great potential for good and bad. Apocalypse, or Paradise... it can go either way at this\"], [\"@UrBetsyJean @AOC Most student loans aren\\u2019t given unless co signed by mom and dad or another.\"], [\"@AOC College= Indoctrination Camps\"], [\"Thank you @AOC for loudly saying what every Muslim, Jew, Sikh, Hindu, Black Christian, &amp; Arab Christian has been shouting for years\\n\\nIt \"], [\"@larryelder @AOC @ThomasSowell I would pay the same to see Dr. Sowell with or without anyone else on stage. Which is to say, more money than\"], [\"There is all kinds of \\\"help\\\" for new students with student loan debt, BUT what about the people that went through a recession, zero jobs and\"], [\"AOC invokes Bible, taunts \\u2018religious right\\u2019 about interest rates, punishing women and \\u2018queer people,\\u2019 and trying to \\u2018outlaw sex\\u2019 https://t.c\"], [\"Interesting case study. Would be curious about the outcome of the experiment, and hopeful that they might suggest progressive signs. Might b\"], [\"Pay attention Canadians.\\nThe CPC are aligned with this theocratic GOP &amp;similar global \\u201cconservative\\u201d theologies. Their purpose is to \\u201cpu\"], [\"@Leahgreenb Because its run by a DEMOCRAT controlled HOUSE.\\n\\nJUSTICE would be getting rid of hack @AOC @IlhanMN and the other Jew hater. Can\"], [\"@northkats @voxdotcom @BernieSanders @AOC Don\\u2019t carry a balance\"], [\"@larryelder @AOC @ThomasSowell It would be beneath Dr. Sowell to debate such an imbicil like Cortez @AOC\"], [\"@AOC AOC: \\\"Billionaires are inherently evil and no one should have this much money!\\\"\\n\\nAlso AOC: \\\"Look at this awesome billionaire who volunt\"], [\"@DDubsCareBear @LilaGraceRose @AOC So, murdering them in utero is preferable to allowing them to live. Abortion is the most brutal form of c\"], [\"@Bakari45 @AOC Debt comes from personal choices. Nobody gets a letter in the mail on their 18th or 21st birthday that says happy birthday yo\"], [\".@AOC made a great point about white supremacist violence and the label of terrorism https://t.co/kc4bpr1MRN\"], [\"If you care about democracy, you should be a socialist. https://t.co/WXlqbsgYyE\"], [\"I believe that if @AOC had a few more years experience she could be our next president...I have very high hopes for her and, if she does run\"], [\"Thank you @AOC for loudly saying what every Muslim, Jew, Sikh, Hindu, Black Christian, &amp; Arab Christian has been shouting for years\\n\\nIt \"], [\"This Guy is The BIGGEST BLOW Hard YET !!  New York is a Disgrace Under His Watch. He and AOC Lost Amazon &amp; Thousands Of JOBS !  @FoxNews\"], [\"\\\"People's lives are not commodities...you cannot ask the question how much will you pay to live, because the answer is everything.\\n\\nThat is \"], [\"REMINDER: There are Dems who have taken a strong principled position on #impeachment. Among them @ewarren, @RashidaTlaib, @AOC, @IlhanMN, @R\"], [\".@AOC made a great point about white supremacist violence and the label of terrorism https://t.co/kc4bpr1MRN\"], [\"AOC Uses the BIBLE to Help Her Case \\u2013 OH WAIT, it Was Just to TAUNT Religious Voters https://t.co/INCAtbiAcG https://t.co/Z6tzGgvNwE\"], [\"\\\"When they say 'oh it's too much' what do they mean by that? \\nIs 100% clean and #renewableenergy too much? \\nIs fighting for dignified jobs t\"], [\"Joe Crowley: Ocasio-Cortez 'most vulnerable' to defeat in 2020 https://t.co/iHzMsl60dJ\\n\\nUnfortunately, he means Dead Eyes is \\\"most vulnerabl\"], [\"@nedstarkgaryen AOC isn't good on foreign policy and she's not as leftist on class issues as much as I'd like. It's easy to distort in Ameri\"], [\"@JeffKing1970 @AOC My country is doing just fine. I\\u2019ll start to worry when we elect a racist coward as pm and when the British start thinkin\"], [\"@AOC Why are you so mean? Is that what you need to feel ok about yourself? Try to understand ALL points of view, not just those popular to S\"], [\".@AOC made a great point about white supremacist violence and the label of terrorism https://t.co/kc4bpr1MRN\"], [\"@AOC @DemForceArmy I would have been thrilled if someone had done that for me, but there was also such a sense of satisfaction when u paid t\"], [\"@larryelder @AOC @ThomasSowell I would pay more to see Ben Shapiro debate AOC, or Bernie, or Pete Buttidgege..\"], [\"@heymikey80 @alstadtj @derek_mafs @AOC Meanwhile all these politicians and their CEO bffs are getting more welfare lol thanks to me and ppl \"], [\".@RepAOC @AOC: \\\"I blame us. I blame this body because every single developed country in the world guarantees health care as a right except u\"], [\"WOW!!!! There was good news today!!!! He just changed the future of so many young black men and their families!!!! \\ud83d\\ude4c\\ud83c\\udffe\\ud83d\\ude4c\\ud83c\\udffe\\ud83d\\ude4c\\ud83c\\udffe https://t.co/r9T21\"], [\"@PWM62 @GallivanScott @BurgSkeletal @jennrgrimes @dk_stephan @FalconYourHero @Gurt4Prez @OpinionatedLab @OmartheWonder @grnmedina_chris @sar\"], [\".@AOC made a great point about white supremacist violence and the label of terrorism https://t.co/kc4bpr1MRN\"], [\"With more knowledge on how to pursue careers, negotiate salaries that include equity &amp; sponsorship for upward mobility, financial dignit\"], [\"\\\"To me, [@AOC] is irredeemable.\\\"\\n--@ThomasSowell, May, 2019\\n\\n#AOC https://t.co/KpTrzSpCF8\"], [\"Thank you @AOC for loudly saying what every Muslim, Jew, Sikh, Hindu, Black Christian, &amp; Arab Christian has been shouting for years\\n\\nIt \"], [\"Thank you @AOC for loudly saying what every Muslim, Jew, Sikh, Hindu, Black Christian, &amp; Arab Christian has been shouting for years\\n\\nIt \"], [\"\\\"To me, [@AOC] is irredeemable.\\\"\\n--@ThomasSowell, May, 2019\\n\\n#AOC https://t.co/KpTrzSpCF8\"], [\"@JrHighRedux @BriereBear @nyparalegal52 @AOC What's wrong with you?\"], [\"@mrHappy35012480 @AOC And no one had a problem with it back then, what has changed?\"], [\"@GOP  As a 20 yr vet (ret) I'm 66 now.,THANK YOU PRESIDENT TRUMP! To @AOC  @RepAOC , put on the uniform, go to the front line and wake up ev\"], [\"@AOC For the same reason you\\u2019re silent when the shooter is Muslim or the victims are Jews.\"], [\"Alexandria Ocasio-Cortez and Bernie Sanders Want the Post Office to be Your Bank. https://t.co/0fhWOqjmb5\"], [\"@AOC This is awesome for the graduates and very generous of Mr. Smith!!It would also be interesting to see any variation between students th\"], [\"@camcamdamn @PNav57 @AOC Ah, the people who oppose the murdering of babies are sick in the head. Makes sense\"], [\"This is so true. How many people would have made substantially different life choices, let alone career choices, if they found out on gradua\"], [\"Thank you @AOC for loudly saying what every Muslim, Jew, Sikh, Hindu, Black Christian, &amp; Arab Christian has been shouting for years\\n\\nIt \"], [\"@AOC Blah blah blah, I want to kill my kid.\\n\\nThank God conservatives recognize everything shouldn't be a federal mandate, and gives states r\"], [\"@AngelaBelcamino @AOC Can we all have free ice cream, too?\"], [\"@AOC It would be great if everyone had their student debt paid off.  Let\\u2019s not wait a decade and a half.\"], [\"@AOC LMAO.\\n\\nYou are RIDICULOUS.\\n\\nWomen don't have a right to murder unborn babies. \\n\\nNothing you say makes any sense.\\n\\nNobody cares what you\"], [\"@DDubsCareBear @LilaGraceRose @AOC WERE paying for the abortions because The MOTHER would rather be a whore than take responsibility for her\"], [\"Democrats over last 24 hours:\\n\\n- Kirsten Gillibrand says anti-abortion laws are against the Christian faith \\n\\n-Pete Buttigieg compares Chris\"], [\"@MAGLARod @AOC @saikatc So you see Trump isn't to blame for these distinctions and the Miami shooting and the San Bernardino shootings didn'\"], [\"This is huge https://t.co/cHkHCLPYet\"], [\"@AOC If having woman power means I can kill my offspring than I would rather have no power\"], [\"@AOC Does a woman have two heart beats?\"], [\"@AOC No matter how you spin this, Alexandria, you are advocating for the systemic violence that destroys millions of innocent human lives. A\"], [\"@Grahamjs79 @AOC I get it. I am in a christian pooling coverage now till I hit 65. It covers all costs over $500 (reimbursement) ..... AOC t\"], [\"@RoseDC11 @TeaBoots @RepAdamSchiff @IlhanMN @AOC There are several more that should be added to your list for either not doing their jobs or\"], [\"@AOC Please say all of that in public, maybe on the floor of the house.\"], [\"@AOC @GovernorKayIvey Man rapes child, gets 6 months.\\nChild miscarries, gets 20 years.\"], [\"@AngelaBelcamino @AOC We don\\u2019t want to own you, we just don\\u2019t want you killing babies for convenience\"], [\"@AOC Go for it . Test it in New York and let us know. Test your Green new deal their too. Test all your wonderful spaghetti that you throw a\"], [\"@DDubsCareBear @LilaGraceRose @AOC I was adopted and not getting an unavailability of abortion is not the i was put into state care. Maybe l\"], [\"I guess control of your body doesn\\u2019t begin when you first get a body? \\n\\nOr is the genetically distinct human body in the womb just a figment\"], [\"@PNav57 @AOC The law strickly targetd doctors who do the procedures. Not the mothers\"], [\"@Politicalme12 @cspan @RepAOC @AOC Again... didn\\u2019t say that gaveling was illegitimate.  \\n\\nPlease read what was said and stop making up a rea\"], [\"I see AOC has a whopping 20% approval rating in her own district. \\n\\nI guess people have already had enough of her big mouth, anger, hate, ra\"], [\".@AOC asked this pharma exec why a life-saving HIV drug costs nearly $2,000 in the U.S. and $8 in Australia https://t.co/A7wTv92CCF\"], [\"@AOC and may God have mercy on your soul\"], [\"@larryelder @AOC @ThomasSowell You mean \\u201cbe paid\\u201d?  Still tough to answer but I could use the gas money.  Call it a down payment on all the \"], [\"AOC asks pharma CEO why $2,000 HIV drug costs just $8 in Australia: 'People are dying for no reason' https://t.co/rqkK1Z9DoW via @YahooNews\"], [\"@AOC Wait, what?  I thought we were trying to get rid of all the billionaires?\"], [\"Thank you @AOC for loudly saying what every Muslim, Jew, Sikh, Hindu, Black Christian, &amp; Arab Christian has been shouting for years\\n\\nIt \"], [\"@HalTotoro87 @AOC So you're saying that old white dudes are against eugenics that your pal Margaret Sanger was A-Ok with?\"], [\"Yours is not the only mind that been blown. https://t.co/gLOyz4Tc1Y\"], [\"Thank you @AOC for loudly saying what every Muslim, Jew, Sikh, Hindu, Black Christian, &amp; Arab Christian has been shouting for years\\n\\nIt \"], [\"@AOC Would love for some billionaire to pay off all the court fees for former felons in FL, so they can vote, and follow that. That would al\"], [\"@rigginsjj @AOC @gatesfoundation Woof. I\\u2019ll just say that would be exceedingly optimistic that say that the services that an institution suc\"], [\"@larryelder @AOC @ThomasSowell And after he\\u2019s done with her, how about we have him teach Trump a thing or two. Topic #1: Tariffs.\"], [\"I have some questions for you, @AOC. You\\u2019ve been a Congresswoman for long enough now. Hope you have answers. But I\\u2019m not keeping my fingers \"], [\"Thank you @AOC for loudly saying what every Muslim, Jew, Sikh, Hindu, Black Christian, &amp; Arab Christian has been shouting for years\\n\\nIt \"], [\"@adasomg @realDonaldTrump @SpeakerPelosi @SenSchumer @AOC @WhiteHouse \\ud83c\\uddfa\\ud83c\\uddf8Make America Great Again \\ud83c\\uddfa\\ud83c\\uddf8 https://t.co/2N3BbdBoFd\"], [\"#WomensRightsAreHumanRights #SlaveLABOR Women FORCED by LAW to carry a child must be PAID by the state for all medical expenses incurred due\"], [\"Kamala Harris Owns A Gun But Doesn\\u2019t Want YOU To.\\n\\nBernie Sanders Makes Millions But Doesn\\u2019t Want YOU To.\\n\\nOcasio-Cortez Flies On Planes But\"], [\"Alexandria Ocasio-Cortez and Bernie Sanders Want the Post Office to be Your Bank. https://t.co/0fhWOqjmb5\"], [\"@nicesharky @loxahatcheeboy @FionaGiselle1 @AOC AOC does not understand lots of thing.. like everything.\\nShe was elected you a fire sale. #F\"], [\"im sorry but nancy pelosi and aoc just need to end their political career\"], [\".@AOC asked this pharma exec why a life-saving HIV drug costs nearly $2,000 in the U.S. and $8 in Australia https://t.co/A7wTv92CCF\"], [\"@AOC GOP Extremists? People that are against murdering babies.  There, I fixed it for you. \\n\\n\\u2764\\ud83c\\uddfa\\ud83c\\uddf8\\u2764\\ud83c\\uddfa\\ud83c\\uddf8\\u2764\\ud83c\\uddfa\\ud83c\\uddf8\\ud83d\\ude02\"], [\"#CoffeeWithSkipper \\n\\nWhen all else fails pull out the race card \\n\\nYesterday Alexandria Ocasio-Cortez tweeted the GOP doesn\\u2019t care about the \"], [\"This is so true. How many people would have made substantially different life choices, let alone career choices, if they found out on gradua\"], [\"@RoseDC11 @francesme @RepAdamSchiff @IlhanMN @AOC Dont 4get @RashidaTlaib\"], [\"The kids are all right. Please purchase our climate primer book World of Thermo, especially any of you involved with the @sunrisemvmt . @AOC\"], [\".@AOC made a great point about white supremacist violence and the label of terrorism https://t.co/kc4bpr1MRN\"], [\"The stupidity of this tweet is fully realized when you understand that more woman are pro-life than men. That men are in government and list\"], [\"@AngelaBelcamino @AOC Spoiler Alert : they owned you\"], [\"@AOC You are correct, they should make good choices and be responsible for their own actions and be willing to work and put forth the effort\"], [\"@larryelder @AOC @ThomasSowell My 12 year old daughter could debate her and still kick her ass\"], [\".@AOC made a great point about white supremacist violence and the label of terrorism https://t.co/kc4bpr1MRN\"], [\"Lord help us! RT @FionaGiselle1: She.  Is.  12.  \\n\\nIf only her educational comprehension was that mature.   \\n\\n@AOC \\n https://t.co/R19xIGB1kD\"], [\"@AOC Bravo Mr. Smith!!!!!\"], [\"@adasomg @realDonaldTrump @SpeakerPelosi @SenSchumer @AOC @WhiteHouse \\ud83c\\uddfa\\ud83c\\uddf8Make America Great Again \\ud83c\\uddfa\\ud83c\\uddf8 https://t.co/2N3BbdBoFd\"], [\"@AOC You can create life that\\u2019s the most powerful thing you can do but I fully support you never reproducing.\"], [\"@AOC Keep your legs closed or use protection. Women are using phony excuses\"], [\"@AOC HI, ASSHOLE!!  \\ud83d\\udc4b\\ud83d\\ude00\\n\\nOver HERE! Over HERE! \\ud83d\\udc4b\\ud83d\\ude00\\n\\nGo to your favorite search engine on-line and search, \\\"September 11, 2001\\\" \\ud83d\\ude09\\ud83d\\udc4d\\n\\nI'll wait. \"], [\"@AOC How about don\\u2019t go to college if you can\\u2019t afford it! Maybe trade school or community college.\"], [\"@priusjames @dk_stephan @BurgSkeletal @katiD22 @GallivanScott @PWM62 @FalconYourHero @Gurt4Prez @OpinionatedLab @OmartheWonder @grnmedina_ch\"], [\"Alexandria Ocasio-Cortez Schools Pharma Exec on HIV Drug Prices | NowThis https://t.co/0lVaxlC36Q via @YouTube //What a Fireball, this is wh\"], [\"@AOC What you just said is one of the most insanely idiotic things I have ever read. At no point in your rambling, incoherent tweet were you\"], [\"@David_desJ @EmilyAWiseman @dynarski @AOC For that to be true, youd have to argue that the nature of student debt is different across time. \"], [\"@PNav57 @camcamdamn @AOC You're naive and stupid. Sharia law would make it illegal and punishable by stoning to lose your virginity as a wom\"], [\"@AOC Colleges are places of education... they shouldn\\u2019t be an institution that makes you a prisoner to your debt for the rest of your life. \"], [\"@RoseDC11 @BlueSea1964 @RepAdamSchiff @IlhanMN @AOC SOOO TRUE AND US CITIZENS ARE BECOMING MORE KNOWLEDGEABLE ABOUT THIS THREAT TO OUR NATIO\"], [\"'an honest reckoning with the full extent of the crisis is the only way to arrive at a response on the same scale. ... As @AOC said at the c\"], [\"@AOC \\\"Limiting birth control\\\"\\n\\nJUST WALK DOWN TO WALMART AND BUY SOME CONTRACEPTIVES. THEY'RE NOT EXPENSIVE.\\n\\nFucking ridiculous.\"], [\"This data exists and it has shown that black students with school debt are no more better off than those without https://t.co/iMaQJrQDTg\"], [\"@Dannygambit1 @hawaiiilove @KAT40811334 @malisaficent @JapuntichKim @TammyRedmond @WickedWarrior5 @Bpwll @robin_ked @us_poll @RedDragonFly19\"], [\"@ASexbot @cmclymer @iamjonajim What's the matter? Did the truth hurt your feeling? Don't worry, Ill Promptly fuck off, but let me just leave\"], [\"@larryelder @AOC @ThomasSowell It would be like watching a guy club a baby seal. You know how it\\u2019s going to end before it starts.\"], [\"@AOC Which theology allows for murder?\"], [\".@AOC made a great point about white supremacist violence and the label of terrorism https://t.co/kc4bpr1MRN\"], [\"@AOC sex that falls outside their theology... eh, is the sex that causes pregnancy falls outside their theology? really?\\n\\nWHY ARE YOU SO DUM\"], [\"@AOC Receiving an act of charity may influence these students mak, so that will have to be factored in. But in the world of science nothing \"], [\"Where is this repository of information where crimes are given a designation of \\\"terrorism\\\" or not, and who decides? \\n\\nIt doesn't exist. The\"], [\"#SundayMorning Reading - #ClimateAction: Taking a stance for the choice to #actonclimate is Moral clarity. That's the real message that will\"], [\"@AnthonyJSisk @AOC @BernieSanders In that utopia this act of charity wouldn't be needed at all, that's kind of the point\"], [\"\\\"To me, [@AOC] is irredeemable.\\\"\\n--@ThomasSowell, May, 2019\\n\\n#AOC https://t.co/KpTrzSpCF8\"], [\"@LAFC bad choice to have politics in the game. Approving aoc as a strong woman, really. Do you recall her smiling when amazon pulled out of \"], [\"@LiglyCnsrvatari @arindube @AOC I\\u2019m not concerned about selection bias, even granting the experiment is valid I don\\u2019t see what useful questi\"], [\"@Sassprincess111 @thelindadegnan @Kaiya1212 @lizlibra1009 @Mackaveli8 @ImpeachShitler @HadleysMaMa13 @Cha51brolll19 @marthatoddharv @LItaloA\"], [\"It floors me that Nancy Pelosi has done more to stop Alexandria Ocasio-Cortez's political agenda than she has to stop Donald Trump's.\"], [\"@MIGOP @justinamash Time to rally and unseat this faux Republican Amash in 2020. Bye bye Justin! Maybe Rashid, Ilahn, and AOC will take you \"], [\"@AOC I\\u2019m paying off a college loan now. Are you going to pay it off for me??\"], [\"@PCribbett @kromer76 @karl_nittinger @AOC I wouldn't know\"], [\"PSA: I really don\\u2019t care what you do with your body. I care what you do with the body of the life inside you. https://t.co/UXPmcFM6pJ\"], [\"@cmpnwtr @LPimpernel @jules_su @AOC @TheDemocrats @HouseDemocrats False.\"], [\"@davidwebbshow @AOC Yeah but, a decent Capitalist\"], [\"@DontRegurgitate @AOC @TheDemocrats * End For-Profit hospitals. My husband had Tricare when he had heart surgery and major complications. $2\"], [\"Whenever you have a bad DJT day just call &lt;3  or @DrPhil\\n\\nHow does it feel when members of your own party want your job? @justinamash\\n\\n@r\"], [\"@AOC lol. Loon.\"], [\"@jjauthor @BernieSanders @AOC Donald Trump bankrupted his businesses five times and lost more money than any American, but sure let\\u2019s postul\"], [\"@DDubsCareBear @LilaGraceRose @AOC Hey, foster care or death, i choose foster care\"], [\"DC Comics Sends Cease And Desist Over Alexandria Ocasio-Cortez Comic Book Cover - Good for DC Comics!  https://t.co/D60fVNnrNT\"], [\"Thank you @AOC for loudly saying what every Muslim, Jew, Sikh, Hindu, Black Christian, &amp; Arab Christian has been shouting for years\\n\\nIt \"], [\"@AOC AOC: \\\"Billionaires are inherently evil and no one should have this much money!\\\"\\n\\nAlso AOC: \\\"Look at this awesome billionaire who volunt\"], [\"Thank you @AOC for loudly saying what every Muslim, Jew, Sikh, Hindu, Black Christian, &amp; Arab Christian has been shouting for years\\n\\nIt \"], [\"Does \\u201clive from the border\\u201d mean Party City?\\n\\nFox is really out here doing the most on a budget to make the border look more dangerous than \"], [\"Alexandria Ocasio-Cortez and Bernie Sanders Want the Post Office to be Your Bank. https://t.co/0fhWOqjmb5\"], [\"@AOC AOC: \\\"Billionaires are inherently evil and no one should have this much money!\\\"\\n\\nAlso AOC: \\\"Look at this awesome billionaire who volunt\"], [\"@AOC Also need the Dept of Education to allow for lowering of interest rates and stop capitalizing interest. 8.25% interest since 2000 means\"], [\"I don't know how many times I have thought about this.\\nHow many millions of people lost their homes, because bankers lied to them and tricke\"], [\"@strataxe12 @AOC Although thoughtful idea, the purpose of college in my opinion\\nIs to get a \\u201cwell rounded\\u201d education.  That means taking cou\"], [\"Thank you @AOC for loudly saying what every Muslim, Jew, Sikh, Hindu, Black Christian, &amp; Arab Christian has been shouting for years\\n\\nIt \"], [\"@AOC Wish my debt was paid for.\"], [\"Yours is not the only mind that been blown. https://t.co/gLOyz4Tc1Y\"], [\"I have some questions for you, @AOC. You\\u2019ve been a Congresswoman for long enough now. Hope you have answers. But I\\u2019m not keeping my fingers \"], [\"@AOC It's about the killing of children, honeybaby. That's it, plain &amp; simple. Nobody gives a damn about your sexuality or whatever.\"], [\"Thank you @AOC for loudly saying what every Muslim, Jew, Sikh, Hindu, Black Christian, &amp; Arab Christian has been shouting for years\\n\\nIt \"], [\"Thank you @AOC for loudly saying what every Muslim, Jew, Sikh, Hindu, Black Christian, &amp; Arab Christian has been shouting for years\\n\\nIt \"], [\"Yours is not the only mind that been blown. https://t.co/gLOyz4Tc1Y\"], [\"@DefiantlyFree This needs to happen. I\\u2019ll stan all day for Mayor AOC. Put that city out of its misery.\"], [\"\\ud83d\\udc36\\ud83c\\uddfa\\ud83c\\uddf8Sheeepdogs: Believe This WOW! A Video Just Came Out Showing People In AOC\\u2019s District\\u2026DON\\u2019T LIKE SOCIALISM! VOTR HER OUT!!!\\ud83c\\uddfa\\ud83c\\uddf8\\ud83d\\udc36\\n\\ud83c\\uddfa\\ud83c\\uddf8\\ud83d\\udc36 IFB @20\"], [\"@cmpnwtr @jules_su @AOC @TheDemocrats @HouseDemocrats Nancy Pelosi is a political coward that refuses to do her constitutional duty of impea\"], [\"Ocasio-Cortez Invokes Bible To Mock 'Religious Right,' Push Usury Bill https://t.co/5lamzjvXJW\"], [\"REMINDER:\\n\\n@AOC is 29 years old and until last week she didn\\u2019t know what a disposal is. \\n\\nAnd she things plants growing in soil is \\u201cmagic.\\u201d \"], [\"@sally_ann_cole @AOC Sperm is potential life. They do not grow, don't have 46 chromosomes, and doesn't have a unique DNA sequence. Do you kn\"], [\"\\\"To me, [@AOC] is irredeemable.\\\"\\n--@ThomasSowell, May, 2019\\n\\n#AOC https://t.co/KpTrzSpCF8\"], [\"Thank you @AOC for loudly saying what every Muslim, Jew, Sikh, Hindu, Black Christian, &amp; Arab Christian has been shouting for years\\n\\nIt \"], [\"I wish I was AOC and could say dumb shit all day and get paid for it.\"], [\"AOC as Wonder Woman? DC Comics not happy about rival publisher\\u2019s illustration: reports.\\ud83d\\udca5\\n\\nWOW, Dems have: a bartender, skateboarder, 2 anti-\"], [\"Video of Morehouse College's graduating class being told by commencement speaker Robert F Smith that he's paying off their student loans (re\"], [\"You\\u2019ve cracked the code. You\\u2019ve discovered our plot to own women and control their every move. You make the left look dumber and dumber. htt\"], [\"THIS COMMENCEMENT THEIRS\\nR. SMITH COMMENTS THENCE\\n\\n#PoeticAnagramWave\\n\\n#MorehouseGrad2019 https://t.co/GCc5rFlhVP\"], [\"@SmplJacKingston @AOC your first comment is ridiculous. don\\u2019t put words in my mouth. \\n2nd, that\\u2019s fine with me. i wouldn\\u2019t say y\\u2019all look an\"], [\"Can't wait for @AOC's critics in Congress to engage her on research designs for natural experiments to identify causal effects of important \"], [\"@nowthisnews @AOC There are no words to describe how much I love this woman.\"], [\"It's about the killing of children, honeybaby. That's it, plain &amp; simple. Nobody gives a damn about your sexuality or whatever. https://\"], [\"@AOC @KenTremendous Imagine if we taxed billionaires\"], [\"@MSNBC Will @BillNye @AOC and @BetoORourke be disappointed in ten years when their imaginary climate crisis has not unfolded?\"], [\"@roninminer802 @AnthonyJSisk @AOC @BernieSanders Not the point of the comment brah\"], [\"@MikeHun91238323 @kyledcheney Maybe. 2016 had a favorable Senate &amp; the Democrats gained one seat.\\nBiden may solve their problem, but he'\"], [\"@mannoname4 @LindaForAmerica @Steve0539 @AOC @realDonaldTrump They failed to understand how effectively the Russians were helping.\\nAnd as fo\"], [\"@TheDamaniFelder @AOC Oh please...refer to her as Ms.Cortez only!\\ud83d\\ude02\\ud83d\\ude02\\ud83d\\ude02\\ud83d\\ude02 https://t.co/TjgSepdEt1\"], [\"@LItaloAmericana @chola_swag @marthatoddharv @ImpeachShitler @lizlibra1009 @Sassprincess111 @Kaiya1212 @HadleysMaMa13 @Cha51brolll19 @Neugie\"], [\"@AOC Where is this repository of information where crimes are given a designation of \\\"terrorism\\\" or not, and who decides?\\n\\nIt doesn't exist.\"], [\"Thank you @AOC for loudly saying what every Muslim, Jew, Sikh, Hindu, Black Christian, &amp; Arab Christian has been shouting for years\\n\\nIt \"], [\"I have some questions for you, @AOC. You\\u2019ve been a Congresswoman for long enough now. Hope you have answers. But I\\u2019m not keeping my fingers \"], [\"@Slate AOC: Our party sucks. Our party is responsible for every problem in America. I would like your vote. \\n\\nHAHAHAHAHAHAHA. Not a chance.\"], [\"I don\\u2019t see Biden, Harris, Buttigieg, Beto, Warren, etc. attacking other candidates.\\n\\nBut I do see Bernie, AOC, and the @justicedems attacki\"]], \"hoverlabel\": {\"namelength\": 0}, \"hovertemplate\": \"<b>%{hovertext}</b><br><br>name=Alexandr Ocasio-Cortez<br>identity_attack=%{x}<br>toxicity=%{y}<br>size=%{marker.size}<br>tweet_prev1=%{customdata[0]}\", \"hovertext\": [\"Alexandr Ocasio-Cortez\", \"Alexandr Ocasio-Cortez\", \"Alexandr Ocasio-Cortez\", \"Alexandr Ocasio-Cortez\", \"Alexandr Ocasio-Cortez\", \"Alexandr Ocasio-Cortez\", \"Alexandr Ocasio-Cortez\", \"Alexandr Ocasio-Cortez\", \"Alexandr Ocasio-Cortez\", \"Alexandr Ocasio-Cortez\", \"Alexandr Ocasio-Cortez\", \"Alexandr Ocasio-Cortez\", \"Alexandr Ocasio-Cortez\", \"Alexandr Ocasio-Cortez\", \"Alexandr Ocasio-Cortez\", \"Alexandr Ocasio-Cortez\", \"Alexandr Ocasio-Cortez\", \"Alexandr Ocasio-Cortez\", \"Alexandr Ocasio-Cortez\", \"Alexandr Ocasio-Cortez\", \"Alexandr Ocasio-Cortez\", \"Alexandr Ocasio-Cortez\", \"Alexandr Ocasio-Cortez\", \"Alexandr Ocasio-Cortez\", \"Alexandr Ocasio-Cortez\", \"Alexandr Ocasio-Cortez\", \"Alexandr Ocasio-Cortez\", \"Alexandr Ocasio-Cortez\", \"Alexandr Ocasio-Cortez\", \"Alexandr Ocasio-Cortez\", \"Alexandr Ocasio-Cortez\", \"Alexandr Ocasio-Cortez\", \"Alexandr Ocasio-Cortez\", \"Alexandr Ocasio-Cortez\", \"Alexandr Ocasio-Cortez\", \"Alexandr Ocasio-Cortez\", \"Alexandr Ocasio-Cortez\", \"Alexandr Ocasio-Cortez\", \"Alexandr Ocasio-Cortez\", \"Alexandr Ocasio-Cortez\", \"Alexandr Ocasio-Cortez\", \"Alexandr Ocasio-Cortez\", \"Alexandr Ocasio-Cortez\", \"Alexandr Ocasio-Cortez\", \"Alexandr Ocasio-Cortez\", \"Alexandr Ocasio-Cortez\", \"Alexandr Ocasio-Cortez\", \"Alexandr Ocasio-Cortez\", \"Alexandr Ocasio-Cortez\", \"Alexandr Ocasio-Cortez\", \"Alexandr Ocasio-Cortez\", \"Alexandr Ocasio-Cortez\", \"Alexandr Ocasio-Cortez\", \"Alexandr Ocasio-Cortez\", \"Alexandr Ocasio-Cortez\", \"Alexandr Ocasio-Cortez\", \"Alexandr Ocasio-Cortez\", \"Alexandr Ocasio-Cortez\", \"Alexandr Ocasio-Cortez\", \"Alexandr Ocasio-Cortez\", \"Alexandr Ocasio-Cortez\", \"Alexandr Ocasio-Cortez\", \"Alexandr Ocasio-Cortez\", \"Alexandr Ocasio-Cortez\", \"Alexandr Ocasio-Cortez\", \"Alexandr Ocasio-Cortez\", \"Alexandr Ocasio-Cortez\", \"Alexandr Ocasio-Cortez\", \"Alexandr Ocasio-Cortez\", \"Alexandr Ocasio-Cortez\", \"Alexandr Ocasio-Cortez\", \"Alexandr Ocasio-Cortez\", \"Alexandr Ocasio-Cortez\", \"Alexandr Ocasio-Cortez\", \"Alexandr Ocasio-Cortez\", \"Alexandr Ocasio-Cortez\", \"Alexandr Ocasio-Cortez\", \"Alexandr Ocasio-Cortez\", \"Alexandr Ocasio-Cortez\", \"Alexandr Ocasio-Cortez\", \"Alexandr Ocasio-Cortez\", \"Alexandr Ocasio-Cortez\", \"Alexandr Ocasio-Cortez\", \"Alexandr Ocasio-Cortez\", \"Alexandr Ocasio-Cortez\", \"Alexandr Ocasio-Cortez\", \"Alexandr Ocasio-Cortez\", \"Alexandr Ocasio-Cortez\", \"Alexandr Ocasio-Cortez\", \"Alexandr Ocasio-Cortez\", \"Alexandr Ocasio-Cortez\", \"Alexandr Ocasio-Cortez\", \"Alexandr Ocasio-Cortez\", \"Alexandr Ocasio-Cortez\", \"Alexandr Ocasio-Cortez\", \"Alexandr Ocasio-Cortez\", \"Alexandr Ocasio-Cortez\", \"Alexandr Ocasio-Cortez\", \"Alexandr Ocasio-Cortez\", \"Alexandr Ocasio-Cortez\", \"Alexandr Ocasio-Cortez\", \"Alexandr Ocasio-Cortez\", \"Alexandr Ocasio-Cortez\", \"Alexandr Ocasio-Cortez\", \"Alexandr Ocasio-Cortez\", \"Alexandr Ocasio-Cortez\", \"Alexandr Ocasio-Cortez\", \"Alexandr Ocasio-Cortez\", \"Alexandr Ocasio-Cortez\", \"Alexandr Ocasio-Cortez\", \"Alexandr Ocasio-Cortez\", \"Alexandr Ocasio-Cortez\", \"Alexandr Ocasio-Cortez\", \"Alexandr Ocasio-Cortez\", \"Alexandr Ocasio-Cortez\", \"Alexandr Ocasio-Cortez\", \"Alexandr Ocasio-Cortez\", \"Alexandr Ocasio-Cortez\", \"Alexandr Ocasio-Cortez\", \"Alexandr Ocasio-Cortez\", \"Alexandr Ocasio-Cortez\", \"Alexandr Ocasio-Cortez\", \"Alexandr Ocasio-Cortez\", \"Alexandr Ocasio-Cortez\", \"Alexandr Ocasio-Cortez\", \"Alexandr Ocasio-Cortez\", \"Alexandr Ocasio-Cortez\", \"Alexandr Ocasio-Cortez\", \"Alexandr Ocasio-Cortez\", \"Alexandr Ocasio-Cortez\", \"Alexandr Ocasio-Cortez\", \"Alexandr Ocasio-Cortez\", \"Alexandr Ocasio-Cortez\", \"Alexandr Ocasio-Cortez\", \"Alexandr Ocasio-Cortez\", \"Alexandr Ocasio-Cortez\", \"Alexandr Ocasio-Cortez\", \"Alexandr Ocasio-Cortez\", \"Alexandr Ocasio-Cortez\", \"Alexandr Ocasio-Cortez\", \"Alexandr Ocasio-Cortez\", \"Alexandr Ocasio-Cortez\", \"Alexandr Ocasio-Cortez\", \"Alexandr Ocasio-Cortez\", \"Alexandr Ocasio-Cortez\", \"Alexandr Ocasio-Cortez\", \"Alexandr Ocasio-Cortez\", \"Alexandr Ocasio-Cortez\", \"Alexandr Ocasio-Cortez\", \"Alexandr Ocasio-Cortez\", \"Alexandr Ocasio-Cortez\", \"Alexandr Ocasio-Cortez\", \"Alexandr Ocasio-Cortez\", \"Alexandr Ocasio-Cortez\", \"Alexandr Ocasio-Cortez\", \"Alexandr Ocasio-Cortez\", \"Alexandr Ocasio-Cortez\", \"Alexandr Ocasio-Cortez\", \"Alexandr Ocasio-Cortez\", \"Alexandr Ocasio-Cortez\", \"Alexandr Ocasio-Cortez\", \"Alexandr Ocasio-Cortez\", \"Alexandr Ocasio-Cortez\", \"Alexandr Ocasio-Cortez\", \"Alexandr Ocasio-Cortez\", \"Alexandr Ocasio-Cortez\", \"Alexandr Ocasio-Cortez\", \"Alexandr Ocasio-Cortez\", \"Alexandr Ocasio-Cortez\", \"Alexandr Ocasio-Cortez\", \"Alexandr Ocasio-Cortez\", \"Alexandr Ocasio-Cortez\", \"Alexandr Ocasio-Cortez\", \"Alexandr Ocasio-Cortez\", \"Alexandr Ocasio-Cortez\", \"Alexandr Ocasio-Cortez\", \"Alexandr Ocasio-Cortez\", \"Alexandr Ocasio-Cortez\", \"Alexandr Ocasio-Cortez\", \"Alexandr Ocasio-Cortez\", \"Alexandr Ocasio-Cortez\", \"Alexandr Ocasio-Cortez\", \"Alexandr Ocasio-Cortez\", \"Alexandr Ocasio-Cortez\", \"Alexandr Ocasio-Cortez\", \"Alexandr Ocasio-Cortez\", \"Alexandr Ocasio-Cortez\", \"Alexandr Ocasio-Cortez\", \"Alexandr Ocasio-Cortez\", \"Alexandr Ocasio-Cortez\", \"Alexandr Ocasio-Cortez\", \"Alexandr Ocasio-Cortez\", \"Alexandr Ocasio-Cortez\", \"Alexandr Ocasio-Cortez\", \"Alexandr Ocasio-Cortez\", \"Alexandr Ocasio-Cortez\", \"Alexandr Ocasio-Cortez\", \"Alexandr Ocasio-Cortez\", \"Alexandr Ocasio-Cortez\", \"Alexandr Ocasio-Cortez\"], \"legendgroup\": \"Alexandr Ocasio-Cortez\", \"marker\": {\"color\": \"#FFA15A\", \"size\": [10.759, 48.234, 11.362, 66.872, 21.761, 6.9750000000000005, 22.958000000000002, 18.364, 71.77799999999999, 19.915, 22.959, 50.124, 5.356000000000001, 46.589999999999996, 65.19500000000001, 32.223, 40.201, 55.909, 71.434, 17.619, 60.797999999999995, 8.953, 7.5600000000000005, 71.77799999999999, 75.058, 12.095, 18.441, 60.797999999999995, 18.798000000000002, 10.447, 21.708, 13.83, 70.573, 10.587, 60.797999999999995, 8.705, 17.497, 60.838, 43.152, 43.112, 50.11600000000001, 60.797999999999995, 3.531, 21.761, 71.77799999999999, 71.77799999999999, 21.761, 34.663, 14.261, 34.264, 28.1, 6.886, 8.208, 43.908, 5.058, 71.77799999999999, 73.887, 23.239, 17.073, 77.804, 83.785, 21.532, 32.149, 3.689, 76.689, 15.589, 31.619000000000003, 28.993000000000002, 13.807, 23.596, 71.434, 65.28399999999999, 15.382000000000001, 20.656, 36.116, 25.846000000000004, 43.867, 83.191, 37.848, 32.551, 17.449, 21.144, 28.011000000000003, 71.77799999999999, 61.785000000000004, 25.745, 71.77799999999999, 17.575, 10.399, 18.093999999999998, 20.319000000000003, 71.77799999999999, 26.881, 20.395, 25.348, 6.886, 47.906, 16.286, 37.848, 64.058, 37.344, 5.058, 44.55, 24.098, 60.797999999999995, 87.141, 46.589999999999996, 6.549, 87.884, 60.797999999999995, 20.365, 16.320999999999998, 26.881, 60.797999999999995, 68.753, 93.343, 21.881999999999998, 31.468, 14.942, 76.678, 9.366, 73.526, 33.345, 53.49699999999999, 9.727, 92.703, 37.067, 54.333, 76.683, 45.634, 38.999, 60.797999999999995, 83.785, 9.364, 20.453, 10.465, 38.467, 21.761, 56.535000000000004, 11.759, 13.635, 33.006, 42.834, 12.318, 36.515, 53.079, 53.28699999999999, 32.228, 12.064, 25.836, 45.483000000000004, 37.212, 53.15, 5.738, 71.77799999999999, 55.909, 71.77799999999999, 13.186, 6.886, 55.909, 6.481000000000001, 31.723000000000003, 11.116, 71.77799999999999, 16.265, 25.745, 20.319000000000003, 71.25399999999999, 71.77799999999999, 71.77799999999999, 25.745, 44.811, 43.632, 65.19500000000001, 18.307000000000002, 11.019, 46.931, 21.761, 71.77799999999999, 76.68199999999999, 53.091, 9.447999999999999, 83.17099999999999, 17.137, 53.592, 11.526, 23.867, 71.434, 22.688, 20.304, 21.357, 12.281, 50.27199999999999, 37.758, 32.188, 20.884, 71.77799999999999, 20.319000000000003, 72.803, 37.549], \"sizemode\": \"area\", \"sizeref\": 0.24465, \"symbol\": \"circle\"}, \"mode\": \"markers\", \"name\": \"Alexandr Ocasio-Cortez\", \"showlegend\": true, \"type\": \"scatter\", \"x\": [0.09902, 0.32896, 0.09772, 0.32474, 0.12754, 0.04079, 0.21694, 0.14575, 0.85038, 0.27353, 0.21508, 0.73143, 0.04707, 0.6788, 0.7208, 0.25354, 0.24568, 0.60395, 0.63421, 0.12274, 0.7208, 0.11059, 0.10486, 0.85038, 0.40651, 0.09604, 0.17047, 0.7208, 0.31426, 0.14713, 0.20334, 0.16579, 0.7317, 0.07589, 0.7208, 0.12124, 0.21849, 0.63421, 0.46487, 0.68887, 0.52173, 0.7208, 0.0849, 0.12754, 0.85038, 0.85038, 0.12754, 0.22209, 0.12316, 0.16746, 0.57801, 0.07923, 0.15636, 0.28934, 0.03415, 0.85038, 0.68822, 0.23812, 0.15481, 0.63788, 0.48622, 0.60256, 0.28623, 0.0194, 0.74064, 0.25353, 0.21918, 0.44511, 0.13532, 0.28413, 0.44858, 0.32779, 0.14741, 0.09113, 0.3296, 0.14169, 0.1693, 0.33985, 0.29802, 0.28678, 0.21097, 0.23989, 0.32897, 0.85038, 0.7208, 0.05812, 0.85038, 0.26959, 0.08827, 0.10225, 0.20788, 0.85038, 0.31509, 0.17239, 0.17949, 0.07923, 0.4649, 0.15018, 0.29802, 0.58685, 0.61295, 0.03415, 0.39077, 0.17328, 0.7208, 0.51336, 0.27967, 0.03699, 0.42544, 0.7208, 0.14939, 0.14521, 0.31509, 0.36799, 0.76601, 0.52086, 0.24228, 0.26413, 0.10568, 0.15587, 0.08923, 0.5938, 0.37921, 0.47494, 0.21105, 0.28403, 0.57492, 0.55246, 0.41112, 0.30452, 0.37448, 0.7208, 0.44567, 0.08546, 0.20036, 0.04412, 0.24761, 0.12754, 0.38415, 0.10704, 0.11783, 0.29168, 0.36188, 0.10244, 0.32212, 0.11567, 0.41186, 0.29156, 0.10392, 0.10576, 0.18623, 0.32362, 0.3284, 0.07009, 0.85038, 0.60395, 0.85038, 0.13311, 0.07923, 0.60395, 0.07421, 0.29511, 0.12175, 0.85038, 0.1326, 0.05812, 0.20788, 0.4479, 0.85038, 0.85038, 0.05812, 0.30421, 0.46325, 0.32714, 0.30272, 0.10327, 0.29704, 0.12754, 0.85038, 0.09359, 0.67639, 0.11673, 0.68711, 0.12169, 0.37756, 0.14926, 0.2795, 0.42681, 0.20775, 0.13547, 0.10645, 0.16314, 0.51975, 0.3121, 0.28581, 0.20363, 0.85038, 0.20788, 0.48958, 0.32348], \"xaxis\": \"x\", \"y\": [0.10759, 0.48234, 0.11362, 0.66872, 0.21761, 0.06975, 0.22958, 0.18364, 0.71778, 0.19915, 0.22959, 0.50124, 0.05356, 0.4659, 0.65195, 0.32223, 0.40201, 0.55909, 0.71434, 0.17619, 0.60798, 0.08953, 0.0756, 0.71778, 0.75058, 0.12095, 0.18441, 0.60798, 0.18798, 0.10447, 0.21708, 0.1383, 0.70573, 0.10587, 0.60798, 0.08705, 0.17497, 0.60838, 0.43152, 0.43112, 0.50116, 0.60798, 0.03531, 0.21761, 0.71778, 0.71778, 0.21761, 0.34663, 0.14261, 0.34264, 0.281, 0.06886, 0.08208, 0.43908, 0.05058, 0.71778, 0.73887, 0.23239, 0.17073, 0.77804, 0.83785, 0.21532, 0.32149, 0.03689, 0.76689, 0.15589, 0.31619, 0.28993, 0.13807, 0.23596, 0.71434, 0.65284, 0.15382, 0.20656, 0.36116, 0.25846, 0.43867, 0.83191, 0.37848, 0.32551, 0.17449, 0.21144, 0.28011, 0.71778, 0.61785, 0.25745, 0.71778, 0.17575, 0.10399, 0.18094, 0.20319, 0.71778, 0.26881, 0.20395, 0.25348, 0.06886, 0.47906, 0.16286, 0.37848, 0.64058, 0.37344, 0.05058, 0.4455, 0.24098, 0.60798, 0.87141, 0.4659, 0.06549, 0.87884, 0.60798, 0.20365, 0.16321, 0.26881, 0.60798, 0.68753, 0.93343, 0.21882, 0.31468, 0.14942, 0.76678, 0.09366, 0.73526, 0.33345, 0.53497, 0.09727, 0.92703, 0.37067, 0.54333, 0.76683, 0.45634, 0.38999, 0.60798, 0.83785, 0.09364, 0.20453, 0.10465, 0.38467, 0.21761, 0.56535, 0.11759, 0.13635, 0.33006, 0.42834, 0.12318, 0.36515, 0.53079, 0.53287, 0.32228, 0.12064, 0.25836, 0.45483, 0.37212, 0.5315, 0.05738, 0.71778, 0.55909, 0.71778, 0.13186, 0.06886, 0.55909, 0.06481, 0.31723, 0.11116, 0.71778, 0.16265, 0.25745, 0.20319, 0.71254, 0.71778, 0.71778, 0.25745, 0.44811, 0.43632, 0.65195, 0.18307, 0.11019, 0.46931, 0.21761, 0.71778, 0.76682, 0.53091, 0.09448, 0.83171, 0.17137, 0.53592, 0.11526, 0.23867, 0.71434, 0.22688, 0.20304, 0.21357, 0.12281, 0.50272, 0.37758, 0.32188, 0.20884, 0.71778, 0.20319, 0.72803, 0.37549], \"yaxis\": \"y\"}],\n",
       "                        {\"legend\": {\"itemsizing\": \"constant\", \"title\": {\"text\": \"name\"}, \"tracegroupgap\": 0}, \"margin\": {\"t\": 60}, \"template\": {\"data\": {\"bar\": [{\"error_x\": {\"color\": \"#2a3f5f\"}, \"error_y\": {\"color\": \"#2a3f5f\"}, \"marker\": {\"line\": {\"color\": \"#E5ECF6\", \"width\": 0.5}}, \"type\": \"bar\"}], \"barpolar\": [{\"marker\": {\"line\": {\"color\": \"#E5ECF6\", \"width\": 0.5}}, \"type\": \"barpolar\"}], \"carpet\": [{\"aaxis\": {\"endlinecolor\": \"#2a3f5f\", \"gridcolor\": \"white\", \"linecolor\": \"white\", \"minorgridcolor\": \"white\", \"startlinecolor\": \"#2a3f5f\"}, \"baxis\": {\"endlinecolor\": \"#2a3f5f\", \"gridcolor\": \"white\", \"linecolor\": \"white\", \"minorgridcolor\": \"white\", \"startlinecolor\": \"#2a3f5f\"}, \"type\": \"carpet\"}], \"choropleth\": [{\"colorbar\": {\"outlinewidth\": 0, \"ticks\": \"\"}, \"type\": \"choropleth\"}], \"contour\": [{\"colorbar\": {\"outlinewidth\": 0, \"ticks\": \"\"}, \"colorscale\": [[0.0, \"#0d0887\"], [0.1111111111111111, \"#46039f\"], [0.2222222222222222, \"#7201a8\"], [0.3333333333333333, \"#9c179e\"], [0.4444444444444444, \"#bd3786\"], [0.5555555555555556, \"#d8576b\"], [0.6666666666666666, \"#ed7953\"], [0.7777777777777778, \"#fb9f3a\"], [0.8888888888888888, \"#fdca26\"], [1.0, \"#f0f921\"]], \"type\": \"contour\"}], \"contourcarpet\": [{\"colorbar\": {\"outlinewidth\": 0, \"ticks\": \"\"}, \"type\": \"contourcarpet\"}], \"heatmap\": [{\"colorbar\": {\"outlinewidth\": 0, \"ticks\": \"\"}, \"colorscale\": [[0.0, \"#0d0887\"], [0.1111111111111111, \"#46039f\"], [0.2222222222222222, \"#7201a8\"], [0.3333333333333333, \"#9c179e\"], [0.4444444444444444, \"#bd3786\"], [0.5555555555555556, \"#d8576b\"], [0.6666666666666666, \"#ed7953\"], [0.7777777777777778, \"#fb9f3a\"], [0.8888888888888888, \"#fdca26\"], [1.0, \"#f0f921\"]], \"type\": \"heatmap\"}], \"heatmapgl\": [{\"colorbar\": {\"outlinewidth\": 0, \"ticks\": \"\"}, \"colorscale\": [[0.0, \"#0d0887\"], [0.1111111111111111, \"#46039f\"], [0.2222222222222222, \"#7201a8\"], [0.3333333333333333, \"#9c179e\"], [0.4444444444444444, \"#bd3786\"], [0.5555555555555556, \"#d8576b\"], [0.6666666666666666, \"#ed7953\"], [0.7777777777777778, \"#fb9f3a\"], [0.8888888888888888, \"#fdca26\"], [1.0, \"#f0f921\"]], \"type\": \"heatmapgl\"}], \"histogram\": [{\"marker\": {\"colorbar\": {\"outlinewidth\": 0, \"ticks\": \"\"}}, \"type\": \"histogram\"}], \"histogram2d\": [{\"colorbar\": {\"outlinewidth\": 0, \"ticks\": \"\"}, \"colorscale\": [[0.0, \"#0d0887\"], [0.1111111111111111, \"#46039f\"], [0.2222222222222222, \"#7201a8\"], [0.3333333333333333, \"#9c179e\"], [0.4444444444444444, \"#bd3786\"], [0.5555555555555556, \"#d8576b\"], [0.6666666666666666, \"#ed7953\"], [0.7777777777777778, \"#fb9f3a\"], [0.8888888888888888, \"#fdca26\"], [1.0, \"#f0f921\"]], \"type\": \"histogram2d\"}], \"histogram2dcontour\": [{\"colorbar\": {\"outlinewidth\": 0, \"ticks\": \"\"}, \"colorscale\": [[0.0, \"#0d0887\"], [0.1111111111111111, \"#46039f\"], [0.2222222222222222, \"#7201a8\"], [0.3333333333333333, \"#9c179e\"], [0.4444444444444444, \"#bd3786\"], [0.5555555555555556, \"#d8576b\"], [0.6666666666666666, \"#ed7953\"], [0.7777777777777778, \"#fb9f3a\"], [0.8888888888888888, \"#fdca26\"], [1.0, \"#f0f921\"]], \"type\": \"histogram2dcontour\"}], \"mesh3d\": [{\"colorbar\": {\"outlinewidth\": 0, \"ticks\": \"\"}, \"type\": \"mesh3d\"}], \"parcoords\": [{\"line\": {\"colorbar\": {\"outlinewidth\": 0, \"ticks\": \"\"}}, \"type\": \"parcoords\"}], \"pie\": [{\"automargin\": true, \"type\": \"pie\"}], \"scatter\": [{\"marker\": {\"colorbar\": {\"outlinewidth\": 0, \"ticks\": \"\"}}, \"type\": \"scatter\"}], \"scatter3d\": [{\"line\": {\"colorbar\": {\"outlinewidth\": 0, \"ticks\": \"\"}}, \"marker\": {\"colorbar\": {\"outlinewidth\": 0, \"ticks\": \"\"}}, \"type\": \"scatter3d\"}], \"scattercarpet\": [{\"marker\": {\"colorbar\": {\"outlinewidth\": 0, \"ticks\": \"\"}}, \"type\": \"scattercarpet\"}], \"scattergeo\": [{\"marker\": {\"colorbar\": {\"outlinewidth\": 0, \"ticks\": \"\"}}, \"type\": \"scattergeo\"}], \"scattergl\": [{\"marker\": {\"colorbar\": {\"outlinewidth\": 0, \"ticks\": \"\"}}, \"type\": \"scattergl\"}], \"scattermapbox\": [{\"marker\": {\"colorbar\": {\"outlinewidth\": 0, \"ticks\": \"\"}}, \"type\": \"scattermapbox\"}], \"scatterpolar\": [{\"marker\": {\"colorbar\": {\"outlinewidth\": 0, \"ticks\": \"\"}}, \"type\": \"scatterpolar\"}], \"scatterpolargl\": [{\"marker\": {\"colorbar\": {\"outlinewidth\": 0, \"ticks\": \"\"}}, \"type\": \"scatterpolargl\"}], \"scatterternary\": [{\"marker\": {\"colorbar\": {\"outlinewidth\": 0, \"ticks\": \"\"}}, \"type\": \"scatterternary\"}], \"surface\": [{\"colorbar\": {\"outlinewidth\": 0, \"ticks\": \"\"}, \"colorscale\": [[0.0, \"#0d0887\"], [0.1111111111111111, \"#46039f\"], [0.2222222222222222, \"#7201a8\"], [0.3333333333333333, \"#9c179e\"], [0.4444444444444444, \"#bd3786\"], [0.5555555555555556, \"#d8576b\"], [0.6666666666666666, \"#ed7953\"], [0.7777777777777778, \"#fb9f3a\"], [0.8888888888888888, \"#fdca26\"], [1.0, \"#f0f921\"]], \"type\": \"surface\"}], \"table\": [{\"cells\": {\"fill\": {\"color\": \"#EBF0F8\"}, \"line\": {\"color\": \"white\"}}, \"header\": {\"fill\": {\"color\": \"#C8D4E3\"}, \"line\": {\"color\": \"white\"}}, \"type\": \"table\"}]}, \"layout\": {\"annotationdefaults\": {\"arrowcolor\": \"#2a3f5f\", \"arrowhead\": 0, \"arrowwidth\": 1}, \"coloraxis\": {\"colorbar\": {\"outlinewidth\": 0, \"ticks\": \"\"}}, \"colorscale\": {\"diverging\": [[0, \"#8e0152\"], [0.1, \"#c51b7d\"], [0.2, \"#de77ae\"], [0.3, \"#f1b6da\"], [0.4, \"#fde0ef\"], [0.5, \"#f7f7f7\"], [0.6, \"#e6f5d0\"], [0.7, \"#b8e186\"], [0.8, \"#7fbc41\"], [0.9, \"#4d9221\"], [1, \"#276419\"]], \"sequential\": [[0.0, \"#0d0887\"], [0.1111111111111111, \"#46039f\"], [0.2222222222222222, \"#7201a8\"], [0.3333333333333333, \"#9c179e\"], [0.4444444444444444, \"#bd3786\"], [0.5555555555555556, \"#d8576b\"], [0.6666666666666666, \"#ed7953\"], [0.7777777777777778, \"#fb9f3a\"], [0.8888888888888888, \"#fdca26\"], [1.0, \"#f0f921\"]], \"sequentialminus\": [[0.0, \"#0d0887\"], [0.1111111111111111, \"#46039f\"], [0.2222222222222222, \"#7201a8\"], [0.3333333333333333, \"#9c179e\"], [0.4444444444444444, \"#bd3786\"], [0.5555555555555556, \"#d8576b\"], [0.6666666666666666, \"#ed7953\"], [0.7777777777777778, \"#fb9f3a\"], [0.8888888888888888, \"#fdca26\"], [1.0, \"#f0f921\"]]}, \"colorway\": [\"#636efa\", \"#EF553B\", \"#00cc96\", \"#ab63fa\", \"#FFA15A\", \"#19d3f3\", \"#FF6692\", \"#B6E880\", \"#FF97FF\", \"#FECB52\"], \"font\": {\"color\": \"#2a3f5f\"}, \"geo\": {\"bgcolor\": \"white\", \"lakecolor\": \"white\", \"landcolor\": \"#E5ECF6\", \"showlakes\": true, \"showland\": true, \"subunitcolor\": \"white\"}, \"hoverlabel\": {\"align\": \"left\"}, \"hovermode\": \"closest\", \"mapbox\": {\"style\": \"light\"}, \"paper_bgcolor\": \"white\", \"plot_bgcolor\": \"#E5ECF6\", \"polar\": {\"angularaxis\": {\"gridcolor\": \"white\", \"linecolor\": \"white\", \"ticks\": \"\"}, \"bgcolor\": \"#E5ECF6\", \"radialaxis\": {\"gridcolor\": \"white\", \"linecolor\": \"white\", \"ticks\": \"\"}}, \"scene\": {\"xaxis\": {\"backgroundcolor\": \"#E5ECF6\", \"gridcolor\": \"white\", \"gridwidth\": 2, \"linecolor\": \"white\", \"showbackground\": true, \"ticks\": \"\", \"zerolinecolor\": \"white\"}, \"yaxis\": {\"backgroundcolor\": \"#E5ECF6\", \"gridcolor\": \"white\", \"gridwidth\": 2, \"linecolor\": \"white\", \"showbackground\": true, \"ticks\": \"\", \"zerolinecolor\": \"white\"}, \"zaxis\": {\"backgroundcolor\": \"#E5ECF6\", \"gridcolor\": \"white\", \"gridwidth\": 2, \"linecolor\": \"white\", \"showbackground\": true, \"ticks\": \"\", \"zerolinecolor\": \"white\"}}, \"shapedefaults\": {\"line\": {\"color\": \"#2a3f5f\"}}, \"ternary\": {\"aaxis\": {\"gridcolor\": \"white\", \"linecolor\": \"white\", \"ticks\": \"\"}, \"baxis\": {\"gridcolor\": \"white\", \"linecolor\": \"white\", \"ticks\": \"\"}, \"bgcolor\": \"#E5ECF6\", \"caxis\": {\"gridcolor\": \"white\", \"linecolor\": \"white\", \"ticks\": \"\"}}, \"title\": {\"x\": 0.05}, \"xaxis\": {\"automargin\": true, \"gridcolor\": \"white\", \"linecolor\": \"white\", \"ticks\": \"\", \"title\": {\"standoff\": 15}, \"zerolinecolor\": \"white\", \"zerolinewidth\": 2}, \"yaxis\": {\"automargin\": true, \"gridcolor\": \"white\", \"linecolor\": \"white\", \"ticks\": \"\", \"title\": {\"standoff\": 15}, \"zerolinecolor\": \"white\", \"zerolinewidth\": 2}}}, \"xaxis\": {\"anchor\": \"y\", \"domain\": [0.0, 1.0], \"title\": {\"text\": \"identity_attack\"}}, \"yaxis\": {\"anchor\": \"x\", \"domain\": [0.0, 1.0], \"title\": {\"text\": \"toxicity\"}}},\n",
       "                        {\"responsive\": true}\n",
       "                    ).then(function(){\n",
       "                            \n",
       "var gd = document.getElementById('d57d28fe-adf6-4f6b-958a-acd7f3485471');\n",
       "var x = new MutationObserver(function (mutations, observer) {{\n",
       "        var display = window.getComputedStyle(gd).display;\n",
       "        if (!display || display === 'none') {{\n",
       "            console.log([gd, 'removed!']);\n",
       "            Plotly.purge(gd);\n",
       "            observer.disconnect();\n",
       "        }}\n",
       "}});\n",
       "\n",
       "// Listen for the removal of the full notebook cells\n",
       "var notebookContainer = gd.closest('#notebook-container');\n",
       "if (notebookContainer) {{\n",
       "    x.observe(notebookContainer, {childList: true});\n",
       "}}\n",
       "\n",
       "// Listen for the clearing of the current output cell\n",
       "var outputEl = gd.closest('.output');\n",
       "if (outputEl) {{\n",
       "    x.observe(outputEl, {childList: true});\n",
       "}}\n",
       "\n",
       "                        })\n",
       "                };\n",
       "                });\n",
       "            </script>\n",
       "        </div>"
      ]
     },
     "metadata": {},
     "output_type": "display_data"
    }
   ],
   "source": [
    "import plotly.graph_objects as go\n",
    "import plotly.express as px\n",
    "\n",
    "size = (df['toxicity'])*100\n",
    "color = df['name']\n",
    "fig = px.scatter(df, x = 'identity_attack', \n",
    "                 y = 'toxicity',\n",
    "                 color = color, \n",
    "                 size = size, \n",
    "                 hover_name = 'name', \n",
    "                 hover_data = ['tweet_prev1'])\n",
    "\n",
    "fig.show()"
   ]
  },
  {
   "cell_type": "code",
   "execution_count": 139,
   "metadata": {},
   "outputs": [],
   "source": [
    "# size_w = (df_sanders['toxicity'])*50\n",
    "# #color_w = 'red'\n",
    "# #(warren_t['identity_attack'])\n",
    "# #for i in range(len(warren_t)):\n",
    "# #    size.append((warren_t['toxicity'][i])*50)\n",
    "\n",
    "# fig = go.Figure(data = go.Scatter(\n",
    "#     x = df_sanders['date'], y = df_sanders['toxicity'], \n",
    "#     text = df_sanders.text.astype(str),\n",
    "#     hovertemplate = \"<br> Tweet: %{text}\",\n",
    "#     mode='markers',\n",
    "#     marker=dict(\n",
    "#         size = size_w,\n",
    "#         colorscale='Inferno',\n",
    "#         showscale = True\n",
    "# )))\n",
    "\n",
    "# fig.show()"
   ]
  },
  {
   "cell_type": "code",
   "execution_count": 137,
   "metadata": {},
   "outputs": [
    {
     "data": {
      "text/plain": [
       "'tmd.html'"
      ]
     },
     "execution_count": 137,
     "metadata": {},
     "output_type": "execute_result"
    }
   ],
   "source": [
    "plotly.offline.plot(fig, filename='tmd.html')"
   ]
  },
  {
   "cell_type": "code",
   "execution_count": 140,
   "metadata": {},
   "outputs": [],
   "source": [
    "with open('plotly_graph.html', 'w') as f:\n",
    "    f.write(fig.to_html(include_plotlyjs='cdn'))"
   ]
  },
  {
   "cell_type": "code",
   "execution_count": null,
   "metadata": {},
   "outputs": [],
   "source": []
  }
 ],
 "metadata": {
  "kernelspec": {
   "display_name": "Python 3",
   "language": "python",
   "name": "python3"
  },
  "language_info": {
   "codemirror_mode": {
    "name": "ipython",
    "version": 3
   },
   "file_extension": ".py",
   "mimetype": "text/x-python",
   "name": "python",
   "nbconvert_exporter": "python",
   "pygments_lexer": "ipython3",
   "version": "3.7.6"
  }
 },
 "nbformat": 4,
 "nbformat_minor": 4
}
